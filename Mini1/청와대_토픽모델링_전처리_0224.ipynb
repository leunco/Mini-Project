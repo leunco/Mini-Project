{
  "nbformat": 4,
  "nbformat_minor": 0,
  "metadata": {
    "colab": {
      "provenance": [],
      "authorship_tag": "ABX9TyMxnwsZUmMcrYNP6N2p4xtN"
    },
    "kernelspec": {
      "name": "python3",
      "display_name": "Python 3"
    },
    "language_info": {
      "name": "python"
    }
  },
  "cells": [
    {
      "cell_type": "markdown",
      "source": [
        "**1. 워드클라우드**  \n",
        "- 명사만 추출해서 보이는 게 더 명확해 보임  \n",
        "\n",
        "**2. 토픽모델링**\n",
        "- 쉽게 말하자면 명사, 동사, 형용사 위주의 형태소만 추출"
      ],
      "metadata": {
        "id": "2IDxSo3RYFJ0"
      }
    },
    {
      "cell_type": "code",
      "execution_count": null,
      "metadata": {
        "colab": {
          "base_uri": "https://localhost:8080/"
        },
        "id": "TiGsEJLFU3Aa",
        "outputId": "a69680ee-ea00-43ea-8104-50d24fcb7f45"
      },
      "outputs": [
        {
          "output_type": "stream",
          "name": "stdout",
          "text": [
            "Mounted at /content/gdrive/\n"
          ]
        }
      ],
      "source": [
        "from google.colab import drive\n",
        "\n",
        "drive.mount('/content/gdrive/')"
      ]
    },
    {
      "cell_type": "code",
      "source": [
        "import pandas as pd\n",
        "import numpy as np\n",
        "import re\n",
        "from tqdm import tqdm\n",
        "import matplotlib.pyplot as plt\n",
        "import pickle\n",
        "import gzip\n",
        "%matplotlib inline"
      ],
      "metadata": {
        "id": "6myIVe-BXIRx"
      },
      "execution_count": null,
      "outputs": []
    },
    {
      "cell_type": "code",
      "source": [
        "## 데이터 불러오기\n",
        "train = pd.read_csv('/content/gdrive/MyDrive/BOAZ/mini/청와대 청원/train.csv', encoding = 'utf-8')\n",
        "test = pd.read_csv('/content/gdrive/MyDrive/BOAZ/mini/청와대 청원/test.csv', encoding = 'utf-8')\n",
        "sample_submission = pd.read_csv('/content/gdrive/MyDrive/BOAZ/mini/청와대 청원/sample_submission.csv', encoding = 'utf-8')"
      ],
      "metadata": {
        "id": "6x7N5fmoXJUv"
      },
      "execution_count": null,
      "outputs": []
    },
    {
      "cell_type": "code",
      "source": [
        "# 제목, 내용 분리\n",
        "train_new = pd.read_csv('/content/gdrive/MyDrive/BOAZ/mini/청와대 청원/train_title and data_0216.csv', encoding = 'utf-8')"
      ],
      "metadata": {
        "id": "wL90UNTuXKqi"
      },
      "execution_count": null,
      "outputs": []
    },
    {
      "cell_type": "markdown",
      "source": [
        "# 전처리"
      ],
      "metadata": {
        "id": "trIcBQo3XRVp"
      }
    },
    {
      "cell_type": "code",
      "source": [
        "## konlpy, mecab 설치\n",
        "!curl -s https://raw.githubusercontent.com/teddylee777/machine-learning/master/99-Misc/01-Colab/mecab-colab.sh | bash"
      ],
      "metadata": {
        "colab": {
          "base_uri": "https://localhost:8080/"
        },
        "id": "PVENp1k1XR04",
        "outputId": "cbdf68ec-0735-4751-82a5-f710155efd24"
      },
      "execution_count": null,
      "outputs": [
        {
          "output_type": "stream",
          "name": "stdout",
          "text": [
            "--2023-02-26 07:24:41--  https://www.dropbox.com/s/9xls0tgtf3edgns/mecab-0.996-ko-0.9.2.tar.gz?dl=1\n",
            "Resolving www.dropbox.com (www.dropbox.com)... 162.125.5.18, 2620:100:601d:18::a27d:512\n",
            "Connecting to www.dropbox.com (www.dropbox.com)|162.125.5.18|:443... connected.\n",
            "HTTP request sent, awaiting response... 302 Found\n",
            "Location: /s/dl/9xls0tgtf3edgns/mecab-0.996-ko-0.9.2.tar.gz [following]\n",
            "--2023-02-26 07:24:41--  https://www.dropbox.com/s/dl/9xls0tgtf3edgns/mecab-0.996-ko-0.9.2.tar.gz\n",
            "Reusing existing connection to www.dropbox.com:443.\n",
            "HTTP request sent, awaiting response... 302 Found\n",
            "Location: https://uccf3427ba9fbe7a9a2af700a471.dl.dropboxusercontent.com/cd/0/get/B3OF47g-EtLHcOHgBEsRvcDyIbWWkcEl8Oihw9nZw0vOgoVI6OW_Y0MR3kwOVEGxRl2ybWDPeoEAweNql1AvmkCmHgW8LIrdsfx1UfGQetzpqxV8jfz0xgPBbPEX83yNjdQgVSXKZ_jvk2d4Phx6uqyJtFlU37pgUbJ3T2rqmfFIvzweJwVVmNlE1b2AvoXIAUI/file?dl=1# [following]\n",
            "--2023-02-26 07:24:41--  https://uccf3427ba9fbe7a9a2af700a471.dl.dropboxusercontent.com/cd/0/get/B3OF47g-EtLHcOHgBEsRvcDyIbWWkcEl8Oihw9nZw0vOgoVI6OW_Y0MR3kwOVEGxRl2ybWDPeoEAweNql1AvmkCmHgW8LIrdsfx1UfGQetzpqxV8jfz0xgPBbPEX83yNjdQgVSXKZ_jvk2d4Phx6uqyJtFlU37pgUbJ3T2rqmfFIvzweJwVVmNlE1b2AvoXIAUI/file?dl=1\n",
            "Resolving uccf3427ba9fbe7a9a2af700a471.dl.dropboxusercontent.com (uccf3427ba9fbe7a9a2af700a471.dl.dropboxusercontent.com)... 162.125.5.15, 2620:100:601d:15::a27d:50f\n",
            "Connecting to uccf3427ba9fbe7a9a2af700a471.dl.dropboxusercontent.com (uccf3427ba9fbe7a9a2af700a471.dl.dropboxusercontent.com)|162.125.5.15|:443... connected.\n",
            "HTTP request sent, awaiting response... 200 OK\n",
            "Length: 1414979 (1.3M) [application/binary]\n",
            "Saving to: ‘mecab-0.996-ko-0.9.2.tar.gz?dl=1’\n",
            "\n",
            "mecab-0.996-ko-0.9. 100%[===================>]   1.35M  --.-KB/s    in 0.1s    \n",
            "\n",
            "2023-02-26 07:24:42 (11.8 MB/s) - ‘mecab-0.996-ko-0.9.2.tar.gz?dl=1’ saved [1414979/1414979]\n",
            "\n",
            "mecab-0.996-ko-0.9.2/\n",
            "mecab-0.996-ko-0.9.2/example/\n",
            "mecab-0.996-ko-0.9.2/example/example.cpp\n",
            "mecab-0.996-ko-0.9.2/example/example_lattice.cpp\n",
            "mecab-0.996-ko-0.9.2/example/example_lattice.c\n",
            "mecab-0.996-ko-0.9.2/example/example.c\n",
            "mecab-0.996-ko-0.9.2/example/thread_test.cpp\n",
            "mecab-0.996-ko-0.9.2/mecab-config.in\n",
            "mecab-0.996-ko-0.9.2/man/\n",
            "mecab-0.996-ko-0.9.2/man/Makefile.am\n",
            "mecab-0.996-ko-0.9.2/man/mecab.1\n",
            "mecab-0.996-ko-0.9.2/man/Makefile.in\n",
            "mecab-0.996-ko-0.9.2/mecab.iss.in\n",
            "mecab-0.996-ko-0.9.2/config.guess\n",
            "mecab-0.996-ko-0.9.2/README\n",
            "mecab-0.996-ko-0.9.2/COPYING\n",
            "mecab-0.996-ko-0.9.2/CHANGES.md\n",
            "mecab-0.996-ko-0.9.2/README.md\n",
            "mecab-0.996-ko-0.9.2/INSTALL\n",
            "mecab-0.996-ko-0.9.2/config.sub\n",
            "mecab-0.996-ko-0.9.2/configure.in\n",
            "mecab-0.996-ko-0.9.2/swig/\n",
            "mecab-0.996-ko-0.9.2/swig/Makefile\n",
            "mecab-0.996-ko-0.9.2/swig/version.h.in\n",
            "mecab-0.996-ko-0.9.2/swig/version.h\n",
            "mecab-0.996-ko-0.9.2/swig/MeCab.i\n",
            "mecab-0.996-ko-0.9.2/aclocal.m4\n",
            "mecab-0.996-ko-0.9.2/LGPL\n",
            "mecab-0.996-ko-0.9.2/Makefile.am\n",
            "mecab-0.996-ko-0.9.2/configure\n",
            "mecab-0.996-ko-0.9.2/tests/\n",
            "mecab-0.996-ko-0.9.2/tests/autolink/\n",
            "mecab-0.996-ko-0.9.2/tests/autolink/unk.def\n",
            "mecab-0.996-ko-0.9.2/tests/autolink/dicrc\n",
            "mecab-0.996-ko-0.9.2/tests/autolink/dic.csv\n",
            "mecab-0.996-ko-0.9.2/tests/autolink/test\n",
            "mecab-0.996-ko-0.9.2/tests/autolink/char.def\n",
            "mecab-0.996-ko-0.9.2/tests/autolink/matrix.def\n",
            "mecab-0.996-ko-0.9.2/tests/autolink/test.gld\n",
            "mecab-0.996-ko-0.9.2/tests/t9/\n",
            "mecab-0.996-ko-0.9.2/tests/t9/unk.def\n",
            "mecab-0.996-ko-0.9.2/tests/t9/ipadic.pl\n",
            "mecab-0.996-ko-0.9.2/tests/t9/dicrc\n",
            "mecab-0.996-ko-0.9.2/tests/t9/dic.csv\n",
            "mecab-0.996-ko-0.9.2/tests/t9/test\n",
            "mecab-0.996-ko-0.9.2/tests/t9/char.def\n",
            "mecab-0.996-ko-0.9.2/tests/t9/matrix.def\n",
            "mecab-0.996-ko-0.9.2/tests/t9/mkdic.pl\n",
            "mecab-0.996-ko-0.9.2/tests/t9/test.gld\n",
            "mecab-0.996-ko-0.9.2/tests/cost-train/\n",
            "mecab-0.996-ko-0.9.2/tests/cost-train/ipa.train\n",
            "mecab-0.996-ko-0.9.2/tests/cost-train/ipa.test\n",
            "mecab-0.996-ko-0.9.2/tests/cost-train/seed/\n",
            "mecab-0.996-ko-0.9.2/tests/cost-train/seed/rewrite.def\n",
            "mecab-0.996-ko-0.9.2/tests/cost-train/seed/feature.def\n",
            "mecab-0.996-ko-0.9.2/tests/cost-train/seed/unk.def\n",
            "mecab-0.996-ko-0.9.2/tests/cost-train/seed/dicrc\n",
            "mecab-0.996-ko-0.9.2/tests/cost-train/seed/dic.csv\n",
            "mecab-0.996-ko-0.9.2/tests/cost-train/seed/char.def\n",
            "mecab-0.996-ko-0.9.2/tests/cost-train/seed/matrix.def\n",
            "mecab-0.996-ko-0.9.2/tests/run-eval.sh\n",
            "mecab-0.996-ko-0.9.2/tests/run-cost-train.sh\n",
            "mecab-0.996-ko-0.9.2/tests/Makefile.am\n",
            "mecab-0.996-ko-0.9.2/tests/katakana/\n",
            "mecab-0.996-ko-0.9.2/tests/katakana/unk.def\n",
            "mecab-0.996-ko-0.9.2/tests/katakana/dicrc\n",
            "mecab-0.996-ko-0.9.2/tests/katakana/dic.csv\n",
            "mecab-0.996-ko-0.9.2/tests/katakana/test\n",
            "mecab-0.996-ko-0.9.2/tests/katakana/char.def\n",
            "mecab-0.996-ko-0.9.2/tests/katakana/matrix.def\n",
            "mecab-0.996-ko-0.9.2/tests/katakana/test.gld\n",
            "mecab-0.996-ko-0.9.2/tests/eval/\n",
            "mecab-0.996-ko-0.9.2/tests/eval/answer\n",
            "mecab-0.996-ko-0.9.2/tests/eval/system\n",
            "mecab-0.996-ko-0.9.2/tests/eval/test.gld\n",
            "mecab-0.996-ko-0.9.2/tests/shiin/\n",
            "mecab-0.996-ko-0.9.2/tests/shiin/unk.def\n",
            "mecab-0.996-ko-0.9.2/tests/shiin/dicrc\n",
            "mecab-0.996-ko-0.9.2/tests/shiin/dic.csv\n",
            "mecab-0.996-ko-0.9.2/tests/shiin/test\n",
            "mecab-0.996-ko-0.9.2/tests/shiin/char.def\n",
            "mecab-0.996-ko-0.9.2/tests/shiin/matrix.def\n",
            "mecab-0.996-ko-0.9.2/tests/shiin/mkdic.pl\n",
            "mecab-0.996-ko-0.9.2/tests/shiin/test.gld\n",
            "mecab-0.996-ko-0.9.2/tests/latin/\n",
            "mecab-0.996-ko-0.9.2/tests/latin/unk.def\n",
            "mecab-0.996-ko-0.9.2/tests/latin/dicrc\n",
            "mecab-0.996-ko-0.9.2/tests/latin/dic.csv\n",
            "mecab-0.996-ko-0.9.2/tests/latin/test\n",
            "mecab-0.996-ko-0.9.2/tests/latin/char.def\n",
            "mecab-0.996-ko-0.9.2/tests/latin/matrix.def\n",
            "mecab-0.996-ko-0.9.2/tests/latin/test.gld\n",
            "mecab-0.996-ko-0.9.2/tests/chartype/\n",
            "mecab-0.996-ko-0.9.2/tests/chartype/unk.def\n",
            "mecab-0.996-ko-0.9.2/tests/chartype/dicrc\n",
            "mecab-0.996-ko-0.9.2/tests/chartype/dic.csv\n",
            "mecab-0.996-ko-0.9.2/tests/chartype/test\n",
            "mecab-0.996-ko-0.9.2/tests/chartype/char.def\n",
            "mecab-0.996-ko-0.9.2/tests/chartype/matrix.def\n",
            "mecab-0.996-ko-0.9.2/tests/chartype/test.gld\n",
            "mecab-0.996-ko-0.9.2/tests/run-dics.sh\n",
            "mecab-0.996-ko-0.9.2/tests/ngram/\n",
            "mecab-0.996-ko-0.9.2/tests/ngram/unk.def\n",
            "mecab-0.996-ko-0.9.2/tests/ngram/dicrc\n",
            "mecab-0.996-ko-0.9.2/tests/ngram/dic.csv\n",
            "mecab-0.996-ko-0.9.2/tests/ngram/test\n",
            "mecab-0.996-ko-0.9.2/tests/ngram/char.def\n",
            "mecab-0.996-ko-0.9.2/tests/ngram/matrix.def\n",
            "mecab-0.996-ko-0.9.2/tests/ngram/test.gld\n",
            "mecab-0.996-ko-0.9.2/tests/Makefile.in\n",
            "mecab-0.996-ko-0.9.2/ltmain.sh\n",
            "mecab-0.996-ko-0.9.2/config.rpath\n",
            "mecab-0.996-ko-0.9.2/config.h.in\n",
            "mecab-0.996-ko-0.9.2/mecabrc.in\n",
            "mecab-0.996-ko-0.9.2/GPL\n",
            "mecab-0.996-ko-0.9.2/Makefile.train\n",
            "mecab-0.996-ko-0.9.2/ChangeLog\n",
            "mecab-0.996-ko-0.9.2/install-sh\n",
            "mecab-0.996-ko-0.9.2/AUTHORS\n",
            "mecab-0.996-ko-0.9.2/doc/\n",
            "mecab-0.996-ko-0.9.2/doc/bindings.html\n",
            "mecab-0.996-ko-0.9.2/doc/posid.html\n",
            "mecab-0.996-ko-0.9.2/doc/unk.html\n",
            "mecab-0.996-ko-0.9.2/doc/learn.html\n",
            "mecab-0.996-ko-0.9.2/doc/format.html\n",
            "mecab-0.996-ko-0.9.2/doc/libmecab.html\n",
            "mecab-0.996-ko-0.9.2/doc/mecab.css\n",
            "mecab-0.996-ko-0.9.2/doc/feature.html\n",
            "mecab-0.996-ko-0.9.2/doc/Makefile.am\n",
            "mecab-0.996-ko-0.9.2/doc/soft.html\n",
            "mecab-0.996-ko-0.9.2/doc/en/\n",
            "mecab-0.996-ko-0.9.2/doc/en/bindings.html\n",
            "mecab-0.996-ko-0.9.2/doc/dic-detail.html\n",
            "mecab-0.996-ko-0.9.2/doc/flow.png\n",
            "mecab-0.996-ko-0.9.2/doc/mecab.html\n",
            "mecab-0.996-ko-0.9.2/doc/index.html\n",
            "mecab-0.996-ko-0.9.2/doc/result.png\n",
            "mecab-0.996-ko-0.9.2/doc/doxygen/\n",
            "mecab-0.996-ko-0.9.2/doc/doxygen/tab_a.png\n",
            "mecab-0.996-ko-0.9.2/doc/doxygen/globals_eval.html\n",
            "mecab-0.996-ko-0.9.2/doc/doxygen/classMeCab_1_1Tagger-members.html\n",
            "mecab-0.996-ko-0.9.2/doc/doxygen/functions_vars.html\n",
            "mecab-0.996-ko-0.9.2/doc/doxygen/doxygen.css\n",
            "mecab-0.996-ko-0.9.2/doc/doxygen/tab_r.gif\n",
            "mecab-0.996-ko-0.9.2/doc/doxygen/classMeCab_1_1Lattice.html\n",
            "mecab-0.996-ko-0.9.2/doc/doxygen/functions.html\n",
            "mecab-0.996-ko-0.9.2/doc/doxygen/classMeCab_1_1Tagger.html\n",
            "mecab-0.996-ko-0.9.2/doc/doxygen/mecab_8h_source.html\n",
            "mecab-0.996-ko-0.9.2/doc/doxygen/tabs.css\n",
            "mecab-0.996-ko-0.9.2/doc/doxygen/nav_f.png\n",
            "mecab-0.996-ko-0.9.2/doc/doxygen/tab_b.png\n",
            "mecab-0.996-ko-0.9.2/doc/doxygen/globals.html\n",
            "mecab-0.996-ko-0.9.2/doc/doxygen/nav_h.png\n",
            "mecab-0.996-ko-0.9.2/doc/doxygen/tab_h.png\n",
            "mecab-0.996-ko-0.9.2/doc/doxygen/classMeCab_1_1Model.html\n",
            "mecab-0.996-ko-0.9.2/doc/doxygen/globals_func.html\n",
            "mecab-0.996-ko-0.9.2/doc/doxygen/closed.png\n",
            "mecab-0.996-ko-0.9.2/doc/doxygen/tab_l.gif\n",
            "mecab-0.996-ko-0.9.2/doc/doxygen/structmecab__path__t-members.html\n",
            "mecab-0.996-ko-0.9.2/doc/doxygen/functions_func.html\n",
            "mecab-0.996-ko-0.9.2/doc/doxygen/globals_type.html\n",
            "mecab-0.996-ko-0.9.2/doc/doxygen/classMeCab_1_1Lattice-members.html\n",
            "mecab-0.996-ko-0.9.2/doc/doxygen/structmecab__node__t.html\n",
            "mecab-0.996-ko-0.9.2/doc/doxygen/namespacemembers_func.html\n",
            "mecab-0.996-ko-0.9.2/doc/doxygen/tab_s.png\n",
            "mecab-0.996-ko-0.9.2/doc/doxygen/structmecab__dictionary__info__t-members.html\n",
            "mecab-0.996-ko-0.9.2/doc/doxygen/namespacemembers_type.html\n",
            "mecab-0.996-ko-0.9.2/doc/doxygen/classMeCab_1_1Model-members.html\n",
            "mecab-0.996-ko-0.9.2/doc/doxygen/structmecab__dictionary__info__t.html\n",
            "mecab-0.996-ko-0.9.2/doc/doxygen/namespaces.html\n",
            "mecab-0.996-ko-0.9.2/doc/doxygen/namespacemembers.html\n",
            "mecab-0.996-ko-0.9.2/doc/doxygen/namespaceMeCab.html\n",
            "mecab-0.996-ko-0.9.2/doc/doxygen/structmecab__path__t.html\n",
            "mecab-0.996-ko-0.9.2/doc/doxygen/files.html\n",
            "mecab-0.996-ko-0.9.2/doc/doxygen/structmecab__node__t-members.html\n",
            "mecab-0.996-ko-0.9.2/doc/doxygen/index.html\n",
            "mecab-0.996-ko-0.9.2/doc/doxygen/annotated.html\n",
            "mecab-0.996-ko-0.9.2/doc/doxygen/globals_defs.html\n",
            "mecab-0.996-ko-0.9.2/doc/doxygen/classes.html\n",
            "mecab-0.996-ko-0.9.2/doc/doxygen/mecab_8h-source.html\n",
            "mecab-0.996-ko-0.9.2/doc/doxygen/doxygen.png\n",
            "mecab-0.996-ko-0.9.2/doc/doxygen/tab_b.gif\n",
            "mecab-0.996-ko-0.9.2/doc/doxygen/bc_s.png\n",
            "mecab-0.996-ko-0.9.2/doc/doxygen/open.png\n",
            "mecab-0.996-ko-0.9.2/doc/doxygen/mecab_8h.html\n",
            "mecab-0.996-ko-0.9.2/doc/dic.html\n",
            "mecab-0.996-ko-0.9.2/doc/partial.html\n",
            "mecab-0.996-ko-0.9.2/doc/feature.png\n",
            "mecab-0.996-ko-0.9.2/doc/Makefile.in\n",
            "mecab-0.996-ko-0.9.2/missing\n",
            "mecab-0.996-ko-0.9.2/BSD\n",
            "mecab-0.996-ko-0.9.2/NEWS\n",
            "mecab-0.996-ko-0.9.2/mkinstalldirs\n",
            "mecab-0.996-ko-0.9.2/src/\n",
            "mecab-0.996-ko-0.9.2/src/dictionary.h\n",
            "mecab-0.996-ko-0.9.2/src/writer.h\n",
            "mecab-0.996-ko-0.9.2/src/utils.h\n",
            "mecab-0.996-ko-0.9.2/src/string_buffer.cpp\n",
            "mecab-0.996-ko-0.9.2/src/tokenizer.cpp\n",
            "mecab-0.996-ko-0.9.2/src/make.bat\n",
            "mecab-0.996-ko-0.9.2/src/mecab.h\n",
            "mecab-0.996-ko-0.9.2/src/freelist.h\n",
            "mecab-0.996-ko-0.9.2/src/string_buffer.h\n",
            "mecab-0.996-ko-0.9.2/src/learner_tagger.h\n",
            "mecab-0.996-ko-0.9.2/src/dictionary_compiler.cpp\n",
            "mecab-0.996-ko-0.9.2/src/eval.cpp\n",
            "mecab-0.996-ko-0.9.2/src/mecab-system-eval.cpp\n",
            "mecab-0.996-ko-0.9.2/src/darts.h\n",
            "mecab-0.996-ko-0.9.2/src/param.h\n",
            "mecab-0.996-ko-0.9.2/src/char_property.h\n",
            "mecab-0.996-ko-0.9.2/src/learner_node.h\n",
            "mecab-0.996-ko-0.9.2/src/mecab-dict-gen.cpp\n",
            "mecab-0.996-ko-0.9.2/src/mecab-dict-index.cpp\n",
            "mecab-0.996-ko-0.9.2/src/winmain.h\n",
            "mecab-0.996-ko-0.9.2/src/thread.h\n",
            "mecab-0.996-ko-0.9.2/src/context_id.cpp\n",
            "mecab-0.996-ko-0.9.2/src/Makefile.am\n",
            "mecab-0.996-ko-0.9.2/src/connector.h\n",
            "mecab-0.996-ko-0.9.2/src/common.h\n",
            "mecab-0.996-ko-0.9.2/src/dictionary_rewriter.cpp\n",
            "mecab-0.996-ko-0.9.2/src/Makefile.msvc.in\n",
            "mecab-0.996-ko-0.9.2/src/dictionary_rewriter.h\n",
            "mecab-0.996-ko-0.9.2/src/feature_index.h\n",
            "mecab-0.996-ko-0.9.2/src/iconv_utils.cpp\n",
            "mecab-0.996-ko-0.9.2/src/char_property.cpp\n",
            "mecab-0.996-ko-0.9.2/src/mecab-test-gen.cpp\n",
            "mecab-0.996-ko-0.9.2/src/tagger.cpp\n",
            "mecab-0.996-ko-0.9.2/src/mecab-cost-train.cpp\n",
            "mecab-0.996-ko-0.9.2/src/learner.cpp\n",
            "mecab-0.996-ko-0.9.2/src/dictionary.cpp\n",
            "mecab-0.996-ko-0.9.2/src/lbfgs.cpp\n",
            "mecab-0.996-ko-0.9.2/src/ucs.h\n",
            "mecab-0.996-ko-0.9.2/src/writer.cpp\n",
            "mecab-0.996-ko-0.9.2/src/learner_tagger.cpp\n",
            "mecab-0.996-ko-0.9.2/src/lbfgs.h\n",
            "mecab-0.996-ko-0.9.2/src/libmecab.cpp\n",
            "mecab-0.996-ko-0.9.2/src/tokenizer.h\n",
            "mecab-0.996-ko-0.9.2/src/mecab.cpp\n",
            "mecab-0.996-ko-0.9.2/src/utils.cpp\n",
            "mecab-0.996-ko-0.9.2/src/dictionary_generator.cpp\n",
            "mecab-0.996-ko-0.9.2/src/param.cpp\n",
            "mecab-0.996-ko-0.9.2/src/context_id.h\n",
            "mecab-0.996-ko-0.9.2/src/mmap.h\n",
            "mecab-0.996-ko-0.9.2/src/viterbi.h\n",
            "mecab-0.996-ko-0.9.2/src/viterbi.cpp\n",
            "mecab-0.996-ko-0.9.2/src/stream_wrapper.h\n",
            "mecab-0.996-ko-0.9.2/src/feature_index.cpp\n",
            "mecab-0.996-ko-0.9.2/src/nbest_generator.h\n",
            "mecab-0.996-ko-0.9.2/src/ucstable.h\n",
            "mecab-0.996-ko-0.9.2/src/nbest_generator.cpp\n",
            "mecab-0.996-ko-0.9.2/src/iconv_utils.h\n",
            "mecab-0.996-ko-0.9.2/src/connector.cpp\n",
            "mecab-0.996-ko-0.9.2/src/Makefile.in\n",
            "mecab-0.996-ko-0.9.2/src/scoped_ptr.h\n",
            "mecab-0.996-ko-0.9.2/Makefile.in\n",
            "checking for a BSD-compatible install... /usr/bin/install -c\n",
            "checking whether build environment is sane... yes\n",
            "checking for a thread-safe mkdir -p... /usr/bin/mkdir -p\n",
            "checking for gawk... no\n",
            "checking for mawk... mawk\n",
            "checking whether make sets $(MAKE)... yes\n",
            "checking for gcc... gcc\n",
            "checking whether the C compiler works... yes\n",
            "checking for C compiler default output file name... a.out\n",
            "checking for suffix of executables... \n",
            "checking whether we are cross compiling... no\n",
            "checking for suffix of object files... o\n",
            "checking whether we are using the GNU C compiler... yes\n",
            "checking whether gcc accepts -g... yes\n",
            "checking for gcc option to accept ISO C89... none needed\n",
            "checking for style of include used by make... GNU\n",
            "checking dependency style of gcc... none\n",
            "checking for g++... g++\n",
            "checking whether we are using the GNU C++ compiler... yes\n",
            "checking whether g++ accepts -g... yes\n",
            "checking dependency style of g++... none\n",
            "checking how to run the C preprocessor... gcc -E\n",
            "checking for grep that handles long lines and -e... /usr/bin/grep\n",
            "checking for egrep... /usr/bin/grep -E\n",
            "checking whether gcc needs -traditional... no\n",
            "checking whether make sets $(MAKE)... (cached) yes\n",
            "checking build system type... x86_64-unknown-linux-gnu\n",
            "checking host system type... x86_64-unknown-linux-gnu\n",
            "checking how to print strings... printf\n",
            "checking for a sed that does not truncate output... /usr/bin/sed\n",
            "checking for fgrep... /usr/bin/grep -F\n",
            "checking for ld used by gcc... /usr/bin/ld\n",
            "checking if the linker (/usr/bin/ld) is GNU ld... yes\n",
            "checking for BSD- or MS-compatible name lister (nm)... /usr/bin/nm -B\n",
            "checking the name lister (/usr/bin/nm -B) interface... BSD nm\n",
            "checking whether ln -s works... yes\n",
            "checking the maximum length of command line arguments... 1572864\n",
            "checking whether the shell understands some XSI constructs... yes\n",
            "checking whether the shell understands \"+=\"... yes\n",
            "checking how to convert x86_64-unknown-linux-gnu file names to x86_64-unknown-linux-gnu format... func_convert_file_noop\n",
            "checking how to convert x86_64-unknown-linux-gnu file names to toolchain format... func_convert_file_noop\n",
            "checking for /usr/bin/ld option to reload object files... -r\n",
            "checking for objdump... objdump\n",
            "checking how to recognize dependent libraries... pass_all\n",
            "checking for dlltool... dlltool\n",
            "checking how to associate runtime and link libraries... printf %s\\n\n",
            "checking for ar... ar\n",
            "checking for archiver @FILE support... @\n",
            "checking for strip... strip\n",
            "checking for ranlib... ranlib\n",
            "checking command to parse /usr/bin/nm -B output from gcc object... ok\n",
            "checking for sysroot... no\n",
            "checking for mt... no\n",
            "checking if : is a manifest tool... no\n",
            "checking for ANSI C header files... yes\n",
            "checking for sys/types.h... yes\n",
            "checking for sys/stat.h... yes\n",
            "checking for stdlib.h... yes\n",
            "checking for string.h... yes\n",
            "checking for memory.h... yes\n",
            "checking for strings.h... yes\n",
            "checking for inttypes.h... yes\n",
            "checking for stdint.h... yes\n",
            "checking for unistd.h... yes\n",
            "checking for dlfcn.h... yes\n",
            "checking for objdir... .libs\n",
            "checking if gcc supports -fno-rtti -fno-exceptions... no\n",
            "checking for gcc option to produce PIC... -fPIC -DPIC\n",
            "checking if gcc PIC flag -fPIC -DPIC works... yes\n",
            "checking if gcc static flag -static works... yes\n",
            "checking if gcc supports -c -o file.o... yes\n",
            "checking if gcc supports -c -o file.o... (cached) yes\n",
            "checking whether the gcc linker (/usr/bin/ld -m elf_x86_64) supports shared libraries... yes\n",
            "checking whether -lc should be explicitly linked in... no\n",
            "checking dynamic linker characteristics... GNU/Linux ld.so\n",
            "checking how to hardcode library paths into programs... immediate\n",
            "checking whether stripping libraries is possible... yes\n",
            "checking if libtool supports shared libraries... yes\n",
            "checking whether to build shared libraries... yes\n",
            "checking whether to build static libraries... yes\n",
            "checking how to run the C++ preprocessor... g++ -E\n",
            "checking for ld used by g++... /usr/bin/ld -m elf_x86_64\n",
            "checking if the linker (/usr/bin/ld -m elf_x86_64) is GNU ld... yes\n",
            "checking whether the g++ linker (/usr/bin/ld -m elf_x86_64) supports shared libraries... yes\n",
            "checking for g++ option to produce PIC... -fPIC -DPIC\n",
            "checking if g++ PIC flag -fPIC -DPIC works... yes\n",
            "checking if g++ static flag -static works... yes\n",
            "checking if g++ supports -c -o file.o... yes\n",
            "checking if g++ supports -c -o file.o... (cached) yes\n",
            "checking whether the g++ linker (/usr/bin/ld -m elf_x86_64) supports shared libraries... yes\n",
            "checking dynamic linker characteristics... (cached) GNU/Linux ld.so\n",
            "checking how to hardcode library paths into programs... immediate\n",
            "checking for library containing strerror... none required\n",
            "checking whether byte ordering is bigendian... no\n",
            "checking for ld used by GCC... /usr/bin/ld -m elf_x86_64\n",
            "checking if the linker (/usr/bin/ld -m elf_x86_64) is GNU ld... yes\n",
            "checking for shared library run path origin... done\n",
            "checking for iconv... yes\n",
            "checking for working iconv... yes\n",
            "checking for iconv declaration... \n",
            "         extern size_t iconv (iconv_t cd, char * *inbuf, size_t *inbytesleft, char * *outbuf, size_t *outbytesleft);\n",
            "checking for ANSI C header files... (cached) yes\n",
            "checking for an ANSI C-conforming const... yes\n",
            "checking whether byte ordering is bigendian... (cached) no\n",
            "checking for string.h... (cached) yes\n",
            "checking for stdlib.h... (cached) yes\n",
            "checking for unistd.h... (cached) yes\n",
            "checking fcntl.h usability... yes\n",
            "checking fcntl.h presence... yes\n",
            "checking for fcntl.h... yes\n",
            "checking for stdint.h... (cached) yes\n",
            "checking for sys/stat.h... (cached) yes\n",
            "checking sys/mman.h usability... yes\n",
            "checking sys/mman.h presence... yes\n",
            "checking for sys/mman.h... yes\n",
            "checking sys/times.h usability... yes\n",
            "checking sys/times.h presence... yes\n",
            "checking for sys/times.h... yes\n",
            "checking for sys/types.h... (cached) yes\n",
            "checking dirent.h usability... yes\n",
            "checking dirent.h presence... yes\n",
            "checking for dirent.h... yes\n",
            "checking ctype.h usability... yes\n",
            "checking ctype.h presence... yes\n",
            "checking for ctype.h... yes\n",
            "checking for sys/types.h... (cached) yes\n",
            "checking io.h usability... no\n",
            "checking io.h presence... no\n",
            "checking for io.h... no\n",
            "checking windows.h usability... no\n",
            "checking windows.h presence... no\n",
            "checking for windows.h... no\n",
            "checking pthread.h usability... yes\n",
            "checking pthread.h presence... yes\n",
            "checking for pthread.h... yes\n",
            "checking for off_t... yes\n",
            "checking for size_t... yes\n",
            "checking size of char... 1\n",
            "checking size of short... 2\n",
            "checking size of int... 4\n",
            "checking size of long... 8\n",
            "checking size of long long... 8\n",
            "checking size of size_t... 8\n",
            "checking for size_t... (cached) yes\n",
            "checking for unsigned long long int... yes\n",
            "checking for stdlib.h... (cached) yes\n",
            "checking for unistd.h... (cached) yes\n",
            "checking for sys/param.h... yes\n",
            "checking for getpagesize... yes\n",
            "checking for working mmap... yes\n",
            "checking for main in -lstdc++... yes\n",
            "checking for pthread_create in -lpthread... yes\n",
            "checking for pthread_join in -lpthread... yes\n",
            "checking for getenv... yes\n",
            "checking for opendir... yes\n",
            "checking whether make is GNU Make... yes\n",
            "checking if g++ supports stl <vector> (required)... yes\n",
            "checking if g++ supports stl <list> (required)... yes\n",
            "checking if g++ supports stl <map> (required)... yes\n",
            "checking if g++ supports stl <set> (required)... yes\n",
            "checking if g++ supports stl <queue> (required)... yes\n",
            "checking if g++ supports stl <functional> (required)... yes\n",
            "checking if g++ supports stl <algorithm> (required)... yes\n",
            "checking if g++ supports stl <string> (required)... yes\n",
            "checking if g++ supports stl <iostream> (required)... yes\n",
            "checking if g++ supports stl <sstream> (required)... yes\n",
            "checking if g++ supports stl <fstream> (required)... yes\n",
            "checking if g++ supports template <class T> (required)... yes\n",
            "checking if g++ supports const_cast<> (required)... yes\n",
            "checking if g++ supports static_cast<> (required)... yes\n",
            "checking if g++ supports reinterpret_cast<> (required)... yes\n",
            "checking if g++ supports namespaces (required) ... yes\n",
            "checking if g++ supports __thread (optional)... yes\n",
            "checking if g++ supports template <class T> (required)... yes\n",
            "checking if g++ supports GCC native atomic operations (optional)... yes\n",
            "checking if g++ supports OSX native atomic operations (optional)... no\n",
            "checking if g++ environment provides all required features... yes\n",
            "configure: creating ./config.status\n",
            "config.status: creating Makefile\n",
            "config.status: creating src/Makefile\n",
            "config.status: creating src/Makefile.msvc\n",
            "config.status: creating man/Makefile\n",
            "config.status: creating doc/Makefile\n",
            "config.status: creating tests/Makefile\n",
            "config.status: creating swig/version.h\n",
            "config.status: creating mecab.iss\n",
            "config.status: creating mecab-config\n",
            "config.status: creating mecabrc\n",
            "config.status: creating config.h\n",
            "config.status: executing depfiles commands\n",
            "config.status: executing libtool commands\n",
            "config.status: executing default commands\n",
            "make  all-recursive\n",
            "make[1]: Entering directory '/tmp/mecab-0.996-ko-0.9.2'\n",
            "Making all in src\n",
            "make[2]: Entering directory '/tmp/mecab-0.996-ko-0.9.2/src'\n",
            "/bin/bash ../libtool --tag=CXX   --mode=compile g++ -DHAVE_CONFIG_H -I. -I.. -DDIC_VERSION=102   -DMECAB_DEFAULT_RC=\"\\\"/usr/local/etc/mecabrc\\\"\"    -O3 -Wall  -c -o viterbi.lo viterbi.cpp\n",
            "libtool: compile:  g++ -DHAVE_CONFIG_H -I. -I.. -DDIC_VERSION=102 -DMECAB_DEFAULT_RC=\\\"/usr/local/etc/mecabrc\\\" -O3 -Wall -c viterbi.cpp  -fPIC -DPIC -o .libs/viterbi.o\n",
            "In file included from \u001b[01m\u001b[Kviterbi.cpp:14\u001b[m\u001b[K:\n",
            "\u001b[01m\u001b[Kparam.h:30:13:\u001b[m\u001b[K \u001b[01;35m\u001b[Kwarning: \u001b[m\u001b[K'\u001b[01m\u001b[KTarget {anonymous}::lexical_cast(Source) [with Target = std::__cxx11::basic_string<char>; Source = std::__cxx11::basic_string<char>]\u001b[m\u001b[K' defined but not used [\u001b[01;35m\u001b[K-Wunused-function\u001b[m\u001b[K]\n",
            "   30 | std::string \u001b[01;35m\u001b[Klexical_cast<std::string, std::string>\u001b[m\u001b[K(std::string arg) {\n",
            "      |             \u001b[01;35m\u001b[K^~~~~~~~~~~~~~~~~~~~~~~~~~~~~~~~~~~~~~\u001b[m\u001b[K\n",
            "libtool: compile:  g++ -DHAVE_CONFIG_H -I. -I.. -DDIC_VERSION=102 -DMECAB_DEFAULT_RC=\\\"/usr/local/etc/mecabrc\\\" -O3 -Wall -c viterbi.cpp -o viterbi.o >/dev/null 2>&1\n",
            "/bin/bash ../libtool --tag=CXX   --mode=compile g++ -DHAVE_CONFIG_H -I. -I.. -DDIC_VERSION=102   -DMECAB_DEFAULT_RC=\"\\\"/usr/local/etc/mecabrc\\\"\"    -O3 -Wall  -c -o tagger.lo tagger.cpp\n",
            "libtool: compile:  g++ -DHAVE_CONFIG_H -I. -I.. -DDIC_VERSION=102 -DMECAB_DEFAULT_RC=\\\"/usr/local/etc/mecabrc\\\" -O3 -Wall -c tagger.cpp  -fPIC -DPIC -o .libs/tagger.o\n",
            "libtool: compile:  g++ -DHAVE_CONFIG_H -I. -I.. -DDIC_VERSION=102 -DMECAB_DEFAULT_RC=\\\"/usr/local/etc/mecabrc\\\" -O3 -Wall -c tagger.cpp -o tagger.o >/dev/null 2>&1\n",
            "/bin/bash ../libtool --tag=CXX   --mode=compile g++ -DHAVE_CONFIG_H -I. -I.. -DDIC_VERSION=102   -DMECAB_DEFAULT_RC=\"\\\"/usr/local/etc/mecabrc\\\"\"    -O3 -Wall  -c -o utils.lo utils.cpp\n",
            "libtool: compile:  g++ -DHAVE_CONFIG_H -I. -I.. -DDIC_VERSION=102 -DMECAB_DEFAULT_RC=\\\"/usr/local/etc/mecabrc\\\" -O3 -Wall -c utils.cpp  -fPIC -DPIC -o .libs/utils.o\n",
            "libtool: compile:  g++ -DHAVE_CONFIG_H -I. -I.. -DDIC_VERSION=102 -DMECAB_DEFAULT_RC=\\\"/usr/local/etc/mecabrc\\\" -O3 -Wall -c utils.cpp -o utils.o >/dev/null 2>&1\n",
            "/bin/bash ../libtool --tag=CXX   --mode=compile g++ -DHAVE_CONFIG_H -I. -I.. -DDIC_VERSION=102   -DMECAB_DEFAULT_RC=\"\\\"/usr/local/etc/mecabrc\\\"\"    -O3 -Wall  -c -o eval.lo eval.cpp\n",
            "libtool: compile:  g++ -DHAVE_CONFIG_H -I. -I.. -DDIC_VERSION=102 -DMECAB_DEFAULT_RC=\\\"/usr/local/etc/mecabrc\\\" -O3 -Wall -c eval.cpp  -fPIC -DPIC -o .libs/eval.o\n",
            "libtool: compile:  g++ -DHAVE_CONFIG_H -I. -I.. -DDIC_VERSION=102 -DMECAB_DEFAULT_RC=\\\"/usr/local/etc/mecabrc\\\" -O3 -Wall -c eval.cpp -o eval.o >/dev/null 2>&1\n",
            "/bin/bash ../libtool --tag=CXX   --mode=compile g++ -DHAVE_CONFIG_H -I. -I.. -DDIC_VERSION=102   -DMECAB_DEFAULT_RC=\"\\\"/usr/local/etc/mecabrc\\\"\"    -O3 -Wall  -c -o iconv_utils.lo iconv_utils.cpp\n",
            "libtool: compile:  g++ -DHAVE_CONFIG_H -I. -I.. -DDIC_VERSION=102 -DMECAB_DEFAULT_RC=\\\"/usr/local/etc/mecabrc\\\" -O3 -Wall -c iconv_utils.cpp  -fPIC -DPIC -o .libs/iconv_utils.o\n",
            "libtool: compile:  g++ -DHAVE_CONFIG_H -I. -I.. -DDIC_VERSION=102 -DMECAB_DEFAULT_RC=\\\"/usr/local/etc/mecabrc\\\" -O3 -Wall -c iconv_utils.cpp -o iconv_utils.o >/dev/null 2>&1\n",
            "/bin/bash ../libtool --tag=CXX   --mode=compile g++ -DHAVE_CONFIG_H -I. -I.. -DDIC_VERSION=102   -DMECAB_DEFAULT_RC=\"\\\"/usr/local/etc/mecabrc\\\"\"    -O3 -Wall  -c -o dictionary_rewriter.lo dictionary_rewriter.cpp\n",
            "libtool: compile:  g++ -DHAVE_CONFIG_H -I. -I.. -DDIC_VERSION=102 -DMECAB_DEFAULT_RC=\\\"/usr/local/etc/mecabrc\\\" -O3 -Wall -c dictionary_rewriter.cpp  -fPIC -DPIC -o .libs/dictionary_rewriter.o\n",
            "libtool: compile:  g++ -DHAVE_CONFIG_H -I. -I.. -DDIC_VERSION=102 -DMECAB_DEFAULT_RC=\\\"/usr/local/etc/mecabrc\\\" -O3 -Wall -c dictionary_rewriter.cpp -o dictionary_rewriter.o >/dev/null 2>&1\n",
            "/bin/bash ../libtool --tag=CXX   --mode=compile g++ -DHAVE_CONFIG_H -I. -I.. -DDIC_VERSION=102   -DMECAB_DEFAULT_RC=\"\\\"/usr/local/etc/mecabrc\\\"\"    -O3 -Wall  -c -o dictionary_generator.lo dictionary_generator.cpp\n",
            "libtool: compile:  g++ -DHAVE_CONFIG_H -I. -I.. -DDIC_VERSION=102 -DMECAB_DEFAULT_RC=\\\"/usr/local/etc/mecabrc\\\" -O3 -Wall -c dictionary_generator.cpp  -fPIC -DPIC -o .libs/dictionary_generator.o\n",
            "libtool: compile:  g++ -DHAVE_CONFIG_H -I. -I.. -DDIC_VERSION=102 -DMECAB_DEFAULT_RC=\\\"/usr/local/etc/mecabrc\\\" -O3 -Wall -c dictionary_generator.cpp -o dictionary_generator.o >/dev/null 2>&1\n",
            "/bin/bash ../libtool --tag=CXX   --mode=compile g++ -DHAVE_CONFIG_H -I. -I.. -DDIC_VERSION=102   -DMECAB_DEFAULT_RC=\"\\\"/usr/local/etc/mecabrc\\\"\"    -O3 -Wall  -c -o dictionary_compiler.lo dictionary_compiler.cpp\n",
            "libtool: compile:  g++ -DHAVE_CONFIG_H -I. -I.. -DDIC_VERSION=102 -DMECAB_DEFAULT_RC=\\\"/usr/local/etc/mecabrc\\\" -O3 -Wall -c dictionary_compiler.cpp  -fPIC -DPIC -o .libs/dictionary_compiler.o\n",
            "libtool: compile:  g++ -DHAVE_CONFIG_H -I. -I.. -DDIC_VERSION=102 -DMECAB_DEFAULT_RC=\\\"/usr/local/etc/mecabrc\\\" -O3 -Wall -c dictionary_compiler.cpp -o dictionary_compiler.o >/dev/null 2>&1\n",
            "/bin/bash ../libtool --tag=CXX   --mode=compile g++ -DHAVE_CONFIG_H -I. -I.. -DDIC_VERSION=102   -DMECAB_DEFAULT_RC=\"\\\"/usr/local/etc/mecabrc\\\"\"    -O3 -Wall  -c -o context_id.lo context_id.cpp\n",
            "libtool: compile:  g++ -DHAVE_CONFIG_H -I. -I.. -DDIC_VERSION=102 -DMECAB_DEFAULT_RC=\\\"/usr/local/etc/mecabrc\\\" -O3 -Wall -c context_id.cpp  -fPIC -DPIC -o .libs/context_id.o\n",
            "libtool: compile:  g++ -DHAVE_CONFIG_H -I. -I.. -DDIC_VERSION=102 -DMECAB_DEFAULT_RC=\\\"/usr/local/etc/mecabrc\\\" -O3 -Wall -c context_id.cpp -o context_id.o >/dev/null 2>&1\n",
            "/bin/bash ../libtool --tag=CXX   --mode=compile g++ -DHAVE_CONFIG_H -I. -I.. -DDIC_VERSION=102   -DMECAB_DEFAULT_RC=\"\\\"/usr/local/etc/mecabrc\\\"\"    -O3 -Wall  -c -o connector.lo connector.cpp\n",
            "libtool: compile:  g++ -DHAVE_CONFIG_H -I. -I.. -DDIC_VERSION=102 -DMECAB_DEFAULT_RC=\\\"/usr/local/etc/mecabrc\\\" -O3 -Wall -c connector.cpp  -fPIC -DPIC -o .libs/connector.o\n",
            "libtool: compile:  g++ -DHAVE_CONFIG_H -I. -I.. -DDIC_VERSION=102 -DMECAB_DEFAULT_RC=\\\"/usr/local/etc/mecabrc\\\" -O3 -Wall -c connector.cpp -o connector.o >/dev/null 2>&1\n",
            "/bin/bash ../libtool --tag=CXX   --mode=compile g++ -DHAVE_CONFIG_H -I. -I.. -DDIC_VERSION=102   -DMECAB_DEFAULT_RC=\"\\\"/usr/local/etc/mecabrc\\\"\"    -O3 -Wall  -c -o nbest_generator.lo nbest_generator.cpp\n",
            "libtool: compile:  g++ -DHAVE_CONFIG_H -I. -I.. -DDIC_VERSION=102 -DMECAB_DEFAULT_RC=\\\"/usr/local/etc/mecabrc\\\" -O3 -Wall -c nbest_generator.cpp  -fPIC -DPIC -o .libs/nbest_generator.o\n",
            "libtool: compile:  g++ -DHAVE_CONFIG_H -I. -I.. -DDIC_VERSION=102 -DMECAB_DEFAULT_RC=\\\"/usr/local/etc/mecabrc\\\" -O3 -Wall -c nbest_generator.cpp -o nbest_generator.o >/dev/null 2>&1\n",
            "/bin/bash ../libtool --tag=CXX   --mode=compile g++ -DHAVE_CONFIG_H -I. -I.. -DDIC_VERSION=102   -DMECAB_DEFAULT_RC=\"\\\"/usr/local/etc/mecabrc\\\"\"    -O3 -Wall  -c -o writer.lo writer.cpp\n",
            "libtool: compile:  g++ -DHAVE_CONFIG_H -I. -I.. -DDIC_VERSION=102 -DMECAB_DEFAULT_RC=\\\"/usr/local/etc/mecabrc\\\" -O3 -Wall -c writer.cpp  -fPIC -DPIC -o .libs/writer.o\n",
            "libtool: compile:  g++ -DHAVE_CONFIG_H -I. -I.. -DDIC_VERSION=102 -DMECAB_DEFAULT_RC=\\\"/usr/local/etc/mecabrc\\\" -O3 -Wall -c writer.cpp -o writer.o >/dev/null 2>&1\n",
            "/bin/bash ../libtool --tag=CXX   --mode=compile g++ -DHAVE_CONFIG_H -I. -I.. -DDIC_VERSION=102   -DMECAB_DEFAULT_RC=\"\\\"/usr/local/etc/mecabrc\\\"\"    -O3 -Wall  -c -o string_buffer.lo string_buffer.cpp\n",
            "libtool: compile:  g++ -DHAVE_CONFIG_H -I. -I.. -DDIC_VERSION=102 -DMECAB_DEFAULT_RC=\\\"/usr/local/etc/mecabrc\\\" -O3 -Wall -c string_buffer.cpp  -fPIC -DPIC -o .libs/string_buffer.o\n",
            "libtool: compile:  g++ -DHAVE_CONFIG_H -I. -I.. -DDIC_VERSION=102 -DMECAB_DEFAULT_RC=\\\"/usr/local/etc/mecabrc\\\" -O3 -Wall -c string_buffer.cpp -o string_buffer.o >/dev/null 2>&1\n",
            "/bin/bash ../libtool --tag=CXX   --mode=compile g++ -DHAVE_CONFIG_H -I. -I.. -DDIC_VERSION=102   -DMECAB_DEFAULT_RC=\"\\\"/usr/local/etc/mecabrc\\\"\"    -O3 -Wall  -c -o param.lo param.cpp\n",
            "libtool: compile:  g++ -DHAVE_CONFIG_H -I. -I.. -DDIC_VERSION=102 -DMECAB_DEFAULT_RC=\\\"/usr/local/etc/mecabrc\\\" -O3 -Wall -c param.cpp  -fPIC -DPIC -o .libs/param.o\n",
            "libtool: compile:  g++ -DHAVE_CONFIG_H -I. -I.. -DDIC_VERSION=102 -DMECAB_DEFAULT_RC=\\\"/usr/local/etc/mecabrc\\\" -O3 -Wall -c param.cpp -o param.o >/dev/null 2>&1\n",
            "/bin/bash ../libtool --tag=CXX   --mode=compile g++ -DHAVE_CONFIG_H -I. -I.. -DDIC_VERSION=102   -DMECAB_DEFAULT_RC=\"\\\"/usr/local/etc/mecabrc\\\"\"    -O3 -Wall  -c -o tokenizer.lo tokenizer.cpp\n",
            "libtool: compile:  g++ -DHAVE_CONFIG_H -I. -I.. -DDIC_VERSION=102 -DMECAB_DEFAULT_RC=\\\"/usr/local/etc/mecabrc\\\" -O3 -Wall -c tokenizer.cpp  -fPIC -DPIC -o .libs/tokenizer.o\n",
            "libtool: compile:  g++ -DHAVE_CONFIG_H -I. -I.. -DDIC_VERSION=102 -DMECAB_DEFAULT_RC=\\\"/usr/local/etc/mecabrc\\\" -O3 -Wall -c tokenizer.cpp -o tokenizer.o >/dev/null 2>&1\n",
            "/bin/bash ../libtool --tag=CXX   --mode=compile g++ -DHAVE_CONFIG_H -I. -I.. -DDIC_VERSION=102   -DMECAB_DEFAULT_RC=\"\\\"/usr/local/etc/mecabrc\\\"\"    -O3 -Wall  -c -o char_property.lo char_property.cpp\n",
            "libtool: compile:  g++ -DHAVE_CONFIG_H -I. -I.. -DDIC_VERSION=102 -DMECAB_DEFAULT_RC=\\\"/usr/local/etc/mecabrc\\\" -O3 -Wall -c char_property.cpp  -fPIC -DPIC -o .libs/char_property.o\n",
            "\u001b[01m\u001b[Kchar_property.cpp:\u001b[m\u001b[K In static member function '\u001b[01m\u001b[Kstatic bool MeCab::CharProperty::compile(const char*, const char*, const char*)\u001b[m\u001b[K':\n",
            "\u001b[01m\u001b[Kchar_property.cpp:194:35:\u001b[m\u001b[K \u001b[01;35m\u001b[Kwarning: \u001b[m\u001b[K'\u001b[01m\u001b[Kvoid* memset(void*, int, size_t)\u001b[m\u001b[K' clearing an object of non-trivial type '\u001b[01m\u001b[Kstruct MeCab::CharInfo\u001b[m\u001b[K'; use assignment or value-initialization instead [\u001b[01;35m\u001b[K-Wclass-memaccess\u001b[m\u001b[K]\n",
            "  194 |       std::memset(&c, 0, sizeof(c)\u001b[01;35m\u001b[K)\u001b[m\u001b[K;\n",
            "      |                                   \u001b[01;35m\u001b[K^\u001b[m\u001b[K\n",
            "In file included from \u001b[01m\u001b[Kchar_property.cpp:11\u001b[m\u001b[K:\n",
            "\u001b[01m\u001b[Kchar_property.h:16:8:\u001b[m\u001b[K \u001b[01;36m\u001b[Knote: \u001b[m\u001b[K'\u001b[01m\u001b[Kstruct MeCab::CharInfo\u001b[m\u001b[K' declared here\n",
            "   16 | struct \u001b[01;36m\u001b[KCharInfo\u001b[m\u001b[K {\n",
            "      |        \u001b[01;36m\u001b[K^~~~~~~~\u001b[m\u001b[K\n",
            "libtool: compile:  g++ -DHAVE_CONFIG_H -I. -I.. -DDIC_VERSION=102 -DMECAB_DEFAULT_RC=\\\"/usr/local/etc/mecabrc\\\" -O3 -Wall -c char_property.cpp -o char_property.o >/dev/null 2>&1\n",
            "/bin/bash ../libtool --tag=CXX   --mode=compile g++ -DHAVE_CONFIG_H -I. -I.. -DDIC_VERSION=102   -DMECAB_DEFAULT_RC=\"\\\"/usr/local/etc/mecabrc\\\"\"    -O3 -Wall  -c -o dictionary.lo dictionary.cpp\n",
            "libtool: compile:  g++ -DHAVE_CONFIG_H -I. -I.. -DDIC_VERSION=102 -DMECAB_DEFAULT_RC=\\\"/usr/local/etc/mecabrc\\\" -O3 -Wall -c dictionary.cpp  -fPIC -DPIC -o .libs/dictionary.o\n",
            "libtool: compile:  g++ -DHAVE_CONFIG_H -I. -I.. -DDIC_VERSION=102 -DMECAB_DEFAULT_RC=\\\"/usr/local/etc/mecabrc\\\" -O3 -Wall -c dictionary.cpp -o dictionary.o >/dev/null 2>&1\n",
            "/bin/bash ../libtool --tag=CXX   --mode=compile g++ -DHAVE_CONFIG_H -I. -I.. -DDIC_VERSION=102   -DMECAB_DEFAULT_RC=\"\\\"/usr/local/etc/mecabrc\\\"\"    -O3 -Wall  -c -o feature_index.lo feature_index.cpp\n",
            "libtool: compile:  g++ -DHAVE_CONFIG_H -I. -I.. -DDIC_VERSION=102 -DMECAB_DEFAULT_RC=\\\"/usr/local/etc/mecabrc\\\" -O3 -Wall -c feature_index.cpp  -fPIC -DPIC -o .libs/feature_index.o\n",
            "libtool: compile:  g++ -DHAVE_CONFIG_H -I. -I.. -DDIC_VERSION=102 -DMECAB_DEFAULT_RC=\\\"/usr/local/etc/mecabrc\\\" -O3 -Wall -c feature_index.cpp -o feature_index.o >/dev/null 2>&1\n",
            "/bin/bash ../libtool --tag=CXX   --mode=compile g++ -DHAVE_CONFIG_H -I. -I.. -DDIC_VERSION=102   -DMECAB_DEFAULT_RC=\"\\\"/usr/local/etc/mecabrc\\\"\"    -O3 -Wall  -c -o lbfgs.lo lbfgs.cpp\n",
            "libtool: compile:  g++ -DHAVE_CONFIG_H -I. -I.. -DDIC_VERSION=102 -DMECAB_DEFAULT_RC=\\\"/usr/local/etc/mecabrc\\\" -O3 -Wall -c lbfgs.cpp  -fPIC -DPIC -o .libs/lbfgs.o\n",
            "libtool: compile:  g++ -DHAVE_CONFIG_H -I. -I.. -DDIC_VERSION=102 -DMECAB_DEFAULT_RC=\\\"/usr/local/etc/mecabrc\\\" -O3 -Wall -c lbfgs.cpp -o lbfgs.o >/dev/null 2>&1\n",
            "/bin/bash ../libtool --tag=CXX   --mode=compile g++ -DHAVE_CONFIG_H -I. -I.. -DDIC_VERSION=102   -DMECAB_DEFAULT_RC=\"\\\"/usr/local/etc/mecabrc\\\"\"    -O3 -Wall  -c -o learner_tagger.lo learner_tagger.cpp\n",
            "libtool: compile:  g++ -DHAVE_CONFIG_H -I. -I.. -DDIC_VERSION=102 -DMECAB_DEFAULT_RC=\\\"/usr/local/etc/mecabrc\\\" -O3 -Wall -c learner_tagger.cpp  -fPIC -DPIC -o .libs/learner_tagger.o\n",
            "\u001b[01m\u001b[Klearner_tagger.cpp:25:7:\u001b[m\u001b[K \u001b[01;35m\u001b[Kwarning: \u001b[m\u001b[K'\u001b[01m\u001b[Kchar* MeCab::{anonymous}::mystrdup(const string&)\u001b[m\u001b[K' defined but not used [\u001b[01;35m\u001b[K-Wunused-function\u001b[m\u001b[K]\n",
            "   25 | char *\u001b[01;35m\u001b[Kmystrdup\u001b[m\u001b[K(const std::string &str) {\n",
            "      |       \u001b[01;35m\u001b[K^~~~~~~~\u001b[m\u001b[K\n",
            "libtool: compile:  g++ -DHAVE_CONFIG_H -I. -I.. -DDIC_VERSION=102 -DMECAB_DEFAULT_RC=\\\"/usr/local/etc/mecabrc\\\" -O3 -Wall -c learner_tagger.cpp -o learner_tagger.o >/dev/null 2>&1\n",
            "/bin/bash ../libtool --tag=CXX   --mode=compile g++ -DHAVE_CONFIG_H -I. -I.. -DDIC_VERSION=102   -DMECAB_DEFAULT_RC=\"\\\"/usr/local/etc/mecabrc\\\"\"    -O3 -Wall  -c -o learner.lo learner.cpp\n",
            "libtool: compile:  g++ -DHAVE_CONFIG_H -I. -I.. -DDIC_VERSION=102 -DMECAB_DEFAULT_RC=\\\"/usr/local/etc/mecabrc\\\" -O3 -Wall -c learner.cpp  -fPIC -DPIC -o .libs/learner.o\n",
            "libtool: compile:  g++ -DHAVE_CONFIG_H -I. -I.. -DDIC_VERSION=102 -DMECAB_DEFAULT_RC=\\\"/usr/local/etc/mecabrc\\\" -O3 -Wall -c learner.cpp -o learner.o >/dev/null 2>&1\n",
            "/bin/bash ../libtool --tag=CXX   --mode=compile g++ -DHAVE_CONFIG_H -I. -I.. -DDIC_VERSION=102   -DMECAB_DEFAULT_RC=\"\\\"/usr/local/etc/mecabrc\\\"\"    -O3 -Wall  -c -o libmecab.lo libmecab.cpp\n",
            "libtool: compile:  g++ -DHAVE_CONFIG_H -I. -I.. -DDIC_VERSION=102 -DMECAB_DEFAULT_RC=\\\"/usr/local/etc/mecabrc\\\" -O3 -Wall -c libmecab.cpp  -fPIC -DPIC -o .libs/libmecab.o\n",
            "libtool: compile:  g++ -DHAVE_CONFIG_H -I. -I.. -DDIC_VERSION=102 -DMECAB_DEFAULT_RC=\\\"/usr/local/etc/mecabrc\\\" -O3 -Wall -c libmecab.cpp -o libmecab.o >/dev/null 2>&1\n",
            "/bin/bash ../libtool --tag=CXX   --mode=link g++  -O3 -Wall  -no-undefined -version-info 2:0:0  -o libmecab.la -rpath /usr/local/lib viterbi.lo tagger.lo utils.lo eval.lo iconv_utils.lo dictionary_rewriter.lo dictionary_generator.lo dictionary_compiler.lo context_id.lo connector.lo nbest_generator.lo writer.lo string_buffer.lo param.lo tokenizer.lo char_property.lo dictionary.lo feature_index.lo lbfgs.lo learner_tagger.lo learner.lo libmecab.lo  -lpthread -lpthread  -lstdc++ \n",
            "libtool: link: g++  -fPIC -DPIC -shared -nostdlib /usr/lib/gcc/x86_64-linux-gnu/9/../../../x86_64-linux-gnu/crti.o /usr/lib/gcc/x86_64-linux-gnu/9/crtbeginS.o  .libs/viterbi.o .libs/tagger.o .libs/utils.o .libs/eval.o .libs/iconv_utils.o .libs/dictionary_rewriter.o .libs/dictionary_generator.o .libs/dictionary_compiler.o .libs/context_id.o .libs/connector.o .libs/nbest_generator.o .libs/writer.o .libs/string_buffer.o .libs/param.o .libs/tokenizer.o .libs/char_property.o .libs/dictionary.o .libs/feature_index.o .libs/lbfgs.o .libs/learner_tagger.o .libs/learner.o .libs/libmecab.o   -lpthread -L/usr/lib/gcc/x86_64-linux-gnu/9 -L/usr/lib/gcc/x86_64-linux-gnu/9/../../../x86_64-linux-gnu -L/usr/lib/gcc/x86_64-linux-gnu/9/../../../../lib -L/lib/x86_64-linux-gnu -L/lib/../lib -L/usr/lib/x86_64-linux-gnu -L/usr/lib/../lib -L/usr/local/cuda/lib64/stubs -L/usr/lib/gcc/x86_64-linux-gnu/9/../../.. -lstdc++ -lm -lc -lgcc_s /usr/lib/gcc/x86_64-linux-gnu/9/crtendS.o /usr/lib/gcc/x86_64-linux-gnu/9/../../../x86_64-linux-gnu/crtn.o  -O3   -Wl,-soname -Wl,libmecab.so.2 -o .libs/libmecab.so.2.0.0\n",
            "libtool: link: (cd \".libs\" && rm -f \"libmecab.so.2\" && ln -s \"libmecab.so.2.0.0\" \"libmecab.so.2\")\n",
            "libtool: link: (cd \".libs\" && rm -f \"libmecab.so\" && ln -s \"libmecab.so.2.0.0\" \"libmecab.so\")\n",
            "libtool: link: ar cru .libs/libmecab.a  viterbi.o tagger.o utils.o eval.o iconv_utils.o dictionary_rewriter.o dictionary_generator.o dictionary_compiler.o context_id.o connector.o nbest_generator.o writer.o string_buffer.o param.o tokenizer.o char_property.o dictionary.o feature_index.o lbfgs.o learner_tagger.o learner.o libmecab.o\n",
            "ar: `u' modifier ignored since `D' is the default (see `U')\n",
            "libtool: link: ranlib .libs/libmecab.a\n",
            "libtool: link: ( cd \".libs\" && rm -f \"libmecab.la\" && ln -s \"../libmecab.la\" \"libmecab.la\" )\n",
            "g++ -DHAVE_CONFIG_H -I. -I.. -DDIC_VERSION=102   -DMECAB_DEFAULT_RC=\"\\\"/usr/local/etc/mecabrc\\\"\"    -O3 -Wall  -c -o mecab.o mecab.cpp\n",
            "/bin/bash ../libtool --tag=CXX   --mode=link g++  -O3 -Wall    -o mecab mecab.o libmecab.la -lpthread -lpthread  -lstdc++ \n",
            "libtool: link: g++ -O3 -Wall -o .libs/mecab mecab.o  ./.libs/libmecab.so -lpthread -lstdc++\n",
            "g++ -DHAVE_CONFIG_H -I. -I.. -DDIC_VERSION=102   -DMECAB_DEFAULT_RC=\"\\\"/usr/local/etc/mecabrc\\\"\"    -O3 -Wall  -c -o mecab-dict-index.o mecab-dict-index.cpp\n",
            "/bin/bash ../libtool --tag=CXX   --mode=link g++  -O3 -Wall    -o mecab-dict-index mecab-dict-index.o libmecab.la -lpthread -lpthread  -lstdc++ \n",
            "libtool: link: g++ -O3 -Wall -o .libs/mecab-dict-index mecab-dict-index.o  ./.libs/libmecab.so -lpthread -lstdc++\n",
            "g++ -DHAVE_CONFIG_H -I. -I.. -DDIC_VERSION=102   -DMECAB_DEFAULT_RC=\"\\\"/usr/local/etc/mecabrc\\\"\"    -O3 -Wall  -c -o mecab-dict-gen.o mecab-dict-gen.cpp\n",
            "/bin/bash ../libtool --tag=CXX   --mode=link g++  -O3 -Wall    -o mecab-dict-gen mecab-dict-gen.o libmecab.la -lpthread -lpthread  -lstdc++ \n",
            "libtool: link: g++ -O3 -Wall -o .libs/mecab-dict-gen mecab-dict-gen.o  ./.libs/libmecab.so -lpthread -lstdc++\n",
            "g++ -DHAVE_CONFIG_H -I. -I.. -DDIC_VERSION=102   -DMECAB_DEFAULT_RC=\"\\\"/usr/local/etc/mecabrc\\\"\"    -O3 -Wall  -c -o mecab-cost-train.o mecab-cost-train.cpp\n",
            "/bin/bash ../libtool --tag=CXX   --mode=link g++  -O3 -Wall    -o mecab-cost-train mecab-cost-train.o libmecab.la -lpthread -lpthread  -lstdc++ \n",
            "libtool: link: g++ -O3 -Wall -o .libs/mecab-cost-train mecab-cost-train.o  ./.libs/libmecab.so -lpthread -lstdc++\n",
            "g++ -DHAVE_CONFIG_H -I. -I.. -DDIC_VERSION=102   -DMECAB_DEFAULT_RC=\"\\\"/usr/local/etc/mecabrc\\\"\"    -O3 -Wall  -c -o mecab-system-eval.o mecab-system-eval.cpp\n",
            "/bin/bash ../libtool --tag=CXX   --mode=link g++  -O3 -Wall    -o mecab-system-eval mecab-system-eval.o libmecab.la -lpthread -lpthread  -lstdc++ \n",
            "libtool: link: g++ -O3 -Wall -o .libs/mecab-system-eval mecab-system-eval.o  ./.libs/libmecab.so -lpthread -lstdc++\n",
            "g++ -DHAVE_CONFIG_H -I. -I.. -DDIC_VERSION=102   -DMECAB_DEFAULT_RC=\"\\\"/usr/local/etc/mecabrc\\\"\"    -O3 -Wall  -c -o mecab-test-gen.o mecab-test-gen.cpp\n",
            "/bin/bash ../libtool --tag=CXX   --mode=link g++  -O3 -Wall    -o mecab-test-gen mecab-test-gen.o libmecab.la -lpthread -lpthread  -lstdc++ \n",
            "libtool: link: g++ -O3 -Wall -o .libs/mecab-test-gen mecab-test-gen.o  ./.libs/libmecab.so -lpthread -lstdc++\n",
            "make[2]: Leaving directory '/tmp/mecab-0.996-ko-0.9.2/src'\n",
            "Making all in man\n",
            "make[2]: Entering directory '/tmp/mecab-0.996-ko-0.9.2/man'\n",
            "make[2]: Nothing to be done for 'all'.\n",
            "make[2]: Leaving directory '/tmp/mecab-0.996-ko-0.9.2/man'\n",
            "Making all in doc\n",
            "make[2]: Entering directory '/tmp/mecab-0.996-ko-0.9.2/doc'\n",
            "make[2]: Nothing to be done for 'all'.\n",
            "make[2]: Leaving directory '/tmp/mecab-0.996-ko-0.9.2/doc'\n",
            "Making all in tests\n",
            "make[2]: Entering directory '/tmp/mecab-0.996-ko-0.9.2/tests'\n",
            "make[2]: Nothing to be done for 'all'.\n",
            "make[2]: Leaving directory '/tmp/mecab-0.996-ko-0.9.2/tests'\n",
            "make[2]: Entering directory '/tmp/mecab-0.996-ko-0.9.2'\n",
            "make[2]: Leaving directory '/tmp/mecab-0.996-ko-0.9.2'\n",
            "make[1]: Leaving directory '/tmp/mecab-0.996-ko-0.9.2'\n",
            "Making check in src\n",
            "make[1]: Entering directory '/tmp/mecab-0.996-ko-0.9.2/src'\n",
            "make[1]: Nothing to be done for 'check'.\n",
            "make[1]: Leaving directory '/tmp/mecab-0.996-ko-0.9.2/src'\n",
            "Making check in man\n",
            "make[1]: Entering directory '/tmp/mecab-0.996-ko-0.9.2/man'\n",
            "make[1]: Nothing to be done for 'check'.\n",
            "make[1]: Leaving directory '/tmp/mecab-0.996-ko-0.9.2/man'\n",
            "Making check in doc\n",
            "make[1]: Entering directory '/tmp/mecab-0.996-ko-0.9.2/doc'\n",
            "make[1]: Nothing to be done for 'check'.\n",
            "make[1]: Leaving directory '/tmp/mecab-0.996-ko-0.9.2/doc'\n",
            "Making check in tests\n",
            "make[1]: Entering directory '/tmp/mecab-0.996-ko-0.9.2/tests'\n",
            "make  check-TESTS\n",
            "make[2]: Entering directory '/tmp/mecab-0.996-ko-0.9.2/tests'\n",
            "./pos-id.def is not found. minimum setting is used\n",
            "reading ./unk.def ... 2\n",
            "emitting double-array: 100% |###########################################| \n",
            "./model.def is not found. skipped.\n",
            "./pos-id.def is not found. minimum setting is used\n",
            "reading ./dic.csv ... 177\n",
            "emitting double-array: 100% |###########################################| \n",
            "reading ./matrix.def ... 178x178\n",
            "emitting matrix      : 100% |###########################################| \n",
            "\n",
            "done!\n",
            "./pos-id.def is not found. minimum setting is used\n",
            "reading ./unk.def ... 2\n",
            "emitting double-array: 100% |###########################################| \n",
            "./model.def is not found. skipped.\n",
            "./pos-id.def is not found. minimum setting is used\n",
            "reading ./dic.csv ... 83\n",
            "emitting double-array: 100% |###########################################| \n",
            "reading ./matrix.def ... 84x84\n",
            "emitting matrix      : 100% |###########################################| \n",
            "\n",
            "done!\n",
            "./pos-id.def is not found. minimum setting is used\n",
            "reading ./unk.def ... 2\n",
            "emitting double-array: 100% |###########################################| \n",
            "./model.def is not found. skipped.\n",
            "./pos-id.def is not found. minimum setting is used\n",
            "reading ./dic.csv ... 450\n",
            "emitting double-array: 100% |###########################################| \n",
            "reading ./matrix.def ... 1x1\n",
            "\n",
            "done!\n",
            "./pos-id.def is not found. minimum setting is used\n",
            "reading ./unk.def ... 2\n",
            "emitting double-array: 100% |###########################################| \n",
            "./model.def is not found. skipped.\n",
            "./pos-id.def is not found. minimum setting is used\n",
            "reading ./dic.csv ... 162\n",
            "emitting double-array: 100% |###########################################| \n",
            "reading ./matrix.def ... 3x3\n",
            "emitting matrix      : 100% |###########################################| \n",
            "\n",
            "done!\n",
            "./pos-id.def is not found. minimum setting is used\n",
            "reading ./unk.def ... 2\n",
            "emitting double-array: 100% |###########################################| \n",
            "./model.def is not found. skipped.\n",
            "./pos-id.def is not found. minimum setting is used\n",
            "reading ./dic.csv ... 4\n",
            "emitting double-array: 100% |###########################################| \n",
            "reading ./matrix.def ... 1x1\n",
            "\n",
            "done!\n",
            "./pos-id.def is not found. minimum setting is used\n",
            "reading ./unk.def ... 11\n",
            "emitting double-array: 100% |###########################################| \n",
            "./model.def is not found. skipped.\n",
            "./pos-id.def is not found. minimum setting is used\n",
            "reading ./dic.csv ... 1\n",
            "reading ./matrix.def ... 1x1\n",
            "\n",
            "done!\n",
            "./pos-id.def is not found. minimum setting is used\n",
            "reading ./unk.def ... 2\n",
            "emitting double-array: 100% |###########################################| \n",
            "./model.def is not found. skipped.\n",
            "./pos-id.def is not found. minimum setting is used\n",
            "reading ./dic.csv ... 1\n",
            "reading ./matrix.def ... 1x1\n",
            "\n",
            "done!\n",
            "PASS: run-dics.sh\n",
            "PASS: run-eval.sh\n",
            "seed/pos-id.def is not found. minimum setting is used\n",
            "reading seed/unk.def ... 40\n",
            "emitting double-array: 100% |###########################################| \n",
            "seed/model.def is not found. skipped.\n",
            "seed/pos-id.def is not found. minimum setting is used\n",
            "reading seed/dic.csv ... 4335\n",
            "emitting double-array: 100% |###########################################| \n",
            "reading seed/matrix.def ... 1x1\n",
            "\n",
            "done!\n",
            "reading corpus ...\n",
            "Number of sentences: 34\n",
            "Number of features:  64108\n",
            "eta:                 0.00005\n",
            "freq:                1\n",
            "eval-size:           6\n",
            "unk-eval-size:       4\n",
            "threads:             1\n",
            "charset:             EUC-JP\n",
            "C(sigma^2):          1.00000\n",
            "\n",
            "iter=0 err=1.00000 F=0.35771 target=2406.28355 diff=1.00000\n",
            "iter=1 err=0.97059 F=0.65652 target=1484.25231 diff=0.38318\n",
            "iter=2 err=0.91176 F=0.79331 target=863.32765 diff=0.41834\n",
            "iter=3 err=0.85294 F=0.89213 target=596.72480 diff=0.30881\n",
            "iter=4 err=0.61765 F=0.95467 target=336.30744 diff=0.43641\n",
            "iter=5 err=0.50000 F=0.96702 target=246.53039 diff=0.26695\n",
            "iter=6 err=0.35294 F=0.95472 target=188.93963 diff=0.23361\n",
            "iter=7 err=0.20588 F=0.99106 target=168.62665 diff=0.10751\n",
            "iter=8 err=0.05882 F=0.99777 target=158.64865 diff=0.05917\n",
            "iter=9 err=0.08824 F=0.99665 target=154.14530 diff=0.02839\n",
            "iter=10 err=0.08824 F=0.99665 target=151.94257 diff=0.01429\n",
            "iter=11 err=0.02941 F=0.99888 target=147.20825 diff=0.03116\n",
            "iter=12 err=0.00000 F=1.00000 target=147.34956 diff=0.00096\n",
            "iter=13 err=0.02941 F=0.99888 target=146.32592 diff=0.00695\n",
            "iter=14 err=0.00000 F=1.00000 target=145.77299 diff=0.00378\n",
            "iter=15 err=0.02941 F=0.99888 target=145.24641 diff=0.00361\n",
            "iter=16 err=0.00000 F=1.00000 target=144.96490 diff=0.00194\n",
            "iter=17 err=0.02941 F=0.99888 target=144.90246 diff=0.00043\n",
            "iter=18 err=0.00000 F=1.00000 target=144.75959 diff=0.00099\n",
            "iter=19 err=0.00000 F=1.00000 target=144.71727 diff=0.00029\n",
            "iter=20 err=0.00000 F=1.00000 target=144.66337 diff=0.00037\n",
            "iter=21 err=0.00000 F=1.00000 target=144.61349 diff=0.00034\n",
            "iter=22 err=0.00000 F=1.00000 target=144.62987 diff=0.00011\n",
            "iter=23 err=0.00000 F=1.00000 target=144.60060 diff=0.00020\n",
            "iter=24 err=0.00000 F=1.00000 target=144.59125 diff=0.00006\n",
            "iter=25 err=0.00000 F=1.00000 target=144.58619 diff=0.00004\n",
            "iter=26 err=0.00000 F=1.00000 target=144.58219 diff=0.00003\n",
            "iter=27 err=0.00000 F=1.00000 target=144.58059 diff=0.00001\n",
            "\n",
            "Done! writing model file ... \n",
            "model-ipadic.c1.0.f1.model is not a binary model. reopen it as text mode...\n",
            "reading seed/unk.def ... 40\n",
            "reading seed/dic.csv ... 4335\n",
            "emitting model-ipadic.c1.0.f1.dic/left-id.def/ model-ipadic.c1.0.f1.dic/right-id.def\n",
            "emitting model-ipadic.c1.0.f1.dic/unk.def ... 40\n",
            "emitting model-ipadic.c1.0.f1.dic/dic.csv ... 4335\n",
            "emitting matrix      : 100% |###########################################| \n",
            "copying seed/char.def to model-ipadic.c1.0.f1.dic/char.def\n",
            "copying seed/rewrite.def to model-ipadic.c1.0.f1.dic/rewrite.def\n",
            "copying seed/dicrc to model-ipadic.c1.0.f1.dic/dicrc\n",
            "copying seed/feature.def to model-ipadic.c1.0.f1.dic/feature.def\n",
            "copying model-ipadic.c1.0.f1.model to model-ipadic.c1.0.f1.dic/model.def\n",
            "\n",
            "done!\n",
            "model-ipadic.c1.0.f1.dic/pos-id.def is not found. minimum setting is used\n",
            "reading model-ipadic.c1.0.f1.dic/unk.def ... 40\n",
            "emitting double-array: 100% |###########################################| \n",
            "model-ipadic.c1.0.f1.dic/pos-id.def is not found. minimum setting is used\n",
            "reading model-ipadic.c1.0.f1.dic/dic.csv ... 4335\n",
            "emitting double-array: 100% |###########################################| \n",
            "reading model-ipadic.c1.0.f1.dic/matrix.def ... 346x346\n",
            "emitting matrix      : 100% |###########################################| \n",
            "\n",
            "done!\n",
            "              precision          recall         F\n",
            "LEVEL 0:    12.8959(57/442) 11.8998(57/479) 12.3779\n",
            "LEVEL 1:    12.2172(54/442) 11.2735(54/479) 11.7264\n",
            "LEVEL 2:    11.7647(52/442) 10.8559(52/479) 11.2921\n",
            "LEVEL 4:    11.7647(52/442) 10.8559(52/479) 11.2921\n",
            "PASS: run-cost-train.sh\n",
            "==================\n",
            "All 3 tests passed\n",
            "==================\n",
            "make[2]: Leaving directory '/tmp/mecab-0.996-ko-0.9.2/tests'\n",
            "make[1]: Leaving directory '/tmp/mecab-0.996-ko-0.9.2/tests'\n",
            "make[1]: Entering directory '/tmp/mecab-0.996-ko-0.9.2'\n",
            "make[1]: Leaving directory '/tmp/mecab-0.996-ko-0.9.2'\n",
            "Making install in src\n",
            "make[1]: Entering directory '/tmp/mecab-0.996-ko-0.9.2/src'\n",
            "make[2]: Entering directory '/tmp/mecab-0.996-ko-0.9.2/src'\n",
            "test -z \"/usr/local/lib\" || /usr/bin/mkdir -p \"/usr/local/lib\"\n",
            " /bin/bash ../libtool   --mode=install /usr/bin/install -c   libmecab.la '/usr/local/lib'\n",
            "libtool: install: /usr/bin/install -c .libs/libmecab.so.2.0.0 /usr/local/lib/libmecab.so.2.0.0\n",
            "libtool: install: (cd /usr/local/lib && { ln -s -f libmecab.so.2.0.0 libmecab.so.2 || { rm -f libmecab.so.2 && ln -s libmecab.so.2.0.0 libmecab.so.2; }; })\n",
            "libtool: install: (cd /usr/local/lib && { ln -s -f libmecab.so.2.0.0 libmecab.so || { rm -f libmecab.so && ln -s libmecab.so.2.0.0 libmecab.so; }; })\n",
            "libtool: install: /usr/bin/install -c .libs/libmecab.lai /usr/local/lib/libmecab.la\n",
            "libtool: install: /usr/bin/install -c .libs/libmecab.a /usr/local/lib/libmecab.a\n",
            "libtool: install: chmod 644 /usr/local/lib/libmecab.a\n",
            "libtool: install: ranlib /usr/local/lib/libmecab.a\n",
            "libtool: finish: PATH=\"/opt/bin:/usr/local/nvidia/bin:/usr/local/cuda/bin:/usr/local/sbin:/usr/local/bin:/usr/sbin:/usr/bin:/sbin:/bin:/tools/node/bin:/tools/google-cloud-sdk/bin:/sbin\" ldconfig -n /usr/local/lib\n",
            "----------------------------------------------------------------------\n",
            "Libraries have been installed in:\n",
            "   /usr/local/lib\n",
            "\n",
            "If you ever happen to want to link against installed libraries\n",
            "in a given directory, LIBDIR, you must either use libtool, and\n",
            "specify the full pathname of the library, or use the `-LLIBDIR'\n",
            "flag during linking and do at least one of the following:\n",
            "   - add LIBDIR to the `LD_LIBRARY_PATH' environment variable\n",
            "     during execution\n",
            "   - add LIBDIR to the `LD_RUN_PATH' environment variable\n",
            "     during linking\n",
            "   - use the `-Wl,-rpath -Wl,LIBDIR' linker flag\n",
            "   - have your system administrator add LIBDIR to `/etc/ld.so.conf'\n",
            "\n",
            "See any operating system documentation about shared libraries for\n",
            "more information, such as the ld(1) and ld.so(8) manual pages.\n",
            "----------------------------------------------------------------------\n",
            "test -z \"/usr/local/bin\" || /usr/bin/mkdir -p \"/usr/local/bin\"\n",
            "  /bin/bash ../libtool   --mode=install /usr/bin/install -c mecab '/usr/local/bin'\n",
            "libtool: install: /usr/bin/install -c .libs/mecab /usr/local/bin/mecab\n",
            "test -z \"/usr/local/libexec/mecab\" || /usr/bin/mkdir -p \"/usr/local/libexec/mecab\"\n",
            "  /bin/bash ../libtool   --mode=install /usr/bin/install -c mecab-dict-index mecab-dict-gen mecab-cost-train mecab-system-eval mecab-test-gen '/usr/local/libexec/mecab'\n",
            "libtool: install: /usr/bin/install -c .libs/mecab-dict-index /usr/local/libexec/mecab/mecab-dict-index\n",
            "libtool: install: /usr/bin/install -c .libs/mecab-dict-gen /usr/local/libexec/mecab/mecab-dict-gen\n",
            "libtool: install: /usr/bin/install -c .libs/mecab-cost-train /usr/local/libexec/mecab/mecab-cost-train\n",
            "libtool: install: /usr/bin/install -c .libs/mecab-system-eval /usr/local/libexec/mecab/mecab-system-eval\n",
            "libtool: install: /usr/bin/install -c .libs/mecab-test-gen /usr/local/libexec/mecab/mecab-test-gen\n",
            "test -z \"/usr/local/include\" || /usr/bin/mkdir -p \"/usr/local/include\"\n",
            " /usr/bin/install -c -m 644 mecab.h '/usr/local/include'\n",
            "make[2]: Leaving directory '/tmp/mecab-0.996-ko-0.9.2/src'\n",
            "make[1]: Leaving directory '/tmp/mecab-0.996-ko-0.9.2/src'\n",
            "Making install in man\n",
            "make[1]: Entering directory '/tmp/mecab-0.996-ko-0.9.2/man'\n",
            "make[2]: Entering directory '/tmp/mecab-0.996-ko-0.9.2/man'\n",
            "make[2]: Nothing to be done for 'install-exec-am'.\n",
            "test -z \"/usr/local/share/man/man1\" || /usr/bin/mkdir -p \"/usr/local/share/man/man1\"\n",
            " /usr/bin/install -c -m 644 mecab.1 '/usr/local/share/man/man1'\n",
            "make[2]: Leaving directory '/tmp/mecab-0.996-ko-0.9.2/man'\n",
            "make[1]: Leaving directory '/tmp/mecab-0.996-ko-0.9.2/man'\n",
            "Making install in doc\n",
            "make[1]: Entering directory '/tmp/mecab-0.996-ko-0.9.2/doc'\n",
            "make[2]: Entering directory '/tmp/mecab-0.996-ko-0.9.2/doc'\n",
            "make[2]: Nothing to be done for 'install-exec-am'.\n",
            "make[2]: Nothing to be done for 'install-data-am'.\n",
            "make[2]: Leaving directory '/tmp/mecab-0.996-ko-0.9.2/doc'\n",
            "make[1]: Leaving directory '/tmp/mecab-0.996-ko-0.9.2/doc'\n",
            "Making install in tests\n",
            "make[1]: Entering directory '/tmp/mecab-0.996-ko-0.9.2/tests'\n",
            "make[2]: Entering directory '/tmp/mecab-0.996-ko-0.9.2/tests'\n",
            "make[2]: Nothing to be done for 'install-exec-am'.\n",
            "make[2]: Nothing to be done for 'install-data-am'.\n",
            "make[2]: Leaving directory '/tmp/mecab-0.996-ko-0.9.2/tests'\n",
            "make[1]: Leaving directory '/tmp/mecab-0.996-ko-0.9.2/tests'\n",
            "make[1]: Entering directory '/tmp/mecab-0.996-ko-0.9.2'\n",
            "make[2]: Entering directory '/tmp/mecab-0.996-ko-0.9.2'\n",
            "test -z \"/usr/local/bin\" || /usr/bin/mkdir -p \"/usr/local/bin\"\n",
            " /usr/bin/install -c mecab-config '/usr/local/bin'\n",
            "test -z \"/usr/local/etc\" || /usr/bin/mkdir -p \"/usr/local/etc\"\n",
            " /usr/bin/install -c -m 644 mecabrc '/usr/local/etc'\n",
            "make[2]: Leaving directory '/tmp/mecab-0.996-ko-0.9.2'\n",
            "make[1]: Leaving directory '/tmp/mecab-0.996-ko-0.9.2'\n",
            "--2023-02-26 07:27:03--  https://www.dropbox.com/s/i8girnk5p80076c/mecab-ko-dic-2.1.1-20180720.tar.gz?dl=1\n",
            "Resolving www.dropbox.com (www.dropbox.com)... 162.125.5.18, 2620:100:601d:18::a27d:512\n",
            "Connecting to www.dropbox.com (www.dropbox.com)|162.125.5.18|:443... connected.\n",
            "HTTP request sent, awaiting response... 302 Found\n",
            "Location: /s/dl/i8girnk5p80076c/mecab-ko-dic-2.1.1-20180720.tar.gz [following]\n",
            "--2023-02-26 07:27:03--  https://www.dropbox.com/s/dl/i8girnk5p80076c/mecab-ko-dic-2.1.1-20180720.tar.gz\n",
            "Reusing existing connection to www.dropbox.com:443.\n",
            "HTTP request sent, awaiting response... 302 Found\n",
            "Location: https://uc4735e85c1ff8ad1e90e10fd0f1.dl.dropboxusercontent.com/cd/0/get/B3NPOUoSlkPpqB96gLYM6-Zli2P4VE1U5-YD3tOlBzoAz-l1thAZddZKLlbMtkDaFReNm-SfC7jeimMejG1L4Cf7m38JUF8RXOxKWNoxK47BTsCNSP9nHmy7RE_YGsgt9ck_GFsIqKL0W02y0HonwHuNYKx8T4_T5H7u0qozs3BZhzT_w60LtXyLyqPxmhOfQFc/file?dl=1# [following]\n",
            "--2023-02-26 07:27:04--  https://uc4735e85c1ff8ad1e90e10fd0f1.dl.dropboxusercontent.com/cd/0/get/B3NPOUoSlkPpqB96gLYM6-Zli2P4VE1U5-YD3tOlBzoAz-l1thAZddZKLlbMtkDaFReNm-SfC7jeimMejG1L4Cf7m38JUF8RXOxKWNoxK47BTsCNSP9nHmy7RE_YGsgt9ck_GFsIqKL0W02y0HonwHuNYKx8T4_T5H7u0qozs3BZhzT_w60LtXyLyqPxmhOfQFc/file?dl=1\n",
            "Resolving uc4735e85c1ff8ad1e90e10fd0f1.dl.dropboxusercontent.com (uc4735e85c1ff8ad1e90e10fd0f1.dl.dropboxusercontent.com)... 162.125.5.15, 2620:100:601d:15::a27d:50f\n",
            "Connecting to uc4735e85c1ff8ad1e90e10fd0f1.dl.dropboxusercontent.com (uc4735e85c1ff8ad1e90e10fd0f1.dl.dropboxusercontent.com)|162.125.5.15|:443... connected.\n",
            "HTTP request sent, awaiting response... 200 OK\n",
            "Length: 49775061 (47M) [application/binary]\n",
            "Saving to: ‘mecab-ko-dic-2.1.1-20180720.tar.gz?dl=1’\n",
            "\n",
            "mecab-ko-dic-2.1.1- 100%[===================>]  47.47M  69.1MB/s    in 0.7s    \n",
            "\n",
            "2023-02-26 07:27:05 (69.1 MB/s) - ‘mecab-ko-dic-2.1.1-20180720.tar.gz?dl=1’ saved [49775061/49775061]\n",
            "\n",
            "Reading package lists... Done\n",
            "Building dependency tree       \n",
            "Reading state information... Done\n",
            "autoconf is already the newest version (2.69-11.1).\n",
            "autoconf set to manually installed.\n",
            "0 upgraded, 0 newly installed, 0 to remove and 19 not upgraded.\n",
            "mecab-ko-dic-2.1.1-20180720/\n",
            "mecab-ko-dic-2.1.1-20180720/configure\n",
            "mecab-ko-dic-2.1.1-20180720/COPYING\n",
            "mecab-ko-dic-2.1.1-20180720/autogen.sh\n",
            "mecab-ko-dic-2.1.1-20180720/Place-station.csv\n",
            "mecab-ko-dic-2.1.1-20180720/NNG.csv\n",
            "mecab-ko-dic-2.1.1-20180720/README\n",
            "mecab-ko-dic-2.1.1-20180720/EF.csv\n",
            "mecab-ko-dic-2.1.1-20180720/MAG.csv\n",
            "mecab-ko-dic-2.1.1-20180720/Preanalysis.csv\n",
            "mecab-ko-dic-2.1.1-20180720/NNB.csv\n",
            "mecab-ko-dic-2.1.1-20180720/Person-actor.csv\n",
            "mecab-ko-dic-2.1.1-20180720/VV.csv\n",
            "mecab-ko-dic-2.1.1-20180720/Makefile.in\n",
            "mecab-ko-dic-2.1.1-20180720/matrix.def\n",
            "mecab-ko-dic-2.1.1-20180720/EC.csv\n",
            "mecab-ko-dic-2.1.1-20180720/NNBC.csv\n",
            "mecab-ko-dic-2.1.1-20180720/clean\n",
            "mecab-ko-dic-2.1.1-20180720/ChangeLog\n",
            "mecab-ko-dic-2.1.1-20180720/J.csv\n",
            "mecab-ko-dic-2.1.1-20180720/.keep\n",
            "mecab-ko-dic-2.1.1-20180720/feature.def\n",
            "mecab-ko-dic-2.1.1-20180720/Foreign.csv\n",
            "mecab-ko-dic-2.1.1-20180720/XPN.csv\n",
            "mecab-ko-dic-2.1.1-20180720/EP.csv\n",
            "mecab-ko-dic-2.1.1-20180720/NR.csv\n",
            "mecab-ko-dic-2.1.1-20180720/left-id.def\n",
            "mecab-ko-dic-2.1.1-20180720/Place.csv\n",
            "mecab-ko-dic-2.1.1-20180720/Symbol.csv\n",
            "mecab-ko-dic-2.1.1-20180720/dicrc\n",
            "mecab-ko-dic-2.1.1-20180720/NP.csv\n",
            "mecab-ko-dic-2.1.1-20180720/ETM.csv\n",
            "mecab-ko-dic-2.1.1-20180720/IC.csv\n",
            "mecab-ko-dic-2.1.1-20180720/Place-address.csv\n",
            "mecab-ko-dic-2.1.1-20180720/Group.csv\n",
            "mecab-ko-dic-2.1.1-20180720/model.def\n",
            "mecab-ko-dic-2.1.1-20180720/XSN.csv\n",
            "mecab-ko-dic-2.1.1-20180720/INSTALL\n",
            "mecab-ko-dic-2.1.1-20180720/rewrite.def\n",
            "mecab-ko-dic-2.1.1-20180720/Inflect.csv\n",
            "mecab-ko-dic-2.1.1-20180720/configure.ac\n",
            "mecab-ko-dic-2.1.1-20180720/NNP.csv\n",
            "mecab-ko-dic-2.1.1-20180720/CoinedWord.csv\n",
            "mecab-ko-dic-2.1.1-20180720/XSV.csv\n",
            "mecab-ko-dic-2.1.1-20180720/pos-id.def\n",
            "mecab-ko-dic-2.1.1-20180720/Makefile.am\n",
            "mecab-ko-dic-2.1.1-20180720/unk.def\n",
            "mecab-ko-dic-2.1.1-20180720/missing\n",
            "mecab-ko-dic-2.1.1-20180720/VCP.csv\n",
            "mecab-ko-dic-2.1.1-20180720/install-sh\n",
            "mecab-ko-dic-2.1.1-20180720/Hanja.csv\n",
            "mecab-ko-dic-2.1.1-20180720/MAJ.csv\n",
            "mecab-ko-dic-2.1.1-20180720/XSA.csv\n",
            "mecab-ko-dic-2.1.1-20180720/Wikipedia.csv\n",
            "mecab-ko-dic-2.1.1-20180720/tools/\n",
            "mecab-ko-dic-2.1.1-20180720/tools/add-userdic.sh\n",
            "mecab-ko-dic-2.1.1-20180720/tools/mecab-bestn.sh\n",
            "mecab-ko-dic-2.1.1-20180720/tools/convert_for_using_store.sh\n",
            "mecab-ko-dic-2.1.1-20180720/user-dic/\n",
            "mecab-ko-dic-2.1.1-20180720/user-dic/nnp.csv\n",
            "mecab-ko-dic-2.1.1-20180720/user-dic/place.csv\n",
            "mecab-ko-dic-2.1.1-20180720/user-dic/person.csv\n",
            "mecab-ko-dic-2.1.1-20180720/user-dic/README.md\n",
            "mecab-ko-dic-2.1.1-20180720/NorthKorea.csv\n",
            "mecab-ko-dic-2.1.1-20180720/VX.csv\n",
            "mecab-ko-dic-2.1.1-20180720/right-id.def\n",
            "mecab-ko-dic-2.1.1-20180720/VA.csv\n",
            "mecab-ko-dic-2.1.1-20180720/char.def\n",
            "mecab-ko-dic-2.1.1-20180720/NEWS\n",
            "mecab-ko-dic-2.1.1-20180720/MM.csv\n",
            "mecab-ko-dic-2.1.1-20180720/ETN.csv\n",
            "mecab-ko-dic-2.1.1-20180720/AUTHORS\n",
            "mecab-ko-dic-2.1.1-20180720/Person.csv\n",
            "mecab-ko-dic-2.1.1-20180720/XR.csv\n",
            "mecab-ko-dic-2.1.1-20180720/VCN.csv\n",
            "Looking in current directory for macros.\n",
            "configure.ac:2: warning: AM_INIT_AUTOMAKE: two- and three-arguments forms are deprecated.  For more info, see:\n",
            "configure.ac:2: https://www.gnu.org/software/automake/manual/automake.html#Modernize-AM_005fINIT_005fAUTOMAKE-invocation\n",
            "checking for a BSD-compatible install... /usr/bin/install -c\n",
            "checking whether build environment is sane... yes\n",
            "/tmp/mecab-ko-dic-2.1.1-20180720/missing: Unknown `--is-lightweight' option\n",
            "Try `/tmp/mecab-ko-dic-2.1.1-20180720/missing --help' for more information\n",
            "configure: WARNING: 'missing' script is too old or missing\n",
            "checking for a thread-safe mkdir -p... /usr/bin/mkdir -p\n",
            "checking for gawk... no\n",
            "checking for mawk... mawk\n",
            "checking whether make sets $(MAKE)... yes\n",
            "checking whether make supports nested variables... yes\n",
            "checking for mecab-config... /usr/local/bin/mecab-config\n",
            "checking that generated files are newer than configure... done\n",
            "configure: creating ./config.status\n",
            "config.status: creating Makefile\n",
            "/usr/local/libexec/mecab/mecab-dict-index -d . -o . -f UTF-8 -t UTF-8\n",
            "reading ./unk.def ... 13\n",
            "emitting double-array: 100% |###########################################| \n",
            "reading ./NNBC.csv ... 677\n",
            "reading ./NorthKorea.csv ... 3\n",
            "reading ./EF.csv ... 1820\n",
            "reading ./CoinedWord.csv ... 148\n",
            "reading ./XR.csv ... 3637\n",
            "reading ./MAG.csv ... 14242\n",
            "reading ./IC.csv ... 1305\n",
            "reading ./MAJ.csv ... 240\n",
            "reading ./XSV.csv ... 23\n",
            "reading ./NNB.csv ... 140\n",
            "reading ./ETM.csv ... 133\n",
            "reading ./Inflect.csv ... 44820\n",
            "reading ./MM.csv ... 453\n",
            "reading ./VCP.csv ... 9\n",
            "reading ./Hanja.csv ... 125750\n",
            "reading ./Symbol.csv ... 16\n",
            "reading ./XSA.csv ... 19\n",
            "reading ./EC.csv ... 2547\n",
            "reading ./VX.csv ... 125\n",
            "reading ./Place-address.csv ... 19301\n",
            "reading ./NR.csv ... 482\n",
            "reading ./XPN.csv ... 83\n",
            "reading ./Person-actor.csv ... 99230\n",
            "reading ./NP.csv ... 342\n",
            "reading ./Foreign.csv ... 11690\n",
            "reading ./Place-station.csv ... 1145\n",
            "reading ./Person.csv ... 196459\n",
            "reading ./J.csv ... 416\n",
            "reading ./Place.csv ... 30303\n",
            "reading ./EP.csv ... 51\n",
            "reading ./Preanalysis.csv ... 5\n",
            "reading ./XSN.csv ... 124\n",
            "reading ./NNP.csv ... 2371\n",
            "reading ./Wikipedia.csv ... 36762\n",
            "reading ./VA.csv ... 2360\n",
            "reading ./NNG.csv ... 208524\n",
            "reading ./Group.csv ... 3176\n",
            "reading ./VV.csv ... 7331\n",
            "reading ./VCN.csv ... 7\n",
            "reading ./ETN.csv ... 14\n",
            "emitting double-array: 100% |###########################################| \n",
            "reading ./matrix.def ... 3822x2693\n",
            "emitting matrix      : 100% |###########################################| \n",
            "\n",
            "done!\n",
            "echo To enable dictionary, rewrite /usr/local/etc/mecabrc as \\\"dicdir = /usr/local/lib/mecab/dic/mecab-ko-dic\\\"\n",
            "To enable dictionary, rewrite /usr/local/etc/mecabrc as \"dicdir = /usr/local/lib/mecab/dic/mecab-ko-dic\"\n",
            "make[1]: Entering directory '/tmp/mecab-ko-dic-2.1.1-20180720'\n",
            "make[1]: Nothing to be done for 'install-exec-am'.\n",
            " /usr/bin/mkdir -p '/usr/local/lib/mecab/dic/mecab-ko-dic'\n",
            " /usr/bin/install -c -m 644 model.bin matrix.bin char.bin sys.dic unk.dic left-id.def right-id.def rewrite.def pos-id.def dicrc '/usr/local/lib/mecab/dic/mecab-ko-dic'\n",
            "make[1]: Leaving directory '/tmp/mecab-ko-dic-2.1.1-20180720'\n",
            "Cloning into 'mecab-python-0.996'...\n",
            "Unpacking objects: 100% (17/17), 59.65 KiB | 1.92 MiB/s, done.\n",
            "running build\n",
            "running build_py\n",
            "creating build\n",
            "creating build/lib.linux-x86_64-3.8\n",
            "copying MeCab.py -> build/lib.linux-x86_64-3.8\n",
            "running build_ext\n",
            "building '_MeCab' extension\n",
            "creating build/temp.linux-x86_64-3.8\n",
            "x86_64-linux-gnu-gcc -pthread -Wno-unused-result -Wsign-compare -DNDEBUG -g -fwrapv -O2 -Wall -g -fstack-protector-strong -Wformat -Werror=format-security -g -fwrapv -O2 -g -fstack-protector-strong -Wformat -Werror=format-security -Wdate-time -D_FORTIFY_SOURCE=2 -fPIC -I/usr/local/include -I/usr/include/python3.8 -c MeCab_wrap.cxx -o build/temp.linux-x86_64-3.8/MeCab_wrap.o\n",
            "In file included from \u001b[01m\u001b[K/usr/include/string.h:495\u001b[m\u001b[K,\n",
            "                 from \u001b[01m\u001b[K/usr/include/python3.8/Python.h:30\u001b[m\u001b[K,\n",
            "                 from \u001b[01m\u001b[KMeCab_wrap.cxx:154\u001b[m\u001b[K:\n",
            "In function ‘\u001b[01m\u001b[Kchar* strncpy(char*, const char*, size_t)\u001b[m\u001b[K’,\n",
            "    inlined from ‘\u001b[01m\u001b[Kvoid SWIG_Python_FixMethods(PyMethodDef*, swig_const_info*, swig_type_info**, swig_type_info**)\u001b[m\u001b[K’ at \u001b[01m\u001b[KMeCab_wrap.cxx:8311:22\u001b[m\u001b[K,\n",
            "    inlined from ‘\u001b[01m\u001b[KPyObject* PyInit__MeCab()\u001b[m\u001b[K’ at \u001b[01m\u001b[KMeCab_wrap.cxx:8409:25\u001b[m\u001b[K:\n",
            "\u001b[01m\u001b[K/usr/include/x86_64-linux-gnu/bits/string_fortified.h:106:34:\u001b[m\u001b[K \u001b[01;35m\u001b[Kwarning: \u001b[m\u001b[K‘\u001b[01m\u001b[Kchar* __builtin_strncpy(char*, const char*, long unsigned int)\u001b[m\u001b[K’ output truncated before terminating nul copying 10 bytes from a string of the same length [\u001b[01;35m\u001b[K-Wstringop-truncation\u001b[m\u001b[K]\n",
            "  106 |   return \u001b[01;35m\u001b[K__builtin___strncpy_chk (__dest, __src, __len, __bos (__dest))\u001b[m\u001b[K;\n",
            "      |          \u001b[01;35m\u001b[K~~~~~~~~~~~~~~~~~~~~~~~~^~~~~~~~~~~~~~~~~~~~~~~~~~~~~~~~~~~~~~\u001b[m\u001b[K\n",
            "x86_64-linux-gnu-g++ -pthread -shared -Wl,-O1 -Wl,-Bsymbolic-functions -Wl,-Bsymbolic-functions -Wl,-z,relro -g -fwrapv -O2 -Wl,-Bsymbolic-functions -Wl,-z,relro -g -fwrapv -O2 -g -fstack-protector-strong -Wformat -Werror=format-security -Wdate-time -D_FORTIFY_SOURCE=2 build/temp.linux-x86_64-3.8/MeCab_wrap.o -L/usr/local/lib -lmecab -lstdc++ -o build/lib.linux-x86_64-3.8/_MeCab.cpython-38-x86_64-linux-gnu.so\n",
            "running install\n",
            "running build\n",
            "running build_py\n",
            "running build_ext\n",
            "running install_lib\n",
            "copying build/lib.linux-x86_64-3.8/_MeCab.cpython-38-x86_64-linux-gnu.so -> /usr/local/lib/python3.8/dist-packages\n",
            "copying build/lib.linux-x86_64-3.8/MeCab.py -> /usr/local/lib/python3.8/dist-packages\n",
            "byte-compiling /usr/local/lib/python3.8/dist-packages/MeCab.py to MeCab.cpython-38.pyc\n",
            "running install_egg_info\n",
            "Writing /usr/local/lib/python3.8/dist-packages/mecab_python-0.996_ko_0.9.2.egg-info\n",
            "Looking in indexes: https://pypi.org/simple, https://us-python.pkg.dev/colab-wheels/public/simple/\n",
            "Collecting konlpy\n",
            "  Downloading konlpy-0.6.0-py2.py3-none-any.whl (19.4 MB)\n",
            "\u001b[2K     \u001b[90m━━━━━━━━━━━━━━━━━━━━━━━━━━━━━━━━━━━━━━━━\u001b[0m \u001b[32m19.4/19.4 MB\u001b[0m \u001b[31m45.9 MB/s\u001b[0m eta \u001b[36m0:00:00\u001b[0m\n",
            "\u001b[?25hCollecting JPype1>=0.7.0\n",
            "  Downloading JPype1-1.4.1-cp38-cp38-manylinux_2_12_x86_64.manylinux2010_x86_64.whl (465 kB)\n",
            "\u001b[2K     \u001b[90m━━━━━━━━━━━━━━━━━━━━━━━━━━━━━━━━━━━━━━\u001b[0m \u001b[32m465.6/465.6 KB\u001b[0m \u001b[31m40.2 MB/s\u001b[0m eta \u001b[36m0:00:00\u001b[0m\n",
            "\u001b[?25hRequirement already satisfied: lxml>=4.1.0 in /usr/local/lib/python3.8/dist-packages (from konlpy) (4.9.2)\n",
            "Requirement already satisfied: numpy>=1.6 in /usr/local/lib/python3.8/dist-packages (from konlpy) (1.22.4)\n",
            "Requirement already satisfied: packaging in /usr/local/lib/python3.8/dist-packages (from JPype1>=0.7.0->konlpy) (23.0)\n",
            "Installing collected packages: JPype1, konlpy\n",
            "Successfully installed JPype1-1.4.1 konlpy-0.6.0\n"
          ]
        }
      ]
    },
    {
      "cell_type": "markdown",
      "source": [
        "## 결측치, 불용어 제거(1)"
      ],
      "metadata": {
        "id": "3ly4VSB9XVJo"
      }
    },
    {
      "cell_type": "code",
      "source": [
        "np.sum(train.isnull())"
      ],
      "metadata": {
        "colab": {
          "base_uri": "https://localhost:8080/"
        },
        "id": "NUXlMp_fXSLb",
        "outputId": "324d8923-e965-4e5d-ed94-6a9f31e8da27"
      },
      "execution_count": null,
      "outputs": [
        {
          "output_type": "execute_result",
          "data": {
            "text/plain": [
              "index       0\n",
              "category    0\n",
              "data        8\n",
              "dtype: int64"
            ]
          },
          "metadata": {},
          "execution_count": 6
        }
      ]
    },
    {
      "cell_type": "code",
      "source": [
        "train.dropna(axis=0, inplace=True)"
      ],
      "metadata": {
        "id": "_TxxcZ7TXoi3"
      },
      "execution_count": null,
      "outputs": []
    },
    {
      "cell_type": "code",
      "source": [
        "np.sum(test.isnull())"
      ],
      "metadata": {
        "colab": {
          "base_uri": "https://localhost:8080/"
        },
        "id": "1jX7BHHzXqlc",
        "outputId": "b58e2070-5aa5-4105-b551-04812621c774"
      },
      "execution_count": null,
      "outputs": [
        {
          "output_type": "execute_result",
          "data": {
            "text/plain": [
              "index    0\n",
              "data     0\n",
              "dtype: int64"
            ]
          },
          "metadata": {},
          "execution_count": 8
        }
      ]
    },
    {
      "cell_type": "code",
      "source": [
        "train['data'] = train['data'].str.replace(\"[^ㄱ-ㅎㅏ-ㅣ가-힣 ]\",\"\")\n",
        "test['data'] = test['data'].str.replace(\"[^ㄱ-ㅎㅏ-ㅣ가-힣 ]\",\"\")\n",
        "\n",
        "# 특수문자 제거\n",
        "train['data'] = train['data'].str.replace(r'[-=+,#/\\?:^$.@*\\\"※~&%ㆍ!』\\\\‘|\\(\\)\\[\\]\\<\\>`\\'…》\\\\n\\t]+', \" \", regex=True)\n",
        "test['data'] = test['data'].str.replace(r'[-=+,#/\\?:^$.@*\\\"※~&%ㆍ!』\\\\‘|\\(\\)\\[\\]\\<\\>`\\'…》]', \" \", regex=True)\n",
        "train['data'] = train['data'].str.replace(r'\\t+', \" \", regex=True)\n",
        "test['data'] = test['data'].str.replace(r'\\t+', \" \", regex=True)\n",
        "train['data'] = train['data'].str.replace(r'[\\\\n]+',\" \", regex=True)\n",
        "test['data'] = test['data'].str.replace(r'[\\\\n]+',\" \", regex=True)"
      ],
      "metadata": {
        "colab": {
          "base_uri": "https://localhost:8080/"
        },
        "id": "HoSZ4nngXty5",
        "outputId": "d9bd5794-a7fc-4853-94d9-3734882c2904"
      },
      "execution_count": null,
      "outputs": [
        {
          "output_type": "stream",
          "name": "stderr",
          "text": [
            "<ipython-input-9-709a20f71fbe>:1: FutureWarning: The default value of regex will change from True to False in a future version.\n",
            "  train['data'] = train['data'].str.replace(\"[^ㄱ-ㅎㅏ-ㅣ가-힣 ]\",\"\")\n",
            "<ipython-input-9-709a20f71fbe>:2: FutureWarning: The default value of regex will change from True to False in a future version.\n",
            "  test['data'] = test['data'].str.replace(\"[^ㄱ-ㅎㅏ-ㅣ가-힣 ]\",\"\")\n"
          ]
        }
      ]
    },
    {
      "cell_type": "markdown",
      "source": [
        "## 필요없는 문장(짧은 문장) 제거"
      ],
      "metadata": {
        "id": "esyteh6sYgyi"
      }
    },
    {
      "cell_type": "code",
      "source": [
        "## 가장 짧은 문장은 삭제(길이=1)\n",
        "pop_index = list(np.where(train['data'].apply(len)==1)[0])"
      ],
      "metadata": {
        "id": "YbHi05uJX_UM"
      },
      "execution_count": null,
      "outputs": []
    },
    {
      "cell_type": "code",
      "source": [
        "train.drop(pop_index,inplace=True)\n",
        "train.reset_index(inplace=True,drop=True)"
      ],
      "metadata": {
        "id": "Uo2UkvP3Yl8N"
      },
      "execution_count": null,
      "outputs": []
    },
    {
      "cell_type": "code",
      "source": [
        "## 그 다음으로 짧은 문장 삭제(길이=3)\n",
        "pop_index = list(np.where(train['data'].apply(len)==3)[0])\n",
        "train.drop(pop_index,inplace=True)\n",
        "train.reset_index(inplace=True,drop=True)"
      ],
      "metadata": {
        "id": "tDRmlbgfYnch"
      },
      "execution_count": null,
      "outputs": []
    },
    {
      "cell_type": "code",
      "source": [
        "print('train data의 최소 길이 : ', min(map(len, train['data'])))\n",
        "print('train data의 최대 길이 : ', max(map(len, train['data'])))\n",
        "print('train data의 평균 길이 : ', sum(map(len, train['data'])) / len(train['data']))\n",
        "plt.hist([len(s) for s in train['data']], bins=50)\n",
        "plt.xlabel('length of samples')\n",
        "plt.ylabel('number of samples')\n",
        "plt.show()"
      ],
      "metadata": {
        "colab": {
          "base_uri": "https://localhost:8080/",
          "height": 333
        },
        "id": "jRAAjsiJrER-",
        "outputId": "f20c70d5-589b-42fd-ee5a-774a2c5adfad"
      },
      "execution_count": null,
      "outputs": [
        {
          "output_type": "stream",
          "name": "stdout",
          "text": [
            "train data의 최소 길이 :  5\n",
            "train data의 최대 길이 :  28481\n",
            "train data의 평균 길이 :  499.7098871964183\n"
          ]
        },
        {
          "output_type": "display_data",
          "data": {
            "text/plain": [
              "<Figure size 432x288 with 1 Axes>"
            ],
            "image/png": "[encoded data removed]"
          },
          "metadata": {
            "needs_background": "light"
          }
        }
      ]
    },
    {
      "cell_type": "code",
      "source": [
        "print('test data의 최소 길이 : ', min(map(len, test['data'])))\n",
        "print('test data의 최대 길이 : ', max(map(len, test['data'])))\n",
        "print('test data의 평균 길이 : ', sum(map(len, test['data'])) / len(test['data']))\n",
        "plt.hist([len(s) for s in test['data']], bins=50)\n",
        "plt.xlabel('length of samples')\n",
        "plt.ylabel('number of samples')\n",
        "plt.show()"
      ],
      "metadata": {
        "colab": {
          "base_uri": "https://localhost:8080/",
          "height": 334
        },
        "id": "KTzGc8lQrGJ_",
        "outputId": "01e08505-4b6b-4494-a0a8-157a9d391f2a"
      },
      "execution_count": null,
      "outputs": [
        {
          "output_type": "stream",
          "name": "stdout",
          "text": [
            "test data의 최소 길이 :  8\n",
            "test data의 최대 길이 :  22394\n",
            "test data의 평균 길이 :  502.223\n"
          ]
        },
        {
          "output_type": "display_data",
          "data": {
            "text/plain": [
              "<Figure size 432x288 with 1 Axes>"
            ],
            "image/png": "[encoded data removed]"
          },
          "metadata": {
            "needs_background": "light"
          }
        }
      ]
    },
    {
      "cell_type": "markdown",
      "source": [
        "# -----여기까지 하고 LDA 토픽 모델링(NEW) --------"
      ],
      "metadata": {
        "id": "h8sqmmA5A_Wx"
      }
    },
    {
      "cell_type": "markdown",
      "source": [
        "## 형태소 추출\n",
        "- 일반명사, 고유명사, 형용사, 동사, 어근  \n",
        "- 잘 안되면 길이 1 이상 되는 애들만 추출"
      ],
      "metadata": {
        "id": "wEBklzxuYwFR"
      }
    },
    {
      "cell_type": "code",
      "source": [
        "train2 = train[train['category']==2]\n",
        "train1 = train[train['category']==1]\n",
        "train0 = train[train['category']==0]"
      ],
      "metadata": {
        "id": "SKgs7HqDZauj"
      },
      "execution_count": null,
      "outputs": []
    },
    {
      "cell_type": "code",
      "source": [
        "train2.reset_index(inplace=True,drop=True)\n",
        "train1.reset_index(inplace=True,drop=True)\n",
        "train0.reset_index(inplace=True,drop=True)"
      ],
      "metadata": {
        "id": "hRjlcBRoZbdS"
      },
      "execution_count": null,
      "outputs": []
    },
    {
      "cell_type": "markdown",
      "source": [
        "### 모든 train data"
      ],
      "metadata": {
        "id": "m66frUtNYytb"
      }
    },
    {
      "cell_type": "code",
      "source": [
        "from konlpy.tag import Mecab"
      ],
      "metadata": {
        "id": "vReykeEpZDv-"
      },
      "execution_count": null,
      "outputs": []
    },
    {
      "cell_type": "code",
      "source": [
        "train_word = []\n",
        "\n",
        "for document in train['data']:\n",
        "    mecab = Mecab()\n",
        "    for word in mecab.pos(document):\n",
        "        if word[1] in ['NNG', 'NNP', 'VA', 'VV', 'XR']: #일반명사, 고유명사, 형용사, 동사, 어근\n",
        "            train_word.append(word[0])"
      ],
      "metadata": {
        "id": "no68ImsCYolB"
      },
      "execution_count": null,
      "outputs": []
    },
    {
      "cell_type": "code",
      "source": [
        "with gzip.open('train_word.pickle', 'wb') as f:\n",
        "    pickle.dump(train_word, f)"
      ],
      "metadata": {
        "id": "d_357Gkwaohq"
      },
      "execution_count": null,
      "outputs": []
    },
    {
      "cell_type": "markdown",
      "source": [
        "### category = 0 (인권/성평등)"
      ],
      "metadata": {
        "id": "iXOOjBj0ZHFp"
      }
    },
    {
      "cell_type": "code",
      "source": [
        "train0_word = []\n",
        "\n",
        "for document in train0['data']:\n",
        "    mecab = Mecab()\n",
        "    for word in mecab.pos(document):\n",
        "        if word[1] in ['NNG', 'NNP', 'VA', 'VV' 'XR']: #일반명사, 고유명사, 형용사, 동사, 어근\n",
        "            train0_word.append(word[0])"
      ],
      "metadata": {
        "id": "Ron_uhr7ZPVm"
      },
      "execution_count": null,
      "outputs": []
    },
    {
      "cell_type": "code",
      "source": [
        "# Counter(train0_word).most_common(100)"
      ],
      "metadata": {
        "id": "r0byCc8MaTXm"
      },
      "execution_count": null,
      "outputs": []
    },
    {
      "cell_type": "code",
      "source": [
        "remove_set = {'하','있','것','수','그','이','때','거','가','때문','왜','들','또','다'}\n",
        "train0_word = [i for i in train0_word if i not in remove_set]"
      ],
      "metadata": {
        "id": "I8I7YpDxaVBu"
      },
      "execution_count": null,
      "outputs": []
    },
    {
      "cell_type": "code",
      "source": [
        "with gzip.open('train0_word.pickle', 'wb') as f:\n",
        "    pickle.dump(train0_word, f)"
      ],
      "metadata": {
        "id": "ZaeIj1EeaZ-6"
      },
      "execution_count": null,
      "outputs": []
    },
    {
      "cell_type": "markdown",
      "source": [
        "### category = 1 (문화/예술/체육/언론)"
      ],
      "metadata": {
        "id": "ZDMGQGhAZeqS"
      }
    },
    {
      "cell_type": "code",
      "source": [
        "train1_word = []\n",
        "\n",
        "for document in train1['data']:\n",
        "    mecab = Mecab()\n",
        "    for word in mecab.pos(document):\n",
        "        if word[1] in ['NNG', 'NNP', 'VA', 'VV', 'XR'] : #일반명사, 고유명사, 형용사, 동사, 어근\n",
        "            train1_word.append(word[0])"
      ],
      "metadata": {
        "id": "viDjiCxsZhtL"
      },
      "execution_count": null,
      "outputs": []
    },
    {
      "cell_type": "code",
      "source": [
        "remove_set = {'하','있','것','수','그','이','때','거','가','때문','왜','들','또','다'}\n",
        "\n",
        "train1_word = [i for i in train1_word if i not in remove_set]"
      ],
      "metadata": {
        "id": "MDERIgNTaCQ0"
      },
      "execution_count": null,
      "outputs": []
    },
    {
      "cell_type": "code",
      "source": [
        "with gzip.open('train1_word.pickle', 'wb') as f:\n",
        "    pickle.dump(train1_word, f)"
      ],
      "metadata": {
        "id": "LKHbgztSaL0M"
      },
      "execution_count": null,
      "outputs": []
    },
    {
      "cell_type": "markdown",
      "source": [
        "### category = 2 (육아/교육)"
      ],
      "metadata": {
        "id": "nr-6gBk7Zm8j"
      }
    },
    {
      "cell_type": "code",
      "source": [
        "train2_word = []\n",
        "\n",
        "for document in train2['data']:\n",
        "    mecab = Mecab()\n",
        "    for word in mecab.pos(document):\n",
        "        if word[1] in ['NNG', 'NNP', 'VA', 'VV', 'XR']: #일반명사, 고유명사, 형용사, 동사, 어근\n",
        "            train2_word.append(word[0])"
      ],
      "metadata": {
        "id": "G2mffw15ZmUg"
      },
      "execution_count": null,
      "outputs": []
    },
    {
      "cell_type": "code",
      "source": [
        "remove_set = {'하','있','것','수','그','이','때','거','가','때문','왜','들','또'}\n",
        "\n",
        "train2_word = [i for i in train2_word if i not in remove_set]"
      ],
      "metadata": {
        "id": "Bk3FMPbSZyZ4"
      },
      "execution_count": null,
      "outputs": []
    },
    {
      "cell_type": "code",
      "source": [
        "with gzip.open('train2_word.pickle', 'wb') as f:\n",
        "    pickle.dump(train2_word, f)"
      ],
      "metadata": {
        "id": "vqs7SDx9Z_u9"
      },
      "execution_count": null,
      "outputs": []
    },
    {
      "cell_type": "markdown",
      "source": [
        "## 형태소 추출(명사만)"
      ],
      "metadata": {
        "id": "EottOtYWKF3R"
      }
    },
    {
      "cell_type": "markdown",
      "source": [
        "### 모든 train data"
      ],
      "metadata": {
        "id": "DTo6ryEGKLOF"
      }
    },
    {
      "cell_type": "code",
      "source": [
        "from konlpy.tag import Mecab"
      ],
      "metadata": {
        "id": "89vsvTk4KFFX"
      },
      "execution_count": null,
      "outputs": []
    },
    {
      "cell_type": "code",
      "source": [
        "train_word = []\n",
        "\n",
        "for document in train['data']:\n",
        "    mecab = Mecab()\n",
        "    word = mecab.nouns(document)\n",
        "    train_word.append(word)"
      ],
      "metadata": {
        "id": "G6cJR9dQLd14"
      },
      "execution_count": null,
      "outputs": []
    },
    {
      "cell_type": "code",
      "source": [
        "train_noun = []\n",
        "\n",
        "for i in range(len(train_word)):\n",
        "  train_noun += train_word[i]\n",
        "\n",
        "train_word = train_noun"
      ],
      "metadata": {
        "id": "pYDz9z_BM-5j"
      },
      "execution_count": null,
      "outputs": []
    },
    {
      "cell_type": "code",
      "source": [
        "remove_set = {'것','수','말','저','등','이','때','제','게','중','거','그','때문','분','원','경우','만','명','내','후','건','월','전','부','나','하나','저희','년'}\n",
        "\n",
        "train_word = [i for i in train_word if i not in remove_set]"
      ],
      "metadata": {
        "id": "AjPdtnn3Ld8x"
      },
      "execution_count": null,
      "outputs": []
    },
    {
      "cell_type": "markdown",
      "source": [
        "### category = 0 (인권/성평등)"
      ],
      "metadata": {
        "id": "gYKVoQLdL771"
      }
    },
    {
      "cell_type": "code",
      "source": [
        "train0_word = []\n",
        "\n",
        "for document in train0['data']:\n",
        "    mecab = Mecab()\n",
        "    word = mecab.nouns(document)\n",
        "    train0_word.append(word)"
      ],
      "metadata": {
        "id": "EcxcJVFYLd_T"
      },
      "execution_count": null,
      "outputs": []
    },
    {
      "cell_type": "code",
      "source": [
        "train0_word_list = []\n",
        "train0_word_list = train0_word\n",
        "\n",
        "train0_noun = []\n",
        "\n",
        "for i in range(len(train0_word)):\n",
        "  train0_noun += train0_word[i]\n",
        "\n",
        "train0_word = train0_noun"
      ],
      "metadata": {
        "id": "EMavebW5Na5Q"
      },
      "execution_count": null,
      "outputs": []
    },
    {
      "cell_type": "code",
      "source": [
        "remove_set = {'것','수','말','저','등','이','때','제','게','중','거','그','때문','분','원','경우','만','명','내','후','건','월','전','부','나','하나','저희','년'}\n",
        "\n",
        "train0_word = [i for i in train0_word if i not in remove_set]"
      ],
      "metadata": {
        "id": "8LvMR3pRLeCD"
      },
      "execution_count": null,
      "outputs": []
    },
    {
      "cell_type": "markdown",
      "source": [
        "### category = 1 (문화/예술/체육/언론)"
      ],
      "metadata": {
        "id": "ikkiFhIcMLpd"
      }
    },
    {
      "cell_type": "code",
      "source": [
        "train1_word = []\n",
        "\n",
        "for document in train1['data']:\n",
        "    mecab = Mecab()\n",
        "    word = mecab.nouns(document)\n",
        "    train1_word.append(word)"
      ],
      "metadata": {
        "id": "MRqbSSLwLeE7"
      },
      "execution_count": null,
      "outputs": []
    },
    {
      "cell_type": "code",
      "source": [
        "train1_noun = []\n",
        "\n",
        "for i in range(len(train1_word)):\n",
        "  train1_noun += train1_word[i]\n",
        "\n",
        "train1_word = train1_noun"
      ],
      "metadata": {
        "id": "TTT50c72Nk8m"
      },
      "execution_count": null,
      "outputs": []
    },
    {
      "cell_type": "code",
      "source": [
        "remove_set = {'것','수','일','년','등','이','저','때','거','원','게','중','그','분','만','번','전','건','제','명','월','데','년'}\n",
        "\n",
        "train1_word = [i for i in train1_word if i not in remove_set]"
      ],
      "metadata": {
        "id": "tKI54mg6MUGy"
      },
      "execution_count": null,
      "outputs": []
    },
    {
      "cell_type": "markdown",
      "source": [
        "### category = 2 (육아/교육)"
      ],
      "metadata": {
        "id": "D1Ifn_xUMaSE"
      }
    },
    {
      "cell_type": "code",
      "source": [
        "train2_word = []\n",
        "\n",
        "for document in train2['data']:\n",
        "    mecab = Mecab()\n",
        "    word = mecab.nouns(document)\n",
        "    train2_word.append(word)"
      ],
      "metadata": {
        "id": "TsXq8VpYMjo_"
      },
      "execution_count": null,
      "outputs": []
    },
    {
      "cell_type": "code",
      "source": [
        "train2_noun = []\n",
        "\n",
        "for i in range(len(train2_word)):\n",
        "  train2_noun += train2_word[i]\n",
        "\n",
        "train2_word = train2_noun"
      ],
      "metadata": {
        "id": "nOwvlEuuNoDs"
      },
      "execution_count": null,
      "outputs": []
    },
    {
      "cell_type": "code",
      "source": [
        "remove_set = {'것','수','일','저','년','등','때','중','원','거','때문','이','게','만','후','명','번','분','월','전','데','년'}\n",
        "\n",
        "train2_word = [i for i in train2_word if i not in remove_set]"
      ],
      "metadata": {
        "id": "3yuXp5MuMdOC"
      },
      "execution_count": null,
      "outputs": []
    },
    {
      "cell_type": "markdown",
      "source": [
        "# LDA 토픽 모델링 -- 수정 필요(질문)\n",
        "- **Q. 명사만 뽑는 게 나을까?**  \n",
        "- 일반명사, 고유명사, 형용사, 동사, 어근\n",
        "- **아래 블로그를 그대로 따라한 거라 코드 수정해야 함!**\n",
        "- 참고 : [링크1](https://heytech.tistory.com/401), [링크2](https://velog.io/@mare-solis/LDA-%ED%86%A0%ED%94%BD-%EB%AA%A8%EB%8D%B8%EB%A7%81%EC%9C%BC%EB%A1%9C-%EC%BD%98%ED%85%90%EC%B8%A0-%EB%A6%AC%EB%B7%B0%EB%A5%BC-%EB%B6%84%EC%84%9D%ED%95%98%EC%9E%90)\n"
      ],
      "metadata": {
        "id": "x0tqNyWiauS9"
      }
    },
    {
      "cell_type": "code",
      "source": [
        "!pip install pyLDAvis"
      ],
      "metadata": {
        "colab": {
          "base_uri": "https://localhost:8080/"
        },
        "id": "-_ub285kcaok",
        "outputId": "7b7a3e7f-dc05-48fe-e737-0a0dfc2610a9"
      },
      "execution_count": null,
      "outputs": [
        {
          "output_type": "stream",
          "name": "stdout",
          "text": [
            "Looking in indexes: https://pypi.org/simple, https://us-python.pkg.dev/colab-wheels/public/simple/\n",
            "Collecting pyLDAvis\n",
            "  Downloading pyLDAvis-3.4.0-py3-none-any.whl (2.6 MB)\n",
            "\u001b[2K     \u001b[90m━━━━━━━━━━━━━━━━━━━━━━━━━━━━━━━━━━━━━━━━\u001b[0m \u001b[32m2.6/2.6 MB\u001b[0m \u001b[31m51.9 MB/s\u001b[0m eta \u001b[36m0:00:00\u001b[0m\n",
            "\u001b[?25hRequirement already satisfied: gensim in /usr/local/lib/python3.8/dist-packages (from pyLDAvis) (3.6.0)\n",
            "Requirement already satisfied: numexpr in /usr/local/lib/python3.8/dist-packages (from pyLDAvis) (2.8.4)\n",
            "Requirement already satisfied: scikit-learn>=1.0.0 in /usr/local/lib/python3.8/dist-packages (from pyLDAvis) (1.0.2)\n",
            "Requirement already satisfied: joblib>=1.2.0 in /usr/local/lib/python3.8/dist-packages (from pyLDAvis) (1.2.0)\n",
            "Requirement already satisfied: scipy in /usr/local/lib/python3.8/dist-packages (from pyLDAvis) (1.7.3)\n",
            "Requirement already satisfied: numpy>=1.22.0 in /usr/local/lib/python3.8/dist-packages (from pyLDAvis) (1.22.4)\n",
            "Requirement already satisfied: pandas>=1.3.4 in /usr/local/lib/python3.8/dist-packages (from pyLDAvis) (1.3.5)\n",
            "Collecting funcy\n",
            "  Downloading funcy-1.18-py2.py3-none-any.whl (33 kB)\n",
            "Requirement already satisfied: setuptools in /usr/local/lib/python3.8/dist-packages (from pyLDAvis) (57.4.0)\n",
            "Requirement already satisfied: jinja2 in /usr/local/lib/python3.8/dist-packages (from pyLDAvis) (2.11.3)\n",
            "Requirement already satisfied: pytz>=2017.3 in /usr/local/lib/python3.8/dist-packages (from pandas>=1.3.4->pyLDAvis) (2022.7.1)\n",
            "Requirement already satisfied: python-dateutil>=2.7.3 in /usr/local/lib/python3.8/dist-packages (from pandas>=1.3.4->pyLDAvis) (2.8.2)\n",
            "Requirement already satisfied: threadpoolctl>=2.0.0 in /usr/local/lib/python3.8/dist-packages (from scikit-learn>=1.0.0->pyLDAvis) (3.1.0)\n",
            "Requirement already satisfied: smart-open>=1.2.1 in /usr/local/lib/python3.8/dist-packages (from gensim->pyLDAvis) (6.3.0)\n",
            "Requirement already satisfied: six>=1.5.0 in /usr/local/lib/python3.8/dist-packages (from gensim->pyLDAvis) (1.15.0)\n",
            "Requirement already satisfied: MarkupSafe>=0.23 in /usr/local/lib/python3.8/dist-packages (from jinja2->pyLDAvis) (2.0.1)\n",
            "Installing collected packages: funcy, pyLDAvis\n",
            "Successfully installed funcy-1.18 pyLDAvis-3.4.0\n"
          ]
        }
      ]
    },
    {
      "cell_type": "code",
      "source": [
        "from gensim import corpora # 단어 빈도수 계산 패키지\n",
        "import gensim # LDA 모델 활용 목적\n",
        "import pyLDAvis\n",
        "import pyLDAvis.gensim_models as gensimvis # LDA 시각화용 패키지"
      ],
      "metadata": {
        "id": "9gzO2X41avsO"
      },
      "execution_count": null,
      "outputs": []
    },
    {
      "cell_type": "code",
      "source": [
        "NUM_TOPICS = 3 # 토픽 개수는 하이퍼파라미터\n",
        "# NUM_TOPICS = 5\n",
        "\n",
        "# passes: 딥러닝에서 Epoch와 같은 개념으로, 전체 corpus로 모델 학습 횟수 결정\n",
        "PASSES = 15"
      ],
      "metadata": {
        "id": "msz-ks_Qa8f1"
      },
      "execution_count": null,
      "outputs": []
    },
    {
      "cell_type": "code",
      "source": [
        "from scipy.sparse.construct import numbers\n",
        "def lda_modeling(review_prep, num):\n",
        "    # 단어 인코딩 및 빈도수 계산\n",
        "    dictionary = corpora.Dictionary(review_prep)\n",
        "    corpus = [dictionary.doc2bow(review) for review in review_prep]\n",
        "\n",
        "    # LDA 모델 학습\n",
        "    model = gensim.models.ldamodel.LdaModel(corpus,\n",
        "                                            num_topics = num,  # num -> NUM_TOPICS\n",
        "                                            id2word = dictionary,\n",
        "                                            passes = PASSES)\n",
        "    return model, corpus, dictionary"
      ],
      "metadata": {
        "id": "mmIKLRDCbA18"
      },
      "execution_count": null,
      "outputs": []
    },
    {
      "cell_type": "code",
      "source": [
        "def print_topic_prop(topics, num):\n",
        "    topic_values = []\n",
        "    for topic in topics:\n",
        "        topic_value = topic[1]\n",
        "        topic_values.append(topic_value)\n",
        "    topic_prop = pd.DataFrame({\"topic_num\" : list(range(1, num + 1)), \"word_prop\": topic_values}) # num -> NUM_TOPCIS\n",
        "    return topic_prop"
      ],
      "metadata": {
        "id": "PEvg-X6YbBfE"
      },
      "execution_count": null,
      "outputs": []
    },
    {
      "cell_type": "code",
      "source": [
        "model0, corpus0, dictionary0 = lda_modeling([train0_word],5)\n",
        "model1, corpus1, dictionary1 = lda_modeling([train1_word],5)\n",
        "model2, corpus2, dictionary2 = lda_modeling([train2_word],5)"
      ],
      "metadata": {
        "colab": {
          "base_uri": "https://localhost:8080/"
        },
        "id": "uUAoa3-pbN0C",
        "outputId": "9f80a085-09aa-449b-9abe-428aff0a3fec"
      },
      "execution_count": null,
      "outputs": [
        {
          "output_type": "stream",
          "name": "stderr",
          "text": [
            "/usr/local/lib/python3.8/dist-packages/gensim/models/ldamodel.py:1077: DeprecationWarning: Calling np.sum(generator) is deprecated, and in the future will give a different result. Use np.sum(np.fromiter(generator)) or the python sum builtin instead.\n",
            "  score += np.sum(cnt * logsumexp(Elogthetad + Elogbeta[:, int(id)]) for id, cnt in doc)\n",
            "/usr/local/lib/python3.8/dist-packages/gensim/models/ldamodel.py:1077: DeprecationWarning: Calling np.sum(generator) is deprecated, and in the future will give a different result. Use np.sum(np.fromiter(generator)) or the python sum builtin instead.\n",
            "  score += np.sum(cnt * logsumexp(Elogthetad + Elogbeta[:, int(id)]) for id, cnt in doc)\n",
            "/usr/local/lib/python3.8/dist-packages/gensim/models/ldamodel.py:1077: DeprecationWarning: Calling np.sum(generator) is deprecated, and in the future will give a different result. Use np.sum(np.fromiter(generator)) or the python sum builtin instead.\n",
            "  score += np.sum(cnt * logsumexp(Elogthetad + Elogbeta[:, int(id)]) for id, cnt in doc)\n",
            "/usr/local/lib/python3.8/dist-packages/gensim/models/ldamodel.py:1077: DeprecationWarning: Calling np.sum(generator) is deprecated, and in the future will give a different result. Use np.sum(np.fromiter(generator)) or the python sum builtin instead.\n",
            "  score += np.sum(cnt * logsumexp(Elogthetad + Elogbeta[:, int(id)]) for id, cnt in doc)\n",
            "/usr/local/lib/python3.8/dist-packages/gensim/models/ldamodel.py:1077: DeprecationWarning: Calling np.sum(generator) is deprecated, and in the future will give a different result. Use np.sum(np.fromiter(generator)) or the python sum builtin instead.\n",
            "  score += np.sum(cnt * logsumexp(Elogthetad + Elogbeta[:, int(id)]) for id, cnt in doc)\n",
            "/usr/local/lib/python3.8/dist-packages/gensim/models/ldamodel.py:1077: DeprecationWarning: Calling np.sum(generator) is deprecated, and in the future will give a different result. Use np.sum(np.fromiter(generator)) or the python sum builtin instead.\n",
            "  score += np.sum(cnt * logsumexp(Elogthetad + Elogbeta[:, int(id)]) for id, cnt in doc)\n",
            "/usr/local/lib/python3.8/dist-packages/gensim/models/ldamodel.py:1077: DeprecationWarning: Calling np.sum(generator) is deprecated, and in the future will give a different result. Use np.sum(np.fromiter(generator)) or the python sum builtin instead.\n",
            "  score += np.sum(cnt * logsumexp(Elogthetad + Elogbeta[:, int(id)]) for id, cnt in doc)\n",
            "/usr/local/lib/python3.8/dist-packages/gensim/models/ldamodel.py:1077: DeprecationWarning: Calling np.sum(generator) is deprecated, and in the future will give a different result. Use np.sum(np.fromiter(generator)) or the python sum builtin instead.\n",
            "  score += np.sum(cnt * logsumexp(Elogthetad + Elogbeta[:, int(id)]) for id, cnt in doc)\n",
            "/usr/local/lib/python3.8/dist-packages/gensim/models/ldamodel.py:1077: DeprecationWarning: Calling np.sum(generator) is deprecated, and in the future will give a different result. Use np.sum(np.fromiter(generator)) or the python sum builtin instead.\n",
            "  score += np.sum(cnt * logsumexp(Elogthetad + Elogbeta[:, int(id)]) for id, cnt in doc)\n",
            "/usr/local/lib/python3.8/dist-packages/gensim/models/ldamodel.py:1077: DeprecationWarning: Calling np.sum(generator) is deprecated, and in the future will give a different result. Use np.sum(np.fromiter(generator)) or the python sum builtin instead.\n",
            "  score += np.sum(cnt * logsumexp(Elogthetad + Elogbeta[:, int(id)]) for id, cnt in doc)\n",
            "/usr/local/lib/python3.8/dist-packages/gensim/models/ldamodel.py:1077: DeprecationWarning: Calling np.sum(generator) is deprecated, and in the future will give a different result. Use np.sum(np.fromiter(generator)) or the python sum builtin instead.\n",
            "  score += np.sum(cnt * logsumexp(Elogthetad + Elogbeta[:, int(id)]) for id, cnt in doc)\n",
            "/usr/local/lib/python3.8/dist-packages/gensim/models/ldamodel.py:1077: DeprecationWarning: Calling np.sum(generator) is deprecated, and in the future will give a different result. Use np.sum(np.fromiter(generator)) or the python sum builtin instead.\n",
            "  score += np.sum(cnt * logsumexp(Elogthetad + Elogbeta[:, int(id)]) for id, cnt in doc)\n",
            "/usr/local/lib/python3.8/dist-packages/gensim/models/ldamodel.py:1077: DeprecationWarning: Calling np.sum(generator) is deprecated, and in the future will give a different result. Use np.sum(np.fromiter(generator)) or the python sum builtin instead.\n",
            "  score += np.sum(cnt * logsumexp(Elogthetad + Elogbeta[:, int(id)]) for id, cnt in doc)\n",
            "/usr/local/lib/python3.8/dist-packages/gensim/models/ldamodel.py:1077: DeprecationWarning: Calling np.sum(generator) is deprecated, and in the future will give a different result. Use np.sum(np.fromiter(generator)) or the python sum builtin instead.\n",
            "  score += np.sum(cnt * logsumexp(Elogthetad + Elogbeta[:, int(id)]) for id, cnt in doc)\n",
            "/usr/local/lib/python3.8/dist-packages/gensim/models/ldamodel.py:1077: DeprecationWarning: Calling np.sum(generator) is deprecated, and in the future will give a different result. Use np.sum(np.fromiter(generator)) or the python sum builtin instead.\n",
            "  score += np.sum(cnt * logsumexp(Elogthetad + Elogbeta[:, int(id)]) for id, cnt in doc)\n",
            "/usr/local/lib/python3.8/dist-packages/gensim/models/ldamodel.py:1077: DeprecationWarning: Calling np.sum(generator) is deprecated, and in the future will give a different result. Use np.sum(np.fromiter(generator)) or the python sum builtin instead.\n",
            "  score += np.sum(cnt * logsumexp(Elogthetad + Elogbeta[:, int(id)]) for id, cnt in doc)\n",
            "/usr/local/lib/python3.8/dist-packages/gensim/models/ldamodel.py:1077: DeprecationWarning: Calling np.sum(generator) is deprecated, and in the future will give a different result. Use np.sum(np.fromiter(generator)) or the python sum builtin instead.\n",
            "  score += np.sum(cnt * logsumexp(Elogthetad + Elogbeta[:, int(id)]) for id, cnt in doc)\n",
            "/usr/local/lib/python3.8/dist-packages/gensim/models/ldamodel.py:1077: DeprecationWarning: Calling np.sum(generator) is deprecated, and in the future will give a different result. Use np.sum(np.fromiter(generator)) or the python sum builtin instead.\n",
            "  score += np.sum(cnt * logsumexp(Elogthetad + Elogbeta[:, int(id)]) for id, cnt in doc)\n",
            "/usr/local/lib/python3.8/dist-packages/gensim/models/ldamodel.py:1077: DeprecationWarning: Calling np.sum(generator) is deprecated, and in the future will give a different result. Use np.sum(np.fromiter(generator)) or the python sum builtin instead.\n",
            "  score += np.sum(cnt * logsumexp(Elogthetad + Elogbeta[:, int(id)]) for id, cnt in doc)\n",
            "/usr/local/lib/python3.8/dist-packages/gensim/models/ldamodel.py:1077: DeprecationWarning: Calling np.sum(generator) is deprecated, and in the future will give a different result. Use np.sum(np.fromiter(generator)) or the python sum builtin instead.\n",
            "  score += np.sum(cnt * logsumexp(Elogthetad + Elogbeta[:, int(id)]) for id, cnt in doc)\n",
            "/usr/local/lib/python3.8/dist-packages/gensim/models/ldamodel.py:1077: DeprecationWarning: Calling np.sum(generator) is deprecated, and in the future will give a different result. Use np.sum(np.fromiter(generator)) or the python sum builtin instead.\n",
            "  score += np.sum(cnt * logsumexp(Elogthetad + Elogbeta[:, int(id)]) for id, cnt in doc)\n",
            "/usr/local/lib/python3.8/dist-packages/gensim/models/ldamodel.py:1077: DeprecationWarning: Calling np.sum(generator) is deprecated, and in the future will give a different result. Use np.sum(np.fromiter(generator)) or the python sum builtin instead.\n",
            "  score += np.sum(cnt * logsumexp(Elogthetad + Elogbeta[:, int(id)]) for id, cnt in doc)\n",
            "/usr/local/lib/python3.8/dist-packages/gensim/models/ldamodel.py:1077: DeprecationWarning: Calling np.sum(generator) is deprecated, and in the future will give a different result. Use np.sum(np.fromiter(generator)) or the python sum builtin instead.\n",
            "  score += np.sum(cnt * logsumexp(Elogthetad + Elogbeta[:, int(id)]) for id, cnt in doc)\n",
            "/usr/local/lib/python3.8/dist-packages/gensim/models/ldamodel.py:1077: DeprecationWarning: Calling np.sum(generator) is deprecated, and in the future will give a different result. Use np.sum(np.fromiter(generator)) or the python sum builtin instead.\n",
            "  score += np.sum(cnt * logsumexp(Elogthetad + Elogbeta[:, int(id)]) for id, cnt in doc)\n",
            "/usr/local/lib/python3.8/dist-packages/gensim/models/ldamodel.py:1077: DeprecationWarning: Calling np.sum(generator) is deprecated, and in the future will give a different result. Use np.sum(np.fromiter(generator)) or the python sum builtin instead.\n",
            "  score += np.sum(cnt * logsumexp(Elogthetad + Elogbeta[:, int(id)]) for id, cnt in doc)\n",
            "/usr/local/lib/python3.8/dist-packages/gensim/models/ldamodel.py:1077: DeprecationWarning: Calling np.sum(generator) is deprecated, and in the future will give a different result. Use np.sum(np.fromiter(generator)) or the python sum builtin instead.\n",
            "  score += np.sum(cnt * logsumexp(Elogthetad + Elogbeta[:, int(id)]) for id, cnt in doc)\n",
            "/usr/local/lib/python3.8/dist-packages/gensim/models/ldamodel.py:1077: DeprecationWarning: Calling np.sum(generator) is deprecated, and in the future will give a different result. Use np.sum(np.fromiter(generator)) or the python sum builtin instead.\n",
            "  score += np.sum(cnt * logsumexp(Elogthetad + Elogbeta[:, int(id)]) for id, cnt in doc)\n",
            "/usr/local/lib/python3.8/dist-packages/gensim/models/ldamodel.py:1077: DeprecationWarning: Calling np.sum(generator) is deprecated, and in the future will give a different result. Use np.sum(np.fromiter(generator)) or the python sum builtin instead.\n",
            "  score += np.sum(cnt * logsumexp(Elogthetad + Elogbeta[:, int(id)]) for id, cnt in doc)\n",
            "/usr/local/lib/python3.8/dist-packages/gensim/models/ldamodel.py:1077: DeprecationWarning: Calling np.sum(generator) is deprecated, and in the future will give a different result. Use np.sum(np.fromiter(generator)) or the python sum builtin instead.\n",
            "  score += np.sum(cnt * logsumexp(Elogthetad + Elogbeta[:, int(id)]) for id, cnt in doc)\n",
            "/usr/local/lib/python3.8/dist-packages/gensim/models/ldamodel.py:1077: DeprecationWarning: Calling np.sum(generator) is deprecated, and in the future will give a different result. Use np.sum(np.fromiter(generator)) or the python sum builtin instead.\n",
            "  score += np.sum(cnt * logsumexp(Elogthetad + Elogbeta[:, int(id)]) for id, cnt in doc)\n",
            "/usr/local/lib/python3.8/dist-packages/gensim/models/ldamodel.py:1077: DeprecationWarning: Calling np.sum(generator) is deprecated, and in the future will give a different result. Use np.sum(np.fromiter(generator)) or the python sum builtin instead.\n",
            "  score += np.sum(cnt * logsumexp(Elogthetad + Elogbeta[:, int(id)]) for id, cnt in doc)\n",
            "/usr/local/lib/python3.8/dist-packages/gensim/models/ldamodel.py:1077: DeprecationWarning: Calling np.sum(generator) is deprecated, and in the future will give a different result. Use np.sum(np.fromiter(generator)) or the python sum builtin instead.\n",
            "  score += np.sum(cnt * logsumexp(Elogthetad + Elogbeta[:, int(id)]) for id, cnt in doc)\n",
            "/usr/local/lib/python3.8/dist-packages/gensim/models/ldamodel.py:1077: DeprecationWarning: Calling np.sum(generator) is deprecated, and in the future will give a different result. Use np.sum(np.fromiter(generator)) or the python sum builtin instead.\n",
            "  score += np.sum(cnt * logsumexp(Elogthetad + Elogbeta[:, int(id)]) for id, cnt in doc)\n",
            "/usr/local/lib/python3.8/dist-packages/gensim/models/ldamodel.py:1077: DeprecationWarning: Calling np.sum(generator) is deprecated, and in the future will give a different result. Use np.sum(np.fromiter(generator)) or the python sum builtin instead.\n",
            "  score += np.sum(cnt * logsumexp(Elogthetad + Elogbeta[:, int(id)]) for id, cnt in doc)\n",
            "/usr/local/lib/python3.8/dist-packages/gensim/models/ldamodel.py:1077: DeprecationWarning: Calling np.sum(generator) is deprecated, and in the future will give a different result. Use np.sum(np.fromiter(generator)) or the python sum builtin instead.\n",
            "  score += np.sum(cnt * logsumexp(Elogthetad + Elogbeta[:, int(id)]) for id, cnt in doc)\n",
            "/usr/local/lib/python3.8/dist-packages/gensim/models/ldamodel.py:1077: DeprecationWarning: Calling np.sum(generator) is deprecated, and in the future will give a different result. Use np.sum(np.fromiter(generator)) or the python sum builtin instead.\n",
            "  score += np.sum(cnt * logsumexp(Elogthetad + Elogbeta[:, int(id)]) for id, cnt in doc)\n",
            "/usr/local/lib/python3.8/dist-packages/gensim/models/ldamodel.py:1077: DeprecationWarning: Calling np.sum(generator) is deprecated, and in the future will give a different result. Use np.sum(np.fromiter(generator)) or the python sum builtin instead.\n",
            "  score += np.sum(cnt * logsumexp(Elogthetad + Elogbeta[:, int(id)]) for id, cnt in doc)\n",
            "/usr/local/lib/python3.8/dist-packages/gensim/models/ldamodel.py:1077: DeprecationWarning: Calling np.sum(generator) is deprecated, and in the future will give a different result. Use np.sum(np.fromiter(generator)) or the python sum builtin instead.\n",
            "  score += np.sum(cnt * logsumexp(Elogthetad + Elogbeta[:, int(id)]) for id, cnt in doc)\n",
            "/usr/local/lib/python3.8/dist-packages/gensim/models/ldamodel.py:1077: DeprecationWarning: Calling np.sum(generator) is deprecated, and in the future will give a different result. Use np.sum(np.fromiter(generator)) or the python sum builtin instead.\n",
            "  score += np.sum(cnt * logsumexp(Elogthetad + Elogbeta[:, int(id)]) for id, cnt in doc)\n",
            "/usr/local/lib/python3.8/dist-packages/gensim/models/ldamodel.py:1077: DeprecationWarning: Calling np.sum(generator) is deprecated, and in the future will give a different result. Use np.sum(np.fromiter(generator)) or the python sum builtin instead.\n",
            "  score += np.sum(cnt * logsumexp(Elogthetad + Elogbeta[:, int(id)]) for id, cnt in doc)\n",
            "/usr/local/lib/python3.8/dist-packages/gensim/models/ldamodel.py:1077: DeprecationWarning: Calling np.sum(generator) is deprecated, and in the future will give a different result. Use np.sum(np.fromiter(generator)) or the python sum builtin instead.\n",
            "  score += np.sum(cnt * logsumexp(Elogthetad + Elogbeta[:, int(id)]) for id, cnt in doc)\n",
            "/usr/local/lib/python3.8/dist-packages/gensim/models/ldamodel.py:1077: DeprecationWarning: Calling np.sum(generator) is deprecated, and in the future will give a different result. Use np.sum(np.fromiter(generator)) or the python sum builtin instead.\n",
            "  score += np.sum(cnt * logsumexp(Elogthetad + Elogbeta[:, int(id)]) for id, cnt in doc)\n",
            "/usr/local/lib/python3.8/dist-packages/gensim/models/ldamodel.py:1077: DeprecationWarning: Calling np.sum(generator) is deprecated, and in the future will give a different result. Use np.sum(np.fromiter(generator)) or the python sum builtin instead.\n",
            "  score += np.sum(cnt * logsumexp(Elogthetad + Elogbeta[:, int(id)]) for id, cnt in doc)\n",
            "/usr/local/lib/python3.8/dist-packages/gensim/models/ldamodel.py:1077: DeprecationWarning: Calling np.sum(generator) is deprecated, and in the future will give a different result. Use np.sum(np.fromiter(generator)) or the python sum builtin instead.\n",
            "  score += np.sum(cnt * logsumexp(Elogthetad + Elogbeta[:, int(id)]) for id, cnt in doc)\n",
            "/usr/local/lib/python3.8/dist-packages/gensim/models/ldamodel.py:1077: DeprecationWarning: Calling np.sum(generator) is deprecated, and in the future will give a different result. Use np.sum(np.fromiter(generator)) or the python sum builtin instead.\n",
            "  score += np.sum(cnt * logsumexp(Elogthetad + Elogbeta[:, int(id)]) for id, cnt in doc)\n"
          ]
        }
      ]
    },
    {
      "cell_type": "code",
      "source": [
        "NUM_WORDS = 10\n",
        "\n",
        "topics0 = model0.print_topics(num_words = NUM_WORDS)\n",
        "df_train0 = print_topic_prop(topics0,5)\n",
        "topics1 = model1.print_topics(num_words = NUM_WORDS)\n",
        "df_train1 = print_topic_prop(topics1,5)\n",
        "topics2 = model2.print_topics(num_words = NUM_WORDS)\n",
        "df_train2 = print_topic_prop(topics2,5)"
      ],
      "metadata": {
        "id": "ITXyOWJ6bSLg"
      },
      "execution_count": null,
      "outputs": []
    },
    {
      "cell_type": "code",
      "source": [
        "lda_visualization0 = gensimvis.prepare(model0, corpus0, dictionary0, sort_topics=False)\n",
        "pyLDAvis.save_html(lda_visualization0, 'model0.html')\n",
        "lda_visualization1 = gensimvis.prepare(model1, corpus1, dictionary1, sort_topics=False)\n",
        "pyLDAvis.save_html(lda_visualization1, 'model1.html')\n",
        "lda_visualization2 = gensimvis.prepare(model2, corpus2, dictionary2, sort_topics=False)\n",
        "pyLDAvis.save_html(lda_visualization2, 'model2.html')"
      ],
      "metadata": {
        "id": "Gb_Qm6upb5vO"
      },
      "execution_count": null,
      "outputs": []
    },
    {
      "cell_type": "code",
      "source": [
        "pyLDAvis.enable_notebook()\n",
        "pyLDAvis.display(lda_visualization0)"
      ],
      "metadata": {
        "colab": {
          "base_uri": "https://localhost:8080/",
          "height": 880
        },
        "id": "KkJvP25ZcLAx",
        "outputId": "f43dff9b-1b2a-4ecc-ee7f-e468bfea3c64"
      },
      "execution_count": null,
      "outputs": [
        {
          "output_type": "execute_result",
          "data": {
            "text/plain": [
              "<IPython.core.display.HTML object>"
            ],
            "text/html": [
              "\n",
              "<link rel=\"stylesheet\" type=\"text/css\" href=\"https://cdn.jsdelivr.net/gh/bmabey/pyLDAvis@3.4.0/pyLDAvis/js/ldavis.v1.0.0.css\">\n",
              "\n",
              "\n",
              "<div id=\"ldavis_el3351401708648889608147435539\" style=\"background-color:white;\"></div>\n",
              "<script type=\"text/javascript\">\n",
              "\n",
              "var ldavis_el3351401708648889608147435539_data = {\"mdsDat\": {\"x\": [-0.005180773125942277, 0.03735709595821116, -0.010267355584123254, -0.15531632131467538, 0.13340735406652976], \"y\": [0.0014602227687435662, -0.0002463407659212495, -0.0012707211134906729, 1.3376258001794833e-05, 4.346285266684972e-05], \"topics\": [1, 2, 3, 4, 5], \"cluster\": [1, 1, 1, 1, 1], \"Freq\": [1.7908245933331438e-05, 1.781887528366974e-05, 1.792611466313865e-05, 99.99992860461467, 1.7742149453303785e-05]}, \"tinfo\": {\"Term\": [\"\\uc5ec\\uc131\", \"\\uc0ac\\ub78c\", \"\\uc77c\", \"\\uc0dd\\uac01\", \"\\uad6d\\ubbfc\", \"\\ubc95\", \"\\ucc98\\ubc8c\", \"\\uc0ac\\uac74\", \"\\uc778\\uad8c\", \"\\ub0a8\\uc131\", \"\\ub098\\ub77c\", \"\\ud53c\\ud574\\uc790\", \"\\ud3d0\\uc9c0\", \"\\uc0ac\\ud68c\", \"\\uccad\\uc6d0\", \"\\uccad\\uc18c\\ub144\", \"\\ub0a8\\uc790\", \"\\ub300\\ud55c\\ubbfc\\uad6d\", \"\\uc6b0\\ub9ac\", \"\\uc5ec\\uc790\", \"\\uad6d\\uac00\", \"\\ubb38\\uc81c\", \"\\ubc94\\uc8c4\", \"\\ud3c9\\ub4f1\", \"\\uac00\\ud574\\uc790\", \"\\ub300\\ud1b5\\ub839\", \"\\uacbd\\ucc30\", \"\\uac00\\uc871\", \"\\uc544\\uc774\", \"\\uc131\", \"\\uc9c1\\ud558\", \"\\ub178\\ub3d9\\uad00\\uacc4\", \"\\ud488\\uc0ac\", \"\\ub0a8\\ud654\", \"\\uba85\\uc904\", \"\\ud398\\uc774\\ub3c4\", \"\\uc774\\uc8fc\\uc2dd\", \"\\uc190\\uc0c1\\uc724\", \"\\uae40\\uacbd\\uc790\", \"\\ud551\\uac1c\", \"\\uc8fc\\uc815\\ubc45\\uc774\", \"\\uc131\\uc0dd\", \"\\uc810\\ub300\", \"\\uc7a5\\uc870\", \"\\ub530\\uac1c\\ube44\", \"\\ub09c\\ubb3c\", \"\\uc120\\ubaa8\", \"\\ub178\\uc99d\", \"\\uc774\\ub0a8\", \"\\uc2e0\\uc724\\ubcf5\", \"\\ub9bd\\uc2dd\", \"\\ubd88\\uce68\\ubc88\", \"\\ubbfc\\uc18d\", \"\\uad8c\\ubd80\", \"\\uc774\\ub2c8\\uc2a4\", \"\\ubbf8\\uc0e4\", \"\\uac00\\uae30\", \"\\ud759\\ud0d5\", \"\\ub300\\ub3c8\", \"\\ub0b4\\ubb34\\ub300\\uc2e0\", \"\\ubaa9\\ub9c8\\ub984\", \"\\uc0ac\\ub78c\", \"\\uc0dd\\uac01\", \"\\uc77c\", \"\\ub0a8\\uc131\", \"\\uc5ec\\uc131\", \"\\uc778\\uad8c\", \"\\ubc95\", \"\\ub098\\ub77c\", \"\\uad6d\\ubbfc\", \"\\ub0b4\\uc6a9\", \"\\uc5ec\\uc790\", \"\\uc0ac\\uac74\", \"\\uc218\\uc0ac\", \"\\uc774\\uc0c1\", \"\\uccad\\uc6d0\", \"\\ubb38\\uc81c\", \"\\ucc98\\ubc8c\", \"\\ud3ed\\ub825\", \"\\uac00\\ud574\\uc790\", \"\\ud53c\\ud574\", \"\\ud3c9\\ub4f1\", \"\\uc790\\uc2e0\", \"\\ub0a8\\uc790\", \"\\ub300\\ud55c\\ubbfc\\uad6d\", \"\\uad6d\\uac00\", \"\\ubc88\", \"\\uccad\\uc18c\\ub144\", \"\\uc0ac\\ud68c\", \"\\ud68c\\uc0ac\", \"\\ud3d0\\uc9c0\", \"\\ubc94\\uc8c4\", \"\\ud53c\\ud574\\uc790\", \"\\uc6b0\\ub9ac\", \"\\ub300\\ud1b5\\ub839\", \"\\ub300\\ub3c8\", \"\\uc720\\ubcd1\\ud5cc\", \"\\uc0bc\\uc871\", \"\\uce90\\ub17c\", \"\\uba85\\uc904\", \"\\uc120\\ubc1c\\uc804\", \"\\ubf41\", \"\\ubaa8\\ub974\", \"\\uc2b5\\uacfc\", \"\\ucd08\\uac08\", \"\\uace0\\uae30\\ub2a5\", \"\\uad8c\\ubd80\", \"\\uc778\\ubbfc\\uacf5\\ud654\\uad6d\", \"\\ucd9c\\uc0b4\", \"\\ud398\\uc774\\ub3c4\", \"\\ud55c\\ucc3d\\ub098\\uc774\", \"\\uc874\\uccb4\", \"\\uc9c1\\ud558\", \"\\ucde8\\uae09\\uc790\", \"\\ub3c5\\ub9bd\\uad8c\", \"\\uc2a4\\ud2b8\\ub9bd\", \"\\uc544\\ub2c8\\ud0c0\", \"\\ud22c\\ud45c\\ud568\", \"\\uc2ec\\uc548\", \"\\ucc9c\\uc9c1\", \"\\uc0dd\\uc0b0\\ubb3c\", \"\\uc9c4\\ub2f4\", \"\\uc870\\ucd09\", \"\\ubc95\\uacbd\", \"\\uc591\\uc2b9\\uc778\", \"\\ub3c5\\uc885\", \"\\ub534\\uc9c0\\uc77c\\ubcf4\", \"\\ubc1c\\ub828\", \"\\ud56d\\ub3c4\", \"\\uc815\\uc5f0\\uc8fc\", \"\\uc900\\ubd84\", \"\\ub3c5\\uc778\", \"\\uc0ac\\ub78c\", \"\\uc77c\", \"\\uc5ec\\uc131\", \"\\uc0dd\\uac01\", \"\\uad6d\\ubbfc\", \"\\ub300\\ud55c\\ubbfc\\uad6d\", \"\\uc0ac\\ud68c\", \"\\ucc98\\ubc8c\", \"\\uc0ac\\uac74\", \"\\uac00\\uc871\", \"\\ud53c\\ud574\\uc790\", \"\\uc778\\uad8c\", \"\\ud3d0\\uc9c0\", \"\\ub098\\ub77c\", \"\\ud53c\\ud574\", \"\\ubc95\", \"\\uccad\\uc18c\\ub144\", \"\\uc2dc\", \"\\ub0a8\\uc131\", \"\\ud3c9\\ub4f1\", \"\\uccad\\uc6d0\", \"\\ub0a8\\uc790\", \"\\ubb38\\uc81c\", \"\\ubcf4\\ud638\", \"\\uc5ec\\uc790\", \"\\uc6b0\\ub9ac\", \"\\uad6d\\uac00\", \"\\uc774\\uc0c1\", \"\\ub300\\ud1b5\\ub839\", \"\\ud559\\uc0dd\", \"\\ubc94\\uc8c4\", \"\\uacbd\\ucc30\", \"\\uac00\\ud574\\uc790\", \"\\uace0\\uae30\\ub2a5\", \"\\uc120\\ubc1c\\uc804\", \"\\uad00\\ud0dc\", \"\\uaf80\", \"\\uc0dd\\uc0b0\\ubb3c\", \"\\uc790\\uae34\", \"\\ucc98\\uc870\\ubd80\", \"\\uc639\\uc54c\\uc774\", \"\\ubc15\\ud574\\uc804\", \"\\ubc15\\ud604\\ucc3d\", \"\\ubc29\\uc0ac\\ub2a5\", \"\\uae40\\uacbd\\uc790\", \"\\uc624\\ud0c8\", \"\\ud3ec\\uc2a4\\ucf54\", \"\\uc544\\ub2c8\\ud0c0\", \"\\uce60\\ub4dc\\ub7f0\", \"\\ub18d\\uc791\\ubb3c\", \"\\ubc29\\uc120\\uc624\", \"\\uc4f0\\uae30\", \"\\ube44\\uace0\\ub780\", \"\\ud55c\\uc704\", \"\\uc704\\uad6c\", \"\\uacf5\\ub9ac\", \"\\ub808\\uc628\", \"\\ub7ec\\ube14\\ub9ac\", \"\\ud761\\uae30\", \"\\ubc30\\uae08\\uc8fc\\uc758\", \"\\uad11\\ubd84\", \"\\ubd80\\ub791\", \"\\uc624\\ub69c\\uae30\", \"\\uc12c\\ub9dd\", \"\\uac00\\ud574\\uc790\", \"\\ud3d0\\uc9c0\", \"\\uc5ec\\uc131\", \"\\uccad\\uc18c\\ub144\", \"\\uc778\\uad8c\", \"\\uc0dd\\uac01\", \"\\uc0ac\\ub78c\", \"\\ub0a8\\uc790\", \"\\ubb38\\uc81c\", \"\\uccad\\uc6d0\", \"\\uc77c\", \"\\uc5ec\\uc790\", \"\\ucc98\\ubc8c\", \"\\uad6d\\ubbfc\", \"\\ub0a8\\uc131\", \"\\uc790\\uc2e0\", \"\\uad6d\\uac00\", \"\\ubc95\", \"\\uc0ac\\ud68c\", \"\\uc131\", \"\\ud3c9\\ub4f1\", \"\\ud53c\\ud574\\uc790\", \"\\uc544\\uc774\", \"\\ub300\\ud55c\\ubbfc\\uad6d\", \"\\ubc94\\uc8c4\", \"\\uc0ac\\uac74\", \"\\ub300\\ud1b5\\ub839\", \"\\uc6b0\\ub9ac\", \"\\uc9c0\\uc6d0\", \"\\uae00\", \"\\ub098\\ub77c\", \"\\ud559\\uc0dd\", \"\\ud559\\uad50\", \"\\ub2e8\\uccb4\", \"\\uc55e\", \"\\uc870\\uc0ac\", \"\\uc774\\uc720\", \"\\uc2e0\\uace0\", \"\\uc6b0\\ub9ac\", \"\\uacbd\\ucc30\", \"\\uc18c\\uc1a1\", \"\\uc815\\uc2e0\", \"\\ud5cc\\ubc95\", \"\\uacf5\\ubb34\\uc6d0\", \"\\uacb0\\uacfc\", \"\\uadf8\\uac83\", \"\\ubd80\\ud0c1\", \"\\uc0ac\\uc2e4\", \"\\uc2ec\\ud310\", \"\\uc870\", \"\\ucc98\\ub9ac\", \"\\ubc14\", \"\\uccad\\uc640\\ub300\", \"\\uc6b4\\uc601\", \"\\uc99d\\uac70\", \"\\ud3ed\\ud589\", \"\\uadfc\\ubb34\", \"\\ubc18\\ub300\", \"\\ub9d0\\uc500\", \"\\uc544\\ub3d9\", \"\\uc704\\ubc18\", \"\\ubcf8\\uc778\", \"\\uc5ec\\uc131\", \"\\uc0ac\\ub78c\", \"\\uc77c\", \"\\uc0dd\\uac01\", \"\\ubc95\", \"\\uad6d\\ubbfc\", \"\\ucc98\\ubc8c\", \"\\uc0ac\\uac74\", \"\\ub0a8\\uc131\", \"\\uc778\\uad8c\", \"\\ud53c\\ud574\\uc790\", \"\\ub098\\ub77c\", \"\\uc0ac\\ud68c\", \"\\ud3d0\\uc9c0\", \"\\uccad\\uc6d0\", \"\\uccad\\uc18c\\ub144\", \"\\ub300\\ud55c\\ubbfc\\uad6d\", \"\\ub0a8\\uc790\", \"\\uad6d\\uac00\", \"\\uc5ec\\uc790\", \"\\ubc94\\uc8c4\", \"\\ubb38\\uc81c\", \"\\ub300\\ud1b5\\ub839\", \"\\ud3c9\\ub4f1\", \"\\uac00\\uc871\", \"\\uac00\\ud574\\uc790\", \"\\uc544\\uc774\", \"\\uae40\\uacbd\\uc790\", \"\\uace0\\uae30\\ub2a5\", \"\\uc120\\ubc1c\\uc804\", \"\\ub300\\ub3c8\", \"\\uc9c1\\ud558\", \"\\uba85\\uc904\", \"\\uc790\\uae34\", \"\\uc0dd\\uc0b0\\ubb3c\", \"\\ud398\\uc774\\ub3c4\", \"\\uc774\\uc8fc\\uc2dd\", \"\\uc810\\ub300\", \"\\uc120\\ubaa8\", \"\\ubc15\\ud604\\ucc3d\", \"\\ud3ec\\uc2a4\\ucf54\", \"\\ub0a8\\ud654\", \"\\uad00\\ud0dc\", \"\\ud551\\uac1c\", \"\\uc7a5\\uc870\", \"\\uc2e0\\uc724\\ubcf5\", \"\\uc704\\uad6c\", \"\\ud488\\uc0ac\", \"\\uc774\\ub0a8\", \"\\uc720\\ubcd1\\ud5cc\", \"\\ub178\\uc99d\", \"\\uaf80\", \"\\uc131\\uc0dd\", \"\\uc8fc\\uc815\\ubc45\\uc774\", \"\\uc544\\ub2c8\\ud0c0\", \"\\uc548\\uac70\", \"\\uc624\\ud0c8\", \"\\ub808\\uc628\", \"\\uc774\\ub2c8\\uc2a4\", \"\\uc800\\uac00\", \"\\ub0b4\\uce58\", \"\\uccad\\ud559\\ub3d9\", \"\\ud544\\uba85\", \"\\uc0bc\\uc871\", \"\\uc7a5\\uc5b4\", \"\\ubc25\\ub9db\", \"\\ubc95\", \"\\uad6d\\ubbfc\", \"\\uc5ec\\uc131\", \"\\uc0ac\\ub78c\", \"\\ub098\\ub77c\", \"\\uc77c\", \"\\uc0ac\\uac74\", \"\\uc0ac\\ud68c\", \"\\ud3d0\\uc9c0\", \"\\ub0a8\\uc131\", \"\\ud53c\\ud574\\uc790\", \"\\uacbd\\ucc30\", \"\\ub0a8\\uc790\", \"\\uc0dd\\uac01\", \"\\ucc98\\ubc8c\", \"\\uc778\\uad8c\", \"\\uc5ec\\uc790\", \"\\ud3c9\\ub4f1\", \"\\ub300\\ud55c\\ubbfc\\uad6d\", \"\\uccad\\uc18c\\ub144\", \"\\ucc28\\ubcc4\", \"\\uad6d\\uac00\", \"\\uac00\\ud574\\uc790\", \"\\uccad\\uc6d0\", \"\\uc815\\ubd80\", \"\\uc6b0\\ub9ac\", \"\\ubc94\\uc8c4\", \"\\uc774\\uc720\", \"\\uc758\\ubb34\", \"\\ub300\\ud1b5\\ub839\", \"\\ud559\\uad50\", \"\\ubb38\\uc81c\"], \"Freq\": [13696.0, 10855.0, 9632.0, 9213.0, 7846.0, 7847.0, 6940.0, 6801.0, 6002.0, 6008.0, 5861.0, 5902.0, 5294.0, 5418.0, 5044.0, 4847.0, 4523.0, 4691.0, 5015.0, 4356.0, 4451.0, 4015.0, 4345.0, 3918.0, 3459.0, 3995.0, 3859.0, 3501.0, 3398.0, 3331.0, 3.586990422325903e-06, 3.5631355651414795e-06, 3.5596063917065557e-06, 3.548826036482087e-06, 3.5347685916394753e-06, 3.5348300485699894e-06, 3.5374307439469032e-06, 3.5400708159200153e-06, 3.522994989376335e-06, 3.534300856557537e-06, 3.5312254339928175e-06, 3.5300143276555566e-06, 3.516339976613336e-06, 3.5176710527670504e-06, 3.5276094112429158e-06, 3.5202180193304606e-06, 3.5092753736487658e-06, 3.511699058345576e-06, 3.5073345122623436e-06, 3.5055415891158425e-06, 3.510775364360001e-06, 3.507553843583221e-06, 3.507134317231207e-06, 3.5016160736799373e-06, 3.505010925081102e-06, 3.5057988250106297e-06, 3.505259328842163e-06, 3.4988670720575305e-06, 3.480607371588913e-06, 3.4984041210480275e-06, 3.4926996666773548e-06, 0.0012577068651718304, 0.0010193571105458698, 0.0010437644176948928, 0.0007592566603864234, 0.001255293219667023, 0.0007313774532456494, 0.0008283492884642021, 0.0006792438408549274, 0.0007947849192768587, 0.00035433540733115443, 0.0005099295291849102, 0.0006633103889838479, 0.00036710245682799704, 0.0003890331630230093, 0.0005123582953026575, 0.0004388148841879403, 0.0006009253307528307, 0.00028589317758100324, 0.0003931184841425192, 0.0003378604161246725, 0.0003939696898625547, 0.00031416754616088406, 0.00040838924335582393, 0.00041675240255772706, 0.00040071668635427167, 0.00028735902915134084, 0.00040881516417265587, 0.00042544628395106763, 0.00019779890858494795, 0.00041805979387283106, 0.0003724106634071147, 0.00043708830802999325, 0.0003897912898297447, 0.00033161729875014765, 4.762010545381771e-06, 4.763027763001051e-06, 4.763767424480873e-06, 4.762688324292241e-06, 4.737108120669035e-06, 4.734131898635375e-06, 4.7592532924396625e-06, 4.7517827114934615e-06, 4.753863650201297e-06, 4.763772550847565e-06, 4.718529069270677e-06, 4.745421988936043e-06, 4.748772801907255e-06, 4.758775075661125e-06, 4.734236622983508e-06, 4.737482345437539e-06, 4.739321978741809e-06, 4.730462884760219e-06, 4.752136064626149e-06, 4.759046040757693e-06, 4.750614632225822e-06, 4.739466615516328e-06, 4.762409669645635e-06, 4.765529063777617e-06, 4.749796244400376e-06, 4.72628745908972e-06, 4.756245213698704e-06, 4.747655253968436e-06, 4.748271150309555e-06, 4.741534372138385e-06, 4.756448803690179e-06, 4.756614678269565e-06, 4.7585227851860764e-06, 4.7572148293415595e-06, 4.755767363089215e-06, 4.764987865922579e-06, 4.759009423852751e-06, 0.0007872601285017507, 0.0007058463012503873, 0.0007410846763896399, 0.0005387196229115445, 0.000492394094217516, 0.0003611194786273388, 0.0003849298173322752, 0.00042824633868063564, 0.00042133133285102885, 0.0002786893770081668, 0.00035425834944698695, 0.00035408085412664886, 0.0003223297675573554, 0.0003359558728550346, 0.0002205784777572296, 0.00036456589687267825, 0.00028569397415143254, 0.00016263695366179064, 0.00030579500280966264, 0.00024326945232486095, 0.0002740793731217623, 0.00025833804104646017, 0.0002317870939797257, 0.00018981065761295403, 0.0002362204930689203, 0.0002508281188975898, 0.00023714340311718472, 0.0001967374160043709, 0.00021994323011418701, 0.00019222819355777546, 0.00022453842319488073, 0.00020239519065553857, 0.00019459765297108464, 3.3990370253093842e-06, 3.354975590457898e-06, 3.3428299720073513e-06, 3.335473567880773e-06, 3.326947211851039e-06, 3.3246662476872048e-06, 3.3205161601113395e-06, 3.3226298830396473e-06, 3.3220309089229813e-06, 3.3153195255087532e-06, 3.318945418639345e-06, 3.296477626927363e-06, 3.311078449859815e-06, 3.3010535534201203e-06, 3.2968482099294334e-06, 3.3095283372626874e-06, 3.2975201218536638e-06, 3.2958771793196355e-06, 3.298849210791505e-06, 3.2962186608732328e-06, 3.298700756567018e-06, 3.2880271556873177e-06, 3.291801871415162e-06, 3.287867281907101e-06, 3.292485939640653e-06, 3.2910640207659114e-06, 3.2873537702720253e-06, 3.287913328502785e-06, 3.2840678852039692e-06, 3.2842340213211994e-06, 3.290510356499399e-06, 0.0006426752682177645, 0.0007894991986182984, 0.0013937283738073149, 0.000712386342539371, 0.0008001443110218075, 0.0009900229429755996, 0.0010836595513986265, 0.0006239877237190736, 0.0005525225584856572, 0.0006202683022168185, 0.0009076902035521113, 0.0005320601291692907, 0.0007066301555999895, 0.0007547544679853507, 0.0006404001037147497, 0.00037936283982013233, 0.0004951157710791259, 0.0006737034536030101, 0.0005348089326392454, 0.00039444499923683144, 0.00042606599954610403, 0.0005353785253441367, 0.00037725508747760736, 0.00044367475998062197, 0.0004228500640457389, 0.0005444099174883576, 0.00039978966959244313, 0.0004450969028260051, 0.00020510516991870118, 0.00030199527018227916, 0.0004410043226593039, 0.00030243576149429035, 2896.6568088116287, 1202.6049098577953, 1556.951755736033, 3035.6139682836097, 3567.014688391685, 1920.7918738717424, 5015.319551302493, 3859.4210990552397, 500.71000843516686, 1573.5033994769046, 1705.9973006772539, 1517.8534095481593, 1068.6624833724927, 1404.4529759657742, 1098.488373895725, 2414.351284715277, 407.78344208858397, 968.9421572070573, 950.8228997805127, 932.8873712284078, 1146.2588018671963, 699.7959930193333, 1699.006002727114, 2671.548298952722, 1269.8908426398414, 1846.7691280157492, 800.4694866990866, 847.068297864583, 595.8437214553842, 1654.4821967988933, 13696.010420169216, 10855.368954767502, 9632.133935796428, 9213.297334372697, 7847.092054372981, 7846.735907063044, 6940.316804192908, 6800.9995519090335, 6008.393450609199, 6002.652482229066, 5902.43883680234, 5861.156786798289, 5418.089016625607, 5294.6616158877705, 5044.9234415823075, 4847.513144558238, 4691.49747586071, 4523.754723214688, 4451.398425868377, 4356.190833324024, 4345.456437667778, 4015.8457847889217, 3995.1813498086217, 3918.5218249951167, 3501.897598035113, 3459.5663075441043, 3398.909738666058, 6.118223130400225e-06, 6.110813519631048e-06, 6.11228866036677e-06, 6.11706883095156e-06, 6.117986874543391e-06, 6.1109907115236725e-06, 6.12554195766886e-06, 6.116018075736445e-06, 6.114446318022234e-06, 6.119024504433126e-06, 6.1108441453902666e-06, 6.119195862847805e-06, 6.1136128598606265e-06, 6.117802390803333e-06, 6.111629477358815e-06, 6.117642699344547e-06, 6.108530806792106e-06, 6.11433329438702e-06, 6.117006850248378e-06, 6.111257593139725e-06, 6.116746531295015e-06, 6.115703067927334e-06, 6.115530980327912e-06, 6.116585746059115e-06, 6.111465775383941e-06, 6.11651209840004e-06, 6.107762610665025e-06, 6.111459941905994e-06, 6.10938577590364e-06, 6.111038108531988e-06, 6.117856350474338e-06, 6.118881584223436e-06, 6.125886132867703e-06, 6.122933663842028e-06, 6.124049316499298e-06, 6.125467580825042e-06, 6.119415347455542e-06, 6.127720032497136e-06, 6.123947959819977e-06, 0.00020038157750239065, 0.0001904373059817615, 0.000213406893736114, 0.0001843349047019217, 0.00014663025499554855, 0.00017457682613038913, 0.00015264367240279235, 0.00013963260152221436, 0.00013832368574057737, 0.00014367089663241842, 0.00014181849904441727, 0.00011331553078303894, 0.00011294168651535916, 0.00014423649898715575, 0.0001253613010669409, 0.00011381954327761704, 0.00010200337868568953, 9.520859607490099e-05, 0.00010094215237766117, 0.00010065072348640964, 8.023295565888846e-05, 9.123928184141435e-05, 8.263994199526394e-05, 9.31818533315126e-05, 7.602256711578453e-05, 9.123905433577443e-05, 8.426543479157986e-05, 7.895257141788783e-05, 7.042678589516491e-05, 8.140375218318604e-05, 7.231564272033174e-05, 7.44148605937275e-05], \"Total\": [13696.0, 10855.0, 9632.0, 9213.0, 7846.0, 7847.0, 6940.0, 6801.0, 6002.0, 6008.0, 5861.0, 5902.0, 5294.0, 5418.0, 5044.0, 4847.0, 4523.0, 4691.0, 5015.0, 4356.0, 4451.0, 4015.0, 4345.0, 3918.0, 3459.0, 3995.0, 3859.0, 3501.0, 3398.0, 3331.0, 1.1882434118309622, 1.1915663206413718, 1.1913707317745585, 1.1898065532092945, 1.1871536589331633, 1.1889788115206696, 1.1898774460578168, 1.191094212793302, 1.185566867439219, 1.1894424445678926, 1.1901931292444796, 1.1918492712647608, 1.1889865047432948, 1.1906341671829572, 1.1944144426215795, 1.1925226305565, 1.1907735109738338, 1.1918106089246914, 1.1912252157119871, 1.191197598327147, 1.193837139444868, 1.193176734480197, 1.1931225476964622, 1.191402071794751, 1.1927378958603658, 1.1931412923088474, 1.1940590658173764, 1.1924644446927322, 1.1879667717714755, 1.1942771492701187, 1.1927441869335935, 10855.372267728953, 9213.300026708872, 9632.136767674176, 6008.395299731862, 13696.01402368238, 6002.654481651227, 7847.094121373197, 5861.15838963258, 7846.738139433831, 2373.4080783008576, 4356.192213537554, 6801.001333604346, 2770.3668883272767, 3057.5195243070293, 5044.924941470132, 4015.847082328319, 6940.318665356034, 1983.7551360891885, 3459.5676205754517, 2783.2313662600245, 3918.5229835088544, 2732.022184421067, 4523.7561268713835, 4691.498798349504, 4451.399650083519, 2523.944137821993, 4847.514652104443, 5418.090501443242, 1387.9928340615713, 5294.6632841002165, 4345.457541732363, 5902.440305346022, 5015.320728257859, 3995.1823825625725, 1.1879667717714755, 1.1915662136668406, 1.193026104010797, 1.1929355509664672, 1.1871536589331633, 1.1865466801448605, 1.1930905744373983, 1.191508930182066, 1.1921147385863364, 1.195813466504255, 1.1846020801367019, 1.191402071794751, 1.1923050748184223, 1.1951038761287252, 1.1889788115206696, 1.1899938054051584, 1.1904591172716452, 1.1882434118309622, 1.1937291360008548, 1.1954799251718287, 1.1936930411546187, 1.19093791044011, 1.1972597409383594, 1.1983476927456203, 1.1947329629103025, 1.1888635983061082, 1.196565179294144, 1.1946621936087325, 1.1951971181739065, 1.1935561374740842, 1.1975123707901951, 1.1977201693720023, 1.198522104894436, 1.1981673713920697, 1.197675219350351, 1.2016200180532868, 1.1993124716769505, 10855.372267728953, 9632.136767674176, 13696.01402368238, 9213.300026708872, 7846.738139433831, 4691.498798349504, 5418.090501443242, 6940.318665356034, 6801.001333604346, 3501.8985241786945, 5902.440305346022, 6002.654481651227, 5294.6632841002165, 5861.15838963258, 2783.2313662600245, 7847.094121373197, 4847.514652104443, 1602.0448894344693, 6008.395299731862, 3918.5229835088544, 5044.924941470132, 4523.7561268713835, 4015.847082328319, 2716.658780521458, 4356.192213537554, 5015.320728257859, 4451.399650083519, 3057.5195243070293, 3995.1823825625725, 3000.9401516381063, 4345.457541732363, 3859.4220066928233, 3459.5676205754517, 1.1846020801367019, 1.1865466801448605, 1.1910213884115761, 1.1908136998594014, 1.1888635983061082, 1.1901173512250487, 1.1906238798622062, 1.1924657242577872, 1.1923564377780713, 1.1901611437825563, 1.191784779923227, 1.185566867439219, 1.190986191755178, 1.1909775880760118, 1.19093791044011, 1.1957537176796933, 1.1915443588048893, 1.191490286502405, 1.1926520899304973, 1.1924951393504617, 1.1935773133523724, 1.1902005759764975, 1.1925384212033736, 1.1925040113519518, 1.1942788059970004, 1.1938551067582837, 1.192757146007976, 1.1931253642505912, 1.1919915619158088, 1.1927547082932997, 1.195220981594545, 3459.5676205754517, 5294.6632841002165, 13696.01402368238, 4847.514652104443, 6002.654481651227, 9213.300026708872, 10855.372267728953, 4523.7561268713835, 4015.847082328319, 5044.924941470132, 9632.136767674176, 4356.192213537554, 6940.318665356034, 7846.738139433831, 6008.395299731862, 2732.022184421067, 4451.399650083519, 7847.094121373197, 5418.090501443242, 3331.0875176102086, 3918.5229835088544, 5902.440305346022, 3398.910678852846, 4691.498798349504, 4345.457541732363, 6801.001333604346, 3995.1823825625725, 5015.320728257859, 1389.5185179181349, 2814.0856181121326, 5861.15838963258, 3000.9401516381063, 2896.6574321833746, 1202.6051742798707, 1556.9521005622482, 3035.6146407223227, 3567.015499904755, 1920.7923196339334, 5015.320728257859, 3859.4220066928233, 500.71012660240643, 1573.5037711609737, 1705.9977041676402, 1517.853770161895, 1068.662738233247, 1404.4533113292023, 1098.4886366431906, 2414.3518639080103, 407.78354081995724, 968.9423922904301, 950.8231306313452, 932.887597836813, 1146.259080419523, 699.7961631838864, 1699.0064163618547, 2671.548954193529, 1269.8911547894602, 1846.7695830664304, 800.469683975091, 847.0685068178718, 595.8438688281011, 1654.48260656257, 13696.01402368238, 10855.372267728953, 9632.136767674176, 9213.300026708872, 7847.094121373197, 7846.738139433831, 6940.318665356034, 6801.001333604346, 6008.395299731862, 6002.654481651227, 5902.440305346022, 5861.15838963258, 5418.090501443242, 5294.6632841002165, 5044.924941470132, 4847.514652104443, 4691.498798349504, 4523.7561268713835, 4451.399650083519, 4356.192213537554, 4345.457541732363, 4015.847082328319, 3995.1823825625725, 3918.5229835088544, 3501.8985241786945, 3459.5676205754517, 3398.910678852846, 1.185566867439219, 1.1846020801367019, 1.1865466801448605, 1.1879667717714755, 1.1882434118309622, 1.1871536589331633, 1.1901173512250487, 1.1888635983061082, 1.1889788115206696, 1.1898774460578168, 1.1889865047432948, 1.1907735109738338, 1.1901611437825563, 1.1909775880760118, 1.1898065532092945, 1.1910213884115761, 1.1894424445678926, 1.1906341671829572, 1.191197598327147, 1.1902005759764975, 1.1913707317745585, 1.1912252157119871, 1.1915662136668406, 1.1918106089246914, 1.1908136998594014, 1.1918492712647608, 1.1901931292444796, 1.19093791044011, 1.190583821978089, 1.190986191755178, 1.1925040113519518, 1.1927378958603658, 1.1945522494699004, 1.193864755840963, 1.1941851992684616, 1.1946823503145683, 1.193026104010797, 1.196070186773162, 1.1953349227518641, 7847.094121373197, 7846.738139433831, 13696.01402368238, 10855.372267728953, 5861.15838963258, 9632.136767674176, 6801.001333604346, 5418.090501443242, 5294.6632841002165, 6008.395299731862, 5902.440305346022, 3859.4220066928233, 4523.7561268713835, 9213.300026708872, 6940.318665356034, 6002.654481651227, 4356.192213537554, 3918.5229835088544, 4691.498798349504, 4847.514652104443, 2860.7014131811843, 4451.399650083519, 3459.5676205754517, 5044.924941470132, 2770.2704690804844, 5015.320728257859, 4345.457541732363, 3567.015499904755, 2471.1974912512273, 3995.1823825625725, 2896.6574321833746, 4015.847082328319], \"Category\": [\"Default\", \"Default\", \"Default\", \"Default\", \"Default\", \"Default\", \"Default\", \"Default\", \"Default\", \"Default\", \"Default\", \"Default\", \"Default\", \"Default\", \"Default\", \"Default\", \"Default\", \"Default\", \"Default\", \"Default\", \"Default\", \"Default\", \"Default\", \"Default\", \"Default\", \"Default\", \"Default\", \"Default\", \"Default\", \"Default\", \"Topic1\", \"Topic1\", \"Topic1\", \"Topic1\", \"Topic1\", \"Topic1\", \"Topic1\", \"Topic1\", \"Topic1\", \"Topic1\", \"Topic1\", \"Topic1\", \"Topic1\", \"Topic1\", \"Topic1\", \"Topic1\", \"Topic1\", \"Topic1\", \"Topic1\", \"Topic1\", \"Topic1\", \"Topic1\", \"Topic1\", \"Topic1\", \"Topic1\", \"Topic1\", \"Topic1\", \"Topic1\", \"Topic1\", \"Topic1\", \"Topic1\", \"Topic1\", \"Topic1\", \"Topic1\", \"Topic1\", \"Topic1\", \"Topic1\", \"Topic1\", \"Topic1\", \"Topic1\", \"Topic1\", \"Topic1\", \"Topic1\", \"Topic1\", \"Topic1\", \"Topic1\", \"Topic1\", \"Topic1\", \"Topic1\", \"Topic1\", \"Topic1\", \"Topic1\", \"Topic1\", \"Topic1\", \"Topic1\", \"Topic1\", \"Topic1\", \"Topic1\", \"Topic1\", \"Topic1\", \"Topic1\", \"Topic1\", \"Topic1\", \"Topic1\", \"Topic1\", \"Topic2\", \"Topic2\", \"Topic2\", \"Topic2\", \"Topic2\", \"Topic2\", \"Topic2\", \"Topic2\", \"Topic2\", \"Topic2\", \"Topic2\", \"Topic2\", \"Topic2\", \"Topic2\", \"Topic2\", \"Topic2\", \"Topic2\", \"Topic2\", \"Topic2\", \"Topic2\", \"Topic2\", \"Topic2\", \"Topic2\", \"Topic2\", \"Topic2\", \"Topic2\", \"Topic2\", \"Topic2\", \"Topic2\", \"Topic2\", \"Topic2\", \"Topic2\", \"Topic2\", \"Topic2\", \"Topic2\", \"Topic2\", \"Topic2\", \"Topic2\", \"Topic2\", \"Topic2\", \"Topic2\", \"Topic2\", \"Topic2\", \"Topic2\", \"Topic2\", \"Topic2\", \"Topic2\", \"Topic2\", \"Topic2\", \"Topic2\", \"Topic2\", \"Topic2\", \"Topic2\", \"Topic2\", \"Topic2\", \"Topic2\", \"Topic2\", \"Topic2\", \"Topic2\", \"Topic2\", \"Topic2\", \"Topic2\", \"Topic2\", \"Topic2\", \"Topic2\", \"Topic2\", \"Topic2\", \"Topic2\", \"Topic2\", \"Topic2\", \"Topic3\", \"Topic3\", \"Topic3\", \"Topic3\", \"Topic3\", \"Topic3\", \"Topic3\", \"Topic3\", \"Topic3\", \"Topic3\", \"Topic3\", \"Topic3\", \"Topic3\", \"Topic3\", \"Topic3\", \"Topic3\", \"Topic3\", \"Topic3\", \"Topic3\", \"Topic3\", \"Topic3\", \"Topic3\", \"Topic3\", \"Topic3\", \"Topic3\", \"Topic3\", \"Topic3\", \"Topic3\", \"Topic3\", \"Topic3\", \"Topic3\", \"Topic3\", \"Topic3\", \"Topic3\", \"Topic3\", \"Topic3\", \"Topic3\", \"Topic3\", \"Topic3\", \"Topic3\", \"Topic3\", \"Topic3\", \"Topic3\", \"Topic3\", \"Topic3\", \"Topic3\", \"Topic3\", \"Topic3\", \"Topic3\", \"Topic3\", \"Topic3\", \"Topic3\", \"Topic3\", \"Topic3\", \"Topic3\", \"Topic3\", \"Topic3\", \"Topic3\", \"Topic3\", \"Topic3\", \"Topic3\", \"Topic3\", \"Topic3\", \"Topic4\", \"Topic4\", \"Topic4\", \"Topic4\", \"Topic4\", \"Topic4\", \"Topic4\", \"Topic4\", \"Topic4\", \"Topic4\", \"Topic4\", \"Topic4\", \"Topic4\", \"Topic4\", \"Topic4\", \"Topic4\", \"Topic4\", \"Topic4\", \"Topic4\", \"Topic4\", \"Topic4\", \"Topic4\", \"Topic4\", \"Topic4\", \"Topic4\", \"Topic4\", \"Topic4\", \"Topic4\", \"Topic4\", \"Topic4\", \"Topic4\", \"Topic4\", \"Topic4\", \"Topic4\", \"Topic4\", \"Topic4\", \"Topic4\", \"Topic4\", \"Topic4\", \"Topic4\", \"Topic4\", \"Topic4\", \"Topic4\", \"Topic4\", \"Topic4\", \"Topic4\", \"Topic4\", \"Topic4\", \"Topic4\", \"Topic4\", \"Topic4\", \"Topic4\", \"Topic4\", \"Topic4\", \"Topic4\", \"Topic4\", \"Topic4\", \"Topic5\", \"Topic5\", \"Topic5\", \"Topic5\", \"Topic5\", \"Topic5\", \"Topic5\", \"Topic5\", \"Topic5\", \"Topic5\", \"Topic5\", \"Topic5\", \"Topic5\", \"Topic5\", \"Topic5\", \"Topic5\", \"Topic5\", \"Topic5\", \"Topic5\", \"Topic5\", \"Topic5\", \"Topic5\", \"Topic5\", \"Topic5\", \"Topic5\", \"Topic5\", \"Topic5\", \"Topic5\", \"Topic5\", \"Topic5\", \"Topic5\", \"Topic5\", \"Topic5\", \"Topic5\", \"Topic5\", \"Topic5\", \"Topic5\", \"Topic5\", \"Topic5\", \"Topic5\", \"Topic5\", \"Topic5\", \"Topic5\", \"Topic5\", \"Topic5\", \"Topic5\", \"Topic5\", \"Topic5\", \"Topic5\", \"Topic5\", \"Topic5\", \"Topic5\", \"Topic5\", \"Topic5\", \"Topic5\", \"Topic5\", \"Topic5\", \"Topic5\", \"Topic5\", \"Topic5\", \"Topic5\", \"Topic5\", \"Topic5\", \"Topic5\", \"Topic5\", \"Topic5\", \"Topic5\", \"Topic5\", \"Topic5\", \"Topic5\", \"Topic5\"], \"logprob\": [30.0, 29.0, 28.0, 27.0, 26.0, 25.0, 24.0, 23.0, 22.0, 21.0, 20.0, 19.0, 18.0, 17.0, 16.0, 15.0, 14.0, 13.0, 12.0, 11.0, 10.0, 9.0, 8.0, 7.0, 6.0, 5.0, 4.0, 3.0, 2.0, 1.0, -10.9403, -10.9469, -10.9479, -10.951, -10.9549, -10.9549, -10.9542, -10.9534, -10.9583, -10.9551, -10.9559, -10.9563, -10.9602, -10.9598, -10.957, -10.959, -10.9622, -10.9615, -10.9627, -10.9632, -10.9617, -10.9627, -10.9628, -10.9643, -10.9634, -10.9632, -10.9633, -10.9651, -10.9704, -10.9653, -10.9669, -5.0805, -5.2906, -5.267, -5.5852, -5.0824, -5.6226, -5.4981, -5.6966, -5.5395, -6.3473, -5.9833, -5.7203, -6.3119, -6.2539, -5.9785, -6.1335, -5.8191, -6.562, -6.2435, -6.3949, -6.2413, -6.4676, -6.2054, -6.1851, -6.2243, -6.5568, -6.2043, -6.1644, -6.9303, -6.1819, -6.2976, -6.1374, -6.252, -6.4136, -10.6519, -10.6517, -10.6515, -10.6518, -10.6571, -10.6578, -10.6525, -10.654, -10.6536, -10.6515, -10.6611, -10.6554, -10.6547, -10.6526, -10.6577, -10.6571, -10.6567, -10.6585, -10.654, -10.6525, -10.6543, -10.6566, -10.6518, -10.6512, -10.6545, -10.6594, -10.6531, -10.6549, -10.6548, -10.6562, -10.6531, -10.653, -10.6526, -10.6529, -10.6532, -10.6513, -10.6525, -5.544, -5.6532, -5.6045, -5.9234, -6.0133, -6.3234, -6.2595, -6.1529, -6.1691, -6.5825, -6.3425, -6.343, -6.437, -6.3956, -6.8163, -6.3139, -6.5576, -7.121, -6.4897, -6.7184, -6.5992, -6.6583, -6.7668, -6.9665, -6.7478, -6.6878, -6.7439, -6.9307, -6.8192, -6.9539, -6.7985, -6.9023, -6.9416, -10.9951, -11.0081, -11.0118, -11.014, -11.0165, -11.0172, -11.0184, -11.0178, -11.018, -11.02, -11.0189, -11.0257, -11.0213, -11.0243, -11.0256, -11.0218, -11.0254, -11.0259, -11.025, -11.0258, -11.025, -11.0283, -11.0271, -11.0283, -11.0269, -11.0274, -11.0285, -11.0283, -11.0295, -11.0294, -11.0275, -5.7529, -5.5472, -4.9788, -5.6499, -5.5338, -5.3208, -5.2305, -5.7824, -5.9041, -5.7884, -5.4077, -5.9418, -5.6581, -5.5922, -5.7565, -6.2801, -6.0138, -5.7058, -5.9367, -6.2411, -6.164, -5.9356, -6.2856, -6.1235, -6.1716, -5.9189, -6.2276, -6.1203, -6.895, -6.5082, -6.1295, -6.5067, -5.9662, -6.8452, -6.587, -5.9193, -5.758, -6.377, -5.4172, -5.6792, -7.7215, -6.5764, -6.4956, -6.6124, -6.9633, -6.6901, -6.9358, -6.1483, -7.9267, -7.0613, -7.0802, -7.0992, -6.8932, -7.3867, -6.4997, -6.0471, -6.7908, -6.4163, -7.2523, -7.1957, -7.5475, -6.5262, -4.4126, -4.6451, -4.7646, -4.8091, -4.9696, -4.9696, -5.0924, -5.1127, -5.2366, -5.2375, -5.2544, -5.2614, -5.34, -5.363, -5.4113, -5.4513, -5.484, -5.5204, -5.5365, -5.5581, -5.5606, -5.6395, -5.6446, -5.664, -5.7764, -5.7886, -5.8063, -10.397, -10.3982, -10.398, -10.3972, -10.397, -10.3982, -10.3958, -10.3973, -10.3976, -10.3969, -10.3982, -10.3968, -10.3977, -10.3971, -10.3981, -10.3971, -10.3986, -10.3976, -10.3972, -10.3981, -10.3972, -10.3974, -10.3974, -10.3973, -10.3981, -10.3973, -10.3987, -10.3981, -10.3984, -10.3982, -10.397, -10.3969, -10.3957, -10.3962, -10.396, -10.3958, -10.3968, -10.3954, -10.396, -6.908, -6.9589, -6.8451, -6.9915, -7.2203, -7.0459, -7.1801, -7.2692, -7.2787, -7.2407, -7.2537, -7.4781, -7.4814, -7.2368, -7.3771, -7.4736, -7.5832, -7.6522, -7.5937, -7.5966, -7.8233, -7.6948, -7.7938, -7.6737, -7.8772, -7.6948, -7.7743, -7.8394, -7.9537, -7.8088, -7.9272, -7.8986], \"loglift\": [30.0, 29.0, 28.0, 27.0, 26.0, 25.0, 24.0, 23.0, 22.0, 21.0, 20.0, 19.0, 18.0, 17.0, 16.0, 15.0, 14.0, 13.0, 12.0, 11.0, 10.0, 9.0, 8.0, 7.0, 6.0, 5.0, 4.0, 3.0, 2.0, 1.0, 2.8247, 2.8153, 2.8145, 2.8127, 2.811, 2.8095, 2.8095, 2.8092, 2.809, 2.8089, 2.8074, 2.8057, 2.8042, 2.8032, 2.8029, 2.8024, 2.8007, 2.8005, 2.7998, 2.7993, 2.7986, 2.7982, 2.7981, 2.798, 2.7979, 2.7977, 2.7968, 2.7963, 2.7949, 2.7947, 2.7943, -0.4355, -0.4816, -0.5024, -0.3487, -0.6698, -0.3851, -0.5286, -0.4352, -0.5699, -0.1819, -0.4252, -0.6077, -0.3012, -0.3418, -0.5672, -0.494, -0.7267, -0.2172, -0.4549, -0.3888, -0.5773, -0.443, -0.685, -0.7011, -0.6878, -0.4529, -0.753, -0.8245, -0.2285, -0.8189, -0.737, -0.8831, -0.8347, -0.769, 3.1133, 3.1105, 3.1095, 3.1093, 3.1088, 3.1087, 3.1085, 3.1082, 3.1081, 3.1071, 3.107, 3.107, 3.1069, 3.1067, 3.1066, 3.1065, 3.1065, 3.1065, 3.1064, 3.1064, 3.1061, 3.1061, 3.1056, 3.1054, 3.1051, 3.1051, 3.1049, 3.1047, 3.1044, 3.1043, 3.1042, 3.104, 3.1038, 3.1038, 3.1039, 3.1025, 3.1032, -0.8989, -0.8886, -1.1918, -1.1143, -1.0437, -0.8394, -0.9195, -1.0605, -1.0565, -0.8061, -1.0882, -1.1055, -1.074, -1.1342, -0.8102, -1.3443, -1.1064, -0.5626, -1.2531, -1.0544, -1.1878, -1.1379, -1.1273, -0.9362, -1.1897, -1.2706, -1.2074, -1.0186, -1.1746, -1.0231, -1.2379, -1.2231, -1.1531, 2.773, 2.7583, 2.7509, 2.7489, 2.748, 2.7462, 2.7446, 2.7436, 2.7436, 2.7434, 2.7431, 2.7415, 2.7414, 2.7384, 2.7371, 2.7369, 2.7368, 2.7364, 2.7363, 2.7356, 2.7355, 2.7351, 2.7343, 2.7331, 2.733, 2.7329, 2.7327, 2.7326, 2.7324, 2.7318, 2.7316, 0.0357, -0.1841, -0.5662, -0.1987, -0.2963, -0.5118, -0.5854, -0.2621, -0.2646, -0.3771, -0.643, -0.3837, -0.5657, -0.6225, -0.5199, -0.2554, -0.4773, -0.7362, -0.5967, -0.4147, -0.5, -0.6812, -0.4794, -0.6395, -0.611, -0.8062, -0.583, -0.703, -0.1943, -0.5131, -0.8681, -0.5759, 0.0, 0.0, 0.0, 0.0, 0.0, 0.0, 0.0, 0.0, 0.0, 0.0, 0.0, 0.0, 0.0, 0.0, 0.0, 0.0, 0.0, 0.0, 0.0, 0.0, 0.0, 0.0, 0.0, 0.0, 0.0, 0.0, 0.0, 0.0, 0.0, 0.0, 0.0, 0.0, 0.0, 0.0, 0.0, 0.0, 0.0, 0.0, 0.0, 0.0, 0.0, 0.0, 0.0, 0.0, 0.0, 0.0, 0.0, 0.0, 0.0, 0.0, 0.0, 0.0, 0.0, 0.0, 0.0, 0.0, 0.0, 3.3703, 3.3699, 3.3685, 3.3681, 3.368, 3.3678, 3.3676, 3.3671, 3.3668, 3.3668, 3.3662, 3.3661, 3.3657, 3.3657, 3.3656, 3.3656, 3.3654, 3.3654, 3.3653, 3.3652, 3.3652, 3.3651, 3.3648, 3.3648, 3.3648, 3.3647, 3.3647, 3.3647, 3.3646, 3.3645, 3.3644, 3.3644, 3.364, 3.3641, 3.364, 3.3638, 3.3642, 3.363, 3.363, -1.9384, -1.9893, -2.4324, -2.3464, -1.959, -2.2813, -2.0675, -1.9293, -1.9156, -2.0042, -1.9993, -1.7989, -1.961, -2.4277, -2.2847, -2.2361, -2.0251, -1.9882, -2.1097, -2.1453, -1.8447, -2.1583, -2.0052, -2.2624, -1.8664, -2.2775, -2.2137, -2.0814, -1.8287, -2.1642, -1.961, -2.2591]}, \"token.table\": {\"Topic\": [4, 4, 4, 4, 4, 4, 4, 4, 4, 4, 4, 4, 4, 4, 4, 4, 4, 4, 4, 4, 4, 4, 4, 4, 4, 4, 4, 4, 4, 4, 4, 4, 4, 4, 4, 4, 4, 4, 4, 4, 4, 4, 4, 4, 4, 4, 4, 4, 4, 4, 4, 4, 4, 4, 4, 4, 4, 4, 4, 4, 4, 4, 4, 4, 4, 4, 4, 4, 4, 4, 4, 4, 4, 4, 4, 4, 4, 4, 4, 4, 4, 4, 4, 4, 4, 4, 4, 4, 4, 4, 4, 4, 4, 4, 4, 4, 4, 4, 4, 4, 4, 4, 4, 4, 4, 4, 4, 4, 4, 4, 4, 4, 4, 4, 4, 4, 4, 4, 4, 4, 4, 4, 4, 4, 4, 4, 4, 4, 4, 4, 4, 4, 4, 4, 4, 4, 4, 4, 4, 4, 4, 4, 4, 4, 4, 4, 4, 4, 4, 4, 4, 4, 4, 4, 4, 4, 4, 4, 4, 4, 4, 4, 4, 4, 4, 4, 4, 4, 4, 4], \"Freq\": [0.8374795088679001, 1.000028977373446, 1.0001249807698445, 1.0003155923330036, 0.9998906554680749, 0.8441653250217162, 0.838547406288943, 1.0000963398721139, 0.8396154844319507, 0.8381348934175963, 0.9999102192310431, 1.0000333719007206, 0.8393472058459498, 0.9996772328951447, 1.0000857122361466, 0.9999695751573507, 0.8434783625152779, 0.8397619208765144, 0.9999729763944172, 0.8385585098148973, 0.9999342087675424, 1.000053909433174, 0.8404727619819167, 0.8373265791873762, 0.9998280623106542, 0.8376158146117616, 0.8392315078708674, 0.8390594885728093, 0.839246976086558, 1.0003283086823285, 0.8417743860872617, 0.9999543493775482, 0.999893680384256, 0.8364841424303031, 0.8338110572649512, 0.8350644422488397, 0.8372303317139519, 0.8349195626590538, 0.8373254176315942, 0.8385716026785449, 0.8376351907304527, 0.9994132395211289, 0.8423509395562584, 0.8392719304648409, 0.8384027446580005, 1.0000380785594039, 0.8381237045822966, 0.8381368719673263, 1.0001204884312405, 0.8386753896036968, 0.840222355791092, 1.0001247675593545, 0.8343609149270372, 0.8365856137607275, 0.8390776731218353, 0.8392850628564327, 0.8383936355752615, 1.0000221328900152, 0.9998947080421408, 0.99998800557611, 0.8366820709272289, 1.0001256026266487, 0.9997083036348308, 0.8389321132380891, 0.9995551736932994, 0.8380988089209152, 0.8385778415371055, 0.8381593329337548, 0.999999803910589, 0.9999657065902696, 0.9998542615460198, 0.9999832964319777, 0.8382046265694701, 0.9999674354782757, 0.8411393884250465, 0.839790263038505, 0.8427818447715131, 0.8366653659860451, 0.999973727015653, 0.8390322703632019, 1.000578924575703, 0.8395641497198142, 0.9998675668811873, 0.8377363070096597, 0.8388454295815898, 0.999971979914692, 1.000108122238903, 0.8394912828940769, 0.8344823510352228, 1.0005308188251236, 0.8384674864052565, 0.8396743367002658, 0.9999191248201056, 1.0000262793452355, 0.839924062077843, 1.0000307648756404, 0.8378323973234255, 0.9999989760756409, 0.9999558757905684, 0.8383953490578877, 0.8396402971946146, 0.8385985271169271, 0.9999360502996246, 1.000291280271081, 0.8401945186251923, 1.0002620336971932, 0.8392315832140553, 0.9999200827728555, 0.8394718201144751, 0.8384071667972477, 1.0001571455845666, 0.9999956546573023, 0.8404226866498733, 1.0000575609257254, 0.8387115186541425, 0.9999858008998964, 0.8402532733185083, 0.9999918798532481, 0.8360713368317179, 0.839888546425643, 0.8371337465094258, 0.8410524392082167, 0.9999023672657587, 1.0003153655225498, 0.8349508980760452, 1.0000594542152643, 1.000126946046612, 0.8370567055271803, 0.8400120470258995, 0.8401997755060039, 0.832209837532562, 0.9999962234622584, 1.0003465100145528, 0.8415784089718635, 0.835725472631505, 1.0001043753876024, 1.0001860171076584, 0.9999540849100165, 0.8398958032957751, 0.837007122967509, 1.0001001230383795, 0.9997739774332448, 1.0000148780270746, 0.837391051750251, 0.836250826747519, 0.8367473488909424, 0.8377109763359951, 0.8362926121111757, 0.8382682527902209, 0.8352406464584236, 0.8410578811922046, 1.0001217337484438, 1.0000635953377421, 0.839646362796356, 1.000123434544091, 1.0001688330680831, 0.8393692855879463, 0.9999168713521882, 0.9999254028294665, 0.8370425826887733, 0.8407300450450006, 1.000118263144554, 1.000019943204086, 0.8378175329014286, 0.840340508881497, 0.8346079386539859, 1.000001345741764, 1.000005162806502, 0.8385994269688054, 0.837622584465325], \"Term\": [\"\\uac00\\uae30\", \"\\uac00\\uc871\", \"\\uac00\\ud574\\uc790\", \"\\uacb0\\uacfc\", \"\\uacbd\\ucc30\", \"\\uace0\\uae30\\ub2a5\", \"\\uacf5\\ub9ac\", \"\\uacf5\\ubb34\\uc6d0\", \"\\uad00\\ud0dc\", \"\\uad11\\ubd84\", \"\\uad6d\\uac00\", \"\\uad6d\\ubbfc\", \"\\uad8c\\ubd80\", \"\\uadf8\\uac83\", \"\\uadfc\\ubb34\", \"\\uae00\", \"\\uae40\\uacbd\\uc790\", \"\\uaf80\", \"\\ub098\\ub77c\", \"\\ub09c\\ubb3c\", \"\\ub0a8\\uc131\", \"\\ub0a8\\uc790\", \"\\ub0a8\\ud654\", \"\\ub0b4\\ubb34\\ub300\\uc2e0\", \"\\ub0b4\\uc6a9\", \"\\ub0b4\\uce58\", \"\\ub178\\ub3d9\\uad00\\uacc4\", \"\\ub178\\uc99d\", \"\\ub18d\\uc791\\ubb3c\", \"\\ub2e8\\uccb4\", \"\\ub300\\ub3c8\", \"\\ub300\\ud1b5\\ub839\", \"\\ub300\\ud55c\\ubbfc\\uad6d\", \"\\ub3c5\\ub9bd\\uad8c\", \"\\ub3c5\\uc778\", \"\\ub3c5\\uc885\", \"\\ub530\\uac1c\\ube44\", \"\\ub534\\uc9c0\\uc77c\\ubcf4\", \"\\ub7ec\\ube14\\ub9ac\", \"\\ub808\\uc628\", \"\\ub9bd\\uc2dd\", \"\\ub9d0\\uc500\", \"\\uba85\\uc904\", \"\\ubaa8\\ub974\", \"\\ubaa9\\ub9c8\\ub984\", \"\\ubb38\\uc81c\", \"\\ubbf8\\uc0e4\", \"\\ubbfc\\uc18d\", \"\\ubc14\", \"\\ubc15\\ud574\\uc804\", \"\\ubc15\\ud604\\ucc3d\", \"\\ubc18\\ub300\", \"\\ubc1c\\ub828\", \"\\ubc25\\ub9db\", \"\\ubc29\\uc0ac\\ub2a5\", \"\\ubc29\\uc120\\uc624\", \"\\ubc30\\uae08\\uc8fc\\uc758\", \"\\ubc88\", \"\\ubc94\\uc8c4\", \"\\ubc95\", \"\\ubc95\\uacbd\", \"\\ubcf4\\ud638\", \"\\ubcf8\\uc778\", \"\\ubd80\\ub791\", \"\\ubd80\\ud0c1\", \"\\ubd88\\uce68\\ubc88\", \"\\ube44\\uace0\\ub780\", \"\\ubf41\", \"\\uc0ac\\uac74\", \"\\uc0ac\\ub78c\", \"\\uc0ac\\uc2e4\", \"\\uc0ac\\ud68c\", \"\\uc0bc\\uc871\", \"\\uc0dd\\uac01\", \"\\uc0dd\\uc0b0\\ubb3c\", \"\\uc120\\ubaa8\", \"\\uc120\\ubc1c\\uc804\", \"\\uc12c\\ub9dd\", \"\\uc131\", \"\\uc131\\uc0dd\", \"\\uc18c\\uc1a1\", \"\\uc190\\uc0c1\\uc724\", \"\\uc218\\uc0ac\", \"\\uc2a4\\ud2b8\\ub9bd\", \"\\uc2b5\\uacfc\", \"\\uc2dc\", \"\\uc2e0\\uace0\", \"\\uc2e0\\uc724\\ubcf5\", \"\\uc2ec\\uc548\", \"\\uc2ec\\ud310\", \"\\uc4f0\\uae30\", \"\\uc544\\ub2c8\\ud0c0\", \"\\uc544\\ub3d9\", \"\\uc544\\uc774\", \"\\uc548\\uac70\", \"\\uc55e\", \"\\uc591\\uc2b9\\uc778\", \"\\uc5ec\\uc131\", \"\\uc5ec\\uc790\", \"\\uc624\\ub69c\\uae30\", \"\\uc624\\ud0c8\", \"\\uc639\\uc54c\\uc774\", \"\\uc6b0\\ub9ac\", \"\\uc6b4\\uc601\", \"\\uc704\\uad6c\", \"\\uc704\\ubc18\", \"\\uc720\\ubcd1\\ud5cc\", \"\\uc758\\ubb34\", \"\\uc774\\ub0a8\", \"\\uc774\\ub2c8\\uc2a4\", \"\\uc774\\uc0c1\", \"\\uc774\\uc720\", \"\\uc774\\uc8fc\\uc2dd\", \"\\uc778\\uad8c\", \"\\uc778\\ubbfc\\uacf5\\ud654\\uad6d\", \"\\uc77c\", \"\\uc790\\uae34\", \"\\uc790\\uc2e0\", \"\\uc7a5\\uc5b4\", \"\\uc7a5\\uc870\", \"\\uc800\\uac00\", \"\\uc810\\ub300\", \"\\uc815\\ubd80\", \"\\uc815\\uc2e0\", \"\\uc815\\uc5f0\\uc8fc\", \"\\uc870\", \"\\uc870\\uc0ac\", \"\\uc870\\ucd09\", \"\\uc874\\uccb4\", \"\\uc8fc\\uc815\\ubc45\\uc774\", \"\\uc900\\ubd84\", \"\\uc99d\\uac70\", \"\\uc9c0\\uc6d0\", \"\\uc9c1\\ud558\", \"\\uc9c4\\ub2f4\", \"\\ucc28\\ubcc4\", \"\\ucc98\\ub9ac\", \"\\ucc98\\ubc8c\", \"\\ucc98\\uc870\\ubd80\", \"\\ucc9c\\uc9c1\", \"\\uccad\\uc18c\\ub144\", \"\\uccad\\uc640\\ub300\", \"\\uccad\\uc6d0\", \"\\uccad\\ud559\\ub3d9\", \"\\ucd08\\uac08\", \"\\ucd9c\\uc0b4\", \"\\ucde8\\uae09\\uc790\", \"\\uce60\\ub4dc\\ub7f0\", \"\\uce90\\ub17c\", \"\\ud22c\\ud45c\\ud568\", \"\\ud398\\uc774\\ub3c4\", \"\\ud3c9\\ub4f1\", \"\\ud3d0\\uc9c0\", \"\\ud3ec\\uc2a4\\ucf54\", \"\\ud3ed\\ub825\", \"\\ud3ed\\ud589\", \"\\ud488\\uc0ac\", \"\\ud53c\\ud574\", \"\\ud53c\\ud574\\uc790\", \"\\ud544\\uba85\", \"\\ud551\\uac1c\", \"\\ud559\\uad50\", \"\\ud559\\uc0dd\", \"\\ud55c\\uc704\", \"\\ud55c\\ucc3d\\ub098\\uc774\", \"\\ud56d\\ub3c4\", \"\\ud5cc\\ubc95\", \"\\ud68c\\uc0ac\", \"\\ud759\\ud0d5\", \"\\ud761\\uae30\"]}, \"R\": 30, \"lambda.step\": 0.01, \"plot.opts\": {\"xlab\": \"PC1\", \"ylab\": \"PC2\"}, \"topic.order\": [1, 2, 3, 4, 5]};\n",
              "\n",
              "function LDAvis_load_lib(url, callback){\n",
              "  var s = document.createElement('script');\n",
              "  s.src = url;\n",
              "  s.async = true;\n",
              "  s.onreadystatechange = s.onload = callback;\n",
              "  s.onerror = function(){console.warn(\"failed to load library \" + url);};\n",
              "  document.getElementsByTagName(\"head\")[0].appendChild(s);\n",
              "}\n",
              "\n",
              "if(typeof(LDAvis) !== \"undefined\"){\n",
              "   // already loaded: just create the visualization\n",
              "   !function(LDAvis){\n",
              "       new LDAvis(\"#\" + \"ldavis_el3351401708648889608147435539\", ldavis_el3351401708648889608147435539_data);\n",
              "   }(LDAvis);\n",
              "}else if(typeof define === \"function\" && define.amd){\n",
              "   // require.js is available: use it to load d3/LDAvis\n",
              "   require.config({paths: {d3: \"https://d3js.org/d3.v5\"}});\n",
              "   require([\"d3\"], function(d3){\n",
              "      window.d3 = d3;\n",
              "      LDAvis_load_lib(\"https://cdn.jsdelivr.net/gh/bmabey/pyLDAvis@3.4.0/pyLDAvis/js/ldavis.v3.0.0.js\", function(){\n",
              "        new LDAvis(\"#\" + \"ldavis_el3351401708648889608147435539\", ldavis_el3351401708648889608147435539_data);\n",
              "      });\n",
              "    });\n",
              "}else{\n",
              "    // require.js not available: dynamically load d3 & LDAvis\n",
              "    LDAvis_load_lib(\"https://d3js.org/d3.v5.js\", function(){\n",
              "         LDAvis_load_lib(\"https://cdn.jsdelivr.net/gh/bmabey/pyLDAvis@3.4.0/pyLDAvis/js/ldavis.v3.0.0.js\", function(){\n",
              "                 new LDAvis(\"#\" + \"ldavis_el3351401708648889608147435539\", ldavis_el3351401708648889608147435539_data);\n",
              "            })\n",
              "         });\n",
              "}\n",
              "</script>"
            ]
          },
          "metadata": {},
          "execution_count": 134
        }
      ]
    },
    {
      "cell_type": "code",
      "source": [
        "pyLDAvis.enable_notebook()\n",
        "pyLDAvis.display(lda_visualization1)"
      ],
      "metadata": {
        "colab": {
          "base_uri": "https://localhost:8080/",
          "height": 880
        },
        "id": "-m0tskaRcNA7",
        "outputId": "8443bd1f-e961-4111-b22c-48862d494602"
      },
      "execution_count": null,
      "outputs": [
        {
          "output_type": "execute_result",
          "data": {
            "text/plain": [
              "<IPython.core.display.HTML object>"
            ],
            "text/html": [
              "\n",
              "<link rel=\"stylesheet\" type=\"text/css\" href=\"https://cdn.jsdelivr.net/gh/bmabey/pyLDAvis@3.4.0/pyLDAvis/js/ldavis.v1.0.0.css\">\n",
              "\n",
              "\n",
              "<div id=\"ldavis_el3351401710344311526140543757\" style=\"background-color:white;\"></div>\n",
              "<script type=\"text/javascript\">\n",
              "\n",
              "var ldavis_el3351401710344311526140543757_data = {\"mdsDat\": {\"x\": [-0.19833638538675544, 0.041021111264078494, -0.09101499057256926, 0.1506730770388577, 0.09765718765638842], \"y\": [0.0, 0.0, 0.0, 0.0, 0.0], \"topics\": [1, 2, 3, 4, 5], \"cluster\": [1, 1, 1, 1, 1], \"Freq\": [99.99991458016208, 2.129658698070868e-05, 2.1643481022212214e-05, 2.1230543459745015e-05, 2.1249226468956817e-05]}, \"tinfo\": {\"Term\": [\"\\uc120\\uc218\", \"\\uad6d\\ubbfc\", \"\\uc0dd\\uac01\", \"\\uc6b0\\ub9ac\", \"\\uc0ac\\ub78c\", \"\\ub098\\ub77c\", \"\\uad6d\\uac00\", \"\\ubc29\\uc1a1\", \"\\uccad\\uc6d0\", \"\\ub300\\ud45c\", \"\\uc62c\\ub9bc\\ud53d\", \"\\ub9d0\", \"\\ucd95\\uad6c\", \"\\ub300\\ud55c\\ubbfc\\uad6d\", \"\\uac8c\\uc784\", \"\\ud55c\\uad6d\", \"\\ud300\", \"\\uc815\\ubd80\", \"\\ubb38\\uc81c\", \"\\uac10\\ub3c5\", \"\\ub300\\ud1b5\\ub839\", \"\\ubb38\\ud654\", \"\\uae30\\uc0ac\", \"\\uc5f0\\ub9f9\", \"\\uc5b8\\ub860\", \"\\uacbd\\uae30\", \"\\ub54c\\ubb38\", \"\\uc870\\uc0ac\", \"\\ud611\\ud68c\", \"\\uc2a4\\ud3ec\\uce20\", \"\\uc5b8\\ub860\", \"\\uc9c0\\uae08\", \"\\uc0ac\\ub78c\", \"\\uc815\\ub3c4\", \"\\ubcf4\\ub3c4\", \"\\ud574\\uc678\", \"\\uc870\\uc120\", \"\\uccad\\uc640\\ub300\", \"\\ubfd0\", \"\\uc2a4\\ud3ec\\uce20\", \"\\ud32c\", \"\\uc62c\\ub9bc\\ud53d\", \"\\uac10\\uc0ac\", \"\\ub9d0\", \"\\ud574\\ub2f9\", \"\\uacbd\\uae30\", \"\\uc0ac\\uc2e4\", \"\\ubc29\\uc1a1\", \"\\uc5ec\\uc790\", \"\\uc778\\ud130\\ub137\", \"\\uc790\\uccb4\", \"\\uc77c\\ubd80\", \"\\uae40\\ubcf4\\ub984\", \"\\ud611\\ud68c\", \"\\uc694\\uccad\", \"\\uc81c\\uc548\", \"\\uc815\\uce58\", \"\\uc911\\uacc4\", \"\\uc704\", \"\\ucc28\", \"\\uc120\\uc218\", \"\\uad6d\\ubbfc\", \"\\uc0dd\\uac01\", \"\\uc6b0\\ub9ac\", \"\\uad6d\\uac00\", \"\\ub098\\ub77c\", \"\\uccad\\uc6d0\", \"\\ub300\\ud45c\", \"\\ucd95\\uad6c\", \"\\ub300\\ud55c\\ubbfc\\uad6d\", \"\\uac8c\\uc784\", \"\\ud55c\\uad6d\", \"\\ubb38\\uc81c\", \"\\uac10\\ub3c5\", \"\\ud300\", \"\\uc815\\ubd80\", \"\\ubb38\\ud654\", \"\\ub300\\ud1b5\\ub839\", \"\\uae30\\uc0ac\", \"\\uc5f0\\ub9f9\", \"\\ub274\\uc2a4\", \"\\ub54c\\ubb38\", \"\\uadf9\\ub2e8\\uc8fc\\uc758\", \"\\uae30\\uc120\", \"\\uc21c\\ub840\\uc790\", \"\\ud669\\ud1a0\\ubcbd\", \"\\uc758\\uc8fc\", \"\\ud0f1\\ud06c\", \"\\uc810\\uc120\\uc218\", \"\\ubd88\\uc81c\\uc790\", \"\\uc1a1\\uacf3\", \"\\ubcd1\\uc790\\ud638\\ub780\", \"\\ud3b8\\ucc28\", \"\\uc0b0\\uc790\\ubd80\", \"\\ubaa8\\ucc28\\ub974\\ud2b8\", \"\\ud5e4\\ub974\\uccb4\\uace0\\ube44\\ub098\", \"\\uc720\\ud64d\\uc900\", \"\\uc678\\uc904\", \"\\ubc15\\uadfc\\ud64d\", \"\\uc11c\\uc5ed\", \"\\ub2e4\\ucf00\", \"\\uc7a5\\ucc44\\uadfc\", \"\\ub2c8\\uc544\", \"\\ubb38\\uc2b9\\uc6d0\", \"\\uc7a5\\ub9c8\\ube44\", \"\\uc11c\\ub974\", \"\\uae40\\ubbf8\\uc18c\", \"\\uc7a5\\uc0c1\", \"\\ucd9c\\uc601\", \"\\ud53c\\uc5b4\\uc2f1\", \"\\ud5a5\\ud68c\", \"\\ubaa9\\ubcc4\", \"\\uc5b4\\ucc28\", \"\\ucc38\\uad00\\ub2e8\", \"\\uad6d\\ubbfc\", \"\\uc120\\uc218\", \"\\uc0dd\\uac01\", \"\\ub098\\ub77c\", \"\\ucd95\\uad6c\", \"\\ub300\\ud45c\", \"\\uc0ac\\ub78c\", \"\\uac8c\\uc784\", \"\\uad6d\\uac00\", \"\\ud611\\ud68c\", \"\\ub9d0\", \"\\ubc29\\uc1a1\", \"\\uc6b0\\ub9ac\", \"\\ub54c\\ubb38\", \"\\ub300\\ud55c\\ubbfc\\uad6d\", \"\\ubb38\\uc81c\", \"\\uc62c\\ub9bc\\ud53d\", \"\\uccad\\uc6d0\", \"\\uc815\\ubd80\", \"\\ub300\\ud1b5\\ub839\", \"\\uacbd\\uae30\", \"\\ud55c\\uad6d\", \"\\uac10\\ub3c5\", \"\\ud300\", \"\\ucc98\\ubc8c\", \"\\uc0ac\\uac74\", \"\\uc5b8\\ub860\", \"\\uae00\", \"\\uc870\\uc0ac\", \"\\uae30\\uc0ac\", \"\\uc2a4\\ud3ec\\uce20\", \"\\ubb38\\ud654\", \"\\uadf9\\ub2e8\\uc8fc\\uc758\", \"\\uae30\\uc120\", \"\\ud669\\ud1a0\\ubcbd\", \"\\uc21c\\ub840\\uc790\", \"\\ud0f1\\ud06c\", \"\\ubd88\\uc81c\\uc790\", \"\\uc758\\uc8fc\", \"\\uc810\\uc120\\uc218\", \"\\ud3b8\\ucc28\", \"\\ubaa8\\ucc28\\ub974\\ud2b8\", \"\\uc7a5\\ucc44\\uadfc\", \"\\uc11c\\uc5ed\", \"\\ubcd1\\uc790\\ud638\\ub780\", \"\\ud5e4\\ub974\\uccb4\\uace0\\ube44\\ub098\", \"\\ubc15\\uadfc\\ud64d\", \"\\uc720\\ud64d\\uc900\", \"\\uc0b0\\uc790\\ubd80\", \"\\uc7a5\\ub9c8\\ube44\", \"\\uc678\\uc904\", \"\\uc1a1\\uacf3\", \"\\ub2c8\\uc544\", \"\\ubb38\\uc2b9\\uc6d0\", \"\\ub2e4\\ucf00\", \"\\ub780\\uc2a4\", \"\\uae40\\ubbf8\\uc18c\", \"\\ucc2c\\uc1a1\\uac00\", \"\\uc7a5\\uc0c1\", \"\\uc774\\ub9db\\uc0b4\", \"\\ud5a5\\ud68c\", \"\\ucd9c\\uc601\", \"\\uc120\\uc218\", \"\\uad6d\\ubbfc\", \"\\uc0dd\\uac01\", \"\\uc0c1\\ud669\", \"\\uc6b0\\ub9ac\", \"\\ub300\\ud55c\\ubbfc\\uad6d\", \"\\uccad\\uc6d0\", \"\\ub098\\ub77c\", \"\\ub300\\ud1b5\\ub839\", \"\\ud3c9\\ud654\", \"\\uc138\\uacc4\", \"\\ud55c\\uad6d\", \"\\ud300\", \"\\uac8c\\uc784\", \"\\ub300\\ud45c\", \"\\uc815\\ubd80\", \"\\ubb38\\ud654\", \"\\uc5f0\\ub9f9\", \"\\uc774\\uc720\", \"\\uae30\\uc0ac\", \"\\ubd81\\ud55c\", \"\\ud544\\uc694\", \"\\uad6d\\uac00\", \"\\ub9d0\\uc500\", \"\\ucd95\\uad6c\", \"\\uae30\\uc790\", \"\\ubc14\", \"\\uc774\\ubc88\", \"\\uc6d4\\ub4dc\\ucef5\", \"\\ubc29\\uc1a1\", \"\\uc870\\uc0ac\", \"\\uc62c\\ub9bc\\ud53d\", \"\\uc0ac\\ub78c\", \"\\ubb38\\uc81c\", \"\\uac10\\ub3c5\", \"\\ub9d0\", \"\\ub54c\\ubb38\", \"\\ub274\\uc2a4\", \"\\uadf9\\ub2e8\\uc8fc\\uc758\", \"\\uae30\\uc120\", \"\\ud669\\ud1a0\\ubcbd\", \"\\uc21c\\ub840\\uc790\", \"\\ud0f1\\ud06c\", \"\\ubd88\\uc81c\\uc790\", \"\\uc758\\uc8fc\", \"\\uc810\\uc120\\uc218\", \"\\ud3b8\\ucc28\", \"\\ubaa8\\ucc28\\ub974\\ud2b8\", \"\\uc7a5\\ucc44\\uadfc\", \"\\uc11c\\uc5ed\", \"\\ubcd1\\uc790\\ud638\\ub780\", \"\\ud5e4\\ub974\\uccb4\\uace0\\ube44\\ub098\", \"\\uc720\\ud64d\\uc900\", \"\\ubc15\\uadfc\\ud64d\", \"\\uc0b0\\uc790\\ubd80\", \"\\uc1a1\\uacf3\", \"\\uc678\\uc904\", \"\\uc7a5\\ub9c8\\ube44\", \"\\ub2c8\\uc544\", \"\\ubb38\\uc2b9\\uc6d0\", \"\\ub2e4\\ucf00\", \"\\uae40\\ubbf8\\uc18c\", \"\\ub780\\uc2a4\", \"\\uc7a5\\uc0c1\", \"\\ucc2c\\uc1a1\\uac00\", \"\\uc774\\ub9db\\uc0b4\", \"\\ud5a5\\ud68c\", \"\\ucd9c\\uc601\", \"\\uba85\\ubb38\\ud654\", \"\\uc120\\uc218\", \"\\uad6d\\ubbfc\", \"\\uc0ac\\ub78c\", \"\\uc62c\\ub9bc\\ud53d\", \"\\ubc29\\uc1a1\", \"\\ucd95\\uad6c\", \"\\uc6b0\\ub9ac\", \"\\uc0dd\\uac01\", \"\\ub9d0\", \"\\ub300\\ud1b5\\ub839\", \"\\ub300\\ud45c\", \"\\uccad\\uc6d0\", \"\\ud55c\\uad6d\", \"\\ub098\\ub77c\", \"\\uc5b8\\ub860\", \"\\ub54c\\ubb38\", \"\\uc5f0\\ub9f9\", \"\\ud300\", \"\\uad6d\\uac00\", \"\\ubb38\\ud654\", \"\\uae30\\uc0ac\", \"\\uacbd\\uae30\", \"\\ub300\\ud55c\\ubbfc\\uad6d\", \"\\uac10\\ub3c5\", \"\\uac8c\\uc784\", \"\\ubb38\\uc81c\", \"\\uc815\\ubd80\", \"\\uc774\\ubc88\", \"\\uc0ac\\uac74\", \"\\uc774\\uc720\", \"\\uc2a4\\ud3ec\\uce20\", \"\\uadf9\\ub2e8\\uc8fc\\uc758\", \"\\uae30\\uc120\", \"\\ud669\\ud1a0\\ubcbd\", \"\\uc21c\\ub840\\uc790\", \"\\ud0f1\\ud06c\", \"\\ubd88\\uc81c\\uc790\", \"\\uc758\\uc8fc\", \"\\uc810\\uc120\\uc218\", \"\\uc11c\\uc5ed\", \"\\ud3b8\\ucc28\", \"\\ubcd1\\uc790\\ud638\\ub780\", \"\\ubaa8\\ucc28\\ub974\\ud2b8\", \"\\uc7a5\\ucc44\\uadfc\", \"\\ud5e4\\ub974\\uccb4\\uace0\\ube44\\ub098\", \"\\uc1a1\\uacf3\", \"\\uc720\\ud64d\\uc900\", \"\\ubc15\\uadfc\\ud64d\", \"\\uc678\\uc904\", \"\\uc0b0\\uc790\\ubd80\", \"\\uc7a5\\ub9c8\\ube44\", \"\\ub2e4\\ucf00\", \"\\ubb38\\uc2b9\\uc6d0\", \"\\ub2c8\\uc544\", \"\\uae40\\ubbf8\\uc18c\", \"\\ub780\\uc2a4\", \"\\uc7a5\\uc0c1\", \"\\uc774\\ub9db\\uc0b4\", \"\\ucc2c\\uc1a1\\uac00\", \"\\ud5a5\\ud68c\", \"\\uc57c\\ud6c4\", \"\\ubaa9\\ubcc4\", \"\\uc120\\uc218\", \"\\uc6b0\\ub9ac\", \"\\uad6d\\ubbfc\", \"\\ub9d0\", \"\\uad6d\\uac00\", \"\\uc0dd\\uac01\", \"\\uc0ac\\ub78c\", \"\\ubb38\\ud654\", \"\\ucd95\\uad6c\", \"\\ubc29\\uc1a1\", \"\\ub300\\ud45c\", \"\\uc62c\\ub9bc\\ud53d\", \"\\ub300\\ud55c\\ubbfc\\uad6d\", \"\\ud55c\\uad6d\", \"\\ubb38\\uc81c\", \"\\uc815\\ubd80\", \"\\ub098\\ub77c\", \"\\ub300\\ud1b5\\ub839\", \"\\uc5b8\\ub860\", \"\\uae30\\uc0ac\", \"\\uc5f0\\ub9f9\", \"\\uccad\\uc6d0\", \"\\uac10\\ub3c5\", \"\\uacbd\\uae30\", \"\\uc2dc\\uac04\", \"\\uae30\\uc790\", \"\\ub54c\\ubb38\", \"\\ud300\", \"\\ub274\\uc2a4\", \"\\uc774\\uc0c1\", \"\\uac8c\\uc784\"], \"Freq\": [13379.0, 9026.0, 7715.0, 6337.0, 6795.0, 5159.0, 5487.0, 5716.0, 4795.0, 4780.0, 5408.0, 5123.0, 4655.0, 4205.0, 4059.0, 3967.0, 3433.0, 3386.0, 3706.0, 3542.0, 2984.0, 3082.0, 2880.0, 2595.0, 3334.0, 2879.0, 2463.0, 2431.0, 2701.0, 2779.0, 3334.026035335091, 1098.552601716972, 6795.769374001306, 1569.5352942846932, 1647.5990514722905, 900.6435572989096, 647.2939657773852, 1078.7239375905958, 1207.9925712183135, 2779.108174162179, 1198.7934778314584, 5408.544861878444, 1377.3769181068205, 5123.899626672461, 913.5984221021866, 2879.6892167373703, 1660.4003529072143, 5716.832489352379, 1326.3742316055896, 1553.3235469207239, 671.3011670908855, 713.0263320232109, 1285.9446958500744, 2701.3304685385046, 1311.6310505784306, 578.7842320349495, 1363.3227415565402, 639.5354482634875, 1457.0993572523776, 608.797528292112, 13379.016705655937, 9026.712523603217, 7715.706812917215, 6337.772500396886, 5487.329565601669, 5159.465737008658, 4795.7086938352095, 4780.716781862598, 4655.689197457941, 4205.915153767803, 4059.050177830863, 3967.3218054899016, 3706.8427684087555, 3542.6761732819864, 3433.3006367307685, 3386.244825165833, 3082.53204691722, 2984.9704619093345, 2880.2729551168572, 2595.6334277701703, 2479.3977029449425, 2463.008243577139, 5.385083367151163e-06, 5.390404087589103e-06, 5.405708418360691e-06, 5.389131161748077e-06, 5.423075363830778e-06, 5.397932430346458e-06, 5.418876352218602e-06, 5.375524917701004e-06, 5.404322992904446e-06, 5.396556136352489e-06, 5.380070559621109e-06, 5.3948310204996434e-06, 5.38174892238711e-06, 5.3907401254007945e-06, 5.393554076815217e-06, 5.392699006687859e-06, 5.383020387194172e-06, 5.376558599230445e-06, 5.393289994926247e-06, 5.3714223343304435e-06, 5.384389741276813e-06, 5.386811770330427e-06, 5.3729841796378255e-06, 5.406155129495145e-06, 5.383493396939976e-06, 5.386278492933612e-06, 5.390999458929382e-06, 5.400564483032379e-06, 5.385825572404811e-06, 5.394615517989972e-06, 5.406703017231598e-06, 5.413282053170926e-06, 0.00045022586788780856, 0.0005185807977302818, 0.0003814772069244786, 0.0002951941046353748, 0.0002485536459775924, 0.00024592995625008143, 0.0002859477700267824, 0.00022413474248441091, 0.00025632043239991995, 0.00017992080409864672, 0.0002389944864649269, 0.0002459021615399527, 0.0002565027928151549, 0.00016238508875125642, 0.00019925742497472408, 0.0001884269672128685, 0.00022070923731752547, 0.0002025429513995986, 0.00017390624155332998, 0.00016377601646140854, 0.00015683491292928933, 0.0001757848974654386, 0.000167175515223737, 0.00015996609572622013, 0.00013168034961461762, 0.00012079083101580638, 0.00015375944812360485, 0.00013299021916045396, 0.00013148341392455902, 0.00013775056002155044, 0.00013345897729742352, 0.00013655266411870544, 2.1631139467246723e-06, 2.103180731364287e-06, 2.0229660056029055e-06, 2.0134537984881465e-06, 1.9696980169683373e-06, 1.9667263106636657e-06, 1.935827506686227e-06, 1.9038583242028207e-06, 1.8974302994417388e-06, 1.8935125693387468e-06, 1.8878601838661054e-06, 1.882577521643661e-06, 1.876866299689939e-06, 1.876470406269924e-06, 1.8732407103478961e-06, 1.8702764282048754e-06, 1.8701528159133937e-06, 1.8688875531640998e-06, 1.8670834818830179e-06, 1.866119640096736e-06, 1.8621128200539374e-06, 1.852854519267627e-06, 1.8511820412518008e-06, 1.8515775634637336e-06, 1.8484779759746315e-06, 1.8437046112414145e-06, 1.8418363209620553e-06, 1.839980094945378e-06, 1.8378063004140987e-06, 1.8306922831165066e-06, 0.0027270686203510947, 0.001922992904082239, 0.0015109406715086739, 0.0004144079606405878, 0.0012329647595999897, 0.0008802567851279045, 0.0009611001799888601, 0.0010088765251595152, 0.0006518077050418284, 0.00023427824672627557, 0.00047254363649731093, 0.0007837451069171996, 0.0006968621743715145, 0.0007789254124456184, 0.0008749771489937489, 0.0006751947882910495, 0.0006217308463338768, 0.0005448437100052147, 0.00042313834710991605, 0.0005711167371285524, 0.000373812478434194, 0.0004495888413933484, 0.0008901549387708993, 0.00017194199208633344, 0.0007535731239108519, 0.00037211347388879044, 0.0002244717250560363, 0.00041051803253814483, 0.00035291183601167983, 0.0008242602181192291, 0.0004543141718006864, 0.0007459713525563099, 0.000859659096015367, 0.0005664253321702927, 0.0005466610497479986, 0.000662675299773822, 0.0004434531340882626, 0.00042840344376589523, 6.63430755775864e-06, 6.635464021224119e-06, 6.637171042863339e-06, 6.63469571583616e-06, 6.634567543562907e-06, 6.633844389771207e-06, 6.634030822168665e-06, 6.634980462193214e-06, 6.635011048758422e-06, 6.6339346929637255e-06, 6.635646812363814e-06, 6.635662105646417e-06, 6.634473599112626e-06, 6.634563174053592e-06, 6.635570345950794e-06, 6.635450912696172e-06, 6.635595106503581e-06, 6.6347743670038365e-06, 6.635663562149522e-06, 6.636139110413349e-06, 6.635244817506796e-06, 6.6355055315626155e-06, 6.634654933749216e-06, 6.634677509547345e-06, 6.6338778893426255e-06, 6.633506481050815e-06, 6.632668991765363e-06, 6.633733695535217e-06, 6.634509283438702e-06, 6.634349068097137e-06, 6.63587548335132e-06, 6.242660864002429e-05, 5.1155686575412416e-05, 4.390317210069114e-05, 3.621830341822883e-05, 3.60453961086057e-05, 3.4330547221699105e-05, 3.5946543242860104e-05, 3.626743418097129e-05, 3.2711335241681955e-05, 2.9458296729490732e-05, 3.163419876132197e-05, 2.9651935904312377e-05, 2.81338955429842e-05, 2.9333823974125796e-05, 2.6388984431987593e-05, 2.4494251585584257e-05, 2.4148734092971435e-05, 2.4439449199750406e-05, 2.6287719597099895e-05, 2.3738362886596212e-05, 2.2823090509316223e-05, 2.272283066157107e-05, 2.397010126964201e-05, 2.2964732523284505e-05, 2.3146849302041416e-05, 2.253810237274665e-05, 2.1718137732654347e-05, 1.964877162044829e-05, 1.9051954908087693e-05, 1.8804114883214617e-05, 1.983762326956335e-05, 6.193813619158545e-06, 6.185900763064104e-06, 6.193110237974764e-06, 6.192145913305185e-06, 6.187442370529077e-06, 6.184158710184064e-06, 6.193094202341558e-06, 6.188738341249039e-06, 6.198591508961333e-06, 6.185747695656234e-06, 6.195245163868336e-06, 6.1870925021682315e-06, 6.1848373090256195e-06, 6.187317001033107e-06, 6.19051756764242e-06, 6.189019693722552e-06, 6.188905986505278e-06, 6.188032044495584e-06, 6.185706148788384e-06, 6.1888389284027825e-06, 6.194386528599429e-06, 6.192777134139542e-06, 6.184811797790975e-06, 6.187695296198271e-06, 6.187306796539249e-06, 6.189774097375624e-06, 6.189347695310844e-06, 6.1869102790636254e-06, 6.185808922619382e-06, 6.196103070244824e-06, 6.195533076373614e-06, 0.0002531896798591907, 0.0001633921981323388, 0.00018313181770032063, 0.00013316715207490216, 0.00013419799255101676, 0.00014481154083421298, 0.00013284685925282739, 9.535241749679728e-05, 0.00010429151329840805, 0.00010890603207009916, 0.00010237803658383273, 0.000105663452101789, 9.310336454391761e-05, 8.9866534079004e-05, 8.66274936122777e-05, 8.309710609919721e-05, 8.873169523262826e-05, 7.408026954780672e-05, 7.555544867333365e-05, 7.074564504489762e-05, 6.67037091702865e-05, 7.618877454899567e-05, 6.879059230677524e-05, 6.360580560032503e-05, 5.820407718559363e-05, 5.294859957683472e-05, 5.824234112199136e-05, 6.259420205291755e-05, 5.6336590667051366e-05, 5.552978256466442e-05, 6.172580545674322e-05], \"Total\": [13379.0, 9026.0, 7715.0, 6337.0, 6795.0, 5159.0, 5487.0, 5716.0, 4795.0, 4780.0, 5408.0, 5123.0, 4655.0, 4205.0, 4059.0, 3967.0, 3433.0, 3386.0, 3706.0, 3542.0, 2984.0, 3082.0, 2880.0, 2595.0, 3334.0, 2879.0, 2463.0, 2431.0, 2701.0, 2779.0, 3334.0266463827734, 1098.5528089340985, 6795.770696358202, 1569.535603738927, 1647.5993815282413, 900.6437378841736, 647.2940956780353, 1078.7241547084138, 1207.9928161604582, 2779.108741947749, 1198.793722888843, 5408.5459704407895, 1377.3772028073695, 5123.900694220734, 913.598613050947, 2879.689820668279, 1660.4007045847616, 5716.833704466187, 1326.3745144224115, 1553.323878513268, 671.3013104329403, 713.0264853585769, 1285.944974665007, 2701.3310568060606, 1311.631336890673, 578.784358898216, 1363.3230409108633, 639.5355892083571, 1457.0996787859563, 608.7976634463472, 13379.020266921645, 9026.715131109491, 7715.708886414069, 6337.77418920318, 5487.330872562752, 5159.467159144807, 4795.709963319051, 4780.718036781938, 4655.690338206772, 4205.916350355479, 4059.0512657636727, 3967.322883020336, 3706.843632426651, 3542.676978873876, 3433.30158059269, 3386.2457790821063, 3082.5329242915113, 2984.971381031623, 2880.2737575528904, 2595.6341669609087, 2479.3983212936173, 2463.0089321519554, 1.1225904065019014, 1.1310156762771872, 1.1428278360548518, 1.1420189474714524, 1.1530370276406536, 1.1494182733287677, 1.1577938233294585, 1.1508209829515343, 1.1635873870036082, 1.1622301056031616, 1.1602739197517062, 1.16351813031283, 1.1607477146949643, 1.1627669184635714, 1.1634406312788372, 1.163950654779294, 1.1634345134255863, 1.1620455080041392, 1.165978431291043, 1.1619560946918077, 1.1650841058627481, 1.1660181946530068, 1.1644088919537077, 1.1716028593940937, 1.1669518396732221, 1.1677442138261511, 1.1692254093807053, 1.1713261931295957, 1.1684264953760244, 1.170661699058154, 1.1741765643094577, 1.178604719111549, 9026.715131109491, 13379.020266921645, 7715.708886414069, 5159.467159144807, 4655.690338206772, 4780.718036781938, 6795.770696358202, 4059.0512657636727, 5487.330872562752, 2701.3310568060606, 5123.900694220734, 5716.833704466187, 6337.77418920318, 2463.0089321519554, 4205.916350355479, 3706.843632426651, 5408.5459704407895, 4795.709963319051, 3386.2457790821063, 2984.971381031623, 2879.689820668279, 3967.322883020336, 3542.676978873876, 3433.30158059269, 2250.488528194895, 1873.6586375744944, 3334.0266463827734, 2406.862827781491, 2431.501953515343, 2880.2737575528904, 2779.108741947749, 3082.5329242915113, 1.1225904065019014, 1.1310156762771872, 1.1420189474714524, 1.1428278360548518, 1.1494182733287677, 1.1508209829515343, 1.1530370276406536, 1.1577938233294585, 1.1602739197517062, 1.1607477146949643, 1.1619560946918077, 1.1620455080041392, 1.1622301056031616, 1.1627669184635714, 1.1634345134255863, 1.1634406312788372, 1.16351813031283, 1.1644088919537077, 1.163950654779294, 1.1635873870036082, 1.1650841058627481, 1.1660181946530068, 1.165978431291043, 1.1670104646894435, 1.1669518396732221, 1.1679138917307854, 1.1677442138261511, 1.1681828446007607, 1.1684264953760244, 1.1692254093807053, 13379.020266921645, 9026.715131109491, 7715.708886414069, 1409.0934076014748, 6337.77418920318, 4205.916350355479, 4795.709963319051, 5159.467159144807, 2984.971381031623, 750.8814973732597, 1990.2047314118533, 3967.322883020336, 3433.30158059269, 4059.0512657636727, 4780.718036781938, 3386.2457790821063, 3082.5329242915113, 2595.6341669609087, 1879.6269885755719, 2880.2737575528904, 1614.6484212890844, 2095.9559609541207, 5487.330872562752, 564.3687179284457, 4655.690338206772, 1742.2807685274356, 867.4314765129711, 2064.2803870851626, 1679.8353360643598, 5716.833704466187, 2431.501953515343, 5408.5459704407895, 6795.770696358202, 3706.843632426651, 3542.676978873876, 5123.900694220734, 2463.0089321519554, 2479.3983212936173, 1.1225904065019014, 1.1310156762771872, 1.1420189474714524, 1.1428278360548518, 1.1494182733287677, 1.1508209829515343, 1.1530370276406536, 1.1577938233294585, 1.1602739197517062, 1.1607477146949643, 1.1619560946918077, 1.1620455080041392, 1.1622301056031616, 1.1627669184635714, 1.1634406312788372, 1.1634345134255863, 1.16351813031283, 1.1635873870036082, 1.163950654779294, 1.1644088919537077, 1.1650841058627481, 1.1660181946530068, 1.165978431291043, 1.1669518396732221, 1.1670104646894435, 1.1677442138261511, 1.1679138917307854, 1.1681828446007607, 1.1684264953760244, 1.1692254093807053, 1.169551162795724, 13379.020266921645, 9026.715131109491, 6795.770696358202, 5408.5459704407895, 5716.833704466187, 4655.690338206772, 6337.77418920318, 7715.708886414069, 5123.900694220734, 2984.971381031623, 4780.718036781938, 4795.709963319051, 3967.322883020336, 5159.467159144807, 3334.0266463827734, 2463.0089321519554, 2595.6341669609087, 3433.30158059269, 5487.330872562752, 3082.5329242915113, 2880.2737575528904, 2879.689820668279, 4205.916350355479, 3542.676978873876, 4059.0512657636727, 3706.843632426651, 3386.2457790821063, 2064.2803870851626, 1873.6586375744944, 1879.6269885755719, 2779.108741947749, 1.1225904065019014, 1.1310156762771872, 1.1420189474714524, 1.1428278360548518, 1.1494182733287677, 1.1508209829515343, 1.1530370276406536, 1.1577938233294585, 1.1620455080041392, 1.1602739197517062, 1.1622301056031616, 1.1607477146949643, 1.1619560946918077, 1.1627669184635714, 1.1635873870036082, 1.1634406312788372, 1.1634345134255863, 1.163950654779294, 1.16351813031283, 1.1644088919537077, 1.165978431291043, 1.1660181946530068, 1.1650841058627481, 1.1669518396732221, 1.1670104646894435, 1.1677442138261511, 1.1681828446007607, 1.1679138917307854, 1.1684264953760244, 1.1705718659245892, 1.170661699058154, 13379.020266921645, 6337.77418920318, 9026.715131109491, 5123.900694220734, 5487.330872562752, 7715.708886414069, 6795.770696358202, 3082.5329242915113, 4655.690338206772, 5716.833704466187, 4780.718036781938, 5408.5459704407895, 4205.916350355479, 3967.322883020336, 3706.843632426651, 3386.2457790821063, 5159.467159144807, 2984.971381031623, 3334.0266463827734, 2880.2737575528904, 2595.6341669609087, 4795.709963319051, 3542.676978873876, 2879.689820668279, 2131.2640512858547, 1742.2807685274356, 2463.0089321519554, 3433.30158059269, 2479.3983212936173, 2410.1968262502846, 4059.0512657636727], \"Category\": [\"Default\", \"Default\", \"Default\", \"Default\", \"Default\", \"Default\", \"Default\", \"Default\", \"Default\", \"Default\", \"Default\", \"Default\", \"Default\", \"Default\", \"Default\", \"Default\", \"Default\", \"Default\", \"Default\", \"Default\", \"Default\", \"Default\", \"Default\", \"Default\", \"Default\", \"Default\", \"Default\", \"Default\", \"Default\", \"Default\", \"Topic1\", \"Topic1\", \"Topic1\", \"Topic1\", \"Topic1\", \"Topic1\", \"Topic1\", \"Topic1\", \"Topic1\", \"Topic1\", \"Topic1\", \"Topic1\", \"Topic1\", \"Topic1\", \"Topic1\", \"Topic1\", \"Topic1\", \"Topic1\", \"Topic1\", \"Topic1\", \"Topic1\", \"Topic1\", \"Topic1\", \"Topic1\", \"Topic1\", \"Topic1\", \"Topic1\", \"Topic1\", \"Topic1\", \"Topic1\", \"Topic1\", \"Topic1\", \"Topic1\", \"Topic1\", \"Topic1\", \"Topic1\", \"Topic1\", \"Topic1\", \"Topic1\", \"Topic1\", \"Topic1\", \"Topic1\", \"Topic1\", \"Topic1\", \"Topic1\", \"Topic1\", \"Topic1\", \"Topic1\", \"Topic1\", \"Topic1\", \"Topic1\", \"Topic1\", \"Topic2\", \"Topic2\", \"Topic2\", \"Topic2\", \"Topic2\", \"Topic2\", \"Topic2\", \"Topic2\", \"Topic2\", \"Topic2\", \"Topic2\", \"Topic2\", \"Topic2\", \"Topic2\", \"Topic2\", \"Topic2\", \"Topic2\", \"Topic2\", \"Topic2\", \"Topic2\", \"Topic2\", \"Topic2\", \"Topic2\", \"Topic2\", \"Topic2\", \"Topic2\", \"Topic2\", \"Topic2\", \"Topic2\", \"Topic2\", \"Topic2\", \"Topic2\", \"Topic2\", \"Topic2\", \"Topic2\", \"Topic2\", \"Topic2\", \"Topic2\", \"Topic2\", \"Topic2\", \"Topic2\", \"Topic2\", \"Topic2\", \"Topic2\", \"Topic2\", \"Topic2\", \"Topic2\", \"Topic2\", \"Topic2\", \"Topic2\", \"Topic2\", \"Topic2\", \"Topic2\", \"Topic2\", \"Topic2\", \"Topic2\", \"Topic2\", \"Topic2\", \"Topic2\", \"Topic2\", \"Topic2\", \"Topic2\", \"Topic2\", \"Topic2\", \"Topic3\", \"Topic3\", \"Topic3\", \"Topic3\", \"Topic3\", \"Topic3\", \"Topic3\", \"Topic3\", \"Topic3\", \"Topic3\", \"Topic3\", \"Topic3\", \"Topic3\", \"Topic3\", \"Topic3\", \"Topic3\", \"Topic3\", \"Topic3\", \"Topic3\", \"Topic3\", \"Topic3\", \"Topic3\", \"Topic3\", \"Topic3\", \"Topic3\", \"Topic3\", \"Topic3\", \"Topic3\", \"Topic3\", \"Topic3\", \"Topic3\", \"Topic3\", \"Topic3\", \"Topic3\", \"Topic3\", \"Topic3\", \"Topic3\", \"Topic3\", \"Topic3\", \"Topic3\", \"Topic3\", \"Topic3\", \"Topic3\", \"Topic3\", \"Topic3\", \"Topic3\", \"Topic3\", \"Topic3\", \"Topic3\", \"Topic3\", \"Topic3\", \"Topic3\", \"Topic3\", \"Topic3\", \"Topic3\", \"Topic3\", \"Topic3\", \"Topic3\", \"Topic3\", \"Topic3\", \"Topic3\", \"Topic3\", \"Topic3\", \"Topic3\", \"Topic3\", \"Topic3\", \"Topic3\", \"Topic3\", \"Topic4\", \"Topic4\", \"Topic4\", \"Topic4\", \"Topic4\", \"Topic4\", \"Topic4\", \"Topic4\", \"Topic4\", \"Topic4\", \"Topic4\", \"Topic4\", \"Topic4\", \"Topic4\", \"Topic4\", \"Topic4\", \"Topic4\", \"Topic4\", \"Topic4\", \"Topic4\", \"Topic4\", \"Topic4\", \"Topic4\", \"Topic4\", \"Topic4\", \"Topic4\", \"Topic4\", \"Topic4\", \"Topic4\", \"Topic4\", \"Topic4\", \"Topic4\", \"Topic4\", \"Topic4\", \"Topic4\", \"Topic4\", \"Topic4\", \"Topic4\", \"Topic4\", \"Topic4\", \"Topic4\", \"Topic4\", \"Topic4\", \"Topic4\", \"Topic4\", \"Topic4\", \"Topic4\", \"Topic4\", \"Topic4\", \"Topic4\", \"Topic4\", \"Topic4\", \"Topic4\", \"Topic4\", \"Topic4\", \"Topic4\", \"Topic4\", \"Topic4\", \"Topic4\", \"Topic4\", \"Topic4\", \"Topic4\", \"Topic5\", \"Topic5\", \"Topic5\", \"Topic5\", \"Topic5\", \"Topic5\", \"Topic5\", \"Topic5\", \"Topic5\", \"Topic5\", \"Topic5\", \"Topic5\", \"Topic5\", \"Topic5\", \"Topic5\", \"Topic5\", \"Topic5\", \"Topic5\", \"Topic5\", \"Topic5\", \"Topic5\", \"Topic5\", \"Topic5\", \"Topic5\", \"Topic5\", \"Topic5\", \"Topic5\", \"Topic5\", \"Topic5\", \"Topic5\", \"Topic5\", \"Topic5\", \"Topic5\", \"Topic5\", \"Topic5\", \"Topic5\", \"Topic5\", \"Topic5\", \"Topic5\", \"Topic5\", \"Topic5\", \"Topic5\", \"Topic5\", \"Topic5\", \"Topic5\", \"Topic5\", \"Topic5\", \"Topic5\", \"Topic5\", \"Topic5\", \"Topic5\", \"Topic5\", \"Topic5\", \"Topic5\", \"Topic5\", \"Topic5\", \"Topic5\", \"Topic5\", \"Topic5\", \"Topic5\", \"Topic5\", \"Topic5\"], \"logprob\": [30.0, 29.0, 28.0, 27.0, 26.0, 25.0, 24.0, 23.0, 22.0, 21.0, 20.0, 19.0, 18.0, 17.0, 16.0, 15.0, 14.0, 13.0, 12.0, 11.0, 10.0, 9.0, 8.0, 7.0, 6.0, 5.0, 4.0, 3.0, 2.0, 1.0, -5.6448, -6.755, -4.9326, -6.3982, -6.3496, -6.9536, -7.2839, -6.7732, -6.66, -5.8268, -6.6676, -5.161, -6.5288, -5.215, -6.9393, -5.7913, -6.3419, -5.1055, -6.5665, -6.4085, -7.2475, -7.1872, -6.5975, -5.8552, -6.5777, -7.3958, -6.539, -7.296, -6.4725, -7.3452, -4.2553, -4.6488, -4.8057, -5.0024, -5.1465, -5.2081, -5.2812, -5.2844, -5.3109, -5.4125, -5.448, -5.4709, -5.5388, -5.5841, -5.6154, -5.6292, -5.7232, -5.7554, -5.7911, -5.8951, -5.9409, -5.9476, -10.5264, -10.5255, -10.5226, -10.5257, -10.5194, -10.5241, -10.5202, -10.5282, -10.5229, -10.5243, -10.5274, -10.5246, -10.5271, -10.5254, -10.5249, -10.525, -10.5268, -10.528, -10.5249, -10.529, -10.5266, -10.5261, -10.5287, -10.5225, -10.5267, -10.5262, -10.5253, -10.5236, -10.5263, -10.5247, -10.5224, -10.5212, -6.1003, -5.959, -6.266, -6.5224, -6.6944, -6.705, -6.5543, -6.7978, -6.6637, -7.0176, -6.7336, -6.7051, -6.6629, -7.1201, -6.9155, -6.9714, -6.8132, -6.8991, -7.0516, -7.1116, -7.1549, -7.0408, -7.091, -7.1351, -7.3297, -7.416, -7.1747, -7.3198, -7.3312, -7.2846, -7.3163, -7.2934, -11.4547, -11.4828, -11.5217, -11.5264, -11.5484, -11.5499, -11.5657, -11.5824, -11.5857, -11.5878, -11.5908, -11.5936, -11.5966, -11.5968, -11.5986, -11.6002, -11.6002, -11.6009, -11.6019, -11.6024, -11.6045, -11.6095, -11.6104, -11.6102, -11.6119, -11.6145, -11.6155, -11.6165, -11.6177, -11.6215, -4.3153, -4.6646, -4.9057, -6.1994, -5.1091, -5.446, -5.3582, -5.3096, -5.7465, -6.7697, -6.0681, -5.5622, -5.6796, -5.5683, -5.452, -5.7112, -5.7937, -5.9257, -6.1785, -5.8786, -6.3025, -6.1179, -5.4348, -7.0791, -5.6014, -6.307, -6.8125, -6.2088, -6.36, -5.5118, -6.1074, -5.6115, -5.4697, -5.8869, -5.9224, -5.73, -6.1316, -6.1662, -10.3147, -10.3145, -10.3143, -10.3147, -10.3147, -10.3148, -10.3148, -10.3146, -10.3146, -10.3148, -10.3145, -10.3145, -10.3147, -10.3147, -10.3145, -10.3145, -10.3145, -10.3146, -10.3145, -10.3144, -10.3146, -10.3145, -10.3147, -10.3147, -10.3148, -10.3148, -10.315, -10.3148, -10.3147, -10.3147, -10.3145, -8.073, -8.2721, -8.425, -8.6174, -8.6222, -8.6709, -8.6249, -8.6161, -8.7193, -8.824, -8.7527, -8.8174, -8.87, -8.8282, -8.934, -9.0085, -9.0227, -9.0108, -8.9379, -9.0399, -9.0792, -9.0836, -9.0302, -9.073, -9.0651, -9.0918, -9.1288, -9.229, -9.2598, -9.2729, -9.2194, -10.3843, -10.3856, -10.3844, -10.3846, -10.3853, -10.3859, -10.3844, -10.3851, -10.3835, -10.3856, -10.3841, -10.3854, -10.3858, -10.3854, -10.3848, -10.3851, -10.3851, -10.3852, -10.3856, -10.3851, -10.3842, -10.3845, -10.3858, -10.3853, -10.3854, -10.385, -10.385, -10.3854, -10.3856, -10.3839, -10.384, -6.6737, -7.1117, -6.9976, -7.3162, -7.3085, -7.2324, -7.3187, -7.6503, -7.5607, -7.5174, -7.5792, -7.5476, -7.6741, -7.7095, -7.7462, -7.7878, -7.7222, -7.9027, -7.883, -7.9488, -8.0076, -7.8746, -7.9768, -8.0551, -8.1439, -8.2385, -8.1432, -8.0712, -8.1765, -8.1909, -8.0852], \"loglift\": [30.0, 29.0, 28.0, 27.0, 26.0, 25.0, 24.0, 23.0, 22.0, 21.0, 20.0, 19.0, 18.0, 17.0, 16.0, 15.0, 14.0, 13.0, 12.0, 11.0, 10.0, 9.0, 8.0, 7.0, 6.0, 5.0, 4.0, 3.0, 2.0, 1.0, 0.0, 0.0, 0.0, 0.0, 0.0, 0.0, 0.0, 0.0, 0.0, 0.0, 0.0, 0.0, 0.0, 0.0, 0.0, 0.0, 0.0, 0.0, 0.0, 0.0, 0.0, 0.0, 0.0, 0.0, 0.0, 0.0, 0.0, 0.0, 0.0, 0.0, 0.0, 0.0, 0.0, 0.0, 0.0, 0.0, 0.0, 0.0, 0.0, 0.0, 0.0, 0.0, 0.0, 0.0, 0.0, 0.0, 0.0, 0.0, 0.0, 0.0, 0.0, 0.0, 3.1146, 3.1081, 3.1006, 3.0982, 3.0949, 3.0934, 3.09, 3.088, 3.0823, 3.082, 3.0807, 3.0806, 3.0806, 3.0805, 3.0804, 3.0798, 3.0785, 3.0785, 3.0782, 3.0776, 3.0773, 3.077, 3.0758, 3.0758, 3.0756, 3.0754, 3.075, 3.075, 3.0747, 3.0745, 3.0737, 3.0711, -1.4516, -1.7037, -1.4603, -1.3143, -1.3836, -1.4207, -1.6216, -1.3498, -1.5171, -1.1624, -1.5186, -1.5996, -1.6605, -1.1725, -1.503, -1.4326, -1.6523, -1.6179, -1.4223, -1.3562, -1.3636, -1.57, -1.507, -1.5197, -1.2919, -1.195, -1.5299, -1.3492, -1.3708, -1.4936, -1.4895, -1.5702, 2.1864, 2.1508, 2.1022, 2.0968, 2.0691, 2.0664, 2.0486, 2.0278, 2.0223, 2.0198, 2.0158, 2.0129, 2.0097, 2.0091, 2.0068, 2.0052, 2.005, 2.0036, 2.003, 2.0028, 1.9994, 1.9936, 1.9927, 1.9921, 1.9904, 1.987, 1.9862, 1.9848, 1.9834, 1.9788, -0.06, -0.0158, -0.1001, 0.3066, -0.1066, -0.0336, -0.0769, -0.1015, 0.0089, 0.3657, 0.0926, -0.0913, -0.0642, -0.1203, -0.1677, -0.082, -0.0705, -0.0306, 0.0393, -0.0876, 0.0673, -0.009, -0.2883, 0.3419, -0.2906, -0.0133, 0.1787, -0.0847, -0.0298, -0.4062, -0.147, -0.4506, -0.5371, -0.3481, -0.3383, -0.5149, -0.1841, -0.2252, 3.3263, 3.319, 3.3096, 3.3085, 3.3028, 3.3014, 3.2995, 3.2956, 3.2934, 3.2929, 3.2921, 3.292, 3.2917, 3.2912, 3.2908, 3.2908, 3.2907, 3.2905, 3.2904, 3.29, 3.2893, 3.2886, 3.2885, 3.2876, 3.2875, 3.2868, 3.2865, 3.2864, 3.2864, 3.2856, 3.2856, -3.8177, -3.6233, -3.4923, -3.4564, -3.5167, -3.3601, -3.6225, -3.8104, -3.5042, -3.0686, -3.4684, -3.5362, -3.3991, -3.6201, -3.2893, -3.061, -3.1276, -3.3953, -3.7914, -3.3167, -3.2881, -3.2923, -3.6177, -3.4889, -3.6171, -3.553, -3.4996, -3.1048, -3.0387, -3.055, -3.3926, 3.2568, 3.248, 3.2395, 3.2386, 3.2321, 3.2304, 3.2299, 3.2251, 3.223, 3.2224, 3.2223, 3.2223, 3.2208, 3.2205, 3.2204, 3.2202, 3.2202, 3.2196, 3.2196, 3.2194, 3.2189, 3.2186, 3.2182, 3.217, 3.2169, 3.2167, 3.2162, 3.2161, 3.2154, 3.2153, 3.2151, -2.4185, -2.1093, -2.3489, -2.1012, -2.162, -2.4267, -2.386, -1.9271, -2.2498, -2.4118, -2.2948, -2.3866, -2.2617, -2.2387, -2.2075, -2.1586, -2.5141, -2.1473, -2.2382, -2.1577, -2.1125, -2.5934, -2.3927, -2.2639, -2.0517, -1.9448, -2.1957, -2.4558, -2.2356, -2.2217, -2.6372]}, \"token.table\": {\"Topic\": [1, 1, 1, 1, 1, 1, 1, 1, 1, 1, 1, 1, 1, 1, 1, 1, 1, 1, 1, 1, 1, 1, 1, 1, 1, 1, 1, 1, 1, 1, 1, 1, 1, 1, 1, 1, 1, 1, 1, 1, 1, 1, 1, 1, 1, 1, 1, 1, 1, 1, 1, 1, 1, 1, 1, 1, 1, 1, 1, 1, 1, 1, 1, 1, 1, 1, 1, 1, 1, 1, 1, 1, 1, 1, 1, 1, 1, 1, 1, 1, 1, 1, 1, 1, 1, 1, 1, 1, 1, 1, 1, 1, 1, 1, 1, 1, 1, 1, 1, 1, 1, 1, 1, 1, 1, 1], \"Freq\": [1.0000911799546077, 0.9997261441480223, 0.9999873700132578, 1.000107712757636, 0.999939702458183, 1.000031558422568, 0.890796851824251, 1.0000569921214144, 0.9999049543286737, 0.8841610430118582, 0.999838850010568, 0.8569333934809399, 1.0000427898052227, 0.9999094559320959, 0.9998393475988927, 0.8583071341956872, 0.8576487979222209, 1.000009587686019, 1.0000589792612515, 1.000019888565904, 0.9999963734796741, 0.856890345251628, 1.000019380894594, 0.9993466719243421, 0.8550288621915225, 0.8615136496415954, 0.8542177477955771, 0.8576195505230415, 1.0000421834824595, 1.0001515233478313, 0.9995025814434292, 0.8595240973689409, 1.0000290887477947, 0.8604148138814824, 1.0002431528417952, 1.0002177431980115, 0.8689448791898801, 1.0000059469224036, 1.000182190297987, 1.0000337421099157, 0.9997586699501783, 0.8594623271844801, 0.9999337108519769, 1.0000377299856975, 0.8535315461052734, 0.8605514957134003, 0.9999984851714669, 0.9998971304767685, 0.8594111720092915, 0.8750224385959071, 0.9999608716470473, 0.9998761057853458, 0.8542833029821189, 0.8516606704615227, 0.9999920077475078, 0.9997176405168079, 1.0001409416795894, 1.0000839466950437, 0.8591429506860134, 1.0002810722029567, 1.0000356293534731, 1.0000980238551394, 0.9999315909629194, 0.8595195776348419, 0.8672748368247998, 0.8560303762565191, 0.9998641719957634, 0.9999183360262777, 1.0001984497066148, 0.9997914932502177, 0.9999628550143357, 0.9995511547076439, 0.8588048467425788, 0.8563519203605969, 0.8606177157366998, 0.8637116383332466, 1.00029588131672, 0.9999274184161042, 0.9997630488877769, 1.000372575897169, 1.0002048307976628, 0.9995456536989925, 1.0007261688004223, 1.0004070728892271, 1.000332354353181, 0.8562275070793566, 0.8484608824185058, 0.9997829234902669, 1.0002557143922124, 1.0000604783615288, 1.000066512540726, 0.855267078509406, 0.8700053089498521, 0.9999121601800453, 1.0001720705632826, 0.8618654465783354, 1.0001578180141006, 0.853733149540659, 1.0000210114366426, 0.9999186143830848, 1.0004393471523698, 1.0003955638626472, 0.8558518691226519, 0.8600175874640084, 0.9998774467849002, 0.87564221435564], \"Term\": [\"\\uac10\\ub3c5\", \"\\uac10\\uc0ac\", \"\\uac8c\\uc784\", \"\\uacbd\\uae30\", \"\\uad6d\\uac00\", \"\\uad6d\\ubbfc\", \"\\uadf9\\ub2e8\\uc8fc\\uc758\", \"\\uae00\", \"\\uae30\\uc0ac\", \"\\uae30\\uc120\", \"\\uae30\\uc790\", \"\\uae40\\ubbf8\\uc18c\", \"\\uae40\\ubcf4\\ub984\", \"\\ub098\\ub77c\", \"\\ub274\\uc2a4\", \"\\ub2c8\\uc544\", \"\\ub2e4\\ucf00\", \"\\ub300\\ud1b5\\ub839\", \"\\ub300\\ud45c\", \"\\ub300\\ud55c\\ubbfc\\uad6d\", \"\\ub54c\\ubb38\", \"\\ub780\\uc2a4\", \"\\ub9d0\", \"\\ub9d0\\uc500\", \"\\uba85\\ubb38\\ud654\", \"\\ubaa8\\ucc28\\ub974\\ud2b8\", \"\\ubaa9\\ubcc4\", \"\\ubb38\\uc2b9\\uc6d0\", \"\\ubb38\\uc81c\", \"\\ubb38\\ud654\", \"\\ubc14\", \"\\ubc15\\uadfc\\ud64d\", \"\\ubc29\\uc1a1\", \"\\ubcd1\\uc790\\ud638\\ub780\", \"\\ubcf4\\ub3c4\", \"\\ubd81\\ud55c\", \"\\ubd88\\uc81c\\uc790\", \"\\ubfd0\", \"\\uc0ac\\uac74\", \"\\uc0ac\\ub78c\", \"\\uc0ac\\uc2e4\", \"\\uc0b0\\uc790\\ubd80\", \"\\uc0c1\\ud669\", \"\\uc0dd\\uac01\", \"\\uc11c\\ub974\", \"\\uc11c\\uc5ed\", \"\\uc120\\uc218\", \"\\uc138\\uacc4\", \"\\uc1a1\\uacf3\", \"\\uc21c\\ub840\\uc790\", \"\\uc2a4\\ud3ec\\uce20\", \"\\uc2dc\\uac04\", \"\\uc57c\\ud6c4\", \"\\uc5b4\\ucc28\", \"\\uc5b8\\ub860\", \"\\uc5ec\\uc790\", \"\\uc5f0\\ub9f9\", \"\\uc62c\\ub9bc\\ud53d\", \"\\uc678\\uc904\", \"\\uc694\\uccad\", \"\\uc6b0\\ub9ac\", \"\\uc6d4\\ub4dc\\ucef5\", \"\\uc704\", \"\\uc720\\ud64d\\uc900\", \"\\uc758\\uc8fc\", \"\\uc774\\ub9db\\uc0b4\", \"\\uc774\\ubc88\", \"\\uc774\\uc0c1\", \"\\uc774\\uc720\", \"\\uc778\\ud130\\ub137\", \"\\uc77c\\ubd80\", \"\\uc790\\uccb4\", \"\\uc7a5\\ub9c8\\ube44\", \"\\uc7a5\\uc0c1\", \"\\uc7a5\\ucc44\\uadfc\", \"\\uc810\\uc120\\uc218\", \"\\uc815\\ub3c4\", \"\\uc815\\ubd80\", \"\\uc815\\uce58\", \"\\uc81c\\uc548\", \"\\uc870\\uc0ac\", \"\\uc870\\uc120\", \"\\uc911\\uacc4\", \"\\uc9c0\\uae08\", \"\\ucc28\", \"\\ucc2c\\uc1a1\\uac00\", \"\\ucc38\\uad00\\ub2e8\", \"\\ucc98\\ubc8c\", \"\\uccad\\uc640\\ub300\", \"\\uccad\\uc6d0\", \"\\ucd95\\uad6c\", \"\\ucd9c\\uc601\", \"\\ud0f1\\ud06c\", \"\\ud300\", \"\\ud32c\", \"\\ud3b8\\ucc28\", \"\\ud3c9\\ud654\", \"\\ud53c\\uc5b4\\uc2f1\", \"\\ud544\\uc694\", \"\\ud55c\\uad6d\", \"\\ud574\\ub2f9\", \"\\ud574\\uc678\", \"\\ud5a5\\ud68c\", \"\\ud5e4\\ub974\\uccb4\\uace0\\ube44\\ub098\", \"\\ud611\\ud68c\", \"\\ud669\\ud1a0\\ubcbd\"]}, \"R\": 30, \"lambda.step\": 0.01, \"plot.opts\": {\"xlab\": \"PC1\", \"ylab\": \"PC2\"}, \"topic.order\": [1, 2, 3, 4, 5]};\n",
              "\n",
              "function LDAvis_load_lib(url, callback){\n",
              "  var s = document.createElement('script');\n",
              "  s.src = url;\n",
              "  s.async = true;\n",
              "  s.onreadystatechange = s.onload = callback;\n",
              "  s.onerror = function(){console.warn(\"failed to load library \" + url);};\n",
              "  document.getElementsByTagName(\"head\")[0].appendChild(s);\n",
              "}\n",
              "\n",
              "if(typeof(LDAvis) !== \"undefined\"){\n",
              "   // already loaded: just create the visualization\n",
              "   !function(LDAvis){\n",
              "       new LDAvis(\"#\" + \"ldavis_el3351401710344311526140543757\", ldavis_el3351401710344311526140543757_data);\n",
              "   }(LDAvis);\n",
              "}else if(typeof define === \"function\" && define.amd){\n",
              "   // require.js is available: use it to load d3/LDAvis\n",
              "   require.config({paths: {d3: \"https://d3js.org/d3.v5\"}});\n",
              "   require([\"d3\"], function(d3){\n",
              "      window.d3 = d3;\n",
              "      LDAvis_load_lib(\"https://cdn.jsdelivr.net/gh/bmabey/pyLDAvis@3.4.0/pyLDAvis/js/ldavis.v3.0.0.js\", function(){\n",
              "        new LDAvis(\"#\" + \"ldavis_el3351401710344311526140543757\", ldavis_el3351401710344311526140543757_data);\n",
              "      });\n",
              "    });\n",
              "}else{\n",
              "    // require.js not available: dynamically load d3 & LDAvis\n",
              "    LDAvis_load_lib(\"https://d3js.org/d3.v5.js\", function(){\n",
              "         LDAvis_load_lib(\"https://cdn.jsdelivr.net/gh/bmabey/pyLDAvis@3.4.0/pyLDAvis/js/ldavis.v3.0.0.js\", function(){\n",
              "                 new LDAvis(\"#\" + \"ldavis_el3351401710344311526140543757\", ldavis_el3351401710344311526140543757_data);\n",
              "            })\n",
              "         });\n",
              "}\n",
              "</script>"
            ]
          },
          "metadata": {},
          "execution_count": 135
        }
      ]
    },
    {
      "cell_type": "code",
      "source": [
        "pyLDAvis.enable_notebook()\n",
        "pyLDAvis.display(lda_visualization2)"
      ],
      "metadata": {
        "colab": {
          "base_uri": "https://localhost:8080/",
          "height": 880
        },
        "id": "hIj_JKVacPCM",
        "outputId": "4ad38dee-9f76-47d1-e37e-fc927611faf5"
      },
      "execution_count": null,
      "outputs": [
        {
          "output_type": "execute_result",
          "data": {
            "text/plain": [
              "<IPython.core.display.HTML object>"
            ],
            "text/html": [
              "\n",
              "<link rel=\"stylesheet\" type=\"text/css\" href=\"https://cdn.jsdelivr.net/gh/bmabey/pyLDAvis@3.4.0/pyLDAvis/js/ldavis.v1.0.0.css\">\n",
              "\n",
              "\n",
              "<div id=\"ldavis_el335140170864889632926579271\" style=\"background-color:white;\"></div>\n",
              "<script type=\"text/javascript\">\n",
              "\n",
              "var ldavis_el335140170864889632926579271_data = {\"mdsDat\": {\"x\": [0.15286792096714688, 0.16486305888564728, -0.09098185095041969, -0.08422600826389377, -0.14252312063848055], \"y\": [-0.00018304114611160792, 0.00017433559890691355, 0.000957217210538613, -0.0008380488724859913, -0.00011046279084677946], \"topics\": [1, 2, 3, 4, 5], \"cluster\": [1, 1, 1, 1, 1], \"Freq\": [76.72949210863852, 23.270456453354473, 1.715323424683413e-05, 1.7158003410279225e-05, 1.712676936875364e-05]}, \"tinfo\": {\"Term\": [\"\\uc544\\uc774\", \"\\ud559\\uad50\", \"\\ud559\\uc0dd\", \"\\uad50\\uc721\", \"\\uad50\\uc0ac\", \"\\uc0dd\\uac01\", \"\\uc2dc\\uac04\", \"\\uc720\\uce58\\uc6d0\", \"\\uc6b0\\ub9ac\", \"\\ubb38\\uc81c\", \"\\ub9d0\", \"\\uc5b4\\ub9b0\\uc774\\uc9d1\", \"\\ub098\\ub77c\", \"\\uc0ac\\ub78c\", \"\\ub300\\ud559\", \"\\ubd80\\ubaa8\", \"\\uc120\\uc0dd\", \"\\ud3d0\\uc9c0\", \"\\uc81c\\ub3c4\", \"\\uacf5\\ubd80\", \"\\uc81c\", \"\\ubc95\", \"\\uc800\\ud76c\", \"\\uc218\\ub2a5\", \"\\uc9c0\\uc6d0\", \"\\uad6d\\uac00\", \"\\ucd08\\ub4f1\", \"\\uad6d\\ubbfc\", \"\\ud544\\uc694\", \"\\uc815\\ubd80\", \"\\ubc30\\uc815\\uc81c\", \"\\ud50c\\ub77c\\uc2a4\\ud2f1\", \"\\ucd08\\ub85c\", \"\\ud574\\ubcc0\", \"\\ub2e8\\uccb4\\uad50\\uc12d\", \"\\ud5c8\\uc138\", \"\\uacfc\\ubd80\", \"\\uacfc\\ubc18\", \"\\uc288\", \"\\uc8fc\\ub9cc\", \"\\ub9d0\\uc218\", \"\\ub300\\ub2f4\", \"\\uc7ac\\ud14c\\ud06c\", \"\\ud0c0\\uc785\", \"\\ub0b4\\uad50\", \"\\ubb38\\uacbd\", \"\\ud638\\ub0a8\", \"\\ub3d9\\uc5c5\", \"\\uc704\\uc99d\\uc8c4\", \"\\uc131\\uacbd\", \"\\ubcf4\\ucd08\", \"\\ub300\\uc545\", \"\\uac00\\uc5f4\", \"\\uacf5\\ud130\", \"\\ubabb\\uc790\", \"\\uc218\\uc6d4\", \"\\uc720\\ub2c8\\uc138\\ud504\", \"\\uc9c8\\ubcd1\\uad00\\ub9ac\\ubcf8\\ubd80\", \"\\uc2ec\\uc57c\\ud1a0\\ub860\", \"\\uc9d1\\ub300\\uc131\", \"\\ubbf8\\uace0\", \"\\uacf5\\ubd80\", \"\\ud2b9\\uc131\", \"\\ucc45\\uc784\", \"\\ubd80\\ub2f9\", \"\\uc6b0\\ub9ac\", \"\\ubcf5\\uc9c0\", \"\\ub300\\ubd80\\ubd84\", \"\\uc138\\ubd80\", \"\\ud559\\uae30\", \"\\ub9c8\\uc74c\", \"\\uc2dc\\uccad\\uc790\", \"\\ud569\\uaca9\", \"\\ub458\", \"\\uc8fc\\uc7a5\", \"\\uae00\", \"\\uc81c\\uc870\", \"\\uad50\\uc0ac\", \"\\uc800\\ud76c\", \"\\ubfd0\", \"\\ubd80\\ubd80\", \"\\ub098\\ub77c\", \"\\ub2f4\\uc784\", \"\\uc758\\uacac\", \"\\ud544\\uc694\", \"\\uad50\\uc721\", \"\\uae30\\uad00\", \"\\ub300\\ud559\\uad50\", \"\\uac15\\uc81c\", \"\\uc548\\ub155\", \"\\uc0dd\\uac01\", \"\\uc874\\uc7ac\", \"\\uc5b4\\ub9b0\\uc774\\uc9d1\", \"\\uc720\\uce58\\uc6d0\", \"\\ud559\\uc0dd\", \"\\uc544\\uc774\", \"\\ud559\\uad50\", \"\\uc0ac\\ub9bd\", \"\\uacf3\", \"\\ud559\\ub144\", \"\\uc120\\uc0dd\", \"\\ud3c9\\uac00\", \"\\ub300\\ud1b5\\ub839\", \"\\uad6d\\uac00\", \"\\uccad\\uc6d0\", \"\\ubd80\\ubaa8\", \"\\uc5c4\\ub9c8\", \"\\uc9c0\\uc6d0\", \"\\uc601\\uc5b4\", \"\\ub9d0\", \"\\ubb38\\uc81c\", \"\\ub300\\ud559\", \"\\uc2dc\\uac04\", \"\\uc81c\\ub3c4\", \"\\uc0ac\\ub78c\", \"\\uc81c\", \"\\ud3d0\\uc9c0\", \"\\ubc95\", \"\\uc218\\uc5c5\", \"\\uc815\\ucc45\", \"\\ucd08\\ub4f1\", \"\\ubcf4\\uc721\", \"\\uc544\\ub7ab\\ubc30\", \"\\ud0d1\\uc2b9\\uc790\", \"\\uc57c\\uc560\", \"\\ube44\\ub3c4\", \"\\uc0c1\\uc2dd\\uc0ac\", \"\\uc99d\\ub144\", \"\\uc911\\uc559\\uc544\\uc2dc\\uc544\", \"\\ub180\\ub780\", \"\\uc815\\uad6c\\uccad\", \"\\ubb34\\ube59\", \"\\uc2ec\\uc81c\", \"\\uc14b\\ubc29\", \"\\uc721\\uc131\\uc7ac\", \"\\uc2f8\\ub4dc\", \"\\ubc31\\uce58\", \"\\uc774\\ub2e4\\uc5f0\", \"\\ub9ac\\uc5b4\", \"\\uc6d0\\ubd09\", \"\\ud30c\\uacac\\uad6d\", \"\\uac70\\uc2a4\\ub984\\ub3c8\", \"\\uc1fc\\ubd80\", \"\\uc774\\ub3d9\\ucc28\", \"\\uc2ec\\ud310\\uc6d0\", \"\\uc608\\ub791\", \"\\ubc1c\\uc0b0\\uc815\\ub9ac\", \"\\uc81c\\uc18c\", \"\\ud23d\", \"\\uc784\\uc9c0\\uc6d0\", \"\\ube48\\uc18c\", \"\\uc655\\uad81\", \"\\uacb0\\ucc45\", \"\\ucc38\\ubc30\", \"\\uad6d\\ubbfc\", \"\\uc138\\uae08\", \"\\uc2dc\\uac04\", \"\\uc544\\uc774\", \"\\ud559\\uad50\", \"\\ub3c8\", \"\\ub05d\", \"\\uc0ac\\ud68c\", \"\\ud559\\uc0dd\", \"\\uc870\\uc0ac\", \"\\uc0ac\\ub78c\", \"\\ubb38\\uc81c\", \"\\uc560\", \"\\ub9d0\", \"\\uacbd\\uc6b0\", \"\\uc5ec\\uc790\", \"\\uadf8\", \"\\uad50\\uc721\", \"\\uc6b4\\uc601\", \"\\uace0\\ub4f1\\ud559\\uad50\", \"\\uc778\\uad8c\", \"\\ub300\\ud559\", \"\\ucd08\\ub4f1\", \"\\uc218\\uc2dc\", \"\\uc5b4\\ub9b0\\uc774\", \"\\uc544\\ube60\", \"\\uc815\\ucc45\", \"\\uac00\\ud574\\uc790\", \"\\uc218\\ub2a5\", \"\\uc0dd\\uac01\", \"\\ubcf4\\uc721\", \"\\uad50\\uc0ac\", \"\\ubc95\", \"\\ud559\\ubd80\\ubaa8\", \"\\ud559\\uc6d0\", \"\\uccad\\uc18c\\ub144\", \"\\ubd80\\ubaa8\", \"\\uc2dc\\ud5d8\", \"\\uc720\\uce58\\uc6d0\", \"\\uc5b4\\ub9b0\\uc774\\uc9d1\", \"\\ud3d0\\uc9c0\", \"\\uc81c\\ub3c4\", \"\\uc120\\uc0dd\", \"\\uc81c\", \"\\ub098\\ub77c\", \"\\uc6b0\\ub9ac\", \"\\uc544\\ub7ab\\ubc30\", \"\\ud0d1\\uc2b9\\uc790\", \"\\uc57c\\uc560\", \"\\ube44\\ub3c4\", \"\\uc911\\uc559\\uc544\\uc2dc\\uc544\", \"\\uc2f8\\ub4dc\", \"\\uc0c1\\uc2dd\\uc0ac\", \"\\ubb34\\ube59\", \"\\uc99d\\ub144\", \"\\uc721\\uc131\\uc7ac\", \"\\uc815\\uad6c\\uccad\", \"\\ub180\\ub780\", \"\\uc2ec\\uc81c\", \"\\ud30c\\uacac\\uad6d\", \"\\ubc31\\uce58\", \"\\uc774\\ub2e4\\uc5f0\", \"\\ub9ac\\uc5b4\", \"\\uc6d0\\ubd09\", \"\\uc1fc\\ubd80\", \"\\uc81c\\uc18c\", \"\\uac70\\uc2a4\\ub984\\ub3c8\", \"\\ud23d\", \"\\uc608\\ub791\", \"\\uc2ec\\ud310\\uc6d0\", \"\\uc778\\uc778\", \"\\ube48\\uc18c\", \"\\ubc1c\\uc0b0\\uc815\\ub9ac\", \"\\uc784\\uc9c0\\uc6d0\", \"\\uae08\\ub2ec\", \"\\ubc15\\uba78\", \"\\ub9cc\\ubcc4\", \"\\ud559\\uc0dd\", \"\\ud559\\uad50\", \"\\uad50\\uc721\", \"\\uc544\\uc774\", \"\\uad50\\uc0ac\", \"\\uc0dd\\uac01\", \"\\ubb38\\uc81c\", \"\\uc2dc\\uac04\", \"\\uc720\\uce58\\uc6d0\", \"\\ub9d0\", \"\\ub098\\ub77c\", \"\\uc6b0\\ub9ac\", \"\\ub300\\ud559\", \"\\uc0ac\\ub78c\", \"\\uc5b4\\ub9b0\\uc774\\uc9d1\", \"\\uad6d\\ubbfc\", \"\\uc81c\\ub3c4\", \"\\ud3d0\\uc9c0\", \"\\uc790\\ub140\", \"\\ubc95\", \"\\uad6d\\uac00\", \"\\uacf5\\ubd80\", \"\\uc120\\uc0dd\", \"\\uc800\\ud76c\", \"\\uc218\\ub2a5\", \"\\ubcf4\\uc721\", \"\\ubd80\\ubaa8\", \"\\ud559\\ub144\", \"\\uc815\\ubd80\", \"\\uc81c\", \"\\uc815\\ucc45\", \"\\uc544\\ub7ab\\ubc30\", \"\\ud0d1\\uc2b9\\uc790\", \"\\uc57c\\uc560\", \"\\ube44\\ub3c4\", \"\\uc0c1\\uc2dd\\uc0ac\", \"\\uc911\\uc559\\uc544\\uc2dc\\uc544\", \"\\uc99d\\ub144\", \"\\uc721\\uc131\\uc7ac\", \"\\ubb34\\ube59\", \"\\ub180\\ub780\", \"\\uc2ec\\uc81c\", \"\\uc6d0\\ubd09\", \"\\uc815\\uad6c\\uccad\", \"\\uc2f8\\ub4dc\", \"\\uc774\\ub2e4\\uc5f0\", \"\\ub9ac\\uc5b4\", \"\\ud30c\\uacac\\uad6d\", \"\\ubc31\\uce58\", \"\\uc2ec\\ud310\\uc6d0\", \"\\uc81c\\uc18c\", \"\\uac70\\uc2a4\\ub984\\ub3c8\", \"\\uc778\\uc778\", \"\\uc608\\ub791\", \"\\uc1fc\\ubd80\", \"\\ud23d\", \"\\ubc1c\\uc0b0\\uc815\\ub9ac\", \"\\ubc15\\uba78\", \"\\uc0c1\\ubc29\", \"\\uc784\\uc9c0\\uc6d0\", \"\\ub9d0\\uc2f8\\uc6c0\", \"\\ubcf5\\uc22d\\uc544\\ubf08\", \"\\uc911\\ub300\\uc7a5\", \"\\uc544\\uc774\", \"\\uad50\\uc0ac\", \"\\ud559\\uad50\", \"\\ud559\\uc0dd\", \"\\uad50\\uc721\", \"\\uc0dd\\uac01\", \"\\uc720\\uce58\\uc6d0\", \"\\uc2dc\\uac04\", \"\\ubb38\\uc81c\", \"\\uc218\\ub2a5\", \"\\uc6b0\\ub9ac\", \"\\uc81c\", \"\\uc81c\\ub3c4\", \"\\ud3d0\\uc9c0\", \"\\uad6d\\uac00\", \"\\uacf5\\ubd80\", \"\\uc0ac\\ub78c\", \"\\ub9d0\", \"\\ub098\\ub77c\", \"\\uacfc\\uc815\", \"\\uc815\\ubd80\", \"\\uc120\\uc0dd\", \"\\uc800\\ud76c\", \"\\uacbd\\uc6b0\", \"\\uc5b4\\ub9b0\\uc774\\uc9d1\", \"\\uc774\\uc0c1\", \"\\uc560\", \"\\ucd08\\ub4f1\", \"\\ubd80\\ubaa8\", \"\\ubc95\", \"\\uccad\\uc6d0\", \"\\ub300\\ud559\", \"\\uc0ac\\ud68c\", \"\\uc9c0\\uc6d0\", \"\\uc544\\ub7ab\\ubc30\", \"\\ud0d1\\uc2b9\\uc790\", \"\\uc57c\\uc560\", \"\\ube44\\ub3c4\", \"\\uc0c1\\uc2dd\\uc0ac\", \"\\uc911\\uc559\\uc544\\uc2dc\\uc544\", \"\\uc99d\\ub144\", \"\\ub180\\ub780\", \"\\ubb34\\ube59\", \"\\uc815\\uad6c\\uccad\", \"\\uc2f8\\ub4dc\", \"\\uc2ec\\uc81c\", \"\\uc721\\uc131\\uc7ac\", \"\\ubc31\\uce58\", \"\\ud30c\\uacac\\uad6d\", \"\\uc774\\ub2e4\\uc5f0\", \"\\uc6d0\\ubd09\", \"\\ub9ac\\uc5b4\", \"\\uc1fc\\ubd80\", \"\\uac70\\uc2a4\\ub984\\ub3c8\", \"\\uc2ec\\ud310\\uc6d0\", \"\\uc608\\ub791\", \"\\ud23d\", \"\\ubc1c\\uc0b0\\uc815\\ub9ac\", \"\\ube48\\uc18c\", \"\\uc81c\\uc18c\", \"\\uc778\\uc778\", \"\\uc784\\uc9c0\\uc6d0\", \"\\uc5f0\\uad6c\\ubd80\\uc815\\ud589\\uc704\", \"\\ubc15\\uba78\", \"\\uae08\\ub2ec\", \"\\uac00\\uc9c0\\uac01\\uc0c9\", \"\\uc544\\uc774\", \"\\ud559\\uad50\", \"\\uad50\\uc721\", \"\\uc2dc\\uac04\", \"\\uc0dd\\uac01\", \"\\ud559\\uc0dd\", \"\\uad50\\uc0ac\", \"\\ubb38\\uc81c\", \"\\uc0ac\\ub78c\", \"\\uc5b4\\ub9b0\\uc774\\uc9d1\", \"\\uc720\\uce58\\uc6d0\", \"\\ub098\\ub77c\", \"\\uc9c0\\uc6d0\", \"\\uad6d\\ubbfc\", \"\\ub9d0\", \"\\ud3d0\\uc9c0\", \"\\ucd08\\ub4f1\", \"\\uc6b0\\ub9ac\", \"\\ud559\\ub144\", \"\\ubd80\\ubaa8\", \"\\ud544\\uc694\", \"\\uc800\\ud76c\", \"\\uc601\\uc5b4\", \"\\ubc95\", \"\\uc218\\ub2a5\", \"\\uc774\\uc0c1\", \"\\uccad\\uc18c\\ub144\", \"\\uc815\\ubd80\", \"\\ud604\\uc2e4\", \"\\uc81c\\ub3c4\", \"\\uc120\\uc0dd\", \"\\ub300\\ud559\"], \"Freq\": [21464.0, 17924.0, 15969.0, 15913.0, 11630.0, 11488.0, 7656.0, 6876.0, 6979.0, 6425.0, 6753.0, 6808.0, 5467.0, 5880.0, 5716.0, 6148.0, 5040.0, 4080.0, 4055.0, 3891.0, 3985.0, 4221.0, 3725.0, 3401.0, 3948.0, 3443.0, 3750.0, 3559.0, 3778.0, 3214.0, 4.419627020121541, 4.411911323595689, 4.394321773726315, 3.383726246990284, 5.37138234536204, 4.373831536930542, 3.370650079390717, 4.363856392351066, 3.3680787931973706, 4.356275478518217, 3.3662567762474036, 5.341300073580844, 7.323465819374718, 3.364346946330783, 4.350516581635335, 3.358930724234053, 4.342680805982989, 3.35384982514022, 3.354336676564645, 6.312255397655909, 3.3483674369941974, 3.3497675432718226, 3.3471519421627467, 3.344458534680891, 3.34093172088063, 5.309499526680052, 4.324429595620688, 4.322430319007801, 3.333454957310557, 4.308896094468224, 7.197328006613879, 3316.3437602041654, 540.5917183828232, 1102.2783626353107, 343.1062214675834, 5789.346779767511, 866.0274680858826, 1085.685734180035, 59.69936192754393, 634.7261207694695, 1668.882663718784, 15.700117066961198, 444.6877646389749, 466.396136373252, 423.1818708179111, 1900.4105374483015, 347.86521047863545, 9171.273935935476, 3029.55661607278, 1221.7968976852364, 761.6835887465687, 4366.228492596367, 742.5003617802014, 848.560990335652, 3046.0413399546314, 12285.926900783666, 1204.5381257829779, 1232.7091659075465, 590.7232735350918, 701.0660511722327, 8920.712824687824, 486.4727651105725, 5368.51266989114, 5408.606328909529, 12108.24236360591, 16044.18882262957, 13477.359848830356, 2106.8267584741748, 1959.3736950681746, 2166.8407309805925, 3948.376396706488, 2681.8203264653, 2130.7951664047364, 2736.619956843163, 2816.7838537322214, 4739.934234442736, 2489.1634023727534, 3081.43236709867, 2478.831330349989, 5003.4899003271785, 4730.74854395391, 4250.786910188844, 5431.0588448773915, 3103.796635527802, 4303.105990082291, 3055.524395372546, 3097.708391824945, 3161.7393002827325, 2681.2469265809405, 2770.9503405833098, 2754.6385567832835, 2722.415448985765, 0.9255161385055393, 0.922359336047071, 0.921052393816767, 0.9132273388861663, 0.9122903934753029, 0.9047849825997965, 0.903403842815142, 0.9026985944416952, 0.9026623627477929, 0.9023845244933552, 0.9017458557283615, 1.5431658140123037, 0.8992096990897149, 0.8989804794330779, 0.8965028509153505, 0.894618926701466, 0.8940804060544898, 0.8912558203585725, 0.8902776884922474, 0.8896292960076937, 0.8892436916893413, 1.5226225055041778, 0.8887248662195631, 0.8844598694038381, 0.8845207510364981, 0.8834383214393497, 0.8819444608292212, 0.881451338185032, 0.8799360482311593, 0.8798878012404757, 1.4798225319407206, 1.4728286382616922, 1286.7276989630054, 338.13154285477964, 2225.2193442481334, 5420.343870882563, 4446.758751411892, 920.863475695177, 242.59677954245927, 1037.8063129510433, 3861.4546868955945, 468.4996117688781, 1577.6238588559606, 1694.6457820339317, 659.9596528805765, 1750.1769103830625, 906.9966122658321, 219.28617229156467, 526.8834777781537, 3627.400185820395, 601.2999057476792, 753.7161720883108, 302.9921519029143, 1466.0770661152922, 995.9823540842966, 514.4446955444761, 412.077545942819, 384.9951522196682, 988.3014430769791, 279.6173785079222, 905.1043848625267, 2567.993078520196, 970.2037682092875, 2459.0559309461455, 1060.1341650476018, 775.86346474603, 710.9827568278317, 909.5642093439533, 1408.4001534129159, 892.8060483181043, 1467.7674880621921, 1440.4369915906257, 982.5184673582834, 952.0620792037124, 1092.4330585822784, 929.5857586679818, 1101.3974827343907, 1190.253528714279, 6.349424655149234e-06, 6.33826767506651e-06, 6.3301165201141e-06, 6.335979887871336e-06, 6.3476569523994505e-06, 6.355823446921177e-06, 6.3332954632409836e-06, 6.346618244420033e-06, 6.341987155397873e-06, 6.345902397851939e-06, 6.33484914247602e-06, 6.332712559606963e-06, 6.33370378796707e-06, 6.347921377356236e-06, 6.3345708388612815e-06, 6.335535770816845e-06, 6.334053676238618e-06, 6.334664337188543e-06, 6.340018577335614e-06, 6.348034597986904e-06, 6.33771398965976e-06, 6.3474509638972034e-06, 6.340656995601445e-06, 6.33292220038762e-06, 6.348662789873191e-06, 6.342061661877409e-06, 6.333947760164767e-06, 6.337695728267717e-06, 6.342143472913763e-06, 6.337398432805253e-06, 6.340854218635511e-06, 0.0006563925712602223, 0.0006638226028326936, 0.0005836289005440475, 0.0006644558670032342, 0.00043292390224295086, 0.00039752594978263386, 0.0002725760708326721, 0.0002869381385120395, 0.0002554901865089476, 0.0002394992610957798, 0.0002165794083950974, 0.00023702786656044626, 0.0002156967608111692, 0.00020591992122443996, 0.00019704354065298217, 0.00015142315895279052, 0.00015749953343046412, 0.00015506824967752568, 0.00012154739300988778, 0.00015403802667130647, 0.0001417310405378509, 0.00014759034696149655, 0.0001625737460873878, 0.0001384786895367767, 0.00013130273966863783, 0.00013527990138993232, 0.0001583857806999919, 0.00011607661888517633, 0.00012381669091084607, 0.00013172011620153217, 0.00012650073570424445, 6.242280199449662e-06, 6.244381574079198e-06, 6.2339601880078934e-06, 6.244798780238261e-06, 6.235476304960706e-06, 6.2467065302931e-06, 6.242641144883247e-06, 6.243018895468598e-06, 6.23617846804102e-06, 6.236973424785434e-06, 6.2370545279091745e-06, 6.2527023161797385e-06, 6.233835245357806e-06, 6.235588095752889e-06, 6.244662877706587e-06, 6.244486058283657e-06, 6.243680141657656e-06, 6.234193998815074e-06, 6.2383719056758835e-06, 6.242917333899229e-06, 6.233738798399845e-06, 6.247253793713657e-06, 6.237297837280398e-06, 6.228000204401105e-06, 6.2382162753573536e-06, 6.236494843289487e-06, 6.2430159728335085e-06, 6.242834038799171e-06, 6.238160745290648e-06, 6.252137516948643e-06, 6.250657932934453e-06, 6.248457919370638e-06, 0.0008623752489457673, 0.0005649758050172898, 0.000674055373842623, 0.0005528930704102936, 0.0005001529745426577, 0.0003960683527532859, 0.0003084534811271211, 0.00030334726352802257, 0.0002678128139581142, 0.00019645438689576557, 0.00026361939375024886, 0.00019825395853539273, 0.00019687905746484775, 0.0001844264224703514, 0.00017090773879105533, 0.0001763267952501615, 0.00020805458275890244, 0.00021875030489554176, 0.00019691317046161542, 0.00013239872475111425, 0.00015294130719838324, 0.00018092132958828552, 0.00015951697895845053, 0.00014918302059322143, 0.00019761895176417086, 0.0001400085534018818, 0.00012450425482368497, 0.00015396178615686344, 0.0001827639224164339, 0.0001572453432991257, 0.00014698936083809135, 0.00016862350072922345, 0.000145224428269548, 0.0001457874914554004, 6.947332826825209e-06, 6.9491619831991105e-06, 6.947410864995866e-06, 6.947427639555913e-06, 6.945728303690208e-06, 6.948347323043748e-06, 6.946967433147648e-06, 6.9514476993377895e-06, 6.949638964167424e-06, 6.9509488385085435e-06, 6.950964154411196e-06, 6.94948945178439e-06, 6.949326082156099e-06, 6.948380872163844e-06, 6.952979289603017e-06, 6.946890853634386e-06, 6.949574053913326e-06, 6.946026599127579e-06, 6.951920304333917e-06, 6.948219690521646e-06, 6.949353796646613e-06, 6.951317878829594e-06, 6.953080666292001e-06, 6.948422443899615e-06, 6.954916386624182e-06, 6.943223788942211e-06, 6.950318698513707e-06, 6.945912823850733e-06, 6.952110659124024e-06, 6.948974545723794e-06, 6.950508323975116e-06, 6.953795408415775e-06, 0.00048138821411487884, 0.0003736172612179284, 0.000349922760470594, 0.00023838167998453506, 0.00026797933220350044, 0.00027997374360448033, 0.00020115697663769357, 0.00015863110389169598, 0.00014687782606207363, 0.00015265045686995923, 0.0001490832693669657, 0.00013540713101235807, 0.00012042503918771035, 0.0001102587105887886, 0.00013635353126904793, 0.00010703406251928468, 0.00010145127888873238, 0.00012333889987790894, 8.679915870545503e-05, 0.00011114999693444857, 9.361055195631076e-05, 9.114740473204875e-05, 8.623430821563883e-05, 9.37038126755466e-05, 8.622102276408103e-05, 8.143458438663329e-05, 8.614419236174759e-05, 8.131622309093645e-05, 6.999889127977908e-05, 8.130245336512336e-05, 8.538926714404439e-05, 8.261829069767503e-05], \"Total\": [21464.0, 17924.0, 15969.0, 15913.0, 11630.0, 11488.0, 7656.0, 6876.0, 6979.0, 6425.0, 6753.0, 6808.0, 5467.0, 5880.0, 5716.0, 6148.0, 5040.0, 4080.0, 4055.0, 3891.0, 3985.0, 4221.0, 3725.0, 3401.0, 3948.0, 3443.0, 3750.0, 3559.0, 3778.0, 3214.0, 4.64251204629399, 4.644680789360897, 4.640284599945513, 3.5817835522238544, 5.687781398344234, 4.633640576032734, 3.576627594237811, 4.631849698588693, 3.5792355263502253, 4.629417451982409, 3.5779368756389314, 5.677364056095885, 7.785435826854464, 3.5779244036329287, 4.629183804921613, 3.576034781220605, 4.625717069389785, 3.5750579928565975, 3.5756194891980946, 6.729994881268691, 3.57235364966579, 3.5743719817019377, 3.572647088456827, 3.572289570730284, 3.5697096016955667, 5.674042592505545, 4.621797782227535, 4.621137194880306, 3.5714875640284616, 4.617421485669282, 7.7502952560581315, 3891.547923230768, 614.1025779769279, 1280.451456930128, 390.35752615393676, 6979.600932467951, 1017.5314830254899, 1282.6192443014424, 66.67996140961161, 744.3188098075333, 1996.6445684908836, 17.104489714176253, 519.1931141674164, 545.6669146799713, 494.59540500755395, 2291.3096582473863, 405.2146396332835, 11630.331065938306, 3725.732175693264, 1464.1447019401724, 901.5644799395234, 5467.626524230468, 881.0794413552615, 1011.4982421945867, 3778.1889562587658, 15913.328520308698, 1452.097735307583, 1491.1092127381332, 699.2979822029746, 834.5200023048997, 11488.706964781655, 572.7415309564238, 6808.950208794714, 6876.3745299986585, 15969.69853976089, 21464.534701731463, 17924.120311737486, 2601.7517463302543, 2414.4797819229866, 2682.641867353656, 5040.809884173109, 3364.7619821731028, 2643.114929430264, 3443.407349540213, 3551.458403221687, 6148.334840155352, 3137.5766131923124, 3948.3695165640897, 3144.3995927216138, 6753.667405313338, 6425.39502500783, 5716.864443242688, 7656.279017792608, 4055.8591504125593, 5880.730409790583, 3985.110562900265, 4080.2273057119633, 4221.873870317517, 3515.104729768564, 3759.2521060406934, 3750.6212821376253, 3692.6195366067786, 1.1739731361383947, 1.1753522746135525, 1.1765133159090164, 1.1787330344743199, 1.1795355379077228, 1.1816337939097632, 1.1817500805378311, 1.1827532067481081, 1.182817473451922, 1.1824746561938004, 1.183117916918918, 2.0264251203473655, 1.1834060372928592, 1.183356149116504, 1.185095483349115, 1.1854189930553096, 1.1856949606779046, 1.1862884049752618, 1.186392447927921, 1.1874653178436043, 1.187608276375445, 2.033867800484979, 1.1877559622421965, 1.1889923032499943, 1.1893172004965304, 1.1891621575081863, 1.1895726430764475, 1.1903064088653605, 1.1904650145805502, 1.1911916445982855, 2.051084716613336, 2.051705334692348, 3559.891841124327, 918.2513568043855, 7656.279017792608, 21464.534701731463, 17924.120311737486, 3040.3548819437397, 672.9859626988726, 3580.6487805172856, 15969.69853976089, 1463.5566568301558, 5880.730409790583, 6425.39502500783, 2174.572197377105, 6753.667405313338, 3202.540843918882, 628.2506606958862, 1727.2231124097013, 15913.328520308698, 2027.6739412746413, 2642.3701800936124, 928.2151488582041, 5716.864443242688, 3750.6212821376253, 1743.5024202934758, 1353.3017870161127, 1251.4313477453697, 3759.2521060406934, 867.1634686016245, 3401.438418293994, 11488.706964781655, 3692.6195366067786, 11630.331065938306, 4221.873870317517, 2904.735638641005, 2613.470895417283, 3554.73829319384, 6148.334840155352, 3502.824740295604, 6876.3745299986585, 6808.950208794714, 4080.2273057119633, 4055.8591504125593, 5040.809884173109, 3985.110562900265, 5467.626524230468, 6979.600932467951, 1.1739731361383947, 1.1753522746135525, 1.1765133159090164, 1.1787330344743199, 1.1817500805378311, 1.183356149116504, 1.1795355379077228, 1.1824746561938004, 1.1816337939097632, 1.1834060372928592, 1.182817473451922, 1.1827532067481081, 1.183117916918918, 1.186392447927921, 1.185095483349115, 1.1854189930553096, 1.1856949606779046, 1.1862884049752618, 1.187608276375445, 1.1891621575081863, 1.1874653178436043, 1.1895726430764475, 1.1889923032499943, 1.1877559622421965, 1.1907589469331474, 1.1904650145805502, 1.1893172004965304, 1.1903064088653605, 1.1916253874990206, 1.190927440370017, 1.1919092890105942, 15969.69853976089, 17924.120311737486, 15913.328520308698, 21464.534701731463, 11630.331065938306, 11488.706964781655, 6425.39502500783, 7656.279017792608, 6876.3745299986585, 6753.667405313338, 5467.626524230468, 6979.600932467951, 5716.864443242688, 5880.730409790583, 6808.950208794714, 3559.891841124327, 4055.8591504125593, 4080.2273057119633, 2192.6140905900397, 4221.873870317517, 3443.407349540213, 3891.547923230768, 5040.809884173109, 3725.732175693264, 3401.438418293994, 3692.6195366067786, 6148.334840155352, 2682.641867353656, 3214.885717798727, 3985.110562900265, 3759.2521060406934, 1.1739731361383947, 1.1753522746135525, 1.1765133159090164, 1.1787330344743199, 1.1795355379077228, 1.1817500805378311, 1.1816337939097632, 1.1834060372928592, 1.1824746561938004, 1.1827532067481081, 1.183117916918918, 1.1862884049752618, 1.182817473451922, 1.183356149116504, 1.1854189930553096, 1.1856949606779046, 1.186392447927921, 1.185095483349115, 1.1877559622421965, 1.1891621575081863, 1.1874653178436043, 1.1907589469331474, 1.1889923032499943, 1.187608276375445, 1.1895726430764475, 1.1893172004965304, 1.190927440370017, 1.1910498792827293, 1.1903064088653605, 1.193274698401729, 1.1947937805884692, 1.1941397229124926, 21464.534701731463, 11630.331065938306, 17924.120311737486, 15969.69853976089, 15913.328520308698, 11488.706964781655, 6876.3745299986585, 7656.279017792608, 6425.39502500783, 3401.438418293994, 6979.600932467951, 3985.110562900265, 4055.8591504125593, 4080.2273057119633, 3443.407349540213, 3891.547923230768, 5880.730409790583, 6753.667405313338, 5467.626524230468, 2047.2072675601162, 3214.885717798727, 5040.809884173109, 3725.732175693264, 3202.540843918882, 6808.950208794714, 2902.8152233977253, 2174.572197377105, 3750.6212821376253, 6148.334840155352, 4221.873870317517, 3551.458403221687, 5716.864443242688, 3580.6487805172856, 3948.3695165640897, 1.1739731361383947, 1.1753522746135525, 1.1765133159090164, 1.1787330344743199, 1.1795355379077228, 1.1817500805378311, 1.1816337939097632, 1.1827532067481081, 1.1824746561938004, 1.182817473451922, 1.183356149116504, 1.183117916918918, 1.1834060372928592, 1.185095483349115, 1.186392447927921, 1.1854189930553096, 1.1862884049752618, 1.1856949606779046, 1.187608276375445, 1.1874653178436043, 1.1877559622421965, 1.1889923032499943, 1.1895726430764475, 1.1893172004965304, 1.1904650145805502, 1.1891621575081863, 1.1907589469331474, 1.1903064088653605, 1.1914007863888716, 1.190927440370017, 1.1916253874990206, 1.1927918954481385, 21464.534701731463, 17924.120311737486, 15913.328520308698, 7656.279017792608, 11488.706964781655, 15969.69853976089, 11630.331065938306, 6425.39502500783, 5880.730409790583, 6808.950208794714, 6876.3745299986585, 5467.626524230468, 3948.3695165640897, 3559.891841124327, 6753.667405313338, 4080.2273057119633, 3750.6212821376253, 6979.600932467951, 2682.641867353656, 6148.334840155352, 3778.1889562587658, 3725.732175693264, 3144.3995927216138, 4221.873870317517, 3401.438418293994, 2902.8152233977253, 3554.73829319384, 3214.885717798727, 2429.6194086958876, 4055.8591504125593, 5040.809884173109, 5716.864443242688], \"Category\": [\"Default\", \"Default\", \"Default\", \"Default\", \"Default\", \"Default\", \"Default\", \"Default\", \"Default\", \"Default\", \"Default\", \"Default\", \"Default\", \"Default\", \"Default\", \"Default\", \"Default\", \"Default\", \"Default\", \"Default\", \"Default\", \"Default\", \"Default\", \"Default\", \"Default\", \"Default\", \"Default\", \"Default\", \"Default\", \"Default\", \"Topic1\", \"Topic1\", \"Topic1\", \"Topic1\", \"Topic1\", \"Topic1\", \"Topic1\", \"Topic1\", \"Topic1\", \"Topic1\", \"Topic1\", \"Topic1\", \"Topic1\", \"Topic1\", \"Topic1\", \"Topic1\", \"Topic1\", \"Topic1\", \"Topic1\", \"Topic1\", \"Topic1\", \"Topic1\", \"Topic1\", \"Topic1\", \"Topic1\", \"Topic1\", \"Topic1\", \"Topic1\", \"Topic1\", \"Topic1\", \"Topic1\", \"Topic1\", \"Topic1\", \"Topic1\", \"Topic1\", \"Topic1\", \"Topic1\", \"Topic1\", \"Topic1\", \"Topic1\", \"Topic1\", \"Topic1\", \"Topic1\", \"Topic1\", \"Topic1\", \"Topic1\", \"Topic1\", \"Topic1\", \"Topic1\", \"Topic1\", \"Topic1\", \"Topic1\", \"Topic1\", \"Topic1\", \"Topic1\", \"Topic1\", \"Topic1\", \"Topic1\", \"Topic1\", \"Topic1\", \"Topic1\", \"Topic1\", \"Topic1\", \"Topic1\", \"Topic1\", \"Topic1\", \"Topic1\", \"Topic1\", \"Topic1\", \"Topic1\", \"Topic1\", \"Topic1\", \"Topic1\", \"Topic1\", \"Topic1\", \"Topic1\", \"Topic1\", \"Topic1\", \"Topic1\", \"Topic1\", \"Topic1\", \"Topic1\", \"Topic1\", \"Topic1\", \"Topic1\", \"Topic1\", \"Topic1\", \"Topic1\", \"Topic1\", \"Topic1\", \"Topic1\", \"Topic1\", \"Topic2\", \"Topic2\", \"Topic2\", \"Topic2\", \"Topic2\", \"Topic2\", \"Topic2\", \"Topic2\", \"Topic2\", \"Topic2\", \"Topic2\", \"Topic2\", \"Topic2\", \"Topic2\", \"Topic2\", \"Topic2\", \"Topic2\", \"Topic2\", \"Topic2\", \"Topic2\", \"Topic2\", \"Topic2\", \"Topic2\", \"Topic2\", \"Topic2\", \"Topic2\", \"Topic2\", \"Topic2\", \"Topic2\", \"Topic2\", \"Topic2\", \"Topic2\", \"Topic2\", \"Topic2\", \"Topic2\", \"Topic2\", \"Topic2\", \"Topic2\", \"Topic2\", \"Topic2\", \"Topic2\", \"Topic2\", \"Topic2\", \"Topic2\", \"Topic2\", \"Topic2\", \"Topic2\", \"Topic2\", \"Topic2\", \"Topic2\", \"Topic2\", \"Topic2\", \"Topic2\", \"Topic2\", \"Topic2\", \"Topic2\", \"Topic2\", \"Topic2\", \"Topic2\", \"Topic2\", \"Topic2\", \"Topic2\", \"Topic2\", \"Topic2\", \"Topic2\", \"Topic2\", \"Topic2\", \"Topic2\", \"Topic2\", \"Topic2\", \"Topic2\", \"Topic2\", \"Topic2\", \"Topic2\", \"Topic2\", \"Topic2\", \"Topic2\", \"Topic2\", \"Topic3\", \"Topic3\", \"Topic3\", \"Topic3\", \"Topic3\", \"Topic3\", \"Topic3\", \"Topic3\", \"Topic3\", \"Topic3\", \"Topic3\", \"Topic3\", \"Topic3\", \"Topic3\", \"Topic3\", \"Topic3\", \"Topic3\", \"Topic3\", \"Topic3\", \"Topic3\", \"Topic3\", \"Topic3\", \"Topic3\", \"Topic3\", \"Topic3\", \"Topic3\", \"Topic3\", \"Topic3\", \"Topic3\", \"Topic3\", \"Topic3\", \"Topic3\", \"Topic3\", \"Topic3\", \"Topic3\", \"Topic3\", \"Topic3\", \"Topic3\", \"Topic3\", \"Topic3\", \"Topic3\", \"Topic3\", \"Topic3\", \"Topic3\", \"Topic3\", \"Topic3\", \"Topic3\", \"Topic3\", \"Topic3\", \"Topic3\", \"Topic3\", \"Topic3\", \"Topic3\", \"Topic3\", \"Topic3\", \"Topic3\", \"Topic3\", \"Topic3\", \"Topic3\", \"Topic3\", \"Topic3\", \"Topic3\", \"Topic4\", \"Topic4\", \"Topic4\", \"Topic4\", \"Topic4\", \"Topic4\", \"Topic4\", \"Topic4\", \"Topic4\", \"Topic4\", \"Topic4\", \"Topic4\", \"Topic4\", \"Topic4\", \"Topic4\", \"Topic4\", \"Topic4\", \"Topic4\", \"Topic4\", \"Topic4\", \"Topic4\", \"Topic4\", \"Topic4\", \"Topic4\", \"Topic4\", \"Topic4\", \"Topic4\", \"Topic4\", \"Topic4\", \"Topic4\", \"Topic4\", \"Topic4\", \"Topic4\", \"Topic4\", \"Topic4\", \"Topic4\", \"Topic4\", \"Topic4\", \"Topic4\", \"Topic4\", \"Topic4\", \"Topic4\", \"Topic4\", \"Topic4\", \"Topic4\", \"Topic4\", \"Topic4\", \"Topic4\", \"Topic4\", \"Topic4\", \"Topic4\", \"Topic4\", \"Topic4\", \"Topic4\", \"Topic4\", \"Topic4\", \"Topic4\", \"Topic4\", \"Topic4\", \"Topic4\", \"Topic4\", \"Topic4\", \"Topic4\", \"Topic4\", \"Topic4\", \"Topic4\", \"Topic5\", \"Topic5\", \"Topic5\", \"Topic5\", \"Topic5\", \"Topic5\", \"Topic5\", \"Topic5\", \"Topic5\", \"Topic5\", \"Topic5\", \"Topic5\", \"Topic5\", \"Topic5\", \"Topic5\", \"Topic5\", \"Topic5\", \"Topic5\", \"Topic5\", \"Topic5\", \"Topic5\", \"Topic5\", \"Topic5\", \"Topic5\", \"Topic5\", \"Topic5\", \"Topic5\", \"Topic5\", \"Topic5\", \"Topic5\", \"Topic5\", \"Topic5\", \"Topic5\", \"Topic5\", \"Topic5\", \"Topic5\", \"Topic5\", \"Topic5\", \"Topic5\", \"Topic5\", \"Topic5\", \"Topic5\", \"Topic5\", \"Topic5\", \"Topic5\", \"Topic5\", \"Topic5\", \"Topic5\", \"Topic5\", \"Topic5\", \"Topic5\", \"Topic5\", \"Topic5\", \"Topic5\", \"Topic5\", \"Topic5\", \"Topic5\", \"Topic5\", \"Topic5\", \"Topic5\", \"Topic5\", \"Topic5\", \"Topic5\", \"Topic5\"], \"logprob\": [30.0, 29.0, 28.0, 27.0, 26.0, 25.0, 24.0, 23.0, 22.0, 21.0, 20.0, 19.0, 18.0, 17.0, 16.0, 15.0, 14.0, 13.0, 12.0, 11.0, 10.0, 9.0, 8.0, 7.0, 6.0, 5.0, 4.0, 3.0, 2.0, 1.0, -12.222, -12.2238, -12.2278, -12.4891, -12.027, -12.2325, -12.493, -12.2347, -12.4938, -12.2365, -12.4943, -12.0326, -11.717, -12.4949, -12.2378, -12.4965, -12.2396, -12.498, -12.4978, -11.8656, -12.4996, -12.4992, -12.5, -12.5008, -12.5018, -12.0386, -12.2438, -12.2443, -12.5041, -12.2474, -11.7344, -5.6015, -7.4154, -6.703, -7.8701, -5.0443, -6.9442, -6.7181, -9.6188, -7.2549, -6.2882, -10.9544, -7.6107, -7.5631, -7.6603, -6.1583, -7.8563, -4.5843, -5.6919, -6.6, -7.0726, -5.3264, -7.0981, -6.9646, -5.6865, -4.2919, -6.6142, -6.5911, -7.3267, -7.1555, -4.612, -7.5209, -5.1198, -5.1123, -4.3065, -4.025, -4.1993, -6.0552, -6.1277, -6.0271, -5.427, -5.8138, -6.0438, -5.7936, -5.7647, -5.2443, -5.8884, -5.6749, -5.8926, -5.1902, -5.2463, -5.3532, -5.1082, -5.6677, -5.341, -5.6834, -5.6697, -5.6492, -5.8141, -5.7811, -5.7871, -5.7988, -12.5924, -12.5958, -12.5972, -12.6058, -12.6068, -12.6151, -12.6166, -12.6174, -12.6174, -12.6177, -12.6184, -12.0812, -12.6212, -12.6215, -12.6242, -12.6264, -12.627, -12.6301, -12.6312, -12.6319, -12.6324, -12.0946, -12.633, -12.6378, -12.6377, -12.6389, -12.6406, -12.6412, -12.6429, -12.643, -12.1231, -12.1278, -5.3551, -6.6916, -4.8074, -3.9171, -4.1151, -5.6897, -7.0236, -5.5701, -4.2562, -6.3655, -5.1513, -5.0798, -6.0228, -5.0475, -5.7049, -7.1246, -6.248, -4.3187, -6.1159, -5.89, -6.8013, -5.2246, -5.6113, -6.2719, -6.4938, -6.5618, -5.619, -6.8816, -5.7069, -4.6641, -5.6375, -4.7075, -5.5488, -5.861, -5.9483, -5.702, -5.2648, -5.7206, -5.2235, -5.2423, -5.6249, -5.6564, -5.5188, -5.6803, -5.5107, -5.4331, -10.3616, -10.3634, -10.3647, -10.3638, -10.3619, -10.3606, -10.3642, -10.3621, -10.3628, -10.3622, -10.3639, -10.3643, -10.3641, -10.3619, -10.364, -10.3638, -10.3641, -10.364, -10.3631, -10.3619, -10.3635, -10.3619, -10.363, -10.3642, -10.3618, -10.3628, -10.3641, -10.3635, -10.3628, -10.3635, -10.363, -5.7232, -5.712, -5.8407, -5.711, -6.1394, -6.2247, -6.6021, -6.5507, -6.6668, -6.7314, -6.832, -6.7418, -6.8361, -6.8825, -6.9266, -7.1899, -7.1506, -7.1661, -7.4097, -7.1728, -7.2561, -7.2156, -7.1189, -7.2793, -7.3325, -7.3026, -7.145, -7.4557, -7.3912, -7.3293, -7.3697, -10.3789, -10.3786, -10.3803, -10.3785, -10.38, -10.3782, -10.3789, -10.3788, -10.3799, -10.3798, -10.3798, -10.3773, -10.3803, -10.38, -10.3785, -10.3786, -10.3787, -10.3802, -10.3796, -10.3788, -10.3803, -10.3781, -10.3797, -10.3812, -10.3796, -10.3799, -10.3788, -10.3788, -10.3796, -10.3774, -10.3776, -10.3779, -5.4506, -5.8735, -5.697, -5.8951, -5.9954, -6.2287, -6.4787, -6.4954, -6.62, -6.9298, -6.6358, -6.9207, -6.9277, -6.993, -7.0691, -7.0379, -6.8725, -6.8223, -6.9275, -7.3245, -7.1802, -7.0122, -7.1381, -7.2051, -6.9239, -7.2686, -7.3859, -7.1736, -7.0021, -7.1525, -7.2199, -7.0826, -7.232, -7.2281, -10.2701, -10.2698, -10.2701, -10.2701, -10.2703, -10.2699, -10.2701, -10.2695, -10.2698, -10.2696, -10.2696, -10.2698, -10.2698, -10.2699, -10.2693, -10.2702, -10.2698, -10.2703, -10.2694, -10.27, -10.2698, -10.2695, -10.2693, -10.2699, -10.269, -10.2707, -10.2697, -10.2703, -10.2694, -10.2699, -10.2696, -10.2692, -6.0318, -6.2852, -6.3507, -6.7346, -6.6175, -6.5738, -6.9044, -7.1419, -7.2189, -7.1803, -7.2039, -7.3002, -7.4174, -7.5056, -7.2932, -7.5353, -7.5889, -7.3935, -7.7449, -7.4976, -7.6693, -7.696, -7.7514, -7.6683, -7.7515, -7.8087, -7.7524, -7.8101, -7.96, -7.8103, -7.7612, -7.7942], \"loglift\": [30.0, 29.0, 28.0, 27.0, 26.0, 25.0, 24.0, 23.0, 22.0, 21.0, 20.0, 19.0, 18.0, 17.0, 16.0, 15.0, 14.0, 13.0, 12.0, 11.0, 10.0, 9.0, 8.0, 7.0, 6.0, 5.0, 4.0, 3.0, 2.0, 1.0, 0.2157, 0.2135, 0.2104, 0.208, 0.2076, 0.2072, 0.2056, 0.2053, 0.2041, 0.2041, 0.2039, 0.2039, 0.2037, 0.2033, 0.2028, 0.2023, 0.2017, 0.201, 0.201, 0.2008, 0.2001, 0.2, 0.1997, 0.199, 0.1986, 0.1985, 0.1984, 0.1981, 0.1959, 0.1957, 0.1909, 0.1049, 0.1374, 0.1151, 0.1359, 0.0779, 0.1037, 0.0982, 0.1543, 0.1056, 0.0856, 0.1792, 0.11, 0.1079, 0.1089, 0.0778, 0.1123, 0.0273, 0.058, 0.0839, 0.0963, 0.0399, 0.0938, 0.0892, 0.0495, 0.0062, 0.078, 0.0746, 0.0962, 0.0906, 0.0119, 0.1016, 0.0272, 0.0248, -0.0119, -0.0262, -0.0203, 0.0539, 0.056, 0.0514, 0.0206, 0.038, 0.0494, 0.0351, 0.0331, 0.0047, 0.0334, 0.017, 0.027, -0.0351, -0.0413, -0.0314, -0.0785, -0.0027, -0.0475, -0.0007, -0.0106, -0.0243, -0.0059, -0.0401, -0.0438, -0.0399, 1.2202, 1.2156, 1.2132, 1.2028, 1.2011, 1.191, 1.1894, 1.1878, 1.1877, 1.1877, 1.1864, 1.1855, 1.1833, 1.1831, 1.1789, 1.1765, 1.1757, 1.172, 1.1708, 1.1692, 1.1687, 1.1685, 1.168, 1.1621, 1.1619, 1.1608, 1.1588, 1.1576, 1.1557, 1.1551, 1.1315, 1.1265, 0.4404, 0.4589, 0.2223, 0.0817, 0.064, 0.2636, 0.4377, 0.2196, 0.0383, 0.3189, 0.1422, 0.1252, 0.2656, 0.1076, 0.1964, 0.4054, 0.2707, -0.0207, 0.2424, 0.2036, 0.3384, 0.0972, 0.132, 0.2374, 0.2689, 0.2792, 0.122, 0.3262, 0.1341, -0.0403, 0.1214, -0.0959, 0.0761, 0.1379, 0.1562, 0.0949, -0.0157, 0.091, -0.0864, -0.0953, 0.0342, 0.0087, -0.0712, 0.0024, -0.1443, -0.3108, 3.451, 3.448, 3.4457, 3.4448, 3.4441, 3.444, 3.4437, 3.4433, 3.4433, 3.4424, 3.4412, 3.4409, 3.4407, 3.4402, 3.4392, 3.4391, 3.4386, 3.4382, 3.4379, 3.4379, 3.4377, 3.4374, 3.4369, 3.4367, 3.4366, 3.4358, 3.4355, 3.4353, 3.4349, 3.4347, 3.4344, -1.4287, -1.5329, -1.5427, -1.7122, -1.5278, -1.6009, -1.3971, -1.521, -1.5297, -1.5763, -1.4657, -1.6196, -1.5143, -1.589, -1.7796, -1.3944, -1.4855, -1.5071, -1.1296, -1.5479, -1.4273, -1.5091, -1.6712, -1.5293, -1.4915, -1.5438, -1.8959, -1.3773, -1.4938, -1.6467, -1.6287, 3.4337, 3.4328, 3.4302, 3.43, 3.4278, 3.4278, 3.4272, 3.4258, 3.4255, 3.4254, 3.4251, 3.4249, 3.4248, 3.4246, 3.4243, 3.4241, 3.4234, 3.4229, 3.4214, 3.4209, 3.4209, 3.4203, 3.4201, 3.4198, 3.4198, 3.4197, 3.4194, 3.4193, 3.4192, 3.4189, 3.4174, 3.4176, -1.4518, -1.2619, -1.5179, -1.6006, -1.6973, -1.6048, -1.3416, -1.4657, -1.415, -1.0888, -1.5135, -1.2381, -1.2626, -1.334, -1.2404, -1.3315, -1.5789, -1.6672, -1.5611, -0.9757, -1.2828, -1.5646, -1.3882, -1.3038, -1.7769, -1.269, -1.0975, -1.4303, -1.753, -1.5275, -1.422, -1.7608, -1.4423, -1.5362, 3.5425, 3.5416, 3.5403, 3.5385, 3.5375, 3.536, 3.5359, 3.5356, 3.5356, 3.5355, 3.5351, 3.535, 3.5348, 3.5332, 3.5328, 3.5327, 3.5324, 3.5324, 3.5316, 3.5312, 3.5311, 3.5304, 3.5301, 3.5297, 3.5296, 3.529, 3.5287, 3.5285, 3.5284, 3.5284, 3.528, 3.5275, -2.033, -2.1061, -2.0527, -1.7049, -1.9937, -2.2792, -2.2928, -1.9369, -1.9253, -2.0333, -2.0668, -1.9338, -1.7255, -1.7101, -2.1381, -1.8762, -1.8456, -2.2713, -1.6664, -2.2485, -1.9333, -1.946, -1.8318, -2.0434, -1.9105, -1.8091, -1.9555, -1.9127, -1.7825, -2.1452, -2.3136, -2.4724]}, \"token.table\": {\"Topic\": [1, 2, 1, 2, 1, 2, 2, 1, 2, 1, 2, 1, 2, 1, 2, 1, 2, 1, 1, 1, 1, 2, 1, 2, 1, 2, 1, 2, 1, 2, 1, 2, 1, 2, 2, 1, 2, 1, 2, 1, 2, 1, 2, 1, 1, 2, 1, 1, 2, 1, 1, 2, 1, 2, 1, 2, 1, 2, 1, 1, 2, 2, 1, 2, 2, 1, 2, 1, 2, 1, 2, 1, 1, 2, 1, 2, 2, 2, 1, 2, 1, 2, 1, 2, 1, 2, 1, 2, 1, 2, 1, 2, 1, 2, 2, 2, 1, 2, 1, 2, 1, 2, 1, 2, 2, 2, 1, 2, 1, 2, 1, 1, 2, 1, 2, 2, 2, 1, 2, 1, 2, 1, 2, 1, 1, 1, 2, 1, 2, 1, 2, 1, 2, 2, 2, 2, 1, 2, 1, 2, 1, 2, 1, 2, 2, 1, 2, 1, 2, 1, 2, 1, 2, 2, 1, 2, 2, 2, 1, 2, 1, 2, 2, 1, 1, 1, 2, 2, 1, 2, 2, 1, 2, 1, 2, 1, 2, 2, 2, 1, 2, 1, 1, 2, 2, 1, 2, 1, 2, 1, 2, 1, 2, 2, 1, 2, 1, 2, 1, 2, 1, 1, 2, 2, 2, 2, 1, 2, 1, 1, 1, 2, 1, 2, 1, 2, 1, 2, 1, 2, 1, 1, 2, 2, 1, 2, 2, 1, 2, 1, 2, 1, 1, 2, 1, 2, 1, 2, 1, 2, 1, 2, 1, 2, 1, 2, 1, 2, 1, 1, 1, 2, 1], \"Freq\": [0.8397135025435225, 0.8383692107702446, 0.6780728447292648, 0.32289183082345946, 0.8451332837229029, 0.1558706056274051, 0.8421298584248045, 0.48754690232939646, 0.48754690232939646, 0.7169307471471412, 0.2832126252885266, 0.7148884793776614, 0.28534987477541385, 0.8113548991658052, 0.1884463905668409, 0.852103087361456, 0.1477561143645468, 0.8397975417728271, 0.8635858804353657, 0.8387789673247511, 0.778133228248332, 0.2222539980244765, 0.7885416114128567, 0.21142992285074855, 0.7720572087932781, 0.22792214685766074, 0.7948522269273377, 0.20531988470501564, 0.6385025448644289, 0.36152783776529696, 0.694756798573546, 0.3051140273735489, 0.8292200895505771, 0.1706447657969872, 0.839189908582593, 0.8298339503606189, 0.170787402231895, 0.6389434904044252, 0.36107736783319844, 0.7985183297819497, 0.2013670822468911, 0.8640832096032386, 0.8454849196726556, 0.8790773853326266, 0.8432837779725402, 0.15776102979567036, 0.8806903962114976, 0.846704900791873, 0.15359195714180385, 0.8393082799881253, 0.8062456824226509, 0.19371083500722536, 0.7435894347686809, 0.256434276963276, 0.8269012017810784, 0.17302555560382663, 0.6969581125494452, 0.30292516359511046, 0.8391472267007603, 0.8540008335915047, 0.1447769653513495, 0.8433872396895943, 0.8359024066368879, 0.16427560777525418, 0.8389900214890528, 0.7407827036409834, 0.25911847518923065, 0.8384720313055478, 0.8380300037697933, 0.8404044963699675, 0.845684086979794, 0.8389180149349701, 0.7362971430685283, 0.26379701067452027, 0.9031913970668857, 0.12902734243812652, 0.839681718719407, 0.8408185802597558, 0.8616025031519536, 0.8438138648321993, 0.7489565290500243, 0.2510733462343535, 0.7371460755746583, 0.26268614743108687, 0.8397824779415844, 0.8369645174311773, 0.8510793173937656, 0.14938112730236994, 0.878681662371071, 0.12040244353189604, 0.7709404453776029, 0.22900509432313604, 0.8451974506039931, 0.155285620845878, 0.8483685200576147, 0.8400078857859936, 0.8346169599088801, 0.1652842097364558, 0.7317118283191685, 0.2683340146613172, 0.8098389875098203, 0.19025643038318038, 0.7102064893481735, 0.2898915988766827, 0.8395954001542044, 0.8477913279101488, 0.776501657440398, 0.22352384893027039, 0.7832074787021307, 0.21663185581122762, 0.8915311387085219, 0.6316353313306968, 0.36809093446513025, 0.8998205567550205, 0.1049790649547524, 0.9869597351108459, 0.842028486911508, 0.7338071994999926, 0.2660639084725534, 0.7049029503458493, 0.2948088824066449, 0.7627084272326982, 0.23726177855728098, 0.881205933597354, 0.8381678092749385, 0.7093524135391057, 0.29061114345875716, 0.9354269123117511, 0.058464182019484445, 0.7451129284246581, 0.2549371053958696, 0.8399861251696893, 0.8452242888893148, 0.8419237888835696, 0.845054129094273, 0.8518082477503253, 0.6920075971887881, 0.3076477193044843, 0.7474655389900341, 0.25250955007018105, 0.8400038322195699, 0.1593730523326716, 0.6966887564493565, 0.30350797310665034, 0.8499691303768747, 0.6953364053961721, 0.30444059407356316, 0.7885209665750211, 0.21148634603613903, 0.7932874019823786, 0.20652882140802786, 0.6510140388025512, 0.34858697921212395, 0.839348111420166, 0.7883858036803517, 0.21180514128725866, 0.8410483375431428, 0.8394954787793508, 0.8294170477670906, 0.170496853833622, 0.7032688890323187, 0.29639873934672056, 0.8429653327184408, 0.8390154514659531, 0.8654640874556282, 0.7866063688652886, 0.21348459040381654, 0.8450185046271895, 0.8393489623451801, 0.16114709171055872, 0.8435835817195665, 0.4916740408405838, 0.9833480816811676, 0.7509950969074515, 0.24906855736884742, 0.6733352722898474, 0.326432940006118, 0.8398005344201229, 0.8401198149922028, 0.7278982684866862, 0.27227773576851605, 0.8991147259675247, 0.8132629660735595, 0.1868089189396691, 0.8454389814529969, 0.7651904969375998, 0.23453399784184967, 0.7371147030940851, 0.2628182340876781, 0.7668545079903426, 0.2333686820782129, 0.7653125724753689, 0.23472215496022913, 0.8409282062048092, 0.8588041150609406, 0.14066619125998164, 0.6798506879501479, 0.31976896679464245, 0.8485503036394554, 0.15015499200204355, 0.8640395992560835, 0.8552445002871378, 0.14355167735316024, 0.8374229420666217, 0.8462026078685655, 0.8462858841326996, 0.7803221018384107, 0.21958431103339893, 0.8655878047575702, 0.866284356412876, 0.4873994248057796, 0.4873994248057796, 0.8606339537791117, 0.13901346984816867, 0.7440772799123663, 0.2559963420492451, 0.7931952680185056, 0.2069572318046154, 0.73454497075477, 0.2655560039461891, 0.862016092729952, 0.8384749540694265, 0.8508087503627735, 0.8406380272950975, 0.8809603141257707, 0.12050104111886696, 0.8428914072628644, 0.7970846122874502, 0.20298612609706507, 0.7592714248206391, 0.24091795048375994, 0.8612001946748198, 0.8062063690473033, 0.1937436185629107, 0.7518918510703524, 0.24810143664835327, 0.8531290511981001, 0.14778613485321418, 0.8077857974153214, 0.19234770256866907, 0.7329410538013927, 0.26714995666974206, 0.7581858837130742, 0.24177037471227117, 0.7277678138046817, 0.2720520061067974, 0.8570991946100955, 0.14445492043990374, 0.8375715495531166, 0.8632521090845485, 0.7387988396764894, 0.2609462196963199, 0.8647307952467728], \"Term\": [\"\\uac00\\uc5f4\", \"\\uac00\\uc9c0\\uac01\\uc0c9\", \"\\uac00\\ud574\\uc790\", \"\\uac00\\ud574\\uc790\", \"\\uac15\\uc81c\", \"\\uac15\\uc81c\", \"\\uac70\\uc2a4\\ub984\\ub3c8\", \"\\uacb0\\ucc45\", \"\\uacb0\\ucc45\", \"\\uacbd\\uc6b0\", \"\\uacbd\\uc6b0\", \"\\uace0\\ub4f1\\ud559\\uad50\", \"\\uace0\\ub4f1\\ud559\\uad50\", \"\\uacf3\", \"\\uacf3\", \"\\uacf5\\ubd80\", \"\\uacf5\\ubd80\", \"\\uacf5\\ud130\", \"\\uacfc\\ubc18\", \"\\uacfc\\ubd80\", \"\\uacfc\\uc815\", \"\\uacfc\\uc815\", \"\\uad50\\uc0ac\", \"\\uad50\\uc0ac\", \"\\uad50\\uc721\", \"\\uad50\\uc721\", \"\\uad6d\\uac00\", \"\\uad6d\\uac00\", \"\\uad6d\\ubbfc\", \"\\uad6d\\ubbfc\", \"\\uadf8\", \"\\uadf8\", \"\\uae00\", \"\\uae00\", \"\\uae08\\ub2ec\", \"\\uae30\\uad00\", \"\\uae30\\uad00\", \"\\ub05d\", \"\\ub05d\", \"\\ub098\\ub77c\", \"\\ub098\\ub77c\", \"\\ub0b4\\uad50\", \"\\ub180\\ub780\", \"\\ub2e8\\uccb4\\uad50\\uc12d\", \"\\ub2f4\\uc784\", \"\\ub2f4\\uc784\", \"\\ub300\\ub2f4\", \"\\ub300\\ubd80\\ubd84\", \"\\ub300\\ubd80\\ubd84\", \"\\ub300\\uc545\", \"\\ub300\\ud1b5\\ub839\", \"\\ub300\\ud1b5\\ub839\", \"\\ub300\\ud559\", \"\\ub300\\ud559\", \"\\ub300\\ud559\\uad50\", \"\\ub300\\ud559\\uad50\", \"\\ub3c8\", \"\\ub3c8\", \"\\ub3d9\\uc5c5\", \"\\ub458\", \"\\ub458\", \"\\ub9ac\\uc5b4\", \"\\ub9c8\\uc74c\", \"\\ub9c8\\uc74c\", \"\\ub9cc\\ubcc4\", \"\\ub9d0\", \"\\ub9d0\", \"\\ub9d0\\uc218\", \"\\ub9d0\\uc2f8\\uc6c0\", \"\\ubabb\\uc790\", \"\\ubb34\\ube59\", \"\\ubb38\\uacbd\", \"\\ubb38\\uc81c\", \"\\ubb38\\uc81c\", \"\\ubbf8\\uace0\", \"\\ubbf8\\uace0\", \"\\ubc15\\uba78\", \"\\ubc1c\\uc0b0\\uc815\\ub9ac\", \"\\ubc30\\uc815\\uc81c\", \"\\ubc31\\uce58\", \"\\ubc95\", \"\\ubc95\", \"\\ubcf4\\uc721\", \"\\ubcf4\\uc721\", \"\\ubcf4\\ucd08\", \"\\ubcf5\\uc22d\\uc544\\ubf08\", \"\\ubcf5\\uc9c0\", \"\\ubcf5\\uc9c0\", \"\\ubd80\\ub2f9\", \"\\ubd80\\ub2f9\", \"\\ubd80\\ubaa8\", \"\\ubd80\\ubaa8\", \"\\ubd80\\ubd80\", \"\\ubd80\\ubd80\", \"\\ube44\\ub3c4\", \"\\ube48\\uc18c\", \"\\ubfd0\", \"\\ubfd0\", \"\\uc0ac\\ub78c\", \"\\uc0ac\\ub78c\", \"\\uc0ac\\ub9bd\", \"\\uc0ac\\ub9bd\", \"\\uc0ac\\ud68c\", \"\\uc0ac\\ud68c\", \"\\uc0c1\\ubc29\", \"\\uc0c1\\uc2dd\\uc0ac\", \"\\uc0dd\\uac01\", \"\\uc0dd\\uac01\", \"\\uc120\\uc0dd\", \"\\uc120\\uc0dd\", \"\\uc131\\uacbd\", \"\\uc138\\uae08\", \"\\uc138\\uae08\", \"\\uc138\\ubd80\", \"\\uc138\\ubd80\", \"\\uc14b\\ubc29\", \"\\uc1fc\\ubd80\", \"\\uc218\\ub2a5\", \"\\uc218\\ub2a5\", \"\\uc218\\uc2dc\", \"\\uc218\\uc2dc\", \"\\uc218\\uc5c5\", \"\\uc218\\uc5c5\", \"\\uc218\\uc6d4\", \"\\uc288\", \"\\uc2dc\\uac04\", \"\\uc2dc\\uac04\", \"\\uc2dc\\uccad\\uc790\", \"\\uc2dc\\uccad\\uc790\", \"\\uc2dc\\ud5d8\", \"\\uc2dc\\ud5d8\", \"\\uc2ec\\uc57c\\ud1a0\\ub860\", \"\\uc2ec\\uc81c\", \"\\uc2ec\\ud310\\uc6d0\", \"\\uc2f8\\ub4dc\", \"\\uc544\\ub7ab\\ubc30\", \"\\uc544\\ube60\", \"\\uc544\\ube60\", \"\\uc544\\uc774\", \"\\uc544\\uc774\", \"\\uc548\\ub155\", \"\\uc548\\ub155\", \"\\uc560\", \"\\uc560\", \"\\uc57c\\uc560\", \"\\uc5b4\\ub9b0\\uc774\", \"\\uc5b4\\ub9b0\\uc774\", \"\\uc5b4\\ub9b0\\uc774\\uc9d1\", \"\\uc5b4\\ub9b0\\uc774\\uc9d1\", \"\\uc5c4\\ub9c8\", \"\\uc5c4\\ub9c8\", \"\\uc5ec\\uc790\", \"\\uc5ec\\uc790\", \"\\uc5f0\\uad6c\\ubd80\\uc815\\ud589\\uc704\", \"\\uc601\\uc5b4\", \"\\uc601\\uc5b4\", \"\\uc608\\ub791\", \"\\uc655\\uad81\", \"\\uc6b0\\ub9ac\", \"\\uc6b0\\ub9ac\", \"\\uc6b4\\uc601\", \"\\uc6b4\\uc601\", \"\\uc6d0\\ubd09\", \"\\uc704\\uc99d\\uc8c4\", \"\\uc720\\ub2c8\\uc138\\ud504\", \"\\uc720\\uce58\\uc6d0\", \"\\uc720\\uce58\\uc6d0\", \"\\uc721\\uc131\\uc7ac\", \"\\uc758\\uacac\", \"\\uc758\\uacac\", \"\\uc774\\ub2e4\\uc5f0\", \"\\uc774\\ub3d9\\ucc28\", \"\\uc774\\ub3d9\\ucc28\", \"\\uc774\\uc0c1\", \"\\uc774\\uc0c1\", \"\\uc778\\uad8c\", \"\\uc778\\uad8c\", \"\\uc778\\uc778\", \"\\uc784\\uc9c0\\uc6d0\", \"\\uc790\\ub140\", \"\\uc790\\ub140\", \"\\uc7ac\\ud14c\\ud06c\", \"\\uc800\\ud76c\", \"\\uc800\\ud76c\", \"\\uc815\\uad6c\\uccad\", \"\\uc815\\ubd80\", \"\\uc815\\ubd80\", \"\\uc815\\ucc45\", \"\\uc815\\ucc45\", \"\\uc81c\", \"\\uc81c\", \"\\uc81c\\ub3c4\", \"\\uc81c\\ub3c4\", \"\\uc81c\\uc18c\", \"\\uc81c\\uc870\", \"\\uc81c\\uc870\", \"\\uc870\\uc0ac\", \"\\uc870\\uc0ac\", \"\\uc874\\uc7ac\", \"\\uc874\\uc7ac\", \"\\uc8fc\\ub9cc\", \"\\uc8fc\\uc7a5\", \"\\uc8fc\\uc7a5\", \"\\uc911\\ub300\\uc7a5\", \"\\uc911\\uc559\\uc544\\uc2dc\\uc544\", \"\\uc99d\\ub144\", \"\\uc9c0\\uc6d0\", \"\\uc9c0\\uc6d0\", \"\\uc9c8\\ubcd1\\uad00\\ub9ac\\ubcf8\\ubd80\", \"\\uc9d1\\ub300\\uc131\", \"\\ucc38\\ubc30\", \"\\ucc38\\ubc30\", \"\\ucc45\\uc784\", \"\\ucc45\\uc784\", \"\\uccad\\uc18c\\ub144\", \"\\uccad\\uc18c\\ub144\", \"\\uccad\\uc6d0\", \"\\uccad\\uc6d0\", \"\\ucd08\\ub4f1\", \"\\ucd08\\ub4f1\", \"\\ucd08\\ub85c\", \"\\ud0c0\\uc785\", \"\\ud0d1\\uc2b9\\uc790\", \"\\ud23d\", \"\\ud2b9\\uc131\", \"\\ud2b9\\uc131\", \"\\ud30c\\uacac\\uad6d\", \"\\ud3c9\\uac00\", \"\\ud3c9\\uac00\", \"\\ud3d0\\uc9c0\", \"\\ud3d0\\uc9c0\", \"\\ud50c\\ub77c\\uc2a4\\ud2f1\", \"\\ud544\\uc694\", \"\\ud544\\uc694\", \"\\ud559\\uad50\", \"\\ud559\\uad50\", \"\\ud559\\uae30\", \"\\ud559\\uae30\", \"\\ud559\\ub144\", \"\\ud559\\ub144\", \"\\ud559\\ubd80\\ubaa8\", \"\\ud559\\ubd80\\ubaa8\", \"\\ud559\\uc0dd\", \"\\ud559\\uc0dd\", \"\\ud559\\uc6d0\", \"\\ud559\\uc6d0\", \"\\ud569\\uaca9\", \"\\ud569\\uaca9\", \"\\ud574\\ubcc0\", \"\\ud5c8\\uc138\", \"\\ud604\\uc2e4\", \"\\ud604\\uc2e4\", \"\\ud638\\ub0a8\"]}, \"R\": 30, \"lambda.step\": 0.01, \"plot.opts\": {\"xlab\": \"PC1\", \"ylab\": \"PC2\"}, \"topic.order\": [1, 2, 3, 4, 5]};\n",
              "\n",
              "function LDAvis_load_lib(url, callback){\n",
              "  var s = document.createElement('script');\n",
              "  s.src = url;\n",
              "  s.async = true;\n",
              "  s.onreadystatechange = s.onload = callback;\n",
              "  s.onerror = function(){console.warn(\"failed to load library \" + url);};\n",
              "  document.getElementsByTagName(\"head\")[0].appendChild(s);\n",
              "}\n",
              "\n",
              "if(typeof(LDAvis) !== \"undefined\"){\n",
              "   // already loaded: just create the visualization\n",
              "   !function(LDAvis){\n",
              "       new LDAvis(\"#\" + \"ldavis_el335140170864889632926579271\", ldavis_el335140170864889632926579271_data);\n",
              "   }(LDAvis);\n",
              "}else if(typeof define === \"function\" && define.amd){\n",
              "   // require.js is available: use it to load d3/LDAvis\n",
              "   require.config({paths: {d3: \"https://d3js.org/d3.v5\"}});\n",
              "   require([\"d3\"], function(d3){\n",
              "      window.d3 = d3;\n",
              "      LDAvis_load_lib(\"https://cdn.jsdelivr.net/gh/bmabey/pyLDAvis@3.4.0/pyLDAvis/js/ldavis.v3.0.0.js\", function(){\n",
              "        new LDAvis(\"#\" + \"ldavis_el335140170864889632926579271\", ldavis_el335140170864889632926579271_data);\n",
              "      });\n",
              "    });\n",
              "}else{\n",
              "    // require.js not available: dynamically load d3 & LDAvis\n",
              "    LDAvis_load_lib(\"https://d3js.org/d3.v5.js\", function(){\n",
              "         LDAvis_load_lib(\"https://cdn.jsdelivr.net/gh/bmabey/pyLDAvis@3.4.0/pyLDAvis/js/ldavis.v3.0.0.js\", function(){\n",
              "                 new LDAvis(\"#\" + \"ldavis_el335140170864889632926579271\", ldavis_el335140170864889632926579271_data);\n",
              "            })\n",
              "         });\n",
              "}\n",
              "</script>"
            ]
          },
          "metadata": {},
          "execution_count": 136
        }
      ]
    },
    {
      "cell_type": "markdown",
      "source": [
        "# LDA 토픽 모델링(NEW) - 전체 데이터"
      ],
      "metadata": {
        "id": "FI6qa95k8bhY"
      }
    },
    {
      "cell_type": "code",
      "source": [
        "## 위에서 전처리까지 다 하고 내려오기\n",
        "train"
      ],
      "metadata": {
        "colab": {
          "base_uri": "https://localhost:8080/",
          "height": 423
        },
        "id": "7QpXjU8w8gBh",
        "outputId": "34e1b654-717a-4bcd-dbce-44c7095d6268"
      },
      "execution_count": null,
      "outputs": [
        {
          "output_type": "execute_result",
          "data": {
            "text/plain": [
              "       index  category                                               data\n",
              "0          0         2  신혼부부위한 주택정책 보다 보육시설 늘려주세요 국민세금으로 일부를 위한 정책펴지 마...\n",
              "1          1         0  학교이름에 남자도 붙여주세요 울산여자중학교에 재학중인 학생입니다 최근 양성평등 글짓...\n",
              "2          2         1  빙상연맹 대한축구협회등 각종 체육협회의 비리를 철저하게 밝혀주세요 최근 동계올림픽에...\n",
              "3          3         1  티비 세세 관람가도 연령확인 의무화 하자 제기 에전에 티비를 보다가 잠시 딴일이 생...\n",
              "4          4         1  무더운 여름철엔 남성들도 시원한 자율복장을 해야 무더운 여름철에는 남성들도 노넥타이...\n",
              "...      ...       ...                                                ...\n",
              "39980  39995         2  시간유연근무제 저는 국립대에서 일하고 있는 비정규직 근로자입니다동시에  두 자녀의 ...\n",
              "39981  39996         0  소년법을 폐지해 주시고 부산 여중생 가해자 학생들의 강력한 처벌을 요구합니다 소년법...\n",
              "39982  39997         2  무서운데 지켜야 할게 있어요 도와주세요 안녕하세요  한부모엄마 입니다양육비를 받고 ...\n",
              "39983  39998         2  교복에  고정식 이름표를 달게 하는 것을 금지해 주세요 교복에 이름표를 박아놓아 탈...\n",
              "39984  39999         0  합의성관계 가능 나이연령을 올리십시오 제가 형법공부를하다가 문제를풀고있는데금지착오부...\n",
              "\n",
              "[39985 rows x 3 columns]"
            ],
            "text/html": [
              "\n",
              "  <div id=\"df-64121310-8c20-446a-bd70-55b35b8b2299\">\n",
              "    <div class=\"colab-df-container\">\n",
              "      <div>\n",
              "<style scoped>\n",
              "    .dataframe tbody tr th:only-of-type {\n",
              "        vertical-align: middle;\n",
              "    }\n",
              "\n",
              "    .dataframe tbody tr th {\n",
              "        vertical-align: top;\n",
              "    }\n",
              "\n",
              "    .dataframe thead th {\n",
              "        text-align: right;\n",
              "    }\n",
              "</style>\n",
              "<table border=\"1\" class=\"dataframe\">\n",
              "  <thead>\n",
              "    <tr style=\"text-align: right;\">\n",
              "      <th></th>\n",
              "      <th>index</th>\n",
              "      <th>category</th>\n",
              "      <th>data</th>\n",
              "    </tr>\n",
              "  </thead>\n",
              "  <tbody>\n",
              "    <tr>\n",
              "      <th>0</th>\n",
              "      <td>0</td>\n",
              "      <td>2</td>\n",
              "      <td>신혼부부위한 주택정책 보다 보육시설 늘려주세요 국민세금으로 일부를 위한 정책펴지 마...</td>\n",
              "    </tr>\n",
              "    <tr>\n",
              "      <th>1</th>\n",
              "      <td>1</td>\n",
              "      <td>0</td>\n",
              "      <td>학교이름에 남자도 붙여주세요 울산여자중학교에 재학중인 학생입니다 최근 양성평등 글짓...</td>\n",
              "    </tr>\n",
              "    <tr>\n",
              "      <th>2</th>\n",
              "      <td>2</td>\n",
              "      <td>1</td>\n",
              "      <td>빙상연맹 대한축구협회등 각종 체육협회의 비리를 철저하게 밝혀주세요 최근 동계올림픽에...</td>\n",
              "    </tr>\n",
              "    <tr>\n",
              "      <th>3</th>\n",
              "      <td>3</td>\n",
              "      <td>1</td>\n",
              "      <td>티비 세세 관람가도 연령확인 의무화 하자 제기 에전에 티비를 보다가 잠시 딴일이 생...</td>\n",
              "    </tr>\n",
              "    <tr>\n",
              "      <th>4</th>\n",
              "      <td>4</td>\n",
              "      <td>1</td>\n",
              "      <td>무더운 여름철엔 남성들도 시원한 자율복장을 해야 무더운 여름철에는 남성들도 노넥타이...</td>\n",
              "    </tr>\n",
              "    <tr>\n",
              "      <th>...</th>\n",
              "      <td>...</td>\n",
              "      <td>...</td>\n",
              "      <td>...</td>\n",
              "    </tr>\n",
              "    <tr>\n",
              "      <th>39980</th>\n",
              "      <td>39995</td>\n",
              "      <td>2</td>\n",
              "      <td>시간유연근무제 저는 국립대에서 일하고 있는 비정규직 근로자입니다동시에  두 자녀의 ...</td>\n",
              "    </tr>\n",
              "    <tr>\n",
              "      <th>39981</th>\n",
              "      <td>39996</td>\n",
              "      <td>0</td>\n",
              "      <td>소년법을 폐지해 주시고 부산 여중생 가해자 학생들의 강력한 처벌을 요구합니다 소년법...</td>\n",
              "    </tr>\n",
              "    <tr>\n",
              "      <th>39982</th>\n",
              "      <td>39997</td>\n",
              "      <td>2</td>\n",
              "      <td>무서운데 지켜야 할게 있어요 도와주세요 안녕하세요  한부모엄마 입니다양육비를 받고 ...</td>\n",
              "    </tr>\n",
              "    <tr>\n",
              "      <th>39983</th>\n",
              "      <td>39998</td>\n",
              "      <td>2</td>\n",
              "      <td>교복에  고정식 이름표를 달게 하는 것을 금지해 주세요 교복에 이름표를 박아놓아 탈...</td>\n",
              "    </tr>\n",
              "    <tr>\n",
              "      <th>39984</th>\n",
              "      <td>39999</td>\n",
              "      <td>0</td>\n",
              "      <td>합의성관계 가능 나이연령을 올리십시오 제가 형법공부를하다가 문제를풀고있는데금지착오부...</td>\n",
              "    </tr>\n",
              "  </tbody>\n",
              "</table>\n",
              "<p>39985 rows × 3 columns</p>\n",
              "</div>\n",
              "      <button class=\"colab-df-convert\" onclick=\"convertToInteractive('df-64121310-8c20-446a-bd70-55b35b8b2299')\"\n",
              "              title=\"Convert this dataframe to an interactive table.\"\n",
              "              style=\"display:none;\">\n",
              "        \n",
              "  <svg xmlns=\"http://www.w3.org/2000/svg\" height=\"24px\"viewBox=\"0 0 24 24\"\n",
              "       width=\"24px\">\n",
              "    <path d=\"M0 0h24v24H0V0z\" fill=\"none\"/>\n",
              "    <path d=\"M18.56 5.44l.94 2.06.94-2.06 2.06-.94-2.06-.94-.94-2.06-.94 2.06-2.06.94zm-11 1L8.5 8.5l.94-2.06 2.06-.94-2.06-.94L8.5 2.5l-.94 2.06-2.06.94zm10 10l.94 2.06.94-2.06 2.06-.94-2.06-.94-.94-2.06-.94 2.06-2.06.94z\"/><path d=\"M17.41 7.96l-1.37-1.37c-.4-.4-.92-.59-1.43-.59-.52 0-1.04.2-1.43.59L10.3 9.45l-7.72 7.72c-.78.78-.78 2.05 0 2.83L4 21.41c.39.39.9.59 1.41.59.51 0 1.02-.2 1.41-.59l7.78-7.78 2.81-2.81c.8-.78.8-2.07 0-2.86zM5.41 20L4 18.59l7.72-7.72 1.47 1.35L5.41 20z\"/>\n",
              "  </svg>\n",
              "      </button>\n",
              "      \n",
              "  <style>\n",
              "    .colab-df-container {\n",
              "      display:flex;\n",
              "      flex-wrap:wrap;\n",
              "      gap: 12px;\n",
              "    }\n",
              "\n",
              "    .colab-df-convert {\n",
              "      background-color: #E8F0FE;\n",
              "      border: none;\n",
              "      border-radius: 50%;\n",
              "      cursor: pointer;\n",
              "      display: none;\n",
              "      fill: #1967D2;\n",
              "      height: 32px;\n",
              "      padding: 0 0 0 0;\n",
              "      width: 32px;\n",
              "    }\n",
              "\n",
              "    .colab-df-convert:hover {\n",
              "      background-color: #E2EBFA;\n",
              "      box-shadow: 0px 1px 2px rgba(60, 64, 67, 0.3), 0px 1px 3px 1px rgba(60, 64, 67, 0.15);\n",
              "      fill: #174EA6;\n",
              "    }\n",
              "\n",
              "    [theme=dark] .colab-df-convert {\n",
              "      background-color: #3B4455;\n",
              "      fill: #D2E3FC;\n",
              "    }\n",
              "\n",
              "    [theme=dark] .colab-df-convert:hover {\n",
              "      background-color: #434B5C;\n",
              "      box-shadow: 0px 1px 3px 1px rgba(0, 0, 0, 0.15);\n",
              "      filter: drop-shadow(0px 1px 2px rgba(0, 0, 0, 0.3));\n",
              "      fill: #FFFFFF;\n",
              "    }\n",
              "  </style>\n",
              "\n",
              "      <script>\n",
              "        const buttonEl =\n",
              "          document.querySelector('#df-64121310-8c20-446a-bd70-55b35b8b2299 button.colab-df-convert');\n",
              "        buttonEl.style.display =\n",
              "          google.colab.kernel.accessAllowed ? 'block' : 'none';\n",
              "\n",
              "        async function convertToInteractive(key) {\n",
              "          const element = document.querySelector('#df-64121310-8c20-446a-bd70-55b35b8b2299');\n",
              "          const dataTable =\n",
              "            await google.colab.kernel.invokeFunction('convertToInteractive',\n",
              "                                                     [key], {});\n",
              "          if (!dataTable) return;\n",
              "\n",
              "          const docLinkHtml = 'Like what you see? Visit the ' +\n",
              "            '<a target=\"_blank\" href=https://colab.research.google.com/notebooks/data_table.ipynb>data table notebook</a>'\n",
              "            + ' to learn more about interactive tables.';\n",
              "          element.innerHTML = '';\n",
              "          dataTable['output_type'] = 'display_data';\n",
              "          await google.colab.output.renderOutput(dataTable, element);\n",
              "          const docLink = document.createElement('div');\n",
              "          docLink.innerHTML = docLinkHtml;\n",
              "          element.appendChild(docLink);\n",
              "        }\n",
              "      </script>\n",
              "    </div>\n",
              "  </div>\n",
              "  "
            ]
          },
          "metadata": {},
          "execution_count": 15
        }
      ]
    },
    {
      "cell_type": "code",
      "source": [
        "text = train[['data']]\n",
        "text.head(5)"
      ],
      "metadata": {
        "colab": {
          "base_uri": "https://localhost:8080/",
          "height": 206
        },
        "id": "BwOBeW-F83Ik",
        "outputId": "2c6618d2-8dd3-4ffa-9ba4-d3ce607f3f47"
      },
      "execution_count": null,
      "outputs": [
        {
          "output_type": "execute_result",
          "data": {
            "text/plain": [
              "                                                data\n",
              "0  신혼부부위한 주택정책 보다 보육시설 늘려주세요 국민세금으로 일부를 위한 정책펴지 마...\n",
              "1  학교이름에 남자도 붙여주세요 울산여자중학교에 재학중인 학생입니다 최근 양성평등 글짓...\n",
              "2  빙상연맹 대한축구협회등 각종 체육협회의 비리를 철저하게 밝혀주세요 최근 동계올림픽에...\n",
              "3  티비 세세 관람가도 연령확인 의무화 하자 제기 에전에 티비를 보다가 잠시 딴일이 생...\n",
              "4  무더운 여름철엔 남성들도 시원한 자율복장을 해야 무더운 여름철에는 남성들도 노넥타이..."
            ],
            "text/html": [
              "\n",
              "  <div id=\"df-7528c278-4f25-4296-88e3-74670192bf02\">\n",
              "    <div class=\"colab-df-container\">\n",
              "      <div>\n",
              "<style scoped>\n",
              "    .dataframe tbody tr th:only-of-type {\n",
              "        vertical-align: middle;\n",
              "    }\n",
              "\n",
              "    .dataframe tbody tr th {\n",
              "        vertical-align: top;\n",
              "    }\n",
              "\n",
              "    .dataframe thead th {\n",
              "        text-align: right;\n",
              "    }\n",
              "</style>\n",
              "<table border=\"1\" class=\"dataframe\">\n",
              "  <thead>\n",
              "    <tr style=\"text-align: right;\">\n",
              "      <th></th>\n",
              "      <th>data</th>\n",
              "    </tr>\n",
              "  </thead>\n",
              "  <tbody>\n",
              "    <tr>\n",
              "      <th>0</th>\n",
              "      <td>신혼부부위한 주택정책 보다 보육시설 늘려주세요 국민세금으로 일부를 위한 정책펴지 마...</td>\n",
              "    </tr>\n",
              "    <tr>\n",
              "      <th>1</th>\n",
              "      <td>학교이름에 남자도 붙여주세요 울산여자중학교에 재학중인 학생입니다 최근 양성평등 글짓...</td>\n",
              "    </tr>\n",
              "    <tr>\n",
              "      <th>2</th>\n",
              "      <td>빙상연맹 대한축구협회등 각종 체육협회의 비리를 철저하게 밝혀주세요 최근 동계올림픽에...</td>\n",
              "    </tr>\n",
              "    <tr>\n",
              "      <th>3</th>\n",
              "      <td>티비 세세 관람가도 연령확인 의무화 하자 제기 에전에 티비를 보다가 잠시 딴일이 생...</td>\n",
              "    </tr>\n",
              "    <tr>\n",
              "      <th>4</th>\n",
              "      <td>무더운 여름철엔 남성들도 시원한 자율복장을 해야 무더운 여름철에는 남성들도 노넥타이...</td>\n",
              "    </tr>\n",
              "  </tbody>\n",
              "</table>\n",
              "</div>\n",
              "      <button class=\"colab-df-convert\" onclick=\"convertToInteractive('df-7528c278-4f25-4296-88e3-74670192bf02')\"\n",
              "              title=\"Convert this dataframe to an interactive table.\"\n",
              "              style=\"display:none;\">\n",
              "        \n",
              "  <svg xmlns=\"http://www.w3.org/2000/svg\" height=\"24px\"viewBox=\"0 0 24 24\"\n",
              "       width=\"24px\">\n",
              "    <path d=\"M0 0h24v24H0V0z\" fill=\"none\"/>\n",
              "    <path d=\"M18.56 5.44l.94 2.06.94-2.06 2.06-.94-2.06-.94-.94-2.06-.94 2.06-2.06.94zm-11 1L8.5 8.5l.94-2.06 2.06-.94-2.06-.94L8.5 2.5l-.94 2.06-2.06.94zm10 10l.94 2.06.94-2.06 2.06-.94-2.06-.94-.94-2.06-.94 2.06-2.06.94z\"/><path d=\"M17.41 7.96l-1.37-1.37c-.4-.4-.92-.59-1.43-.59-.52 0-1.04.2-1.43.59L10.3 9.45l-7.72 7.72c-.78.78-.78 2.05 0 2.83L4 21.41c.39.39.9.59 1.41.59.51 0 1.02-.2 1.41-.59l7.78-7.78 2.81-2.81c.8-.78.8-2.07 0-2.86zM5.41 20L4 18.59l7.72-7.72 1.47 1.35L5.41 20z\"/>\n",
              "  </svg>\n",
              "      </button>\n",
              "      \n",
              "  <style>\n",
              "    .colab-df-container {\n",
              "      display:flex;\n",
              "      flex-wrap:wrap;\n",
              "      gap: 12px;\n",
              "    }\n",
              "\n",
              "    .colab-df-convert {\n",
              "      background-color: #E8F0FE;\n",
              "      border: none;\n",
              "      border-radius: 50%;\n",
              "      cursor: pointer;\n",
              "      display: none;\n",
              "      fill: #1967D2;\n",
              "      height: 32px;\n",
              "      padding: 0 0 0 0;\n",
              "      width: 32px;\n",
              "    }\n",
              "\n",
              "    .colab-df-convert:hover {\n",
              "      background-color: #E2EBFA;\n",
              "      box-shadow: 0px 1px 2px rgba(60, 64, 67, 0.3), 0px 1px 3px 1px rgba(60, 64, 67, 0.15);\n",
              "      fill: #174EA6;\n",
              "    }\n",
              "\n",
              "    [theme=dark] .colab-df-convert {\n",
              "      background-color: #3B4455;\n",
              "      fill: #D2E3FC;\n",
              "    }\n",
              "\n",
              "    [theme=dark] .colab-df-convert:hover {\n",
              "      background-color: #434B5C;\n",
              "      box-shadow: 0px 1px 3px 1px rgba(0, 0, 0, 0.15);\n",
              "      filter: drop-shadow(0px 1px 2px rgba(0, 0, 0, 0.3));\n",
              "      fill: #FFFFFF;\n",
              "    }\n",
              "  </style>\n",
              "\n",
              "      <script>\n",
              "        const buttonEl =\n",
              "          document.querySelector('#df-7528c278-4f25-4296-88e3-74670192bf02 button.colab-df-convert');\n",
              "        buttonEl.style.display =\n",
              "          google.colab.kernel.accessAllowed ? 'block' : 'none';\n",
              "\n",
              "        async function convertToInteractive(key) {\n",
              "          const element = document.querySelector('#df-7528c278-4f25-4296-88e3-74670192bf02');\n",
              "          const dataTable =\n",
              "            await google.colab.kernel.invokeFunction('convertToInteractive',\n",
              "                                                     [key], {});\n",
              "          if (!dataTable) return;\n",
              "\n",
              "          const docLinkHtml = 'Like what you see? Visit the ' +\n",
              "            '<a target=\"_blank\" href=https://colab.research.google.com/notebooks/data_table.ipynb>data table notebook</a>'\n",
              "            + ' to learn more about interactive tables.';\n",
              "          element.innerHTML = '';\n",
              "          dataTable['output_type'] = 'display_data';\n",
              "          await google.colab.output.renderOutput(dataTable, element);\n",
              "          const docLink = document.createElement('div');\n",
              "          docLink.innerHTML = docLinkHtml;\n",
              "          element.appendChild(docLink);\n",
              "        }\n",
              "      </script>\n",
              "    </div>\n",
              "  </div>\n",
              "  "
            ]
          },
          "metadata": {},
          "execution_count": 13
        }
      ]
    },
    {
      "cell_type": "code",
      "source": [
        "from konlpy.tag import Mecab\n",
        "\n",
        "mecab = Mecab()\n",
        "text['data'] = text.apply(lambda row: mecab.nouns(row['data']),axis=1)"
      ],
      "metadata": {
        "colab": {
          "base_uri": "https://localhost:8080/"
        },
        "id": "YrA7VBk-9Bip",
        "outputId": "47439697-5211-4c0f-cd09-2cae4711bee5"
      },
      "execution_count": null,
      "outputs": [
        {
          "output_type": "stream",
          "name": "stderr",
          "text": [
            "<ipython-input-14-d045c71bd9e3>:4: SettingWithCopyWarning: \n",
            "A value is trying to be set on a copy of a slice from a DataFrame.\n",
            "Try using .loc[row_indexer,col_indexer] = value instead\n",
            "\n",
            "See the caveats in the documentation: https://pandas.pydata.org/pandas-docs/stable/user_guide/indexing.html#returning-a-view-versus-a-copy\n",
            "  text['data'] = text.apply(lambda row: mecab.nouns(row['data']),axis=1)\n"
          ]
        }
      ]
    },
    {
      "cell_type": "code",
      "source": [
        "print(text.head(5))"
      ],
      "metadata": {
        "colab": {
          "base_uri": "https://localhost:8080/"
        },
        "id": "bzj25_4H9bYN",
        "outputId": "812284be-1835-4c72-b73a-5dace58babe6"
      },
      "execution_count": null,
      "outputs": [
        {
          "output_type": "stream",
          "name": "stdout",
          "text": [
            "                                                data\n",
            "0  [신혼, 부부, 주택, 정책, 보육, 시설, 국민, 세금, 일부, 정책, 보편, 국...\n",
            "1  [학교, 이름, 남자, 울산, 여자, 중학교, 재학, 중, 학생, 최근, 양성, 평...\n",
            "2  [빙상, 연맹, 축구, 협회, 등, 각종, 체육, 협회, 비리, 철저, 최근, 동계...\n",
            "3  [티비, 세세, 관람, 연령, 확인, 의무, 전, 티비, 일, 동생, 리모컨, 알,...\n",
            "4  [여름철, 남성, 자율, 복장, 여름철, 남성, 넥타이, 반바지, 등, 복장, 정부...\n"
          ]
        }
      ]
    },
    {
      "cell_type": "code",
      "source": [
        "remove_set = {'것','수','말','저','등','이','때','제','게','중','거','그','때문','분','원','경우','만','명','내','후','건','월','전','부','나','하나','저희','년'}\n",
        "\n",
        "text['data'] = text['data'].apply(lambda x: [word for word in x if word not in (remove_set)])"
      ],
      "metadata": {
        "colab": {
          "base_uri": "https://localhost:8080/"
        },
        "id": "CnifAUab94vC",
        "outputId": "65405685-5d25-499b-c8bb-dbea05b6391c"
      },
      "execution_count": null,
      "outputs": [
        {
          "output_type": "stream",
          "name": "stderr",
          "text": [
            "<ipython-input-16-4f1910a6ecad>:3: SettingWithCopyWarning: \n",
            "A value is trying to be set on a copy of a slice from a DataFrame.\n",
            "Try using .loc[row_indexer,col_indexer] = value instead\n",
            "\n",
            "See the caveats in the documentation: https://pandas.pydata.org/pandas-docs/stable/user_guide/indexing.html#returning-a-view-versus-a-copy\n",
            "  text['data'] = text['data'].apply(lambda x: [word for word in x if word not in (remove_set)])\n"
          ]
        }
      ]
    },
    {
      "cell_type": "code",
      "source": [
        "print(text.head(5))"
      ],
      "metadata": {
        "colab": {
          "base_uri": "https://localhost:8080/"
        },
        "id": "Ec8F7f8U-dfh",
        "outputId": "aab1d73d-e079-430b-eeb1-c7098e10a03a"
      },
      "execution_count": null,
      "outputs": [
        {
          "output_type": "stream",
          "name": "stdout",
          "text": [
            "                                                data\n",
            "0  [신혼, 부부, 주택, 정책, 보육, 시설, 국민, 세금, 일부, 정책, 보편, 국...\n",
            "1  [학교, 이름, 남자, 울산, 여자, 중학교, 재학, 학생, 최근, 양성, 평등, ...\n",
            "2  [빙상, 연맹, 축구, 협회, 각종, 체육, 협회, 비리, 철저, 최근, 동계, 올...\n",
            "3  [티비, 세세, 관람, 연령, 확인, 의무, 티비, 일, 동생, 리모컨, 알, 방송...\n",
            "4  [여름철, 남성, 자율, 복장, 여름철, 남성, 넥타이, 반바지, 복장, 정부, 부...\n"
          ]
        }
      ]
    },
    {
      "cell_type": "code",
      "source": [
        "tokenized_doc = text['data']"
      ],
      "metadata": {
        "id": "utnrRy6n-wKj"
      },
      "execution_count": null,
      "outputs": []
    },
    {
      "cell_type": "code",
      "source": [
        "from gensim import corpora\n",
        "dictionary = corpora.Dictionary(tokenized_doc)\n",
        "\n",
        "dictionary.filter_extremes(no_below=2, no_above=0.5) ##  빈도가 2 이상인 단어와 전체의 50%로 이상 차지하는 단어는 필터링\n",
        "\n",
        "corpus = [dictionary.doc2bow(text) for text in tokenized_doc]\n",
        "print(corpus[1]) # 수행된 결과에서 두번째 청원 출력. 첫번째 문서의 인덱스는 0"
      ],
      "metadata": {
        "colab": {
          "base_uri": "https://localhost:8080/"
        },
        "id": "cE-LzMrd-7kI",
        "outputId": "adae5dcc-cb7f-4034-e340-f2489e8e093f"
      },
      "execution_count": null,
      "outputs": [
        {
          "output_type": "stream",
          "name": "stdout",
          "text": [
            "[(24, 1), (32, 3), (44, 1), (45, 2), (46, 1), (47, 4), (48, 3), (49, 1), (50, 1), (51, 1), (52, 1), (53, 2), (54, 2), (55, 1), (56, 6), (57, 2), (58, 1), (59, 1), (60, 1), (61, 1), (62, 4), (63, 1), (64, 1), (65, 1), (66, 7), (67, 1), (68, 1), (69, 1)]\n"
          ]
        }
      ]
    },
    {
      "cell_type": "code",
      "source": [
        "print(dictionary[66])"
      ],
      "metadata": {
        "colab": {
          "base_uri": "https://localhost:8080/"
        },
        "id": "haFw0WSu_GFd",
        "outputId": "51cd4dcc-c3ea-4944-fada-c737fce09d91"
      },
      "execution_count": null,
      "outputs": [
        {
          "output_type": "stream",
          "name": "stdout",
          "text": [
            "학교\n"
          ]
        }
      ]
    },
    {
      "cell_type": "code",
      "source": [
        "len(dictionary)"
      ],
      "metadata": {
        "colab": {
          "base_uri": "https://localhost:8080/"
        },
        "id": "wfTCP3Ju_HoY",
        "outputId": "eeaee5b4-9227-4c76-bf38-e6f1f3052315"
      },
      "execution_count": null,
      "outputs": [
        {
          "output_type": "execute_result",
          "data": {
            "text/plain": [
              "29506"
            ]
          },
          "metadata": {},
          "execution_count": 21
        }
      ]
    },
    {
      "cell_type": "code",
      "source": [
        "import gensim\n",
        "NUM_TOPICS = 8 # 20개의 토픽, k=20\n",
        "ldamodel = gensim.models.ldamodel.LdaModel(corpus, num_topics = NUM_TOPICS, id2word=dictionary, passes=15)\n",
        "topics = ldamodel.print_topics(num_words=4)\n",
        "for topic in topics:\n",
        "    print(topic)"
      ],
      "metadata": {
        "colab": {
          "base_uri": "https://localhost:8080/"
        },
        "id": "LrWop95a_Ilo",
        "outputId": "f7f0e4d3-c887-42bd-da75-4f0f75b5e10b"
      },
      "execution_count": null,
      "outputs": [
        {
          "output_type": "stream",
          "name": "stdout",
          "text": [
            "(0, '0.041*\"학생\" + 0.040*\"학교\" + 0.032*\"교육\" + 0.014*\"생각\"')\n",
            "(1, '0.041*\"여성\" + 0.017*\"남성\" + 0.014*\"남자\" + 0.013*\"사회\"')\n",
            "(2, '0.026*\"국민\" + 0.022*\"우리\" + 0.017*\"나라\" + 0.015*\"대통령\"')\n",
            "(3, '0.053*\"선수\" + 0.018*\"대표\" + 0.018*\"축구\" + 0.015*\"감독\"')\n",
            "(4, '0.013*\"방송\" + 0.009*\"장애\" + 0.008*\"일\" + 0.007*\"공무원\"')\n",
            "(5, '0.009*\"조사\" + 0.008*\"기사\" + 0.008*\"언론\" + 0.008*\"내용\"')\n",
            "(6, '0.022*\"청소년\" + 0.021*\"사람\" + 0.021*\"법\" + 0.018*\"처벌\"')\n",
            "(7, '0.037*\"아이\" + 0.017*\"일\" + 0.016*\"시간\" + 0.015*\"교사\"')\n"
          ]
        }
      ]
    },
    {
      "cell_type": "code",
      "source": [
        "print(ldamodel.print_topics())"
      ],
      "metadata": {
        "colab": {
          "base_uri": "https://localhost:8080/"
        },
        "id": "lhHdi-kD_Mmm",
        "outputId": "c6737d21-5cbd-47a9-df73-7dc8ceba1917"
      },
      "execution_count": null,
      "outputs": [
        {
          "output_type": "stream",
          "name": "stdout",
          "text": [
            "[(0, '0.041*\"학생\" + 0.040*\"학교\" + 0.032*\"교육\" + 0.014*\"생각\" + 0.013*\"대학\" + 0.009*\"문제\" + 0.009*\"공부\" + 0.009*\"선생\" + 0.008*\"시험\" + 0.008*\"수업\"'), (1, '0.041*\"여성\" + 0.017*\"남성\" + 0.014*\"남자\" + 0.013*\"사회\" + 0.012*\"여자\" + 0.011*\"평등\" + 0.010*\"성\" + 0.010*\"생각\" + 0.010*\"인권\" + 0.009*\"사람\"'), (2, '0.026*\"국민\" + 0.022*\"우리\" + 0.017*\"나라\" + 0.015*\"대통령\" + 0.012*\"한국\" + 0.012*\"정부\" + 0.011*\"생각\" + 0.011*\"대한민국\" + 0.010*\"문화\" + 0.010*\"사람\"'), (3, '0.053*\"선수\" + 0.018*\"대표\" + 0.018*\"축구\" + 0.015*\"감독\" + 0.014*\"국가\" + 0.014*\"팀\" + 0.011*\"경기\" + 0.011*\"스포츠\" + 0.011*\"국민\" + 0.010*\"협회\"'), (4, '0.013*\"방송\" + 0.009*\"장애\" + 0.008*\"일\" + 0.007*\"공무원\" + 0.007*\"교사\" + 0.006*\"지역\" + 0.006*\"기관\" + 0.006*\"업무\" + 0.005*\"직원\" + 0.005*\"학교\"'), (5, '0.009*\"조사\" + 0.008*\"기사\" + 0.008*\"언론\" + 0.008*\"내용\" + 0.008*\"사건\" + 0.007*\"국민\" + 0.007*\"사실\" + 0.007*\"게임\" + 0.006*\"수사\" + 0.006*\"뉴스\"'), (6, '0.022*\"청소년\" + 0.021*\"사람\" + 0.021*\"법\" + 0.018*\"처벌\" + 0.017*\"사건\" + 0.016*\"폐지\" + 0.015*\"생각\" + 0.015*\"피해자\" + 0.013*\"일\" + 0.011*\"가해자\"'), (7, '0.037*\"아이\" + 0.017*\"일\" + 0.016*\"시간\" + 0.015*\"교사\" + 0.014*\"어린이집\" + 0.013*\"유치원\" + 0.011*\"부모\" + 0.009*\"생각\" + 0.008*\"지원\" + 0.008*\"보육\"')]\n"
          ]
        }
      ]
    },
    {
      "cell_type": "code",
      "source": [
        "!pip install pyLDAvis"
      ],
      "metadata": {
        "colab": {
          "base_uri": "https://localhost:8080/"
        },
        "id": "BFXlt-a3BmwB",
        "outputId": "2e09fbe3-1959-46f9-ca9b-8219f06effad"
      },
      "execution_count": null,
      "outputs": [
        {
          "output_type": "stream",
          "name": "stdout",
          "text": [
            "Looking in indexes: https://pypi.org/simple, https://us-python.pkg.dev/colab-wheels/public/simple/\n",
            "Collecting pyLDAvis\n",
            "  Downloading pyLDAvis-3.4.0-py3-none-any.whl (2.6 MB)\n",
            "\u001b[2K     \u001b[90m━━━━━━━━━━━━━━━━━━━━━━━━━━━━━━━━━━━━━━━━\u001b[0m \u001b[32m2.6/2.6 MB\u001b[0m \u001b[31m25.2 MB/s\u001b[0m eta \u001b[36m0:00:00\u001b[0m\n",
            "\u001b[?25hRequirement already satisfied: joblib>=1.2.0 in /usr/local/lib/python3.8/dist-packages (from pyLDAvis) (1.2.0)\n",
            "Requirement already satisfied: scikit-learn>=1.0.0 in /usr/local/lib/python3.8/dist-packages (from pyLDAvis) (1.0.2)\n",
            "Requirement already satisfied: gensim in /usr/local/lib/python3.8/dist-packages (from pyLDAvis) (3.6.0)\n",
            "Requirement already satisfied: numpy>=1.22.0 in /usr/local/lib/python3.8/dist-packages (from pyLDAvis) (1.22.4)\n",
            "Requirement already satisfied: numexpr in /usr/local/lib/python3.8/dist-packages (from pyLDAvis) (2.8.4)\n",
            "Collecting funcy\n",
            "  Downloading funcy-1.18-py2.py3-none-any.whl (33 kB)\n",
            "Requirement already satisfied: pandas>=1.3.4 in /usr/local/lib/python3.8/dist-packages (from pyLDAvis) (1.3.5)\n",
            "Requirement already satisfied: setuptools in /usr/local/lib/python3.8/dist-packages (from pyLDAvis) (57.4.0)\n",
            "Requirement already satisfied: jinja2 in /usr/local/lib/python3.8/dist-packages (from pyLDAvis) (2.11.3)\n",
            "Requirement already satisfied: scipy in /usr/local/lib/python3.8/dist-packages (from pyLDAvis) (1.7.3)\n",
            "Requirement already satisfied: pytz>=2017.3 in /usr/local/lib/python3.8/dist-packages (from pandas>=1.3.4->pyLDAvis) (2022.7.1)\n",
            "Requirement already satisfied: python-dateutil>=2.7.3 in /usr/local/lib/python3.8/dist-packages (from pandas>=1.3.4->pyLDAvis) (2.8.2)\n",
            "Requirement already satisfied: threadpoolctl>=2.0.0 in /usr/local/lib/python3.8/dist-packages (from scikit-learn>=1.0.0->pyLDAvis) (3.1.0)\n",
            "Requirement already satisfied: smart-open>=1.2.1 in /usr/local/lib/python3.8/dist-packages (from gensim->pyLDAvis) (6.3.0)\n",
            "Requirement already satisfied: six>=1.5.0 in /usr/local/lib/python3.8/dist-packages (from gensim->pyLDAvis) (1.15.0)\n",
            "Requirement already satisfied: MarkupSafe>=0.23 in /usr/local/lib/python3.8/dist-packages (from jinja2->pyLDAvis) (2.0.1)\n",
            "Installing collected packages: funcy, pyLDAvis\n",
            "Successfully installed funcy-1.18 pyLDAvis-3.4.0\n"
          ]
        }
      ]
    },
    {
      "cell_type": "code",
      "source": [
        "import pyLDAvis.gensim_models\n",
        "\n",
        "pyLDAvis.enable_notebook()\n",
        "vis = pyLDAvis.gensim_models.prepare(ldamodel, corpus, dictionary)\n",
        "pyLDAvis.display(vis)"
      ],
      "metadata": {
        "colab": {
          "base_uri": "https://localhost:8080/",
          "height": 916
        },
        "id": "L4eWL70Q_O9U",
        "outputId": "736155aa-bb97-4d46-ffdf-a1cace98b256"
      },
      "execution_count": null,
      "outputs": [
        {
          "output_type": "stream",
          "name": "stderr",
          "text": [
            "/usr/local/lib/python3.8/dist-packages/pyLDAvis/_prepare.py:243: FutureWarning: In a future version of pandas all arguments of DataFrame.drop except for the argument 'labels' will be keyword-only\n",
            "  default_term_info = default_term_info.sort_values(\n"
          ]
        },
        {
          "output_type": "execute_result",
          "data": {
            "text/plain": [
              "<IPython.core.display.HTML object>"
            ],
            "text/html": [
              "\n",
              "<link rel=\"stylesheet\" type=\"text/css\" href=\"https://cdn.jsdelivr.net/gh/bmabey/pyLDAvis@3.4.0/pyLDAvis/js/ldavis.v1.0.0.css\">\n",
              "\n",
              "\n",
              "<div id=\"ldavis_el1161404965135462721722261643\" style=\"background-color:white;\"></div>\n",
              "<script type=\"text/javascript\">\n",
              "\n",
              "var ldavis_el1161404965135462721722261643_data = {\"mdsDat\": {\"x\": [0.0907328395299244, 0.07988278088563644, 0.03289184574620416, -0.15817802068561215, -0.11372801094099483, -0.11557451833484483, 0.27651388369515695, -0.09254079989547043], \"y\": [-0.14281221216894563, -0.06359562907524131, 0.020667501824938872, -0.18284656590601858, -0.037132474271221225, 0.11036243051041957, 0.06584526569663089, 0.22951168338943753], \"topics\": [1, 2, 3, 4, 5, 6, 7, 8], \"cluster\": [1, 1, 1, 1, 1, 1, 1, 1], \"Freq\": [15.749905060670901, 15.495791368916562, 14.864472699472037, 12.457501255760771, 11.925358445805895, 11.05779260294862, 10.166243756072015, 8.2829348103532]}, \"tinfo\": {\"Term\": [\"\\ud559\\uc0dd\", \"\\uc120\\uc218\", \"\\uc5ec\\uc131\", \"\\ud559\\uad50\", \"\\uc544\\uc774\", \"\\uad50\\uc721\", \"\\uccad\\uc18c\\ub144\", \"\\ub0a8\\uc131\", \"\\uc5b4\\ub9b0\\uc774\\uc9d1\", \"\\uc0ac\\uac74\", \"\\uc720\\uce58\\uc6d0\", \"\\ucc98\\ubc8c\", \"\\uad50\\uc0ac\", \"\\uad6d\\ubbfc\", \"\\ubc95\", \"\\ud3d0\\uc9c0\", \"\\ub300\\ud559\", \"\\ucd95\\uad6c\", \"\\ub300\\ud45c\", \"\\ud53c\\ud574\\uc790\", \"\\uc6b0\\ub9ac\", \"\\ub0a8\\uc790\", \"\\ubc29\\uc1a1\", \"\\uc62c\\ub9bc\\ud53d\", \"\\uac10\\ub3c5\", \"\\ud300\", \"\\uc778\\uad8c\", \"\\ud55c\\uad6d\", \"\\ubd80\\ubaa8\", \"\\uc2dc\\uac04\", \"\\uc5b4\\ub9b0\\uc774\\uc9d1\", \"\\uc720\\uce58\\uc6d0\", \"\\uc721\\uc544\", \"\\ucd9c\\uc0b0\", \"\\uc720\\uc544\", \"\\uc218\\ub2f9\", \"\\ud734\\uc9c1\", \"\\ub9de\\ubc8c\\uc774\", \"\\uc591\\uc721\\ube44\", \"\\uad6d\\uacf5\\ub9bd\", \"\\ubd80\\ubd80\", \"\\uadfc\\ub85c\", \"\\ud1f4\\uadfc\", \"\\ud734\\uac8c\", \"\\uc591\\uc721\", \"\\ud734\\uac00\", \"\\ubcf4\\ud6c8\", \"\\ub300\\ucd9c\", \"\\ub2e4\\uc790\\ub140\", \"\\uc784\\uc0b0\\ubd80\", \"\\ub8cc\", \"\\ud558\\uc6d0\", \"\\uc6cc\\ud0b9\", \"\\ubcd1\\uc124\", \"\\ubcf4\\uc870\\uae08\", \"\\uc5f0\\ucc28\", \"\\uacf5\\ud734\\uc77c\", \"\\ub4f1\\uc6d0\", \"\\ud734\\uc77c\", \"\\ub3c4\\uc6b0\\ubbf8\", \"\\ubcf4\\uc721\", \"\\uc6d0\\uc7a5\", \"\\uc18c\\ub4dd\", \"\\uc544\\uae30\", \"\\uc800\\ucd9c\\uc0b0\", \"\\ucc28\\ub7c9\", \"\\uc5b4\\ub9b0\\uc774\", \"\\uc544\\uc774\", \"\\uac00\\uc815\", \"\\uc5c4\\ub9c8\", \"\\uc6d4\\uae09\", \"\\uc9d1\", \"\\ubd80\\ubaa8\", \"\\uae09\\uc5ec\", \"\\uc790\\ub140\", \"\\uc2dc\\uac04\", \"\\ubc29\\ud559\", \"\\uad50\\uc0ac\", \"\\uc9c0\\uae09\", \"\\uc9c0\\uc6d0\", \"\\uc0ac\\ub9bd\", \"\\uadfc\\ubb34\", \"\\ub3c8\", \"\\uc77c\", \"\\uc544\\ub3d9\", \"\\uc2dc\", \"\\uc9c1\\uc7a5\", \"\\uc560\", \"\\uacf3\", \"\\uc0dd\\uac01\", \"\\uc815\\ucc45\", \"\\uad6d\\uac00\", \"\\uc0ac\\ub78c\", \"\\ubb38\\uc81c\", \"\\uc6b0\\ub9ac\", \"\\ub098\\ub77c\", \"\\uacf5\\ubd80\", \"\\uc218\\ub2a5\", \"\\uace0\\ub4f1\\ud559\\uad50\", \"\\uad50\\ubcf5\", \"\\uc785\\uc2dc\", \"\\uc218\\uc2dc\", \"\\uacfc\\ubaa9\", \"\\uc815\\uc2dc\", \"\\uc0ac\\uad50\\uc721\", \"\\uc804\\ud615\", \"\\uc218\\ud559\", \"\\ud68c\\uc0dd\", \"\\ub0b4\\uc2e0\", \"\\uc218\\ud5d8\", \"\\uacf5\\uad50\\uc721\", \"\\ub300\\uc785\", \"\\uad50\\uacfc\", \"\\ub4f1\\ub85d\\uae08\", \"\\uc9c4\\ud559\", \"\\ud559\\uc5c5\", \"\\uc9c4\\ub85c\", \"\\ucd9c\\uc81c\", \"\\uace0\\uad50\", \"\\ub3c4\\uc11c\", \"\\ub85c\\uc2a4\\ucfe8\", \"\\uc218\\ud589\\ud3c9\\uac00\", \"\\uad50\\uad8c\", \"\\uc815\\uac00\", \"\\ud559\\ub825\", \"\\uc9c0\\uc9c4\", \"\\ud559\\uc0dd\", \"\\ub300\\ud559\", \"\\uc2dc\\ud5d8\", \"\\uc601\\uc5b4\", \"\\ud559\\uc2b5\", \"\\ud559\\ub144\", \"\\uc218\\uc5c5\", \"\\ud559\\uad50\", \"\\uc911\\ud559\\uad50\", \"\\uc878\\uc5c5\", \"\\uad50\\uc721\", \"\\ud559\\uc6d0\", \"\\uc785\\ud559\", \"\\ud3c9\\uac00\", \"\\ucd08\\ub4f1\", \"\\uc810\\uc218\", \"\\uc120\\uc0dd\", \"\\uc81c\\ub3c4\", \"\\ub300\\ud559\\uad50\", \"\\ud559\\ubd80\\ubaa8\", \"\\uc0dd\\uac01\", \"\\ubb38\\uc81c\", \"\\uc2dc\\uac04\", \"\\uad50\\uc0ac\", \"\\uc6b0\\ub9ac\", \"\\uc544\\uc774\", \"\\ud3d0\\uc9c0\", \"\\uc0ac\\ud68c\", \"\\uc815\\ucc45\", \"\\ub098\\ub77c\", \"\\ud544\\uc694\", \"\\ubc95\\uc6d0\", \"\\uc870\\uc791\", \"\\uac00\\uc9dc\", \"\\uc5b8\\ub860\\uc0ac\", \"\\ud3ec\\ud138\", \"\\uc870\\uc120\\uc77c\\ubcf4\", \"\\uc2dc\\ubb3c\", \"\\ud53c\\uace0\\uc778\", \"\\uc0ac\\ucc30\", \"\\uc720\\uc800\", \"\\uc800\\uc791\", \"\\uc167\\ub2e4\\uc6b4\", \"\\uae30\\uac01\", \"\\ucde8\\uc7ac\", \"\\uc544\\uc774\\ud15c\", \"\\ud3b8\\uc9d1\", \"\\uc911\\ub3c5\", \"\\uc720\\ud1b5\", \"\\uc218\\uc0ac\\uad00\", \"\\ud55c\\uac8c\\uc784\", \"\\uace0\\uc18c\\uc778\", \"\\ud30c\\uc77c\", \"\\uc6d0\\uace0\", \"\\ubbfc\\uc6d0\\uc778\", \"\\ucc44\\ubb34\\uc790\", \"\\uc0ac\\ud589\", \"\\uad6d\\uc815\\uc6d0\", \"\\uc815\\uc815\", \"\\uc601\\uc7a5\", \"\\uc11c\\ubc84\", \"\\ub124\\uc774\\ubc84\", \"\\uac80\\ucc30\", \"\\ub313\\uae00\", \"\\ub3c4\\ubc15\", \"\\ud5c8\\uc704\", \"\\ubcf4\\ub3c4\", \"\\uad11\\uace0\", \"\\uc6f9\\ud230\", \"\\uc5b8\\ub860\", \"\\ud50c\", \"\\ubc88\\ud638\", \"\\uae30\\uc790\", \"\\uc778\\ud130\\ub137\", \"\\uac70\\uc9d3\", \"\\uc2e4\\uba85\", \"\\ucd2c\\uc601\", \"\\ubd88\\ubc95\", \"\\ubcc0\\ud638\\uc0ac\", \"\\uae30\\uc0ac\", \"\\uc218\\uc0ac\", \"\\uc7ac\\ud310\", \"\\uc815\\ubcf4\", \"\\uac8c\\uc784\", \"\\ub0b4\\uc6a9\", \"\\ub274\\uc2a4\", \"\\uc0ac\\uc2e4\", \"\\uc870\\uc0ac\", \"\\ud310\\uc0ac\", \"\\uc528\", \"\\uc99d\\uac70\", \"\\uac80\\uc0ac\", \"\\ud655\\uc778\", \"\\uc0ac\\uc774\\ud2b8\", \"\\uacbd\\ucc30\", \"\\uc0ac\\uac74\", \"\\uac1c\\uc778\", \"\\ud589\\uc704\", \"\\ubc29\\uc1a1\", \"\\uad6d\\ubbfc\", \"\\uccad\\uc6d0\", \"\\ud574\\ub2f9\", \"\\uc0ac\\ub78c\", \"\\uad00\\ub828\", \"\\uc77c\", \"\\uae00\", \"\\ud3ed\\ud589\", \"\\ubcf4\\ud638\\ubc95\", \"\\uc18c\\ub144\\ubc95\", \"\\uc870\\ub450\\uc21c\", \"\\uc220\", \"\\ucd9c\\uc18c\", \"\\ub2f4\\ubc30\", \"\\uc5ec\\uc911\\uc0dd\", \"\\ud3ed\\uc5b8\", \"\\uc2ec\\uc2e0\", \"\\ubbf8\\uc57d\", \"\\uad50\\ub3c4\\uc18c\", \"\\uc131\\ubbfc\", \"\\uac10\\ud615\", \"\\uacf5\\uc18c\\uc2dc\\ud6a8\", \"\\uac00\\uc815\\ud3ed\\ub825\", \"\\ud761\\uc5f0\", \"\\uc794\\uc778\", \"\\uc74c\\uc8fc\", \"\\ud3ed\\uc704\", \"\\ubbf8\\uc218\", \"\\uac15\\ub825\\ubc94\", \"\\ud2b8\\ub77c\\uc6b0\\ub9c8\", \"\\ub098\\uc601\", \"\\ud749\\uc545\\ubc94\", \"\\ud734\\ubb34\", \"\\ubc18\\ub9d0\", \"\\ubd80\\uc870\\uae08\", \"\\uccad\\uc18c\\ub144\", \"\\uc2dc\\ud6a8\", \"\\uc0ac\\ud615\", \"\\uac00\\ud574\\uc790\", \"\\uc0b4\\uc778\", \"\\uc19c\\ubc29\\ub9dd\\uc774\", \"\\ud3ed\\ub825\", \"\\ubbf8\\uc131\\ub144\\uc790\", \"\\uc9d5\\uc5ed\", \"\\ud53c\\ud574\\uc790\", \"\\uc0c1\\ucc98\", \"\\uc8c4\", \"\\ucc98\\ubc8c\", \"\\uc5bc\\uad74\", \"\\ubc95\", \"\\ubc94\\uc8c4\", \"\\ubcf4\\ud638\", \"\\uc0ac\\uac74\", \"\\ud3d0\\uc9c0\", \"\\ubc8c\", \"\\ubc94\\uc8c4\\uc790\", \"\\ubd80\\uc0b0\", \"\\uace0\\ud1b5\", \"\\uc544\\ubc84\\uc9c0\", \"\\uc815\\uc2e0\", \"\\uc0ac\\ub78c\", \"\\ub098\\uc774\", \"\\uc778\\uad8c\", \"\\uc790\\uc0b4\", \"\\ud589\\ub3d9\", \"\\uce5c\\uad6c\", \"\\uc0dd\\uac01\", \"\\uc77c\", \"\\ud53c\\ud574\", \"\\uc544\\uc774\", \"\\uc138\\uc0c1\", \"\\uc774\\uc720\", \"\\ub098\\ub77c\", \"\\uc790\\uc2e0\", \"\\uc6b0\\ub9ac\", \"\\uccad\\uc6d0\", \"\\uc774\\uc0c1\", \"\\uc5ec\\uc131\", \"\\ub0a8\\uc131\", \"\\uc131\", \"\\ub0a8\\ub140\", \"\\ubbf8\\ud22c\", \"\\ud610\\uc624\", \"\\ub9c8\\ub4dc\", \"\\ud398\\ubbf8\\ub2c8\\uc998\", \"\\uc131\\ub9e4\\ub9e4\", \"\\uc6cc\", \"\\ud398\\ubbf8\\ub2c8\\uc2a4\\ud2b8\", \"\\ub3d9\\uc131\\uc560\", \"\\uc131\\ubcc4\", \"\\ubab0\\uce74\", \"\\ub099\\ud0dc\", \"\\ud398\\ubbf8\", \"\\uc5ec\\uc131\\ubd80\", \"\\ub9cc\\ud654\", \"\\ud2b9\\ub840\\ubc95\", \"\\ub9c8\\ub8e8\", \"\\ub099\\ud0dc\\uc8c4\", \"\\ubca0\\uc2a4\\ud2b8\", \"\\ub3d9\\uc131\\uc560\\uc790\", \"\\uc5ec\\uacbd\", \"\\uc131\\uad00\", \"\\uc18c\\uc218\\uc790\", \"\\uba54\", \"\\uc9d5\\ubcd1\\uc81c\", \"\\uc548\\ud76c\\uc815\", \"\\uc560\\ub2c8\\uba54\\uc774\\uc158\", \"\\uad70\\uc778\", \"\\ube44\\ud558\", \"\\uad6d\\ubc29\", \"\\ub0a8\\uc790\", \"\\ud3c9\\ub4f1\", \"\\ud569\\ubc95\\ud654\", \"\\ubb34\\uace0\", \"\\ubb34\\uace0\\uc8c4\", \"\\uc804\\uc6a9\", \"\\ucc28\\ubcc4\", \"\\uc131\\ud3ed\\ub825\", \"\\uc5ec\\uc790\", \"\\uad70\\ub300\", \"\\uc758\\ubb34\", \"\\uc0ac\\ud68c\", \"\\uc778\\uad8c\", \"\\uc131\\ubc94\\uc8c4\", \"\\uac00\\uc871\", \"\\uc6b4\\ub3d9\", \"\\ubcf5\\ubb34\", \"\\ub300\\ud55c\\ubbfc\\uad6d\", \"\\uc0ac\\ub78c\", \"\\uc0dd\\uac01\", \"\\uc0ac\\uc774\\ud2b8\", \"\\uad6d\\uac00\", \"\\ub098\\ub77c\", \"\\uccad\\uc6d0\", \"\\ubb38\\uc81c\", \"\\uad6d\\ubbfc\", \"\\uad8c\\ub9ac\", \"\\ud3d0\\uc9c0\", \"\\ucc98\\ubc8c\", \"\\ubc95\", \"\\uc77c\", \"\\uc774\\uc720\", \"\\ubd81\\ud55c\", \"\\ub2e8\\uc77c\\ud300\", \"\\uc5ed\\uc0ac\", \"\\ub0a8\\ubd81\", \"\\ubc29\\ud0c4\\uc18c\\ub144\\ub2e8\", \"\\ub09c\\ubbfc\", \"\\uc544\\uc774\\uc2a4\\ud558\\ud0a4\", \"\\uac00\\uc218\", \"\\ubbfc\\uc871\", \"\\ubc29\\ud0c4\", \"\\ud0dc\\uadf9\\uae30\", \"\\ubb38\\ud654\\uc7ac\", \"\\ud55c\\uae00\", \"\\ud55c\\ubc18\\ub3c4\\uae30\", \"\\uc77c\\uc81c\", \"\\ub098\\uacbd\\uc6d0\", \"\\ub3c5\\ub3c4\", \"\\uc804\\ud1b5\", \"\\ud45c\\uae30\", \"\\ubc15\\ubb3c\\uad00\", \"\\ubd81\", \"\\ud55c\\ubc18\\ub3c4\", \"\\ud68c\\ub2f4\", \"\\uad6d\\uae30\", \"\\ubca0\\ud2b8\\ub0a8\", \"\\ud31d\", \"\\uc785\\uad6d\", \"\\uae30\\ud68d\\uc0ac\", \"\\ud0dc\\ud48d\", \"\\ud558\\ud0a4\", \"\\ud3c9\\ud654\", \"\\uc74c\\uc6d0\", \"\\uc678\\uad6d\\uc778\", \"\\uc77c\\ubcf8\", \"\\ub178\\ub798\", \"\\uacf5\\uc5f0\", \"\\uc911\\uad6d\", \"\\ubb38\\ud654\", \"\\uc815\\uad8c\", \"\\ucd95\\uc81c\", \"\\ud55c\\uad6d\\uc778\", \"\\ucd1b\\ubd88\", \"\\uc815\\uce58\", \"\\uadf8\\ub8f9\", \"\\ud3c9\\ucc3d\", \"\\ud55c\\uad6d\", \"\\ub300\\ud1b5\\ub839\", \"\\uc62c\\ub9bc\\ud53d\", \"\\uad6d\\ubbfc\", \"\\uc6b0\\ub9ac\", \"\\uc138\\uacc4\", \"\\uc815\\ubd80\", \"\\ub098\\ub77c\", \"\\ubb38\\uc7ac\\uc778\", \"\\ub300\\ud55c\\ubbfc\\uad6d\", \"\\ubc18\\ub300\", \"\\ud574\\uccb4\", \"\\ubb38\\uc7ac\", \"\\uc0dd\\uac01\", \"\\uc0ac\\ub78c\", \"\\uad6d\\uac00\", \"\\uc77c\", \"\\uccad\\uc6d0\", \"\\uac15\\uc81c\", \"\\uc785\\uc7a5\", \"\\ubb38\\uc81c\", \"\\uc601\\uc591\\uc0ac\", \"\\uc9c0\\uc0c1\\ud30c\", \"\\uc784\\uc6a9\", \"\\uae30\\uac04\\uc81c\", \"\\uc815\\uaddc\\uc9c1\", \"\\uc5f0\\uc218\", \"\\uc218\\uc2e0\\ub8cc\", \"\\ub9ac\\uc6d0\", \"\\uacf5\\uc601\", \"\\uc720\\uc740\\ud61c\", \"\\uc601\\uc591\", \"\\ud638\\ubd09\", \"\\uc2b9\\uc9c4\", \"\\uc790\\uce58\", \"\\uac74\\ucd95\", \"\\ud1a0\\uc9c0\", \"\\uc9d5\\uc218\", \"\\uc774\\uc0ac\\uc7a5\", \"\\uc0ac\\ud559\", \"\\uc57d\\ub300\", \"\\uc815\\uad50\\uc0ac\", \"\\uc885\\ud3b8\", \"\\uacbd\\uc601\", \"\\uc131\\uacfc\\uae09\", \"\\uc2dc\\uccad\\ub8cc\", \"\\uc815\\ub144\", \"\\uc18c\\ubc29\", \"\\ud3ec\\uc8fc\", \"\\ubd80\\uc9c0\", \"\\uc870\\uc7ac\\ud604\", \"\\uad50\\uc6d0\", \"\\ub178\\uc870\", \"\\uae09\\uc2dd\", \"\\uc2e4\", \"\\ube44\\uc815\\uaddc\\uc9c1\", \"\\uacf5\\ubb34\", \"\\uc9c1\", \"\\ub3c4\\uc11c\\uad00\", \"\\uacf5\\uc0ac\", \"\\uc7a5\\uc560\", \"\\ucc44\\uc6a9\", \"\\uad50\\uc218\", \"\\uc0ac\\uc5c5\", \"\\uacf5\\ubb34\\uc6d0\", \"\\ubc29\\uc1a1\\uc0ac\", \"\\ud589\\uc815\", \"\\ubc29\\uc1a1\", \"\\uc5c5\\ubb34\", \"\\ud2b9\\uc218\", \"\\uad50\\uc721\\uccad\", \"\\uc9c0\\uc5ed\", \"\\uae09\", \"\\uc9c1\\uc6d0\", \"\\uc2dc\\uccad\", \"\\uae30\\uad00\", \"\\uc2dc\\uc124\", \"\\ubcf4\\uac74\", \"\\uad00\\ub9ac\", \"\\uad50\\uc0ac\", \"\\ube44\\ub9ac\", \"\\uc77c\", \"\\uc870\", \"\\uac11\", \"\\uc6b4\\uc601\", \"\\uadfc\\ubb34\", \"\\ud559\\uad50\", \"\\uad50\\uc721\", \"\\uc9c0\\uc6d0\", \"\\uad00\\ub828\", \"\\uc120\\uc218\", \"\\ucd95\\uad6c\", \"\\ud611\\ud68c\", \"\\uc5f0\\ub9f9\", \"\\ube59\\uc0c1\", \"\\uc6d4\\ub4dc\\ucef5\", \"\\uae40\\ubcf4\\ub984\", \"\\uc57c\\uad6c\", \"\\uc885\\ubaa9\", \"\\uc190\\ud765\\ubbfc\", \"\\uc544\\uc2dc\\uc548\", \"\\ucd9c\\uc804\", \"\\ub9ac\\uadf8\", \"\\uba54\\ub2ec\", \"\\ub178\\uc120\\uc601\", \"\\ubc15\\uc9c0\\uc6b0\", \"\\ucf54\\uce58\", \"\\uae08\\uba54\\ub2ec\", \"\\ud558\\uc6b0\\uc2a4\", \"\\ud788\\ub529\\ud06c\", \"\\uceec\\ub9c1\", \"\\ud06c\\ub9bc\", \"\\ucd94\\uc6d4\", \"\\uad6d\\uc704\", \"\\uc120\\uc591\", \"\\uc2e0\\ud0dc\\uc6a9\", \"\\uc18c\\ud504\\ud2b8\", \"\\uccb4\\uc721\\ud68c\", \"\\ud2f0\\ucf13\", \"\\ub300\\ud55c\\uccb4\\uc721\\ud68c\", \"\\uc2a4\\ud3ec\\uce20\", \"\\uac10\\ub3c5\", \"\\uacbd\\uae30\", \"\\ud300\", \"\\uc911\\uacc4\", \"\\uba74\\uc81c\", \"\\ub300\\ud45c\", \"\\ub300\\ud68c\", \"\\ubc15\\ud0c8\", \"\\uccb4\\uc721\", \"\\ud504\\ub85c\", \"\\uc62c\\ub9bc\\ud53d\", \"\\uad6d\\uac00\", \"\\uad70\", \"\\uc790\\uaca9\", \"\\ubcd1\\uc5ed\", \"\\uac8c\\uc784\", \"\\uad6d\\ubbfc\", \"\\ud55c\\uad6d\", \"\\uc0dd\\uac01\", \"\\ub300\\ud55c\\ubbfc\\uad6d\", \"\\uccad\\uc6d0\", \"\\uc774\\ubc88\", \"\\ub098\\ub77c\", \"\\uc6b0\\ub9ac\", \"\\uc870\\uc0ac\", \"\\ubb38\\uc81c\"], \"Freq\": [20472.0, 14029.0, 15477.0, 21880.0, 25615.0, 18649.0, 8864.0, 6614.0, 6976.0, 11055.0, 6782.0, 11147.0, 13122.0, 21029.0, 13694.0, 10624.0, 6537.0, 4708.0, 5986.0, 7392.0, 17885.0, 5485.0, 6876.0, 5762.0, 4056.0, 3937.0, 7436.0, 7369.0, 8139.0, 12881.0, 6975.910103149917, 6781.162092799013, 2239.3442936598144, 2033.9325413191211, 1853.3644574249083, 1528.4307025069131, 1226.5486241051597, 1225.100321142362, 1036.54621940469, 1018.5636619082346, 1178.0890661958872, 978.1151067400544, 896.6435783581107, 794.0670840755073, 684.7436117320665, 652.1302852716303, 536.0536766179355, 531.8434867667801, 454.4956688191842, 450.1905246270241, 426.4446374515473, 361.69809338519275, 342.47136423160174, 321.9835135724808, 321.3079242864815, 310.1285608705381, 287.68704957149356, 285.80828497447493, 275.263719773395, 273.7138643452177, 3797.0839232902, 2408.7219586141314, 1214.837041314635, 1254.5230292550555, 982.8070476455721, 1074.7719397834462, 1563.0204751301144, 18715.627999809214, 3177.6271393733055, 2976.8168309967027, 1166.2854029140856, 3498.128714211175, 5792.697138839432, 956.8527829043019, 2135.9478724548853, 7823.756768830714, 1422.3174962593537, 7418.112762458656, 1716.297191709725, 3989.3313324779933, 1889.4446437069178, 2413.6701413453743, 3693.887850466291, 8526.976301812498, 2084.2760543499203, 2836.6379484762924, 1552.6626515113437, 1979.1832407056959, 2317.628664043688, 4534.225440058447, 2211.8456572648474, 2411.5758673437713, 2753.022762797424, 2230.7874940704273, 2255.3752139411545, 1861.5738144472098, 4381.952473501414, 3618.251384726788, 3324.573852316647, 2077.0506325369347, 1974.7250913139067, 1709.5672752258572, 1622.4766695880028, 1572.8140802329972, 1476.9491626672195, 1456.1672840931374, 1070.95445947449, 804.171475877082, 788.4630235832805, 770.2446326744182, 690.6204841995531, 653.083465593697, 631.7041227250581, 621.6090303994033, 610.0746342395655, 583.7864360939374, 535.3458383717142, 523.1529850875585, 499.66647555441017, 495.7911515677248, 487.1032221054138, 436.76244095458765, 395.4065903018155, 369.97788903347373, 368.17831203693174, 356.8241245879208, 20402.116096428632, 6475.617852924608, 4203.920346911667, 3267.0573253333296, 1381.6952120659741, 2993.39328879046, 4071.6301882717344, 19743.856088010867, 1918.869623552447, 1291.2682928698152, 15884.201199683694, 2651.865525395358, 1552.112525234154, 3723.566440163878, 3297.1655096002305, 1055.7783816815172, 4271.017768390931, 3805.4293197799366, 1532.077101954102, 1973.5668622893418, 6778.22445863393, 4456.14237434832, 3331.1880832707975, 3345.094448456331, 2855.1363349105854, 2975.19999899886, 2333.9494308974076, 2324.872636080546, 1993.7977857654494, 2179.221527796141, 1995.5782916832438, 2226.1525193175685, 1696.2327729055894, 1135.3010704511391, 954.4290649047635, 740.3395159092336, 549.1992904191558, 496.4935782844178, 496.04582953842925, 475.02743287870146, 439.55736285404214, 458.02048083464484, 394.5944824923291, 342.5799330126519, 332.03907288495077, 324.16380955366424, 323.6814376353904, 322.9892509536514, 312.5381177040869, 295.49908871624234, 277.71614586120614, 268.5607108000581, 268.1562202621286, 265.3271666667395, 249.14665950486636, 241.63143841839167, 240.97902271872616, 240.70746191419903, 235.73276798740255, 233.28310243812615, 221.49400914236776, 1257.2164836072448, 1451.9099709654452, 2447.1383621399277, 570.4024547033254, 1338.6087809328062, 2302.5444666965823, 1645.4376177885965, 365.85885472653393, 3750.5905912700155, 591.5462807929468, 767.9767781951609, 1980.836688263438, 2467.1937862524974, 1008.9223401502636, 572.9772452421316, 766.3391658017783, 2257.227356133367, 929.919733622306, 3849.2199698782842, 2806.050524321222, 1139.192593239862, 1926.7384105517954, 3176.0199605164453, 3750.0543334073454, 2796.9044715585587, 3241.1854757448327, 4139.728699827192, 1083.8746720779645, 1684.1948688034001, 1643.4938490947984, 1449.8904796502459, 1744.6075717774224, 2019.2123371203918, 2412.770034115535, 3740.350324486991, 2346.8455213837483, 1766.082020102152, 2286.7943828563566, 3357.676536556781, 2745.7009235317, 1661.4646870071047, 2723.9886796064307, 1927.081155048663, 2542.1571887388827, 2001.2534554114648, 4176.929229537271, 2349.9086302002042, 2146.7595027204793, 1544.5264510777472, 1192.1546647278262, 1152.1747766028943, 684.08176752389, 632.90963722494, 513.4554867915754, 506.1433666402177, 438.8152566125913, 374.621508802309, 324.110222078044, 309.03662855598316, 304.7614987737884, 304.07430588525534, 295.9795229723028, 271.93062483632434, 259.89439280052284, 219.7362524952023, 216.86111556972872, 202.40471297388305, 200.4200251317046, 181.04975384103636, 172.96693945444437, 154.4320991375225, 137.72782869106888, 133.1092880231558, 8807.746543780182, 131.54741852792674, 1033.107422963305, 4346.488919734387, 1550.640883579586, 338.70435550630975, 3674.2878629880674, 777.6354702374491, 852.3954784593125, 5867.913888233757, 1244.39487003036, 2043.1541862288414, 7355.691525183471, 1043.4203031772847, 8229.82741426993, 3823.5418812529138, 2957.8954813062996, 6641.238415889203, 6345.611732496351, 795.5214123112279, 1592.3031382820006, 1288.8903254263491, 1639.8254247166374, 956.7237310548352, 1849.4043414509097, 8487.76270311311, 2037.3538115698734, 3338.1893757589382, 1225.3602741534307, 1741.9622308576218, 1689.2520985317083, 6104.643917302871, 4990.967900492976, 2030.0515260215718, 3923.576494601056, 1543.6544186803633, 2191.813674905174, 2281.40598095195, 1868.023657296911, 2109.5488903692585, 1924.6436937924755, 1664.1764585587632, 15476.157562517345, 6613.3456724098405, 3938.6107817906236, 1899.5977559076937, 1642.7811630200265, 1194.384878538691, 1140.91290697812, 1118.628070951619, 1111.1290650920457, 897.8917564428988, 824.3626331139939, 771.4447849122739, 676.333094093242, 647.3124041483329, 627.2184381257526, 622.8891884056309, 607.9711999508414, 536.0034184374397, 419.34046778719954, 402.55654286084365, 343.6932370063438, 313.085604018461, 299.550614743404, 298.07946563040355, 292.89995762447927, 287.9674470638131, 274.4450474643639, 268.23007749672047, 242.6356888622905, 239.32182867575833, 1088.8476040755843, 918.7248052560993, 1118.2967870714276, 5168.855586079105, 4381.560954676929, 472.17838154061593, 1073.5731967974148, 1082.1935053345799, 634.1283271013286, 3116.2807040648822, 1816.8416215789994, 4583.985175239836, 2244.524670103536, 2954.9095727259414, 5117.588828315122, 3630.9384718353613, 1512.928184647186, 2540.7281630483085, 1712.476541392238, 913.4032137683154, 2762.0940057454463, 3616.626652946874, 3866.999463508629, 1509.5108981661544, 2409.0445081772086, 2611.1207474418343, 2234.169073509754, 2213.7504404029805, 2306.3656895854383, 1456.7713037841515, 1920.013724532857, 1908.5909142381681, 1803.4350159095234, 1829.1620069120836, 1529.5421156468165, 2370.700721771762, 1859.6281111508774, 1723.2152663708289, 1400.040868561601, 1357.8565597368624, 980.326402644145, 913.5045277300669, 743.1750463628314, 681.3366199893468, 647.840774820691, 627.1289756615728, 618.5079605174338, 551.1192792743527, 539.7523520307171, 473.66306348781916, 396.8896094696256, 373.87764310831983, 347.14781429591636, 330.0949939663576, 321.05197267163464, 320.07423690127405, 311.63882869705384, 291.6060853440809, 279.4601854357947, 276.6509219714473, 243.01752383933098, 237.2286255930735, 230.86919446693935, 225.4129063276577, 223.8795232922359, 1176.8503659960784, 332.44636521286884, 1149.2690306034021, 2117.4026529174976, 624.5403198912054, 748.6576468336955, 915.4681112102588, 3512.745843801076, 1178.8181495667575, 739.6215227463905, 616.5478771126482, 551.246023181412, 1972.8801745988235, 702.6333023375067, 1680.5436646948426, 4410.774273406005, 5313.215927501834, 3327.0794437777927, 9125.932233909145, 7650.970480653132, 2031.016015320924, 4365.958484358871, 6045.718955709897, 1407.751905277506, 3842.0615974499574, 2269.842713578396, 985.8477921859806, 1000.1589828612455, 4061.268108301444, 3490.9689511071956, 2390.149611369636, 2218.8811215369747, 1834.0899138935063, 1222.6824122317191, 1123.083689992118, 1259.384038230878, 1154.1757350216724, 1126.7756991467165, 1033.5799155199693, 653.8102772608881, 523.1679798443943, 494.780812787655, 472.0526804556156, 447.33313636689894, 437.65111144873447, 383.98312678837453, 377.89179864220637, 370.5871036117681, 357.24264218663194, 339.7121388326547, 317.10414689583644, 305.2423318984422, 299.7999928164856, 284.642503608922, 274.99108638243433, 259.3747846587586, 253.13329521508155, 234.79947718759112, 221.87097372448173, 201.55950509792012, 189.41716691521373, 188.86448702555475, 174.62757572585048, 173.19524175604107, 157.8551190833301, 156.93044311409295, 1317.7563379958317, 354.1702508033144, 1284.9215723722862, 1291.3088695147796, 414.0727780781334, 697.9610680353169, 1083.864737565132, 523.260730425233, 567.2039491854827, 2800.409731495654, 910.925941700765, 1569.1640181187538, 1113.3838024245229, 2433.070488223198, 686.754147853404, 1351.437897493745, 4278.455124709888, 1819.641769560973, 994.017439193562, 1393.1296242971696, 2029.0377523052666, 792.7699546210594, 1685.0254694006492, 888.0331297660118, 1928.8209389959277, 1096.156120252639, 744.9559323346804, 1180.5864061294283, 2320.1856870107667, 1171.3730555748489, 2573.2221430479767, 1049.9851082554032, 972.5892535737023, 1179.2496620439526, 1095.0324375014332, 1644.5592617004534, 1400.3193464647477, 1133.1687506109602, 1034.0566913628602, 14028.370652496287, 4707.504413145498, 2771.8512586406105, 2570.3267436972756, 1826.1546937555117, 1806.9573531094327, 1283.687782711644, 1240.0562405073758, 1203.7044358816345, 1121.9997328944899, 1069.0817259115936, 1030.919733675654, 837.9196453583852, 819.0978026670253, 747.2209428141213, 739.3749664108254, 626.815398464296, 620.6842392361739, 580.0273786278497, 524.8494748036227, 499.3974745342602, 483.91547856829396, 459.08866049411813, 458.10765897860625, 448.46229045419955, 400.7278763558304, 366.74870432174845, 360.80945804534826, 349.49627898968043, 340.0148476781317, 2920.006823599735, 3903.303891911203, 3036.2677020905635, 3757.108541016339, 704.6618553400635, 1594.369250818134, 4864.583097564819, 1399.0710804724192, 1263.681952465672, 1078.259372160219, 1063.327051654336, 2435.1450124580274, 3828.407379539242, 1419.0997354667477, 1227.5660446986208, 1138.699429185276, 1599.1121101495987, 2803.273411129418, 1725.694339847241, 2550.201484497741, 1929.5427843043228, 1924.1985853864278, 1448.86764889629, 1725.0276104411946, 1604.4886338462475, 1338.1301127537006, 1382.1748445917308], \"Total\": [20472.0, 14029.0, 15477.0, 21880.0, 25615.0, 18649.0, 8864.0, 6614.0, 6976.0, 11055.0, 6782.0, 11147.0, 13122.0, 21029.0, 13694.0, 10624.0, 6537.0, 4708.0, 5986.0, 7392.0, 17885.0, 5485.0, 6876.0, 5762.0, 4056.0, 3937.0, 7436.0, 7369.0, 8139.0, 12881.0, 6976.773664470645, 6782.025853635141, 2240.2080249515893, 2034.7966676379679, 1854.228547985403, 1529.2946753761705, 1227.4123941300147, 1225.9638816618012, 1037.4097759454157, 1019.4275834481684, 1179.1081007694656, 978.9791762071629, 897.5075312769258, 794.9311698204699, 685.607239783614, 652.99421500015, 536.9177504187024, 532.7076071827182, 455.3592659651469, 451.05449534235805, 427.30859163937635, 362.56193057402754, 343.33517005363177, 322.8471429855903, 322.1725084858796, 310.992336951091, 288.55084978659704, 286.6717766665287, 276.12784550718186, 274.57817695193586, 3817.4121318651532, 2459.4073374650475, 1234.66720494552, 1283.9682574851959, 1003.7543226464519, 1130.33783762223, 1736.5107667633952, 25615.02383935091, 3795.5530235010483, 3576.702827547812, 1282.5480422751434, 4475.986564801956, 8139.435546064948, 1049.6487650638703, 2709.820888738192, 12881.520167744184, 1683.463532857986, 13122.906982451143, 2128.769065952184, 6698.155678001795, 2496.6300708184526, 3509.4448980325274, 7141.296031565327, 25502.899400998824, 3149.3229487189637, 5555.455172052084, 2025.020522732631, 3381.143069750105, 4958.315979085143, 28595.506193910616, 5729.646477579597, 13304.030761023065, 23974.95603825837, 14063.65864535306, 17885.4203959819, 16704.314771424935, 4382.81814066346, 3619.1163907942755, 3325.4393451543874, 2077.915735152562, 1975.5901730964526, 1710.4322679660015, 1623.34177044354, 1573.6792093852316, 1477.8142378798389, 1457.032719290807, 1071.8195588894573, 805.0376220535833, 789.3281072740813, 771.1097278115033, 691.485799973493, 653.9485863730483, 632.5692552328733, 622.4744161064763, 610.9399839923906, 584.6522131827488, 536.2114054153132, 524.0181150350381, 500.5322594830839, 496.65675847993145, 487.968803598861, 437.62739547412775, 396.27225981994195, 370.8436015230806, 369.04443864624034, 357.6896558201843, 20472.435251076924, 6537.081187030234, 4250.7251314731675, 3314.0609010385024, 1391.5101881737194, 3053.3412977689154, 4174.112958180717, 21880.96757510185, 2001.2086654887612, 1339.6760314813673, 18649.51066565981, 2983.6193770426376, 1671.5913653067919, 4463.752841405825, 4111.439956461433, 1138.5801212797362, 6079.940231427586, 6595.938141278846, 2106.7940106973438, 3129.7381674932394, 28595.506193910616, 14063.65864535306, 12881.520167744184, 13122.906982451143, 17885.4203959819, 25615.02383935091, 10624.613259483069, 10896.97260664541, 5729.646477579597, 16704.314771424935, 8300.071034755214, 2227.0150225668613, 1697.0951502542057, 1136.1633379482516, 955.2912922612303, 741.2019933231173, 550.0615305296512, 497.3562549072994, 496.9081730438389, 475.8899059153302, 440.41982449346057, 458.93128743246115, 395.4572089316721, 343.44231623193815, 332.901934035022, 325.02621332581776, 324.54407155022284, 323.8518843223318, 313.4018517534766, 296.3612028817593, 278.57792401492014, 269.42256627031423, 269.0190880326917, 266.18956052337893, 250.00935635816515, 242.49383209127672, 241.8410971657339, 241.56982194910088, 236.59545317837126, 234.14551150786008, 222.3567864711251, 1268.7040725506333, 1475.9820498703934, 2537.71508308033, 579.237038727288, 1407.5295529932357, 2497.0664817258926, 1773.2650801784007, 374.39009124806466, 4464.386072590565, 625.2954743111751, 830.4005605523827, 2329.4987553106735, 2971.079359665787, 1126.6370646512119, 608.1885994543204, 841.8501530622386, 2809.1842783973125, 1061.6232670434345, 5389.379149590656, 3762.0221626243388, 1352.9839085276724, 2564.486688716232, 4775.871523443075, 5884.673460824581, 4285.062205144322, 5178.6745832669385, 7038.08632060006, 1325.4338621212983, 2393.491562425072, 2384.16562010259, 2045.0246543324786, 2679.34828408762, 3529.459196281105, 4704.351540271077, 11055.881958463708, 4993.647148652354, 3386.224781725167, 6876.265511856733, 21029.644194102173, 13171.53833608657, 3095.276299283832, 23974.95603825837, 5926.41865629247, 25502.899400998824, 7492.3647965662185, 4177.792025236605, 2350.771018165494, 2147.621706911897, 1545.3887343736653, 1193.0178232203036, 1153.0370345891604, 684.94467830414, 633.7718533416203, 514.3188593130027, 507.00617947912696, 439.67764087586755, 375.4842460343253, 324.9727054316771, 309.8989486672846, 305.62410402737095, 304.9369813736037, 296.84263999286657, 272.7935040509696, 260.7571386328184, 220.59898015497203, 217.72401992282028, 203.2674151109207, 201.2829158078918, 181.9120357815584, 173.82948189610363, 155.29857040321545, 138.59130608395756, 133.97172062135007, 8864.883418137297, 132.41082167106686, 1055.100080342267, 4513.680092406342, 1629.651105123783, 345.407480794064, 4137.158445051726, 840.5605403537875, 925.8989548013459, 7392.2118860758355, 1504.6626313650975, 2613.9526844438506, 11147.797031753264, 1256.8172428191672, 13694.14195027648, 5658.11765569051, 4280.205792769359, 11055.881958463708, 10624.613259483069, 940.2170092497133, 2155.402866740455, 1682.1368086605394, 2257.769373646701, 1182.1459288244293, 2945.022765841582, 23974.95603825837, 3487.294018888038, 7436.473681212045, 1709.852443071539, 3034.880467165332, 2991.772610290731, 28595.506193910616, 25502.899400998824, 4891.397958242251, 25615.02383935091, 2622.85079796172, 8519.362270193933, 16704.314771424935, 6510.257185847481, 17885.4203959819, 13171.53833608657, 8301.7386143509, 15477.017340732877, 6614.20529069559, 3939.4710254941997, 1900.4574702241255, 1643.64098174019, 1195.2446115418445, 1141.7722931391556, 1119.4874459735913, 1111.9889103157025, 898.7518056373023, 825.222026126682, 772.304435021373, 677.1927775059523, 648.1720887280272, 628.078067176377, 623.748628666682, 608.8307516169443, 536.8633919308385, 420.2002601661938, 403.4164343078776, 344.5526941602173, 313.9463447877183, 300.41014224451965, 298.93896591581284, 293.7598914547513, 288.82734376649074, 275.3050406423372, 269.08951539366547, 243.49541921856496, 240.18218891811767, 1102.9361750084508, 930.7117605265292, 1145.3114149066507, 5485.94714772723, 4793.456380425705, 485.7655922196062, 1175.7589184396975, 1199.3145230574567, 676.0324624359338, 3818.214699949145, 2138.1563985439147, 6224.58105910763, 2827.9824868418837, 4900.147285580914, 10896.97260664541, 7436.473681212045, 2181.0382317113135, 5306.677332361534, 3110.1547412352097, 1143.8678963607565, 11706.58144511882, 23974.95603825837, 28595.506193910616, 3529.459196281105, 13304.030761023065, 16704.314771424935, 13171.53833608657, 14063.65864535306, 21029.644194102173, 3314.3696555188494, 10624.613259483069, 11147.797031753264, 13694.14195027648, 25502.899400998824, 8519.362270193933, 2371.563154928222, 1860.4903067650189, 1724.0779843665061, 1400.903162057942, 1358.7187308769476, 981.1886750323583, 914.3668590390421, 744.0378583667112, 682.1991144033815, 648.7030147988672, 627.9913108851757, 619.370435757788, 551.9825301285845, 540.614433179125, 474.52584536426747, 397.7518032541698, 374.73986021330927, 348.0111100630945, 330.9587266191221, 321.9144574038792, 320.9370921049457, 312.5010900434147, 292.4684524480365, 280.3226655584361, 277.51337133574236, 243.88012368557662, 238.09116498969888, 231.73177646759078, 226.2765429267553, 224.74197140565516, 1195.4145105834732, 334.124336268197, 1200.6368148536785, 2285.8184121068584, 649.5823891809687, 787.570220564895, 983.0185884900385, 4260.693857604162, 1333.146629920002, 801.0167378359456, 665.2919084968421, 592.8032881266226, 2551.8123636516707, 781.0327652275324, 2173.226159246908, 7369.147360034219, 9839.323949658301, 5762.963737619519, 21029.644194102173, 17885.4203959819, 3196.6187204484877, 9179.35722754199, 16704.314771424935, 2279.024146784058, 11706.58144511882, 5102.023839577943, 1304.8647499987546, 1372.864935121761, 28595.506193910616, 23974.95603825837, 13304.030761023065, 25502.899400998824, 13171.53833608657, 2899.991255524207, 2813.53117422566, 14063.65864535306, 1155.0400174982592, 1127.6399287926824, 1034.4443959009488, 654.6745323740862, 524.0323183255653, 495.64544073250954, 472.91685922389274, 448.19750485603316, 438.5157435157324, 384.8478074699556, 378.7565299046574, 371.45213100328783, 358.1076686756526, 340.5781060771157, 317.96890206275793, 306.1073340303993, 300.66460205164327, 285.50736236310183, 275.8558434388535, 260.23944908174934, 253.99782149656613, 235.66432949062113, 222.73578398059328, 202.42393455731104, 190.28137724154288, 189.7293628933099, 175.49325117179083, 174.06075914610162, 158.71951344627425, 157.79568471528754, 1351.6063336892219, 360.4945061201299, 1383.5813006064964, 1402.8569845896477, 433.4000969911423, 753.2613050722433, 1206.2098931205257, 559.5957389663688, 620.4126079857868, 3598.4745376850046, 1080.2368464738754, 2008.91744776894, 1359.6731740640698, 3404.0794174164544, 788.3747326604804, 1748.9906219056543, 6876.265511856733, 2529.6169207623343, 1235.2610413141197, 1947.9147821844604, 3265.1505473087013, 1000.715064876816, 2699.2967613132914, 1163.3041667304938, 3734.4285615114777, 1943.0180812638575, 1028.7013610770696, 2542.5953698222597, 13122.906982451143, 3121.5136857178027, 25502.899400998824, 2486.771054265986, 2150.166285853486, 3952.942999557077, 3509.4448980325274, 21880.96757510185, 18649.51066565981, 6698.155678001795, 5926.41865629247, 14029.233707993357, 4708.367400072599, 2772.7148096175483, 2571.189692948069, 1827.017612181151, 1807.820422357142, 1284.5506929676944, 1240.919456366265, 1204.5675386335502, 1122.8626504792708, 1069.9447401912578, 1031.782833992176, 838.7827155616657, 819.9608943964668, 748.0838473065974, 740.2378575000512, 627.6785781390673, 621.5472340963922, 580.8907624617285, 525.7123819773798, 500.2604465215382, 484.7785228996742, 459.95208617954484, 458.9709312790112, 449.3255538993873, 401.5907808411398, 367.6119911359701, 361.672707475217, 350.3595792981852, 340.8779020415273, 2964.365017645185, 4056.287603314472, 3142.3202644877715, 3937.3237971711533, 717.300641772408, 1739.729029975992, 5986.42188336242, 1615.472665668296, 1637.8608467583467, 1502.9117626845496, 1482.1219351563461, 5762.963737619519, 13304.030761023065, 2528.386800663531, 2389.453174758411, 2056.6230192924163, 4775.871523443075, 21029.644194102173, 7369.147360034219, 28595.506193910616, 11706.58144511882, 13171.53833608657, 4532.42482983108, 16704.314771424935, 17885.4203959819, 7038.08632060006, 14063.65864535306], \"Category\": [\"Default\", \"Default\", \"Default\", \"Default\", \"Default\", \"Default\", \"Default\", \"Default\", \"Default\", \"Default\", \"Default\", \"Default\", \"Default\", \"Default\", \"Default\", \"Default\", \"Default\", \"Default\", \"Default\", \"Default\", \"Default\", \"Default\", \"Default\", \"Default\", \"Default\", \"Default\", \"Default\", \"Default\", \"Default\", \"Default\", \"Topic1\", \"Topic1\", \"Topic1\", \"Topic1\", \"Topic1\", \"Topic1\", \"Topic1\", \"Topic1\", \"Topic1\", \"Topic1\", \"Topic1\", \"Topic1\", \"Topic1\", \"Topic1\", \"Topic1\", \"Topic1\", \"Topic1\", \"Topic1\", \"Topic1\", \"Topic1\", \"Topic1\", \"Topic1\", \"Topic1\", \"Topic1\", \"Topic1\", \"Topic1\", \"Topic1\", \"Topic1\", \"Topic1\", \"Topic1\", \"Topic1\", \"Topic1\", \"Topic1\", \"Topic1\", \"Topic1\", \"Topic1\", \"Topic1\", \"Topic1\", \"Topic1\", \"Topic1\", \"Topic1\", \"Topic1\", \"Topic1\", \"Topic1\", \"Topic1\", \"Topic1\", \"Topic1\", \"Topic1\", \"Topic1\", \"Topic1\", \"Topic1\", \"Topic1\", \"Topic1\", \"Topic1\", \"Topic1\", \"Topic1\", \"Topic1\", \"Topic1\", \"Topic1\", \"Topic1\", \"Topic1\", \"Topic1\", \"Topic1\", \"Topic1\", \"Topic1\", \"Topic1\", \"Topic2\", \"Topic2\", \"Topic2\", \"Topic2\", \"Topic2\", \"Topic2\", \"Topic2\", \"Topic2\", \"Topic2\", \"Topic2\", \"Topic2\", \"Topic2\", \"Topic2\", \"Topic2\", \"Topic2\", \"Topic2\", \"Topic2\", \"Topic2\", \"Topic2\", \"Topic2\", \"Topic2\", \"Topic2\", \"Topic2\", \"Topic2\", \"Topic2\", \"Topic2\", \"Topic2\", \"Topic2\", \"Topic2\", \"Topic2\", \"Topic2\", \"Topic2\", \"Topic2\", \"Topic2\", \"Topic2\", \"Topic2\", \"Topic2\", \"Topic2\", \"Topic2\", \"Topic2\", \"Topic2\", \"Topic2\", \"Topic2\", \"Topic2\", \"Topic2\", \"Topic2\", \"Topic2\", \"Topic2\", \"Topic2\", \"Topic2\", \"Topic2\", \"Topic2\", \"Topic2\", \"Topic2\", \"Topic2\", \"Topic2\", \"Topic2\", \"Topic2\", \"Topic2\", \"Topic2\", \"Topic2\", \"Topic3\", \"Topic3\", \"Topic3\", \"Topic3\", \"Topic3\", \"Topic3\", \"Topic3\", \"Topic3\", \"Topic3\", \"Topic3\", \"Topic3\", \"Topic3\", \"Topic3\", \"Topic3\", \"Topic3\", \"Topic3\", \"Topic3\", \"Topic3\", \"Topic3\", \"Topic3\", \"Topic3\", \"Topic3\", \"Topic3\", \"Topic3\", \"Topic3\", \"Topic3\", \"Topic3\", \"Topic3\", \"Topic3\", \"Topic3\", \"Topic3\", \"Topic3\", \"Topic3\", \"Topic3\", \"Topic3\", \"Topic3\", \"Topic3\", \"Topic3\", \"Topic3\", \"Topic3\", \"Topic3\", \"Topic3\", \"Topic3\", \"Topic3\", \"Topic3\", \"Topic3\", \"Topic3\", \"Topic3\", \"Topic3\", \"Topic3\", \"Topic3\", \"Topic3\", \"Topic3\", \"Topic3\", \"Topic3\", \"Topic3\", \"Topic3\", \"Topic3\", \"Topic3\", \"Topic3\", \"Topic3\", \"Topic3\", \"Topic3\", \"Topic3\", \"Topic3\", \"Topic3\", \"Topic3\", \"Topic3\", \"Topic3\", \"Topic3\", \"Topic3\", \"Topic3\", \"Topic3\", \"Topic3\", \"Topic3\", \"Topic4\", \"Topic4\", \"Topic4\", \"Topic4\", \"Topic4\", \"Topic4\", \"Topic4\", \"Topic4\", \"Topic4\", \"Topic4\", \"Topic4\", \"Topic4\", \"Topic4\", \"Topic4\", \"Topic4\", \"Topic4\", \"Topic4\", \"Topic4\", \"Topic4\", \"Topic4\", \"Topic4\", \"Topic4\", \"Topic4\", \"Topic4\", \"Topic4\", \"Topic4\", \"Topic4\", \"Topic4\", \"Topic4\", \"Topic4\", \"Topic4\", \"Topic4\", \"Topic4\", \"Topic4\", \"Topic4\", \"Topic4\", \"Topic4\", \"Topic4\", \"Topic4\", \"Topic4\", \"Topic4\", \"Topic4\", \"Topic4\", \"Topic4\", \"Topic4\", \"Topic4\", \"Topic4\", \"Topic4\", \"Topic4\", \"Topic4\", \"Topic4\", \"Topic4\", \"Topic4\", \"Topic4\", \"Topic4\", \"Topic4\", \"Topic4\", \"Topic4\", \"Topic4\", \"Topic4\", \"Topic4\", \"Topic4\", \"Topic4\", \"Topic4\", \"Topic4\", \"Topic4\", \"Topic4\", \"Topic4\", \"Topic4\", \"Topic4\", \"Topic5\", \"Topic5\", \"Topic5\", \"Topic5\", \"Topic5\", \"Topic5\", \"Topic5\", \"Topic5\", \"Topic5\", \"Topic5\", \"Topic5\", \"Topic5\", \"Topic5\", \"Topic5\", \"Topic5\", \"Topic5\", \"Topic5\", \"Topic5\", \"Topic5\", \"Topic5\", \"Topic5\", \"Topic5\", \"Topic5\", \"Topic5\", \"Topic5\", \"Topic5\", \"Topic5\", \"Topic5\", \"Topic5\", \"Topic5\", \"Topic5\", \"Topic5\", \"Topic5\", \"Topic5\", \"Topic5\", \"Topic5\", \"Topic5\", \"Topic5\", \"Topic5\", \"Topic5\", \"Topic5\", \"Topic5\", \"Topic5\", \"Topic5\", \"Topic5\", \"Topic5\", \"Topic5\", \"Topic5\", \"Topic5\", \"Topic5\", \"Topic5\", \"Topic5\", \"Topic5\", \"Topic5\", \"Topic5\", \"Topic5\", \"Topic5\", \"Topic5\", \"Topic5\", \"Topic5\", \"Topic5\", \"Topic5\", \"Topic5\", \"Topic5\", \"Topic5\", \"Topic6\", \"Topic6\", \"Topic6\", \"Topic6\", \"Topic6\", \"Topic6\", \"Topic6\", \"Topic6\", \"Topic6\", \"Topic6\", \"Topic6\", \"Topic6\", \"Topic6\", \"Topic6\", \"Topic6\", \"Topic6\", \"Topic6\", \"Topic6\", \"Topic6\", \"Topic6\", \"Topic6\", \"Topic6\", \"Topic6\", \"Topic6\", \"Topic6\", \"Topic6\", \"Topic6\", \"Topic6\", \"Topic6\", \"Topic6\", \"Topic6\", \"Topic6\", \"Topic6\", \"Topic6\", \"Topic6\", \"Topic6\", \"Topic6\", \"Topic6\", \"Topic6\", \"Topic6\", \"Topic6\", \"Topic6\", \"Topic6\", \"Topic6\", \"Topic6\", \"Topic6\", \"Topic6\", \"Topic6\", \"Topic6\", \"Topic6\", \"Topic6\", \"Topic6\", \"Topic6\", \"Topic6\", \"Topic6\", \"Topic6\", \"Topic6\", \"Topic6\", \"Topic6\", \"Topic6\", \"Topic6\", \"Topic6\", \"Topic6\", \"Topic6\", \"Topic6\", \"Topic6\", \"Topic7\", \"Topic7\", \"Topic7\", \"Topic7\", \"Topic7\", \"Topic7\", \"Topic7\", \"Topic7\", \"Topic7\", \"Topic7\", \"Topic7\", \"Topic7\", \"Topic7\", \"Topic7\", \"Topic7\", \"Topic7\", \"Topic7\", \"Topic7\", \"Topic7\", \"Topic7\", \"Topic7\", \"Topic7\", \"Topic7\", \"Topic7\", \"Topic7\", \"Topic7\", \"Topic7\", \"Topic7\", \"Topic7\", \"Topic7\", \"Topic7\", \"Topic7\", \"Topic7\", \"Topic7\", \"Topic7\", \"Topic7\", \"Topic7\", \"Topic7\", \"Topic7\", \"Topic7\", \"Topic7\", \"Topic7\", \"Topic7\", \"Topic7\", \"Topic7\", \"Topic7\", \"Topic7\", \"Topic7\", \"Topic7\", \"Topic7\", \"Topic7\", \"Topic7\", \"Topic7\", \"Topic7\", \"Topic7\", \"Topic7\", \"Topic7\", \"Topic7\", \"Topic7\", \"Topic7\", \"Topic7\", \"Topic7\", \"Topic7\", \"Topic7\", \"Topic7\", \"Topic7\", \"Topic7\", \"Topic7\", \"Topic7\", \"Topic8\", \"Topic8\", \"Topic8\", \"Topic8\", \"Topic8\", \"Topic8\", \"Topic8\", \"Topic8\", \"Topic8\", \"Topic8\", \"Topic8\", \"Topic8\", \"Topic8\", \"Topic8\", \"Topic8\", \"Topic8\", \"Topic8\", \"Topic8\", \"Topic8\", \"Topic8\", \"Topic8\", \"Topic8\", \"Topic8\", \"Topic8\", \"Topic8\", \"Topic8\", \"Topic8\", \"Topic8\", \"Topic8\", \"Topic8\", \"Topic8\", \"Topic8\", \"Topic8\", \"Topic8\", \"Topic8\", \"Topic8\", \"Topic8\", \"Topic8\", \"Topic8\", \"Topic8\", \"Topic8\", \"Topic8\", \"Topic8\", \"Topic8\", \"Topic8\", \"Topic8\", \"Topic8\", \"Topic8\", \"Topic8\", \"Topic8\", \"Topic8\", \"Topic8\", \"Topic8\", \"Topic8\", \"Topic8\", \"Topic8\", \"Topic8\"], \"logprob\": [30.0, 29.0, 28.0, 27.0, 26.0, 25.0, 24.0, 23.0, 22.0, 21.0, 20.0, 19.0, 18.0, 17.0, 16.0, 15.0, 14.0, 13.0, 12.0, 11.0, 10.0, 9.0, 8.0, 7.0, 6.0, 5.0, 4.0, 3.0, 2.0, 1.0, -4.2797, -4.308, -5.416, -5.5122, -5.6052, -5.7979, -6.018, -6.0192, -6.1863, -6.2038, -6.0583, -6.2443, -6.3313, -6.4528, -6.6009, -6.6497, -6.8457, -6.8536, -7.0107, -7.0203, -7.0745, -7.2391, -7.2937, -7.3554, -7.3575, -7.3929, -7.4681, -7.4746, -7.5122, -7.5179, -4.8879, -5.3431, -6.0276, -5.9954, -6.2395, -6.1501, -5.7756, -3.2928, -5.066, -5.1313, -6.0684, -4.97, -4.4656, -6.2663, -5.4633, -4.165, -5.8699, -4.2183, -5.682, -4.8386, -5.5859, -5.341, -4.9155, -4.0789, -5.4878, -5.1796, -5.7822, -5.5395, -5.3816, -4.7105, -5.4284, -5.3419, -5.2095, -5.4198, -5.4089, -5.6008, -4.7284, -4.9199, -5.0046, -5.475, -5.5255, -5.6697, -5.722, -5.753, -5.8159, -5.8301, -6.1374, -6.4239, -6.4436, -6.467, -6.5761, -6.632, -6.6652, -6.6814, -6.7001, -6.7441, -6.8308, -6.8538, -6.8997, -6.9075, -6.9252, -7.0343, -7.1338, -7.2002, -7.2051, -7.2364, -3.1903, -4.3379, -4.7699, -5.022, -5.8826, -5.1095, -4.8019, -3.2231, -5.5542, -5.9503, -3.4406, -5.2306, -5.7663, -4.8912, -5.0128, -6.1516, -4.7541, -4.8695, -5.7793, -5.5261, -4.2922, -4.7116, -5.0026, -4.9984, -5.1568, -5.1156, -5.3584, -5.3622, -5.5159, -5.4269, -5.515, -5.364, -5.6359, -6.0374, -6.211, -6.465, -6.7636, -6.8645, -6.8654, -6.9087, -6.9863, -6.9452, -7.0942, -7.2356, -7.2668, -7.2908, -7.2923, -7.2945, -7.3273, -7.3834, -7.4455, -7.479, -7.4805, -7.4911, -7.554, -7.5847, -7.5874, -7.5885, -7.6094, -7.6198, -7.6717, -5.9354, -5.7914, -5.2694, -6.7257, -5.8727, -5.3303, -5.6663, -7.1698, -4.8424, -6.6893, -6.4283, -5.4808, -5.2612, -6.1554, -6.7212, -6.4304, -5.3502, -6.237, -4.8164, -5.1325, -6.034, -5.5085, -5.0087, -4.8425, -5.1358, -4.9884, -4.7437, -6.0838, -5.643, -5.6675, -5.7928, -5.6078, -5.4616, -5.2835, -4.8451, -5.3112, -5.5956, -5.3372, -4.9531, -5.1543, -5.6566, -5.1622, -5.5083, -5.2313, -5.4705, -4.5581, -5.1333, -5.2237, -5.5529, -5.8119, -5.846, -6.3673, -6.4451, -6.6543, -6.6686, -6.8113, -6.9695, -7.1143, -7.162, -7.1759, -7.1782, -7.2051, -7.2899, -7.3351, -7.503, -7.5162, -7.5852, -7.595, -7.6967, -7.7423, -7.8557, -7.9701, -8.0043, -3.812, -8.0161, -5.9551, -4.5183, -5.549, -7.0703, -4.6863, -6.2392, -6.1474, -4.2182, -5.769, -5.2732, -3.9922, -5.9452, -3.8799, -4.6465, -4.9032, -4.0944, -4.1399, -6.2164, -5.5225, -5.7339, -5.4931, -6.0319, -5.3728, -3.849, -5.276, -4.7822, -5.7844, -5.4327, -5.4634, -4.1786, -4.38, -5.2796, -4.6207, -5.5535, -5.2029, -5.1629, -5.3628, -5.2412, -5.3329, -5.4783, -3.2047, -4.0549, -4.5732, -5.3024, -5.4476, -5.7664, -5.8122, -5.8319, -5.8386, -6.0517, -6.1372, -6.2035, -6.3351, -6.3789, -6.4105, -6.4174, -6.4416, -6.5676, -6.8131, -6.8539, -7.012, -7.1053, -7.1495, -7.1544, -7.1719, -7.1889, -7.237, -7.2599, -7.3602, -7.374, -5.8589, -6.0288, -5.8322, -4.3014, -4.4666, -6.6944, -5.873, -5.865, -6.3995, -4.8074, -5.3469, -4.4214, -5.1355, -4.8605, -4.3113, -4.6545, -5.53, -5.0116, -5.4061, -6.0346, -4.928, -4.6585, -4.5915, -5.5322, -5.0648, -4.9842, -5.1401, -5.1493, -5.1083, -5.5678, -5.2917, -5.2976, -5.3543, -5.3402, -5.519, -5.0053, -5.2481, -5.3243, -5.532, -5.5626, -5.8883, -5.9589, -6.1653, -6.2522, -6.3026, -6.3351, -6.3489, -6.4643, -6.4851, -6.6157, -6.7926, -6.8523, -6.9265, -6.9769, -7.0046, -7.0077, -7.0344, -7.1008, -7.1434, -7.1535, -7.2831, -7.3072, -7.3344, -7.3583, -7.3651, -5.7056, -6.9698, -5.7294, -5.1183, -6.3392, -6.158, -5.9568, -4.6121, -5.704, -6.1701, -6.3521, -6.4641, -5.189, -6.2214, -5.3494, -4.3844, -4.1983, -4.6664, -3.6574, -3.8336, -5.1599, -4.3946, -4.0691, -5.5265, -4.5225, -5.0488, -5.8827, -5.8683, -4.467, -4.6183, -4.9971, -5.0715, -5.2619, -5.6674, -5.7524, -5.6379, -5.641, -5.6651, -5.7514, -6.2094, -6.4323, -6.4881, -6.5351, -6.5889, -6.6108, -6.7416, -6.7576, -6.7771, -6.8138, -6.8641, -6.9329, -6.9711, -6.9891, -7.0409, -7.0754, -7.1339, -7.1583, -7.2334, -7.2901, -7.3861, -7.4482, -7.4511, -7.5295, -7.5378, -7.6305, -7.6364, -5.5085, -6.8224, -5.5337, -5.5288, -6.6661, -6.144, -5.7039, -6.4321, -6.3515, -4.7547, -5.8777, -5.3339, -5.677, -4.8953, -6.1602, -5.4832, -4.3308, -5.1858, -5.7904, -5.4529, -5.0769, -6.0166, -5.2626, -5.9032, -5.1275, -5.6926, -6.0788, -5.6184, -4.9428, -5.6262, -4.8393, -5.7356, -5.8122, -5.6195, -5.6936, -5.2869, -5.4477, -5.6594, -5.7509, -2.9385, -4.0304, -4.56, -4.6355, -4.9773, -4.9879, -5.3298, -5.3644, -5.3941, -5.4644, -5.5127, -5.5491, -5.7564, -5.7791, -5.8709, -5.8815, -6.0466, -6.0565, -6.1242, -6.2242, -6.2739, -6.3054, -6.3581, -6.3602, -6.3815, -6.494, -6.5826, -6.5989, -6.6308, -6.6583, -4.508, -4.2177, -4.4689, -4.2559, -5.9296, -5.1131, -3.9976, -5.2437, -5.3455, -5.5042, -5.5181, -4.6895, -4.2371, -5.2295, -5.3745, -5.4497, -5.1101, -4.5488, -5.0339, -4.6434, -4.9223, -4.925, -5.2088, -5.0343, -5.1067, -5.2883, -5.2559], \"loglift\": [30.0, 29.0, 28.0, 27.0, 26.0, 25.0, 24.0, 23.0, 22.0, 21.0, 20.0, 19.0, 18.0, 17.0, 16.0, 15.0, 14.0, 13.0, 12.0, 11.0, 10.0, 9.0, 8.0, 7.0, 6.0, 5.0, 4.0, 3.0, 2.0, 1.0, 1.8482, 1.8482, 1.848, 1.8479, 1.8479, 1.8478, 1.8476, 1.8476, 1.8475, 1.8475, 1.8475, 1.8475, 1.8474, 1.8472, 1.8471, 1.847, 1.8467, 1.8467, 1.8464, 1.8464, 1.8463, 1.846, 1.8458, 1.8457, 1.8456, 1.8456, 1.8453, 1.8453, 1.8452, 1.8452, 1.843, 1.8275, 1.8321, 1.8251, 1.8272, 1.7979, 1.7431, 1.5345, 1.6706, 1.6647, 1.7533, 1.6018, 1.5082, 1.7558, 1.6104, 1.3497, 1.6798, 1.2779, 1.633, 1.3301, 1.5697, 1.474, 1.1891, 0.7528, 1.4356, 1.1762, 1.5827, 1.3128, 1.0878, 0.0067, 0.8965, 0.1405, -0.316, 0.0071, -0.2223, -0.3459, 1.8644, 1.8644, 1.8643, 1.8642, 1.8642, 1.8641, 1.8641, 1.8641, 1.864, 1.864, 1.8638, 1.8635, 1.8635, 1.8635, 1.8633, 1.8633, 1.8632, 1.8632, 1.8632, 1.8631, 1.863, 1.8629, 1.8629, 1.8629, 1.8628, 1.8626, 1.8624, 1.8623, 1.8623, 1.8622, 1.8612, 1.8552, 1.8535, 1.8503, 1.8575, 1.8448, 1.8397, 1.7618, 1.8226, 1.8278, 1.7041, 1.7467, 1.7904, 1.6833, 1.6439, 1.7891, 1.5115, 1.3146, 1.5461, 1.4035, 0.4251, 0.7153, 0.5121, 0.4977, 0.0297, -0.2883, 0.349, 0.3198, 0.809, -0.1721, 0.4393, 1.9058, 1.9057, 1.9054, 1.9053, 1.905, 1.9046, 1.9045, 1.9045, 1.9044, 1.9042, 1.9042, 1.904, 1.9037, 1.9036, 1.9035, 1.9035, 1.9035, 1.9034, 1.9033, 1.9031, 1.903, 1.903, 1.903, 1.9027, 1.9026, 1.9026, 1.9026, 1.9025, 1.9025, 1.9023, 1.8971, 1.8898, 1.8699, 1.8908, 1.856, 1.8251, 1.8314, 1.8831, 1.732, 1.8507, 1.828, 1.7441, 1.7204, 1.7958, 1.8466, 1.8122, 1.6874, 1.7737, 1.5696, 1.613, 1.7342, 1.6203, 1.4982, 1.4556, 1.4796, 1.4376, 1.3755, 1.705, 1.5547, 1.5342, 1.5623, 1.4772, 1.3478, 1.2385, 0.8224, 1.1511, 1.2552, 0.8053, 0.0715, 0.3382, 1.284, -0.2687, 0.7828, -0.3996, 0.5861, 2.0826, 2.0825, 2.0824, 2.0823, 2.0821, 2.0821, 2.0816, 2.0815, 2.0812, 2.0811, 2.0809, 2.0805, 2.0802, 2.0801, 2.08, 2.08, 2.0799, 2.0797, 2.0795, 2.0789, 2.0789, 2.0786, 2.0786, 2.0781, 2.0779, 2.0773, 2.0766, 2.0764, 2.0764, 2.0763, 2.0618, 2.0451, 2.0331, 2.0633, 1.9642, 2.005, 2.0001, 1.8519, 1.8929, 1.8365, 1.6671, 1.8968, 1.5736, 1.6909, 1.7133, 1.5732, 1.5674, 1.9157, 1.7801, 1.8166, 1.7631, 1.8713, 1.6176, 1.0445, 1.5454, 1.2819, 1.7497, 1.5277, 1.5113, 0.5386, 0.4517, 1.2034, 0.2067, 1.5527, 0.7252, 0.092, 0.8343, -0.0547, 0.1595, 0.4757, 2.1264, 2.1264, 2.1263, 2.1261, 2.126, 2.1258, 2.1258, 2.1257, 2.1257, 2.1255, 2.1255, 2.1254, 2.1252, 2.1252, 2.1251, 2.1251, 2.1251, 2.1249, 2.1245, 2.1244, 2.124, 2.1238, 2.1236, 2.1236, 2.1236, 2.1235, 2.1234, 2.1233, 2.123, 2.1229, 2.1136, 2.1135, 2.1026, 2.067, 2.0367, 2.0981, 2.0356, 2.0237, 2.0625, 1.9234, 1.9637, 1.8206, 1.8954, 1.6207, 1.3707, 1.4096, 1.7607, 1.39, 1.5298, 1.9015, 0.6823, 0.235, 0.1257, 1.2771, 0.4177, 0.2706, 0.3523, 0.2776, -0.0838, 1.3045, 0.4157, 0.3616, 0.0992, -0.5084, 0.4091, 2.2017, 2.2016, 2.2015, 2.2014, 2.2014, 2.2012, 2.2011, 2.2009, 2.2008, 2.2007, 2.2007, 2.2006, 2.2005, 2.2004, 2.2002, 2.1999, 2.1997, 2.1996, 2.1994, 2.1994, 2.1993, 2.1993, 2.1991, 2.199, 2.1989, 2.1985, 2.1984, 2.1983, 2.1982, 2.1982, 2.1864, 2.197, 2.1583, 2.1255, 2.1627, 2.1514, 2.1308, 2.009, 2.079, 2.1223, 2.1259, 2.1294, 1.9447, 2.0963, 1.9449, 1.6888, 1.5858, 1.6527, 1.3672, 1.3529, 1.7485, 1.4589, 1.1857, 1.7203, 1.0879, 1.3921, 1.9217, 1.8853, 0.2503, 0.2752, 0.4853, -0.2398, 0.2305, 1.3384, 1.2837, -0.2109, 2.2853, 2.2853, 2.2853, 2.2848, 2.2844, 2.2844, 2.2843, 2.2842, 2.2841, 2.2838, 2.2838, 2.2838, 2.2837, 2.2836, 2.2834, 2.2833, 2.2832, 2.2831, 2.283, 2.2828, 2.2827, 2.2824, 2.2822, 2.2818, 2.2815, 2.2815, 2.2812, 2.2811, 2.2806, 2.2806, 2.2607, 2.2684, 2.2121, 2.2032, 2.2405, 2.2098, 2.1791, 2.219, 2.1964, 2.0354, 2.1156, 2.039, 2.0863, 1.9503, 2.1481, 2.0282, 1.8116, 1.9567, 2.0688, 1.9509, 1.8104, 2.0532, 1.8149, 2.0161, 1.6254, 1.7137, 1.9634, 1.5189, 0.5534, 1.306, -0.0075, 1.4239, 1.4928, 1.0765, 1.1214, -0.302, -0.303, 0.5093, 0.5402, 2.4909, 2.4908, 2.4907, 2.4906, 2.4905, 2.4905, 2.4903, 2.4903, 2.4903, 2.4902, 2.4902, 2.4901, 2.4899, 2.4899, 2.4898, 2.4898, 2.4896, 2.4896, 2.4895, 2.4893, 2.4892, 2.4892, 2.4891, 2.4891, 2.489, 2.4888, 2.4886, 2.4886, 2.4885, 2.4884, 2.4759, 2.4525, 2.4566, 2.4441, 2.4732, 2.4037, 2.2835, 2.3472, 2.2316, 2.1589, 2.1589, 1.6295, 1.2454, 1.9134, 1.8249, 1.8998, 1.3968, 0.4758, 1.0393, 0.0739, 0.6881, 0.5674, 1.3505, 0.2205, 0.0798, 0.8309, 0.171]}, \"token.table\": {\"Topic\": [6, 1, 2, 4, 5, 4, 1, 4, 5, 3, 4, 5, 3, 7, 8, 4, 1, 3, 4, 6, 7, 8, 4, 1, 2, 3, 4, 5, 6, 7, 1, 2, 3, 5, 6, 7, 8, 3, 4, 5, 6, 8, 7, 1, 2, 3, 4, 5, 3, 5, 3, 8, 7, 8, 7, 3, 4, 5, 2, 2, 3, 1, 2, 3, 4, 5, 6, 1, 2, 3, 4, 5, 6, 7, 8, 2, 3, 7, 1, 3, 7, 2, 1, 7, 4, 3, 6, 7, 1, 2, 1, 2, 3, 4, 5, 6, 7, 8, 1, 2, 3, 4, 5, 7, 8, 3, 5, 7, 2, 2, 4, 2, 1, 2, 5, 7, 2, 5, 7, 5, 7, 1, 2, 5, 7, 2, 7, 1, 2, 3, 4, 5, 6, 7, 8, 1, 6, 1, 2, 3, 4, 5, 6, 7, 8, 5, 8, 8, 3, 4, 5, 6, 7, 8, 5, 8, 5, 6, 1, 2, 3, 4, 5, 6, 7, 3, 6, 7, 8, 1, 1, 7, 1, 2, 3, 4, 5, 6, 8, 8, 1, 5, 6, 7, 8, 1, 7, 1, 7, 3, 7, 1, 2, 3, 5, 7, 1, 2, 3, 4, 5, 6, 8, 3, 5, 8, 6, 8, 6, 1, 2, 4, 5, 6, 8, 4, 1, 2, 4, 5, 6, 8, 5, 5, 6, 5, 6, 5, 1, 4, 5, 8, 2, 1, 2, 3, 4, 5, 6, 7, 8, 3, 5, 4, 6, 8, 1, 7, 1, 2, 3, 4, 5, 6, 1, 6, 4, 2, 1, 1, 2, 3, 4, 5, 6, 7, 8, 3, 4, 5, 6, 7, 8, 2, 7, 2, 5, 7, 1, 2, 3, 4, 5, 6, 8, 8, 2, 6, 8, 3, 5, 3, 8, 2, 1, 5, 7, 1, 6, 1, 2, 3, 4, 5, 6, 8, 5, 5, 2, 1, 2, 1, 8, 7, 5, 5, 5, 1, 5, 8, 5, 7, 8, 5, 3, 5, 4, 5, 1, 2, 3, 4, 5, 6, 2, 3, 4, 5, 6, 7, 8, 1, 2, 3, 4, 5, 6, 7, 8, 1, 3, 5, 6, 7, 8, 6, 4, 5, 4, 4, 5, 3, 6, 6, 8, 1, 2, 4, 5, 7, 8, 1, 2, 4, 5, 6, 7, 8, 4, 3, 6, 7, 3, 6, 7, 8, 6, 6, 1, 2, 1, 2, 3, 7, 1, 3, 4, 5, 8, 3, 4, 5, 4, 5, 1, 3, 4, 5, 7, 8, 3, 5, 6, 3, 4, 1, 5, 8, 1, 2, 7, 1, 3, 5, 6, 7, 1, 2, 1, 1, 3, 4, 5, 6, 7, 4, 1, 5, 7, 8, 1, 2, 4, 1, 1, 4, 7, 4, 7, 6, 6, 1, 3, 5, 7, 1, 2, 3, 7, 8, 1, 7, 5, 7, 8, 3, 4, 5, 8, 2, 1, 2, 3, 4, 5, 6, 7, 8, 1, 2, 7, 1, 2, 3, 4, 5, 6, 7, 8, 1, 3, 6, 7, 3, 5, 3, 7, 3, 4, 5, 1, 2, 3, 4, 5, 6, 7, 4, 5, 1, 2, 4, 6, 8, 1, 2, 3, 4, 5, 6, 8, 3, 1, 2, 4, 8, 8, 5, 7, 5, 5, 4, 4, 5, 5, 4, 5, 2, 5, 6, 8, 1, 2, 3, 4, 5, 6, 7, 3, 4, 1, 2, 7, 5, 8, 8, 3, 4, 2, 1, 3, 4, 5, 8, 3, 2, 7, 1, 2, 2, 2, 2, 4, 6, 8, 7, 1, 2, 3, 4, 5, 6, 7, 8, 1, 2, 3, 4, 6, 7, 8, 3, 1, 7, 1, 3, 6, 7, 8, 7, 2, 7, 4, 8, 1, 3, 4, 7, 3, 4, 5, 4, 3, 4, 5, 6, 1, 8, 1, 4, 1, 3, 4, 5, 8, 1, 2, 4, 6, 3, 5, 1, 2, 4, 5, 6, 5, 8, 7, 1, 1, 1, 4, 5, 6, 1, 3, 5, 6, 8, 3, 1, 4, 5, 6, 8, 1, 4, 1, 3, 7, 5, 5, 5, 1, 4, 5, 6, 8, 4, 6, 8, 7, 1, 7, 7, 2, 6, 3, 6, 8, 6, 8, 1, 2, 4, 5, 6, 8, 2, 5, 6, 7, 8, 1, 2, 3, 5, 7, 8, 5, 1, 3, 1, 3, 7, 1, 5, 7, 8, 8, 3, 5, 1, 7, 3, 1, 3, 1, 3, 6, 4, 1, 2, 3, 5, 7, 8, 1, 2, 3, 4, 5, 6, 7, 8, 7, 1, 2, 3, 4, 5, 6, 7, 8, 1, 2, 3, 4, 5, 6, 7, 8, 1, 2, 3, 4, 5, 6, 1, 2, 3, 4, 5, 7, 1, 2, 3, 4, 5, 6, 7, 8, 6, 8, 6, 1, 7, 6, 2, 1, 2, 3, 4, 5, 6, 7, 8, 1, 2, 1, 2, 3, 5, 7, 8, 1, 2, 4, 2, 3, 4, 5, 1, 2, 3, 4, 5, 6, 7, 8, 7, 4, 1, 4, 5, 7, 3, 4, 5, 3, 1, 2, 1, 5, 6, 7, 6, 2, 1, 2, 7, 8, 2, 7, 2, 3, 5, 6, 7, 7, 1, 2, 3, 4, 7, 1, 2, 3, 4, 5, 6, 7, 8, 2, 1, 2, 3, 4, 5, 6, 7, 8, 3, 1, 2, 5, 6, 7, 3, 5, 6, 7, 1, 2, 3, 4, 5, 7, 8, 1, 2, 3, 4, 5, 6, 7, 8, 4, 1, 2, 3, 4, 5, 7, 8, 3, 3, 7, 1, 2, 8, 7, 3, 4, 5, 7, 8, 6, 8, 3, 2, 4, 3, 4, 5, 1, 3, 7, 8, 7, 1, 2, 5, 6, 7, 1, 2, 3, 5, 6, 7, 8, 2, 1, 7, 8, 1, 3, 4, 7, 1, 2, 3, 4, 5, 2, 2, 1, 2, 3, 4, 5, 7, 3, 4, 5, 1, 3, 1, 2, 5, 7, 8, 3, 1, 5, 7, 3, 4, 5, 8, 2, 4, 1, 2, 3, 4, 5, 6, 7, 8, 2, 7, 8, 8, 1, 2, 4, 3, 4, 6, 3, 5, 7, 8, 8, 6, 8, 1, 4, 8, 2, 3, 1, 2, 4, 8, 8, 8, 6, 6, 7, 1, 4, 5, 1, 2, 4, 5, 7, 8, 2, 3, 8, 3, 3, 4, 5, 6, 5, 5, 5, 3, 1, 2, 3, 7, 2, 5, 7, 6, 8, 3, 6, 2, 4, 5, 7, 7, 3, 2, 4, 5, 4, 4, 4, 6, 1, 2, 5, 6, 7, 8, 3, 8, 3, 1, 2, 3, 4, 5, 6, 7, 8, 3, 4, 5, 1, 2, 3, 4, 5, 6, 7, 8, 8, 1, 6, 1, 2, 4, 7, 2, 4, 2, 1, 2, 2, 4, 1, 2, 2, 1, 2, 3, 2, 3, 5, 6, 7, 8, 3, 6, 8, 6, 6, 6, 5, 7, 1, 2, 3, 4, 5, 7, 8, 5, 6, 8, 1, 2, 3, 4, 5, 6, 7, 8, 2, 3, 4, 5, 6, 7, 8, 1, 3, 7, 8, 3, 5, 5, 8, 7, 1, 2, 3, 4, 7, 8, 6, 2, 1, 1, 4, 1, 1, 4, 4, 8], \"Freq\": [0.9986051000563473, 0.8372956405358256, 0.045316189481485844, 0.10354222364083684, 0.013963709549527616, 0.9969272950450843, 0.2510045206398943, 0.27003714570342985, 0.47883069590538396, 0.9989760821271064, 0.962850691902503, 0.03677708579287057, 0.008135517800324378, 0.02958370109208865, 0.9622098780201833, 0.9970992200162325, 0.018603212348352126, 0.2753275427556115, 0.22928459219343997, 0.01023176679159367, 0.4525231403736655, 0.014417489569972899, 0.9937647895496232, 0.04517255000354138, 0.14206939390426754, 0.10413824504633204, 0.13000039199492444, 0.11172447481791914, 0.4217254095750466, 0.04517255000354138, 0.1307661475793752, 0.1293643665180343, 0.46999716442388, 0.08991424236315386, 0.06127785782433203, 0.038649106405542755, 0.08010177493376736, 0.895585660775655, 0.016864348418966744, 0.06124421267940555, 0.019527140274593072, 0.006213180996461433, 0.9969528401787962, 0.08557354046038246, 0.01809269141162372, 0.7090379066717404, 0.11295707340770485, 0.07481572394536294, 0.9837518011330156, 0.015582845334751624, 0.6650095138468722, 0.33480800146131884, 0.0334147989899801, 0.9661650450817104, 0.9966966063223258, 0.5129293547354576, 0.3271439191619848, 0.15985199948655787, 0.9989366130294307, 0.9998678835760371, 0.9984315854601048, 0.1058566932431953, 0.05935061462170783, 0.03587611779371891, 0.7263806565641853, 0.03144696744881534, 0.041191098207603194, 0.46749743456803516, 0.11637015519661617, 0.06453804101025507, 0.08793308087647253, 0.06352963411946984, 0.08107591401913293, 0.09257175257408462, 0.02642026053857317, 0.9992974548811969, 0.0730158308008734, 0.9266372708910843, 0.1727339253577891, 0.11221829844672693, 0.7147306809447294, 0.9998133299997393, 0.08381518900594502, 0.9139079262763621, 0.997957935846202, 0.04824966588089632, 0.9510263090734564, 0.9988238882563314, 0.9980909784635726, 0.9991734516612768, 0.08149947346145839, 0.09145489568552888, 0.32515421399633604, 0.05517666215713642, 0.1469690297824643, 0.06580702826080491, 0.17447299287608276, 0.05939506140462392, 0.2222138869227534, 0.0892788536840089, 0.14473400068597037, 0.014158760936671013, 0.007865978298150562, 0.46448601850579074, 0.05742164157649911, 0.9276672835820483, 0.001691794438143553, 0.06992750344326686, 0.9991000902617948, 0.9967894300233884, 0.9987103426057428, 0.9995593011126148, 0.5652710950340395, 0.25489779089901077, 0.002971902494786673, 0.17679009712577132, 0.1572986487577888, 0.06172478622141079, 0.781017657914464, 0.024415393134424132, 0.9751360045809396, 0.0712619233729895, 0.8517113550463246, 0.0019303455541216119, 0.07506899377139602, 0.2844066922572069, 0.7151236864878866, 0.1812984382948405, 0.08689095964711262, 0.05509608427450999, 0.0036079291202953333, 0.18107294272482205, 0.17964480411470513, 0.02465418232201811, 0.28773234734355285, 0.9995805651572404, 0.9952816317731527, 0.022682266784797817, 0.02796053012465643, 0.1596793540112182, 0.07712921745270872, 0.10965473208751314, 0.43395883999594315, 0.035616389563550455, 0.13328803731192512, 0.97615372155452, 0.022701249338477208, 0.9978845473365698, 0.9976411708031108, 0.020170964342408344, 0.358726758011066, 0.05299822003691604, 0.006723654780802781, 0.5612274196446557, 0.7938521580121515, 0.2061540347978104, 0.987364477361218, 0.011786720115423172, 0.09775614481037097, 0.11887629955335235, 0.19128825867214566, 0.044352324960260904, 0.4396009351503411, 0.045559190945574125, 0.06245531473995923, 0.06273744480582091, 0.9000902795610634, 0.024326764312461172, 0.012803560164453248, 0.9989997987383588, 0.68785807161507, 0.3120151567599427, 0.12773003263783914, 0.10797658976385774, 0.26707188642457275, 0.20087115895501345, 0.10864393580689764, 0.1500193904753722, 0.03763831682745103, 0.9991195615290802, 0.12890782254375213, 0.03597427605872153, 0.011991425352907176, 0.7924333587379492, 0.03097784882834354, 0.07083067685075062, 0.9287491811552505, 0.9117335549304126, 0.0876483668271661, 0.9987121091052756, 0.9989696676123323, 0.1673616162969353, 0.025706744263209264, 0.21609731896260287, 0.07444244692887682, 0.5165448925388612, 0.07551890277211488, 0.027461419189859962, 0.7141824490660201, 0.05102628565683438, 0.09370281547891406, 0.01651396153984822, 0.021338264911039833, 0.8503975352997362, 0.08800176412743357, 0.061386596440112205, 0.9968421401728083, 0.999571295262453, 0.9981098683952682, 0.1114682059982018, 0.1304453388131481, 0.13655154558641155, 0.1563069204410875, 0.36194241324657794, 0.10326673219489695, 0.9949863912102355, 0.10466568004391676, 0.07369610896242906, 0.584120521231393, 0.0074556374825803726, 0.19384657454708967, 0.036131166261735646, 0.9982835458954592, 0.9983959081743232, 0.9987885357193721, 0.9997592841558978, 0.9993553001503579, 0.999817772409138, 0.010207900020181604, 0.03098826791840844, 0.9422256286485483, 0.016587837532795104, 0.9983174205227939, 0.027359207111797863, 0.15769779006054915, 0.6372486128524346, 0.025150078587242754, 0.0757901016885829, 0.01784296115986817, 0.03704538602715487, 0.021751419318696435, 0.9907747812875676, 0.008670264593606399, 0.036946814445294, 0.9621566261795311, 0.9985511686818267, 0.0166438042692406, 0.9819844518851953, 0.08704657765579327, 0.018669507272020002, 0.6527326479979993, 0.11505083856382327, 0.025670572499027506, 0.10104870810980827, 0.9970149592492296, 0.9997364636820542, 0.9986207961984916, 0.9985494480868757, 0.9986716780966195, 0.06270756031174551, 0.053865489408792745, 0.07520841917454081, 0.12622818461456714, 0.10864567580754612, 0.5399761230734261, 0.00924860289849083, 0.024188653734514478, 0.05462361430102425, 0.005512474837718043, 0.03140440210578764, 0.0420952623971196, 0.053788390840763936, 0.8126724268332812, 0.9906561988014742, 0.0093313817367032, 0.7271712337424538, 0.02752998143411379, 0.24539655864546256, 0.05338877134456705, 0.08388443753658376, 0.02545576617708957, 0.10831513930385764, 0.2359356583259107, 0.3281914552093226, 0.16486452591202305, 0.9974245850603118, 0.12132672013915992, 0.012380277565220399, 0.8660004156871669, 0.9642532435240059, 0.03546497422033532, 0.9840530937945823, 0.013811271491853785, 0.9986776411098451, 0.0017870043146631235, 0.06254515101320932, 0.9346032565688136, 0.9978943084321044, 0.9980256698262946, 0.5172730529125396, 0.10824365725538523, 0.16271556239425308, 0.07015533283951876, 0.030666702378951315, 0.04915074216900416, 0.06175349657131292, 0.9983109833865749, 0.9986347257071441, 0.9992378544495953, 0.9976566347955833, 0.9980146198041435, 0.9969375957680703, 0.9990668434778827, 0.9973281759870175, 0.9993236014362966, 0.9989677309289791, 0.9983917846815122, 0.9992137764609389, 0.995259655837422, 0.9988281216786881, 0.06725185243452228, 0.016094460411680545, 0.916234639150671, 0.9981917013268384, 0.08590196375804068, 0.9134525651102543, 0.09672191720340126, 0.9021820208110359, 0.029864554735942517, 0.048803052861174354, 0.04516103399093746, 0.03350657360617941, 0.11363098875139103, 0.7284037740473784, 0.09697132885224327, 0.020184077498656968, 0.11934932781814556, 0.1026755246670811, 0.6178082851762828, 0.018428940324860713, 0.024571920433147616, 0.1586358184779443, 0.316845005440484, 0.07295398913418684, 0.043658625076404216, 0.15742702918429793, 0.08952151298239887, 0.06264372751190897, 0.0982674590481932, 0.016194545373602483, 0.053981817912008276, 0.038256679650684126, 0.8245135927168916, 0.059849406815487435, 0.007275810240314159, 0.9994019156608036, 0.925572832234718, 0.07376030282590297, 0.9966745978552255, 0.9984587779480493, 0.9996100232670572, 0.9959627256640782, 0.9982422809146708, 0.9971593155173769, 0.9983277571019784, 0.021979889238607286, 0.03907535864641295, 0.04334922599836437, 0.05983414292731983, 0.06349745780042104, 0.7717383332666558, 0.009996033261228134, 0.18326060978918246, 0.23892479500857053, 0.10348834435153834, 0.4449214804507425, 0.0025480084783522697, 0.016856056087561168, 0.9957334547118031, 0.3325933235208166, 0.045082610534085334, 0.6221400253703776, 0.07737437220260344, 0.024100214292614188, 0.8714130115276815, 0.02663707895499463, 0.9989162763501489, 0.9994710230597295, 0.844687141862762, 0.15444349991864847, 0.04816952432376971, 0.018063571621413643, 0.9248548670163784, 0.0072254286485654564, 0.059560717843944996, 0.04786129112459866, 0.8466130607817897, 0.028716774674759197, 0.01808093220262616, 0.20148043384242348, 0.6758431394854626, 0.12265563253214201, 0.7386090204136776, 0.2607401190153812, 0.09171805028460668, 0.10033487348013502, 0.6009869059254084, 0.13166213747065753, 0.07484952352047917, 0.00043814355231500005, 0.9995442228469158, 0.9969856480146051, 0.998150102341839, 0.8760169721882618, 0.12339593909318528, 0.9973760245243114, 0.4458765614300549, 0.5538205054185742, 0.22747126508610588, 0.04860497117224484, 0.7242140704664481, 0.006407518629196173, 0.922282212689924, 0.03684323211787799, 0.023227255030836124, 0.010812687686768541, 0.9946528875688411, 0.005239151369864846, 0.9963606190627808, 0.041353151827187795, 0.07663182937467569, 0.691088266128935, 0.1539645596277783, 0.0023363362614230395, 0.034577776669060985, 0.999672014773223, 0.9982907057589607, 0.7981690918197212, 0.061195877795597466, 0.13987629210422278, 0.711720114646114, 0.10012979344667407, 0.18809658130902823, 0.9990602212225135, 0.03210202625730508, 0.7662872564012267, 0.20152938705974854, 0.9927468228605014, 0.9954667612655088, 0.9970801377341598, 0.999762538506701, 0.034885571855724135, 0.8034360783507078, 0.14808569277531877, 0.013171083251650948, 0.18068157207848548, 0.08841864165542906, 0.057343974117107975, 0.37513851224096895, 0.29793237949111967, 0.04383939951076734, 0.9552374419714568, 0.9874163398129797, 0.011818911575563413, 0.9994430200484296, 0.33828146990452307, 0.6006757330577374, 0.04857143030447296, 0.012301144360164475, 0.9994490255547903, 0.11482815633141776, 0.06882181545471823, 0.11361856078706209, 0.3540361027755444, 0.1508657615149793, 0.1456102774257099, 0.0055891656187468134, 0.046631993744469684, 0.7566199021950987, 0.12296575435357084, 0.12016197493834284, 0.04441290841930171, 0.05870227895420748, 0.625835809508508, 0.08477072520031935, 0.07221925108182105, 0.04383360961383256, 0.04499220722477087, 0.02510294823699662, 0.11988175034210037, 0.049276547686630215, 0.012503004636906173, 0.8185790682868571, 0.5720423123540754, 0.4278275837814036, 0.9981300172492238, 0.9968974975183252, 0.9965221082124123, 0.9790540435414451, 0.01990332518332076, 0.05047273402014318, 0.2133620119942416, 0.01817018424725154, 0.14627916005110586, 0.46967173220925956, 0.030375409019395255, 0.07157951370129395, 0.9517374578665971, 0.047863005618049376, 0.05117426218669506, 0.024590229881918408, 0.826763404678554, 0.04984506057145623, 0.047186657340978565, 0.15855638187532803, 0.23703025062879873, 0.02447937082327517, 0.21349508410870705, 0.13523103853372156, 0.14201532130474354, 0.0891748508562167, 0.9938981557853136, 0.28322646842790916, 0.7024740108336819, 0.01414487589128931, 0.9999120616265268, 0.9970499031539967, 0.9998804343295962, 0.9979057093310721, 0.99741322257784, 0.9991106832932158, 0.9970068088321908, 0.30581765615206574, 0.6937063174783741, 0.9982386440824942, 0.15012933582342297, 0.849797517729469, 0.03190871634064926, 0.11793711823945856, 0.6353588518417516, 0.21460175891848426, 0.08502199216718641, 0.09150348932791362, 0.02592598864290886, 0.5886724480095776, 0.08273440493398856, 0.12276718151495078, 0.003050116310930454, 0.998843847270082, 0.9997105137697686, 0.984070845271712, 0.015388762189434179, 0.9971893439291977, 0.9971355074775758, 0.9983352253171096, 0.9992317399827106, 0.017370787645381865, 0.9814495019640753, 0.9996915294580978, 0.9991534166717398, 0.7458754570554071, 0.07017502518268977, 0.16347591093694777, 0.020201901188956147, 0.9954069464271192, 0.9997472756015556, 0.9980612676287384, 0.02443632959191804, 0.9755366088067672, 0.9992353574044623, 0.9985663706600268, 0.9985608691325256, 0.9991468499459998, 0.014842976400710754, 0.9850338884108045, 0.9969068836762169, 0.5106692272979072, 0.13860250441289693, 0.17100308986006763, 0.014940269956195382, 0.0394207122940577, 0.0007200130099371269, 0.09594173357412215, 0.028440513892516513, 0.6073817296495482, 0.2585874925182317, 0.03819424987060042, 0.03819424987060042, 0.024298374409548643, 0.007142014203445607, 0.02623913913874582, 0.9972730715781343, 0.43540510927706344, 0.5640709217111838, 0.012034685682720005, 0.12378533845083435, 0.025788612177257156, 0.7633429204468118, 0.07478697531404575, 0.9932658820315542, 0.9890077269105909, 0.010821683025187245, 0.9968973708803996, 0.998528898397761, 0.021384931129508795, 0.040631369146066715, 0.017107944903607036, 0.9202648696065285, 0.9421419614147777, 0.05425948468880919, 0.003288453617503587, 0.9980154492788221, 0.7035746548835881, 0.07729294011488348, 0.023814581548910047, 0.1951124488305437, 0.9774384940466257, 0.022586228149284578, 0.6617295316911527, 0.3378503942991298, 0.1598787386494227, 0.022839819807060388, 0.8095447242724737, 0.007613273269020129, 0.9991170196405761, 0.7306649455952358, 0.11614277693662249, 0.1531913467896829, 0.9995987835348411, 0.9968426751943572, 0.9979653858780798, 0.5853050164322874, 0.16266688177754324, 0.2147202839463571, 0.011830318674730418, 0.0254351851506704, 0.9950779492707483, 0.9992590523409494, 0.9952372744173771, 0.9991143037173796, 0.999605000883048, 0.900080799909583, 0.06737648982048702, 0.024762299677614886, 0.006910409212357643, 0.9998891085610839, 0.8402051119703888, 0.07526230808372451, 0.07369434333198024, 0.01075175829767493, 0.9986482738074858, 0.03341774648618743, 0.8298740377403212, 0.08354436621546858, 0.034213407116810944, 0.018300194504340738, 0.8323308207411326, 0.16747267773729876, 0.23086499588404227, 0.049414596721755626, 0.7194765282687619, 0.9968590046033768, 0.9999342676492196, 0.998635496622439, 0.0054622149952167735, 0.0681170340579974, 0.7364351040609909, 0.05542541686322902, 0.13462753429387223, 0.9987821274524096, 0.9993747473279742, 0.9995372986476525, 0.9986977773233309, 0.9968091273218509, 0.9980025957444276, 0.9990995831464681, 0.9857996269701154, 0.0138802518642869, 0.9951076939272371, 0.5773071203419143, 0.422525650145044, 0.9569921443230345, 0.042477458103111196, 0.12608034645395327, 0.15962722355921802, 0.11797318448684764, 0.07883516119737212, 0.42777859455396744, 0.08968198479474104, 0.016076370521725974, 0.5504549266638974, 0.10513946321208786, 0.028937466939106753, 0.2990204917041031, 0.36099685731868475, 0.07361603747704083, 0.18467253387711274, 0.0037946411070639606, 0.2982587910152273, 0.07816960680551759, 0.9991635002760644, 0.996111175987525, 0.9955311526077881, 0.979504274587957, 0.0032528161879218165, 0.017077284986589537, 0.9091277375712211, 0.027289426084899433, 0.05457885216979887, 0.007796978881399838, 0.9995461814973458, 0.9775899751510637, 0.02136808688854784, 0.9993374344350712, 0.9977970318305066, 0.9990467629518189, 0.9998487393505597, 0.998717774795432, 0.9994607532255334, 0.0029928978271050385, 0.9936420785988728, 0.9970963838735608, 0.22142191586622337, 0.11081299568235879, 0.01734641737200828, 0.6030430980504056, 0.024693135317800024, 0.022652380332857873, 0.11075749049294417, 0.08185463938821173, 0.032653602774812225, 0.2144547425480911, 0.04037573856615296, 0.18246303712682238, 0.017650596094493095, 0.3196964217615062, 0.9982229447293322, 0.1480412787118441, 0.1444275778482515, 0.10371321478510803, 0.20043994123393702, 0.14418666445734532, 0.06456478876285471, 0.1040745848714673, 0.09058343498072154, 0.10564171019569903, 0.16456630854930004, 0.0933168440062008, 0.25729625416552476, 0.17959090733268834, 0.08932593495436329, 0.06197646998147676, 0.048360427334031106, 0.04128300766741409, 0.008875174286805636, 0.011295676365025355, 0.448868663172079, 0.48826905811198884, 0.0013447233767887327, 0.016828900863026575, 0.03870647198496112, 0.8303379685817311, 0.024906773277279328, 0.08784686250499872, 0.0013463120690421259, 0.33435414012831965, 0.07124680105701381, 0.09967494126963627, 0.19570323834648098, 0.07171733579156757, 0.08700971466456447, 0.10089048933390013, 0.039368072790997174, 0.9261453091756063, 0.07349665183821534, 0.9988918509509976, 0.9976621553420997, 0.9995704013645298, 0.9954170286421754, 0.9997012674468169, 0.1851765513646351, 0.14181467177445184, 0.052602935896287895, 0.12688681158766743, 0.04194017862001332, 0.39914254737521154, 0.025590617463058976, 0.026656893190686433, 0.07118964746396593, 0.9284565786897069, 0.11132254141238583, 0.09500081541583302, 0.029295405634838376, 0.006696092716534486, 0.24398887835872532, 0.5139251159940218, 0.78824397910469, 0.16901486068817792, 0.04243822921209708, 0.09416017192149245, 0.015205990496638533, 0.7164360907070078, 0.17369919913467863, 0.013824338644508424, 0.25467503858438856, 0.10368253983381319, 0.2869318287549082, 0.17418666692080614, 0.08371405068063435, 0.030874356306068815, 0.05207167556098173, 0.9983025741619903, 0.997091191545304, 0.05530121108707971, 0.12421930329610366, 0.04196222549823636, 0.7781074926825285, 0.8418429759740962, 0.11382249192274874, 0.044346425424447555, 0.9979707475651283, 0.979323304340317, 0.01992519439146118, 0.039938910481771034, 0.9378247868682532, 0.014792189067322607, 0.005916875626929043, 0.9970946040690736, 0.9992912175017526, 0.028105180656090134, 0.9274709616509744, 0.006148008268519717, 0.03776633650662112, 0.9977251824768827, 0.9960715352175584, 0.022503151061335398, 0.06975976829013973, 0.022503151061335398, 0.8843738367104811, 0.9980300483587276, 0.996155772189463, 0.15792634127601604, 0.07057942659496026, 0.7514174312071183, 0.0011698247501927114, 0.018717196003083383, 0.19707262231523442, 0.06667133491261662, 0.07887262496198437, 0.005555944576051385, 0.09652091949767701, 0.47563243174588915, 0.07876368487225788, 0.0007625806280854842, 0.9995683940022967, 0.01833602124449749, 0.02784358781571841, 0.032936927050301046, 0.6278389496495529, 0.05840362322321422, 0.15857262817000606, 0.0006791118979443514, 0.07504186472285083, 0.9974832433575029, 0.38606221320210077, 0.34801449056283407, 0.15533244563737328, 0.09005791230211754, 0.02042010802199177, 0.08660511374110072, 0.1140365977314946, 0.7731759701863878, 0.025863970619514242, 0.20482302457403928, 0.5768701765390225, 0.04032784939799737, 0.043360018525666344, 0.1091580885960831, 0.00970294120854072, 0.01576727946387867, 0.0442340680342479, 0.0772085551143236, 0.19704266669801337, 0.0579064163357427, 0.17894691159309375, 0.00442340680342479, 0.4222342857814572, 0.01849788299614003, 0.9997484552818208, 0.09391757501826772, 0.01278756694651149, 0.5882280795395285, 0.06479033919565821, 0.009235465016924965, 0.040920214228836765, 0.1901084952714708, 0.998070160389822, 0.9993546913064706, 0.9949575001577312, 0.03582955794687411, 0.963665818946135, 0.9995288444895386, 0.9971810350252962, 0.12548046563810925, 0.7815749734715158, 0.09296266204286752, 0.016729386956003137, 0.9828514836651843, 0.9308064066270424, 0.068157409009849, 0.9973695248860004, 0.9589204929468547, 0.040975237322377324, 0.689129977442298, 0.18077603181839952, 0.12960509009718202, 0.806099650472159, 0.01925995668377536, 0.17099083494863979, 0.003288285287473842, 0.9994325060896277, 0.12526221810419064, 0.2116288330317744, 0.0009187937758253592, 0.040733190728257596, 0.6214108570498846, 0.5955370689726944, 0.09121913992036006, 0.00014929482802022924, 0.05658273981966688, 0.032844862164450435, 0.16915104014691973, 0.05434331739936344, 0.998071915670575, 0.026529379490674205, 0.8986827302465886, 0.0746138798175212, 0.14670487723896417, 0.18819716575099443, 0.04075135478860116, 0.6242366619890268, 0.7669058078998278, 0.008888798803732712, 0.0009876443115258567, 0.15357869044227074, 0.0696289239625729, 0.9977408063254923, 0.9984614135315748, 0.7815036862504015, 0.0574175092528168, 0.02100095669169175, 0.14008084942224178, 0.9959511042558773, 0.9977895567116707, 0.021600629200722074, 0.9201868039507604, 0.0572416673819135, 0.951043098991857, 0.04865801901818803, 0.037975863432177154, 0.09533251234008609, 0.8160882100321656, 0.04688054865075662, 0.003928537596432119, 0.9979635272080205, 0.13237837652620593, 0.023143072819266773, 0.8433335735340812, 0.11984430611667508, 0.6598613142172619, 0.17124459609036882, 0.04906799060315963, 0.00631705994975925, 0.9935832863835621, 0.07174560600950818, 0.1007475335181136, 0.20847982444667668, 0.14614845668603518, 0.16960813103200134, 0.13923962055178624, 0.017993342459527446, 0.14607253540983464, 0.19229339151872687, 0.08982563271636029, 0.717274311616566, 0.9981400103980389, 0.17366178457206846, 0.8019088287592574, 0.024322378791606227, 0.006747600899179899, 0.06241530831741407, 0.9294820238620312, 0.9099006482491773, 0.07483517080900544, 0.01425431824933437, 0.9979300318268951, 0.9999219686907626, 0.9238258890809317, 0.07615321518099571, 0.9996084780112734, 0.9991006060013242, 0.9992412802710169, 0.9980570995432666, 0.9972906915135942, 0.04980325024953038, 0.38539025193092974, 0.5645482528285692, 0.9974804193889354, 0.9989189082395019, 0.9983940647885605, 0.9984214576412237, 0.99435848316293, 0.9963825302196474, 0.9994345102862773, 0.9936263055275081, 0.997143599659555, 0.0016190909719554667, 0.10443136769112761, 0.06638272985017414, 0.0218577281213988, 0.804688213061867, 0.9961194744527647, 0.029969595105380813, 0.015746736411301785, 0.9542014306009807, 0.9962118374567984, 0.8178454097023792, 0.17880937463050173, 0.0030178797405991855, 0.9963911627061854, 0.9987997910820546, 0.9985191547389765, 0.9995645811167025, 0.9983235819171676, 0.11559779816068169, 0.8342755820743772, 0.016802005546610713, 0.033155957611978475, 0.06759214526767544, 0.9141629029720797, 0.018149742710764704, 0.7735044016691387, 0.22639153219584549, 0.01505753848613928, 0.9845957110103296, 0.21967858433969564, 0.5972923291429771, 0.1807124601251995, 0.0023530268245468685, 0.9939058111012187, 0.9983783188200449, 0.04568352953125463, 0.8880491402001561, 0.06598732043403446, 0.9974357166004678, 0.9972847555571144, 0.9998104201377617, 0.9971031837446442, 0.0870373732012758, 0.030361874372538074, 0.01956654126230231, 0.1214474974901523, 0.023614791178640723, 0.7172149435112882, 0.9467524143720161, 0.05277505012546711, 0.9981723523719165, 0.021875136906352025, 0.05029237083142615, 0.2494174488387801, 0.4150142796251833, 0.20852934247176697, 0.03945702264416767, 0.0008177621273402627, 0.014719718292124727, 0.0542462805693292, 0.7938084149147725, 0.15191664109565262, 0.2018055017826, 0.24047986958690723, 0.0830113377481859, 0.12228811003542626, 0.15180592969914986, 0.028313010697857313, 0.09204740499218293, 0.08036075802328012, 0.9984665577087961, 0.9984501114798846, 0.9966985632411495, 0.001645265451650505, 0.9023366965940991, 0.02088573087234113, 0.07517949077680779, 0.9802376177818684, 0.019323093701680664, 0.9971698837948307, 0.36904045584269946, 0.6307236881675228, 0.9965595079328328, 0.0034192317201891136, 0.006467793104563615, 0.9931655633896572, 0.9988844424633265, 0.11093908376747676, 0.8888533237200857, 0.9979254493443307, 0.03853905833668676, 0.002442616373451978, 0.11276745590769964, 0.5985767124053708, 0.013570090963622099, 0.23421977003211744, 0.042086788734982644, 0.9274124517672961, 0.03156509155123698, 0.9982199977808073, 0.9983965174542428, 0.9988634539860289, 0.9716620682072042, 0.02676187899723232, 0.12987532004590754, 0.07042989992539266, 0.5366241457618219, 0.04361484628407343, 0.051368596734575375, 0.14118287278622288, 0.02649198070588164, 0.02758906622317321, 0.7556338693346886, 0.2161143520815235, 0.02603067924905403, 0.04909583807732975, 0.040858281352945565, 0.5739929525550901, 0.14761701650096462, 0.08171656270589113, 0.005272036303605879, 0.07545601959535914, 0.010631308409968938, 0.5215247403334763, 0.15208677308705565, 0.16980562043700387, 0.03839083592488783, 0.08209732605476014, 0.02510170041242666, 0.09376837013643327, 0.05603231874006378, 0.7724455369165936, 0.07718737785621031, 0.9513121746911093, 0.04831159662359629, 0.9989586972157616, 0.9997421986512753, 0.9987828014283654, 0.2485679088289145, 0.03881540918649716, 0.6512777791388225, 0.003359025794985331, 0.04739958621812634, 0.010450302473287697, 0.9983982804158349, 0.9987110887427393, 0.9984774520549929, 0.9988286157898675, 0.9916382333730192, 0.9959154952116102, 0.9996640133894794, 0.9952281863406841, 0.9971613242865418, 0.9986449206794402], \"Term\": [\"\\uac00\\uc218\", \"\\uac00\\uc815\", \"\\uac00\\uc815\", \"\\uac00\\uc815\", \"\\uac00\\uc815\", \"\\uac00\\uc815\\ud3ed\\ub825\", \"\\uac00\\uc871\", \"\\uac00\\uc871\", \"\\uac00\\uc871\", \"\\uac00\\uc9dc\", \"\\uac00\\ud574\\uc790\", \"\\uac00\\ud574\\uc790\", \"\\uac10\\ub3c5\", \"\\uac10\\ub3c5\", \"\\uac10\\ub3c5\", \"\\uac10\\ud615\", \"\\uac11\", \"\\uac11\", \"\\uac11\", \"\\uac11\", \"\\uac11\", \"\\uac11\", \"\\uac15\\ub825\\ubc94\", \"\\uac15\\uc81c\", \"\\uac15\\uc81c\", \"\\uac15\\uc81c\", \"\\uac15\\uc81c\", \"\\uac15\\uc81c\", \"\\uac15\\uc81c\", \"\\uac15\\uc81c\", \"\\uac1c\\uc778\", \"\\uac1c\\uc778\", \"\\uac1c\\uc778\", \"\\uac1c\\uc778\", \"\\uac1c\\uc778\", \"\\uac1c\\uc778\", \"\\uac1c\\uc778\", \"\\uac70\\uc9d3\", \"\\uac70\\uc9d3\", \"\\uac70\\uc9d3\", \"\\uac70\\uc9d3\", \"\\uac70\\uc9d3\", \"\\uac74\\ucd95\", \"\\uac80\\uc0ac\", \"\\uac80\\uc0ac\", \"\\uac80\\uc0ac\", \"\\uac80\\uc0ac\", \"\\uac80\\uc0ac\", \"\\uac80\\ucc30\", \"\\uac80\\ucc30\", \"\\uac8c\\uc784\", \"\\uac8c\\uc784\", \"\\uacbd\\uae30\", \"\\uacbd\\uae30\", \"\\uacbd\\uc601\", \"\\uacbd\\ucc30\", \"\\uacbd\\ucc30\", \"\\uacbd\\ucc30\", \"\\uace0\\uad50\", \"\\uace0\\ub4f1\\ud559\\uad50\", \"\\uace0\\uc18c\\uc778\", \"\\uace0\\ud1b5\", \"\\uace0\\ud1b5\", \"\\uace0\\ud1b5\", \"\\uace0\\ud1b5\", \"\\uace0\\ud1b5\", \"\\uace0\\ud1b5\", \"\\uacf3\", \"\\uacf3\", \"\\uacf3\", \"\\uacf3\", \"\\uacf3\", \"\\uacf3\", \"\\uacf3\", \"\\uacf3\", \"\\uacf5\\uad50\\uc721\", \"\\uacf5\\ubb34\", \"\\uacf5\\ubb34\", \"\\uacf5\\ubb34\\uc6d0\", \"\\uacf5\\ubb34\\uc6d0\", \"\\uacf5\\ubb34\\uc6d0\", \"\\uacf5\\ubd80\", \"\\uacf5\\uc0ac\", \"\\uacf5\\uc0ac\", \"\\uacf5\\uc18c\\uc2dc\\ud6a8\", \"\\uacf5\\uc5f0\", \"\\uacf5\\uc5f0\", \"\\uacf5\\uc601\", \"\\uacf5\\ud734\\uc77c\", \"\\uacfc\\ubaa9\", \"\\uad00\\ub828\", \"\\uad00\\ub828\", \"\\uad00\\ub828\", \"\\uad00\\ub828\", \"\\uad00\\ub828\", \"\\uad00\\ub828\", \"\\uad00\\ub828\", \"\\uad00\\ub828\", \"\\uad00\\ub9ac\", \"\\uad00\\ub9ac\", \"\\uad00\\ub9ac\", \"\\uad00\\ub9ac\", \"\\uad00\\ub9ac\", \"\\uad00\\ub9ac\", \"\\uad00\\ub9ac\", \"\\uad11\\uace0\", \"\\uad11\\uace0\", \"\\uad11\\uace0\", \"\\uad50\\uacfc\", \"\\uad50\\uad8c\", \"\\uad50\\ub3c4\\uc18c\", \"\\uad50\\ubcf5\", \"\\uad50\\uc0ac\", \"\\uad50\\uc0ac\", \"\\uad50\\uc0ac\", \"\\uad50\\uc0ac\", \"\\uad50\\uc218\", \"\\uad50\\uc218\", \"\\uad50\\uc218\", \"\\uad50\\uc6d0\", \"\\uad50\\uc6d0\", \"\\uad50\\uc721\", \"\\uad50\\uc721\", \"\\uad50\\uc721\", \"\\uad50\\uc721\", \"\\uad50\\uc721\\uccad\", \"\\uad50\\uc721\\uccad\", \"\\uad6d\\uac00\", \"\\uad6d\\uac00\", \"\\uad6d\\uac00\", \"\\uad6d\\uac00\", \"\\uad6d\\uac00\", \"\\uad6d\\uac00\", \"\\uad6d\\uac00\", \"\\uad6d\\uac00\", \"\\uad6d\\uacf5\\ub9bd\", \"\\uad6d\\uae30\", \"\\uad6d\\ubbfc\", \"\\uad6d\\ubbfc\", \"\\uad6d\\ubbfc\", \"\\uad6d\\ubbfc\", \"\\uad6d\\ubbfc\", \"\\uad6d\\ubbfc\", \"\\uad6d\\ubbfc\", \"\\uad6d\\ubbfc\", \"\\uad6d\\ubc29\", \"\\uad6d\\ubc29\", \"\\uad6d\\uc704\", \"\\uad6d\\uc815\\uc6d0\", \"\\uad70\", \"\\uad70\", \"\\uad70\", \"\\uad70\", \"\\uad70\", \"\\uad70\\ub300\", \"\\uad70\\ub300\", \"\\uad70\\uc778\", \"\\uad70\\uc778\", \"\\uad8c\\ub9ac\", \"\\uad8c\\ub9ac\", \"\\uad8c\\ub9ac\", \"\\uad8c\\ub9ac\", \"\\uad8c\\ub9ac\", \"\\uad8c\\ub9ac\", \"\\uad8c\\ub9ac\", \"\\uadf8\\ub8f9\", \"\\uadf8\\ub8f9\", \"\\uadf8\\ub8f9\", \"\\uadf8\\ub8f9\", \"\\uadfc\\ub85c\", \"\\uadfc\\ubb34\", \"\\uadfc\\ubb34\", \"\\uae00\", \"\\uae00\", \"\\uae00\", \"\\uae00\", \"\\uae00\", \"\\uae00\", \"\\uae00\", \"\\uae08\\uba54\\ub2ec\", \"\\uae09\", \"\\uae09\", \"\\uae09\", \"\\uae09\", \"\\uae09\", \"\\uae09\\uc2dd\", \"\\uae09\\uc2dd\", \"\\uae09\\uc5ec\", \"\\uae09\\uc5ec\", \"\\uae30\\uac01\", \"\\uae30\\uac04\\uc81c\", \"\\uae30\\uad00\", \"\\uae30\\uad00\", \"\\uae30\\uad00\", \"\\uae30\\uad00\", \"\\uae30\\uad00\", \"\\uae30\\uc0ac\", \"\\uae30\\uc0ac\", \"\\uae30\\uc0ac\", \"\\uae30\\uc0ac\", \"\\uae30\\uc0ac\", \"\\uae30\\uc0ac\", \"\\uae30\\uc0ac\", \"\\uae30\\uc790\", \"\\uae30\\uc790\", \"\\uae30\\uc790\", \"\\uae30\\ud68d\\uc0ac\", \"\\uae40\\ubcf4\\ub984\", \"\\ub098\\uacbd\\uc6d0\", \"\\ub098\\ub77c\", \"\\ub098\\ub77c\", \"\\ub098\\ub77c\", \"\\ub098\\ub77c\", \"\\ub098\\ub77c\", \"\\ub098\\ub77c\", \"\\ub098\\uc601\", \"\\ub098\\uc774\", \"\\ub098\\uc774\", \"\\ub098\\uc774\", \"\\ub098\\uc774\", \"\\ub098\\uc774\", \"\\ub098\\uc774\", \"\\ub099\\ud0dc\", \"\\ub099\\ud0dc\\uc8c4\", \"\\ub09c\\ubbfc\", \"\\ub0a8\\ub140\", \"\\ub0a8\\ubd81\", \"\\ub0a8\\uc131\", \"\\ub0a8\\uc790\", \"\\ub0a8\\uc790\", \"\\ub0a8\\uc790\", \"\\ub0a8\\uc790\", \"\\ub0b4\\uc2e0\", \"\\ub0b4\\uc6a9\", \"\\ub0b4\\uc6a9\", \"\\ub0b4\\uc6a9\", \"\\ub0b4\\uc6a9\", \"\\ub0b4\\uc6a9\", \"\\ub0b4\\uc6a9\", \"\\ub0b4\\uc6a9\", \"\\ub0b4\\uc6a9\", \"\\ub124\\uc774\\ubc84\", \"\\ub124\\uc774\\ubc84\", \"\\ub178\\ub798\", \"\\ub178\\ub798\", \"\\ub178\\uc120\\uc601\", \"\\ub178\\uc870\", \"\\ub178\\uc870\", \"\\ub274\\uc2a4\", \"\\ub274\\uc2a4\", \"\\ub274\\uc2a4\", \"\\ub274\\uc2a4\", \"\\ub274\\uc2a4\", \"\\ub274\\uc2a4\", \"\\ub2e4\\uc790\\ub140\", \"\\ub2e8\\uc77c\\ud300\", \"\\ub2f4\\ubc30\", \"\\ub300\\uc785\", \"\\ub300\\ucd9c\", \"\\ub300\\ud1b5\\ub839\", \"\\ub300\\ud1b5\\ub839\", \"\\ub300\\ud1b5\\ub839\", \"\\ub300\\ud1b5\\ub839\", \"\\ub300\\ud1b5\\ub839\", \"\\ub300\\ud1b5\\ub839\", \"\\ub300\\ud1b5\\ub839\", \"\\ub300\\ud1b5\\ub839\", \"\\ub300\\ud45c\", \"\\ub300\\ud45c\", \"\\ub300\\ud45c\", \"\\ub300\\ud45c\", \"\\ub300\\ud45c\", \"\\ub300\\ud45c\", \"\\ub300\\ud559\", \"\\ub300\\ud559\", \"\\ub300\\ud559\\uad50\", \"\\ub300\\ud559\\uad50\", \"\\ub300\\ud559\\uad50\", \"\\ub300\\ud55c\\ubbfc\\uad6d\", \"\\ub300\\ud55c\\ubbfc\\uad6d\", \"\\ub300\\ud55c\\ubbfc\\uad6d\", \"\\ub300\\ud55c\\ubbfc\\uad6d\", \"\\ub300\\ud55c\\ubbfc\\uad6d\", \"\\ub300\\ud55c\\ubbfc\\uad6d\", \"\\ub300\\ud55c\\ubbfc\\uad6d\", \"\\ub300\\ud55c\\uccb4\\uc721\\ud68c\", \"\\ub300\\ud68c\", \"\\ub300\\ud68c\", \"\\ub300\\ud68c\", \"\\ub313\\uae00\", \"\\ub313\\uae00\", \"\\ub3c4\\ubc15\", \"\\ub3c4\\ubc15\", \"\\ub3c4\\uc11c\", \"\\ub3c4\\uc11c\\uad00\", \"\\ub3c4\\uc11c\\uad00\", \"\\ub3c4\\uc11c\\uad00\", \"\\ub3c4\\uc6b0\\ubbf8\", \"\\ub3c5\\ub3c4\", \"\\ub3c8\", \"\\ub3c8\", \"\\ub3c8\", \"\\ub3c8\", \"\\ub3c8\", \"\\ub3c8\", \"\\ub3c8\", \"\\ub3d9\\uc131\\uc560\", \"\\ub3d9\\uc131\\uc560\\uc790\", \"\\ub4f1\\ub85d\\uae08\", \"\\ub4f1\\uc6d0\", \"\\ub85c\\uc2a4\\ucfe8\", \"\\ub8cc\", \"\\ub9ac\\uadf8\", \"\\ub9ac\\uc6d0\", \"\\ub9c8\\ub4dc\", \"\\ub9c8\\ub8e8\", \"\\ub9cc\\ud654\", \"\\ub9de\\ubc8c\\uc774\", \"\\uba54\", \"\\uba54\\ub2ec\", \"\\uba74\\uc81c\", \"\\uba74\\uc81c\", \"\\uba74\\uc81c\", \"\\ubab0\\uce74\", \"\\ubb34\\uace0\", \"\\ubb34\\uace0\", \"\\ubb34\\uace0\\uc8c4\", \"\\ubb34\\uace0\\uc8c4\", \"\\ubb38\\uc7ac\", \"\\ubb38\\uc7ac\", \"\\ubb38\\uc7ac\", \"\\ubb38\\uc7ac\", \"\\ubb38\\uc7ac\", \"\\ubb38\\uc7ac\", \"\\ubb38\\uc7ac\\uc778\", \"\\ubb38\\uc7ac\\uc778\", \"\\ubb38\\uc7ac\\uc778\", \"\\ubb38\\uc7ac\\uc778\", \"\\ubb38\\uc7ac\\uc778\", \"\\ubb38\\uc7ac\\uc778\", \"\\ubb38\\uc7ac\\uc778\", \"\\ubb38\\uc81c\", \"\\ubb38\\uc81c\", \"\\ubb38\\uc81c\", \"\\ubb38\\uc81c\", \"\\ubb38\\uc81c\", \"\\ubb38\\uc81c\", \"\\ubb38\\uc81c\", \"\\ubb38\\uc81c\", \"\\ubb38\\ud654\", \"\\ubb38\\ud654\", \"\\ubb38\\ud654\", \"\\ubb38\\ud654\", \"\\ubb38\\ud654\", \"\\ubb38\\ud654\", \"\\ubb38\\ud654\\uc7ac\", \"\\ubbf8\\uc131\\ub144\\uc790\", \"\\ubbf8\\uc131\\ub144\\uc790\", \"\\ubbf8\\uc218\", \"\\ubbf8\\uc57d\", \"\\ubbf8\\ud22c\", \"\\ubbfc\\uc6d0\\uc778\", \"\\ubbfc\\uc871\", \"\\ubc15\\ubb3c\\uad00\", \"\\ubc15\\uc9c0\\uc6b0\", \"\\ubc15\\ud0c8\", \"\\ubc15\\ud0c8\", \"\\ubc15\\ud0c8\", \"\\ubc15\\ud0c8\", \"\\ubc15\\ud0c8\", \"\\ubc15\\ud0c8\", \"\\ubc18\\ub300\", \"\\ubc18\\ub300\", \"\\ubc18\\ub300\", \"\\ubc18\\ub300\", \"\\ubc18\\ub300\", \"\\ubc18\\ub300\", \"\\ubc18\\ub300\", \"\\ubc18\\ub9d0\", \"\\ubc29\\uc1a1\", \"\\ubc29\\uc1a1\", \"\\ubc29\\uc1a1\", \"\\ubc29\\uc1a1\\uc0ac\", \"\\ubc29\\uc1a1\\uc0ac\", \"\\ubc29\\uc1a1\\uc0ac\", \"\\ubc29\\uc1a1\\uc0ac\", \"\\ubc29\\ud0c4\", \"\\ubc29\\ud0c4\\uc18c\\ub144\\ub2e8\", \"\\ubc29\\ud559\", \"\\ubc29\\ud559\", \"\\ubc88\\ud638\", \"\\ubc88\\ud638\", \"\\ubc88\\ud638\", \"\\ubc88\\ud638\", \"\\ubc8c\", \"\\ubc8c\", \"\\ubc8c\", \"\\ubc8c\", \"\\ubc8c\", \"\\ubc94\\uc8c4\", \"\\ubc94\\uc8c4\", \"\\ubc94\\uc8c4\", \"\\ubc94\\uc8c4\\uc790\", \"\\ubc94\\uc8c4\\uc790\", \"\\ubc95\", \"\\ubc95\", \"\\ubc95\", \"\\ubc95\", \"\\ubc95\", \"\\ubc95\", \"\\ubc95\\uc6d0\", \"\\ubca0\\uc2a4\\ud2b8\", \"\\ubca0\\ud2b8\\ub0a8\", \"\\ubcc0\\ud638\\uc0ac\", \"\\ubcc0\\ud638\\uc0ac\", \"\\ubcd1\\uc124\", \"\\ubcd1\\uc5ed\", \"\\ubcd1\\uc5ed\", \"\\ubcf4\\uac74\", \"\\ubcf4\\uac74\", \"\\ubcf4\\uac74\", \"\\ubcf4\\ub3c4\", \"\\ubcf4\\ub3c4\", \"\\ubcf4\\ub3c4\", \"\\ubcf4\\ub3c4\", \"\\ubcf4\\ub3c4\", \"\\ubcf4\\uc721\", \"\\ubcf4\\uc721\", \"\\ubcf4\\uc870\\uae08\", \"\\ubcf4\\ud638\", \"\\ubcf4\\ud638\", \"\\ubcf4\\ud638\", \"\\ubcf4\\ud638\", \"\\ubcf4\\ud638\", \"\\ubcf4\\ud638\", \"\\ubcf4\\ud638\\ubc95\", \"\\ubcf4\\ud6c8\", \"\\ubcf5\\ubb34\", \"\\ubcf5\\ubb34\", \"\\ubcf5\\ubb34\", \"\\ubd80\\ubaa8\", \"\\ubd80\\ubaa8\", \"\\ubd80\\ubaa8\", \"\\ubd80\\ubd80\", \"\\ubd80\\uc0b0\", \"\\ubd80\\uc0b0\", \"\\ubd80\\uc0b0\", \"\\ubd80\\uc870\\uae08\", \"\\ubd80\\uc9c0\", \"\\ubd81\", \"\\ubd81\\ud55c\", \"\\ubd88\\ubc95\", \"\\ubd88\\ubc95\", \"\\ubd88\\ubc95\", \"\\ubd88\\ubc95\", \"\\ube44\\ub9ac\", \"\\ube44\\ub9ac\", \"\\ube44\\ub9ac\", \"\\ube44\\ub9ac\", \"\\ube44\\ub9ac\", \"\\ube44\\uc815\\uaddc\\uc9c1\", \"\\ube44\\uc815\\uaddc\\uc9c1\", \"\\ube44\\ud558\", \"\\ube44\\ud558\", \"\\ube59\\uc0c1\", \"\\uc0ac\\uac74\", \"\\uc0ac\\uac74\", \"\\uc0ac\\uac74\", \"\\uc0ac\\uac74\", \"\\uc0ac\\uad50\\uc721\", \"\\uc0ac\\ub78c\", \"\\uc0ac\\ub78c\", \"\\uc0ac\\ub78c\", \"\\uc0ac\\ub78c\", \"\\uc0ac\\ub78c\", \"\\uc0ac\\ub78c\", \"\\uc0ac\\ub78c\", \"\\uc0ac\\ub78c\", \"\\uc0ac\\ub9bd\", \"\\uc0ac\\ub9bd\", \"\\uc0ac\\ub9bd\", \"\\uc0ac\\uc2e4\", \"\\uc0ac\\uc2e4\", \"\\uc0ac\\uc2e4\", \"\\uc0ac\\uc2e4\", \"\\uc0ac\\uc2e4\", \"\\uc0ac\\uc2e4\", \"\\uc0ac\\uc2e4\", \"\\uc0ac\\uc2e4\", \"\\uc0ac\\uc5c5\", \"\\uc0ac\\uc5c5\", \"\\uc0ac\\uc5c5\", \"\\uc0ac\\uc5c5\", \"\\uc0ac\\uc774\\ud2b8\", \"\\uc0ac\\uc774\\ud2b8\", \"\\uc0ac\\ucc30\", \"\\uc0ac\\ud559\", \"\\uc0ac\\ud589\", \"\\uc0ac\\ud615\", \"\\uc0ac\\ud615\", \"\\uc0ac\\ud68c\", \"\\uc0ac\\ud68c\", \"\\uc0ac\\ud68c\", \"\\uc0ac\\ud68c\", \"\\uc0ac\\ud68c\", \"\\uc0ac\\ud68c\", \"\\uc0ac\\ud68c\", \"\\uc0b4\\uc778\", \"\\uc0b4\\uc778\", \"\\uc0c1\\ucc98\", \"\\uc0c1\\ucc98\", \"\\uc0c1\\ucc98\", \"\\uc0c1\\ucc98\", \"\\uc0c1\\ucc98\", \"\\uc0dd\\uac01\", \"\\uc0dd\\uac01\", \"\\uc0dd\\uac01\", \"\\uc0dd\\uac01\", \"\\uc0dd\\uac01\", \"\\uc0dd\\uac01\", \"\\uc0dd\\uac01\", \"\\uc11c\\ubc84\", \"\\uc120\\uc0dd\", \"\\uc120\\uc0dd\", \"\\uc120\\uc0dd\", \"\\uc120\\uc218\", \"\\uc120\\uc591\", \"\\uc131\", \"\\uc131\\uacfc\\uae09\", \"\\uc131\\uad00\", \"\\uc131\\ub9e4\\ub9e4\", \"\\uc131\\ubbfc\", \"\\uc131\\ubc94\\uc8c4\", \"\\uc131\\ubc94\\uc8c4\", \"\\uc131\\ubcc4\", \"\\uc131\\ud3ed\\ub825\", \"\\uc131\\ud3ed\\ub825\", \"\\uc138\\uacc4\", \"\\uc138\\uacc4\", \"\\uc138\\uacc4\", \"\\uc138\\uacc4\", \"\\uc138\\uc0c1\", \"\\uc138\\uc0c1\", \"\\uc138\\uc0c1\", \"\\uc138\\uc0c1\", \"\\uc138\\uc0c1\", \"\\uc138\\uc0c1\", \"\\uc138\\uc0c1\", \"\\uc167\\ub2e4\\uc6b4\", \"\\uc18c\\ub144\\ubc95\", \"\\uc18c\\ub4dd\", \"\\uc18c\\ub4dd\", \"\\uc18c\\ubc29\", \"\\uc18c\\uc218\\uc790\", \"\\uc18c\\ud504\\ud2b8\", \"\\uc190\\ud765\\ubbfc\", \"\\uc19c\\ubc29\\ub9dd\\uc774\", \"\\uc19c\\ubc29\\ub9dd\\uc774\", \"\\uc218\\ub2a5\", \"\\uc218\\ub2f9\", \"\\uc218\\uc0ac\", \"\\uc218\\uc0ac\", \"\\uc218\\uc0ac\", \"\\uc218\\uc0ac\", \"\\uc218\\uc0ac\\uad00\", \"\\uc218\\uc2dc\", \"\\uc218\\uc2e0\\ub8cc\", \"\\uc218\\uc5c5\", \"\\uc218\\uc5c5\", \"\\uc218\\ud559\", \"\\uc218\\ud589\\ud3c9\\uac00\", \"\\uc218\\ud5d8\", \"\\uc220\", \"\\uc2a4\\ud3ec\\uce20\", \"\\uc2a4\\ud3ec\\uce20\", \"\\uc2b9\\uc9c4\", \"\\uc2dc\", \"\\uc2dc\", \"\\uc2dc\", \"\\uc2dc\", \"\\uc2dc\", \"\\uc2dc\", \"\\uc2dc\", \"\\uc2dc\", \"\\uc2dc\\uac04\", \"\\uc2dc\\uac04\", \"\\uc2dc\\uac04\", \"\\uc2dc\\uac04\", \"\\uc2dc\\uac04\", \"\\uc2dc\\uac04\", \"\\uc2dc\\uac04\", \"\\uc2dc\\ubb3c\", \"\\uc2dc\\uc124\", \"\\uc2dc\\uc124\", \"\\uc2dc\\uccad\", \"\\uc2dc\\uccad\", \"\\uc2dc\\uccad\", \"\\uc2dc\\uccad\", \"\\uc2dc\\uccad\", \"\\uc2dc\\uccad\\ub8cc\", \"\\uc2dc\\ud5d8\", \"\\uc2dc\\ud5d8\", \"\\uc2dc\\ud6a8\", \"\\uc2e0\\ud0dc\\uc6a9\", \"\\uc2e4\", \"\\uc2e4\", \"\\uc2e4\", \"\\uc2e4\", \"\\uc2e4\\uba85\", \"\\uc2e4\\uba85\", \"\\uc2e4\\uba85\", \"\\uc2ec\\uc2e0\", \"\\uc528\", \"\\uc528\", \"\\uc528\", \"\\uc528\", \"\\uc544\\uae30\", \"\\uc544\\uae30\", \"\\uc544\\ub3d9\", \"\\uc544\\ub3d9\", \"\\uc544\\ubc84\\uc9c0\", \"\\uc544\\ubc84\\uc9c0\", \"\\uc544\\ubc84\\uc9c0\", \"\\uc544\\ubc84\\uc9c0\", \"\\uc544\\uc2dc\\uc548\", \"\\uc544\\uc774\", \"\\uc544\\uc774\", \"\\uc544\\uc774\", \"\\uc544\\uc774\\uc2a4\\ud558\\ud0a4\", \"\\uc544\\uc774\\ud15c\", \"\\uc548\\ud76c\\uc815\", \"\\uc560\", \"\\uc560\", \"\\uc560\", \"\\uc560\", \"\\uc560\", \"\\uc560\\ub2c8\\uba54\\uc774\\uc158\", \"\\uc57c\\uad6c\", \"\\uc57d\\ub300\", \"\\uc591\\uc721\", \"\\uc591\\uc721\\ube44\", \"\\uc5b4\\ub9b0\\uc774\", \"\\uc5b4\\ub9b0\\uc774\", \"\\uc5b4\\ub9b0\\uc774\", \"\\uc5b4\\ub9b0\\uc774\", \"\\uc5b4\\ub9b0\\uc774\\uc9d1\", \"\\uc5b8\\ub860\", \"\\uc5b8\\ub860\", \"\\uc5b8\\ub860\", \"\\uc5b8\\ub860\", \"\\uc5b8\\ub860\\uc0ac\", \"\\uc5bc\\uad74\", \"\\uc5bc\\uad74\", \"\\uc5bc\\uad74\", \"\\uc5bc\\uad74\", \"\\uc5bc\\uad74\", \"\\uc5c4\\ub9c8\", \"\\uc5c4\\ub9c8\", \"\\uc5c5\\ubb34\", \"\\uc5c5\\ubb34\", \"\\uc5c5\\ubb34\", \"\\uc5ec\\uacbd\", \"\\uc5ec\\uc131\", \"\\uc5ec\\uc131\\ubd80\", \"\\uc5ec\\uc790\", \"\\uc5ec\\uc790\", \"\\uc5ec\\uc790\", \"\\uc5ec\\uc790\", \"\\uc5ec\\uc790\", \"\\uc5ec\\uc911\\uc0dd\", \"\\uc5ed\\uc0ac\", \"\\uc5f0\\ub9f9\", \"\\uc5f0\\uc218\", \"\\uc5f0\\ucc28\", \"\\uc601\\uc591\", \"\\uc601\\uc591\\uc0ac\", \"\\uc601\\uc5b4\", \"\\uc601\\uc5b4\", \"\\uc601\\uc7a5\", \"\\uc62c\\ub9bc\\ud53d\", \"\\uc62c\\ub9bc\\ud53d\", \"\\uc678\\uad6d\\uc778\", \"\\uc678\\uad6d\\uc778\", \"\\uc6b0\\ub9ac\", \"\\uc6b0\\ub9ac\", \"\\uc6b0\\ub9ac\", \"\\uc6b0\\ub9ac\", \"\\uc6b0\\ub9ac\", \"\\uc6b0\\ub9ac\", \"\\uc6b4\\ub3d9\", \"\\uc6b4\\ub3d9\", \"\\uc6b4\\ub3d9\", \"\\uc6b4\\ub3d9\", \"\\uc6b4\\ub3d9\", \"\\uc6b4\\uc601\", \"\\uc6b4\\uc601\", \"\\uc6b4\\uc601\", \"\\uc6b4\\uc601\", \"\\uc6b4\\uc601\", \"\\uc6b4\\uc601\", \"\\uc6cc\", \"\\uc6cc\\ud0b9\", \"\\uc6d0\\uace0\", \"\\uc6d0\\uc7a5\", \"\\uc6d0\\uc7a5\", \"\\uc6d0\\uc7a5\", \"\\uc6d4\\uae09\", \"\\uc6d4\\uae09\", \"\\uc6d4\\uae09\", \"\\uc6d4\\uae09\", \"\\uc6d4\\ub4dc\\ucef5\", \"\\uc6f9\\ud230\", \"\\uc6f9\\ud230\", \"\\uc720\\uc544\", \"\\uc720\\uc740\\ud61c\", \"\\uc720\\uc800\", \"\\uc720\\uce58\\uc6d0\", \"\\uc720\\ud1b5\", \"\\uc721\\uc544\", \"\\uc74c\\uc6d0\", \"\\uc74c\\uc6d0\", \"\\uc74c\\uc8fc\", \"\\uc758\\ubb34\", \"\\uc758\\ubb34\", \"\\uc758\\ubb34\", \"\\uc758\\ubb34\", \"\\uc758\\ubb34\", \"\\uc758\\ubb34\", \"\\uc774\\ubc88\", \"\\uc774\\ubc88\", \"\\uc774\\ubc88\", \"\\uc774\\ubc88\", \"\\uc774\\ubc88\", \"\\uc774\\ubc88\", \"\\uc774\\ubc88\", \"\\uc774\\ubc88\", \"\\uc774\\uc0ac\\uc7a5\", \"\\uc774\\uc0c1\", \"\\uc774\\uc0c1\", \"\\uc774\\uc0c1\", \"\\uc774\\uc0c1\", \"\\uc774\\uc0c1\", \"\\uc774\\uc0c1\", \"\\uc774\\uc0c1\", \"\\uc774\\uc0c1\", \"\\uc774\\uc720\", \"\\uc774\\uc720\", \"\\uc774\\uc720\", \"\\uc774\\uc720\", \"\\uc774\\uc720\", \"\\uc774\\uc720\", \"\\uc774\\uc720\", \"\\uc774\\uc720\", \"\\uc778\\uad8c\", \"\\uc778\\uad8c\", \"\\uc778\\uad8c\", \"\\uc778\\uad8c\", \"\\uc778\\uad8c\", \"\\uc778\\uad8c\", \"\\uc778\\ud130\\ub137\", \"\\uc778\\ud130\\ub137\", \"\\uc778\\ud130\\ub137\", \"\\uc778\\ud130\\ub137\", \"\\uc778\\ud130\\ub137\", \"\\uc778\\ud130\\ub137\", \"\\uc77c\", \"\\uc77c\", \"\\uc77c\", \"\\uc77c\", \"\\uc77c\", \"\\uc77c\", \"\\uc77c\", \"\\uc77c\", \"\\uc77c\\ubcf8\", \"\\uc77c\\ubcf8\", \"\\uc77c\\uc81c\", \"\\uc784\\uc0b0\\ubd80\", \"\\uc784\\uc6a9\", \"\\uc785\\uad6d\", \"\\uc785\\uc2dc\", \"\\uc785\\uc7a5\", \"\\uc785\\uc7a5\", \"\\uc785\\uc7a5\", \"\\uc785\\uc7a5\", \"\\uc785\\uc7a5\", \"\\uc785\\uc7a5\", \"\\uc785\\uc7a5\", \"\\uc785\\uc7a5\", \"\\uc785\\ud559\", \"\\uc785\\ud559\", \"\\uc790\\uaca9\", \"\\uc790\\uaca9\", \"\\uc790\\uaca9\", \"\\uc790\\uaca9\", \"\\uc790\\uaca9\", \"\\uc790\\uaca9\", \"\\uc790\\ub140\", \"\\uc790\\ub140\", \"\\uc790\\ub140\", \"\\uc790\\uc0b4\", \"\\uc790\\uc0b4\", \"\\uc790\\uc0b4\", \"\\uc790\\uc0b4\", \"\\uc790\\uc2e0\", \"\\uc790\\uc2e0\", \"\\uc790\\uc2e0\", \"\\uc790\\uc2e0\", \"\\uc790\\uc2e0\", \"\\uc790\\uc2e0\", \"\\uc790\\uc2e0\", \"\\uc790\\uc2e0\", \"\\uc790\\uce58\", \"\\uc794\\uc778\", \"\\uc7a5\\uc560\", \"\\uc7a5\\uc560\", \"\\uc7a5\\uc560\", \"\\uc7a5\\uc560\", \"\\uc7ac\\ud310\", \"\\uc7ac\\ud310\", \"\\uc7ac\\ud310\", \"\\uc800\\uc791\", \"\\uc800\\ucd9c\\uc0b0\", \"\\uc800\\ucd9c\\uc0b0\", \"\\uc804\\uc6a9\", \"\\uc804\\uc6a9\", \"\\uc804\\uc6a9\", \"\\uc804\\uc6a9\", \"\\uc804\\ud1b5\", \"\\uc804\\ud615\", \"\\uc810\\uc218\", \"\\uc810\\uc218\", \"\\uc810\\uc218\", \"\\uc810\\uc218\", \"\\uc815\\uac00\", \"\\uc815\\uad50\\uc0ac\", \"\\uc815\\uad8c\", \"\\uc815\\uad8c\", \"\\uc815\\uad8c\", \"\\uc815\\uad8c\", \"\\uc815\\uaddc\\uc9c1\", \"\\uc815\\ub144\", \"\\uc815\\ubcf4\", \"\\uc815\\ubcf4\", \"\\uc815\\ubcf4\", \"\\uc815\\ubcf4\", \"\\uc815\\ubcf4\", \"\\uc815\\ubd80\", \"\\uc815\\ubd80\", \"\\uc815\\ubd80\", \"\\uc815\\ubd80\", \"\\uc815\\ubd80\", \"\\uc815\\ubd80\", \"\\uc815\\ubd80\", \"\\uc815\\ubd80\", \"\\uc815\\uc2dc\", \"\\uc815\\uc2e0\", \"\\uc815\\uc2e0\", \"\\uc815\\uc2e0\", \"\\uc815\\uc2e0\", \"\\uc815\\uc2e0\", \"\\uc815\\uc2e0\", \"\\uc815\\uc2e0\", \"\\uc815\\uc2e0\", \"\\uc815\\uc815\", \"\\uc815\\ucc45\", \"\\uc815\\ucc45\", \"\\uc815\\ucc45\", \"\\uc815\\ucc45\", \"\\uc815\\ucc45\", \"\\uc815\\uce58\", \"\\uc815\\uce58\", \"\\uc815\\uce58\", \"\\uc815\\uce58\", \"\\uc81c\\ub3c4\", \"\\uc81c\\ub3c4\", \"\\uc81c\\ub3c4\", \"\\uc81c\\ub3c4\", \"\\uc81c\\ub3c4\", \"\\uc81c\\ub3c4\", \"\\uc81c\\ub3c4\", \"\\uc870\", \"\\uc870\", \"\\uc870\", \"\\uc870\", \"\\uc870\", \"\\uc870\", \"\\uc870\", \"\\uc870\", \"\\uc870\\ub450\\uc21c\", \"\\uc870\\uc0ac\", \"\\uc870\\uc0ac\", \"\\uc870\\uc0ac\", \"\\uc870\\uc0ac\", \"\\uc870\\uc0ac\", \"\\uc870\\uc0ac\", \"\\uc870\\uc0ac\", \"\\uc870\\uc120\\uc77c\\ubcf4\", \"\\uc870\\uc791\", \"\\uc870\\uc7ac\\ud604\", \"\\uc878\\uc5c5\", \"\\uc878\\uc5c5\", \"\\uc885\\ubaa9\", \"\\uc885\\ud3b8\", \"\\uc8c4\", \"\\uc8c4\", \"\\uc8c4\", \"\\uc911\\uacc4\", \"\\uc911\\uacc4\", \"\\uc911\\uad6d\", \"\\uc911\\uad6d\", \"\\uc911\\ub3c5\", \"\\uc911\\ud559\\uad50\", \"\\uc911\\ud559\\uad50\", \"\\uc99d\\uac70\", \"\\uc99d\\uac70\", \"\\uc99d\\uac70\", \"\\uc9c0\\uae09\", \"\\uc9c0\\uae09\", \"\\uc9c0\\uae09\", \"\\uc9c0\\uae09\", \"\\uc9c0\\uc0c1\\ud30c\", \"\\uc9c0\\uc5ed\", \"\\uc9c0\\uc5ed\", \"\\uc9c0\\uc5ed\", \"\\uc9c0\\uc5ed\", \"\\uc9c0\\uc5ed\", \"\\uc9c0\\uc6d0\", \"\\uc9c0\\uc6d0\", \"\\uc9c0\\uc6d0\", \"\\uc9c0\\uc6d0\", \"\\uc9c0\\uc6d0\", \"\\uc9c0\\uc6d0\", \"\\uc9c0\\uc6d0\", \"\\uc9c0\\uc9c4\", \"\\uc9c1\", \"\\uc9c1\", \"\\uc9c1\", \"\\uc9c1\\uc6d0\", \"\\uc9c1\\uc6d0\", \"\\uc9c1\\uc6d0\", \"\\uc9c1\\uc6d0\", \"\\uc9c1\\uc7a5\", \"\\uc9c1\\uc7a5\", \"\\uc9c1\\uc7a5\", \"\\uc9c1\\uc7a5\", \"\\uc9c1\\uc7a5\", \"\\uc9c4\\ub85c\", \"\\uc9c4\\ud559\", \"\\uc9d1\", \"\\uc9d1\", \"\\uc9d1\", \"\\uc9d1\", \"\\uc9d5\\ubcd1\\uc81c\", \"\\uc9d5\\uc218\", \"\\uc9d5\\uc5ed\", \"\\uc9d5\\uc5ed\", \"\\uc9d5\\uc5ed\", \"\\ucc28\\ub7c9\", \"\\ucc28\\ub7c9\", \"\\ucc28\\ubcc4\", \"\\ucc28\\ubcc4\", \"\\ucc28\\ubcc4\", \"\\ucc28\\ubcc4\", \"\\ucc28\\ubcc4\", \"\\ucc44\\ubb34\\uc790\", \"\\ucc44\\uc6a9\", \"\\ucc44\\uc6a9\", \"\\ucc44\\uc6a9\", \"\\ucc98\\ubc8c\", \"\\ucc98\\ubc8c\", \"\\ucc98\\ubc8c\", \"\\ucc98\\ubc8c\", \"\\uccad\\uc18c\\ub144\", \"\\uccad\\uc18c\\ub144\", \"\\uccad\\uc6d0\", \"\\uccad\\uc6d0\", \"\\uccad\\uc6d0\", \"\\uccad\\uc6d0\", \"\\uccad\\uc6d0\", \"\\uccad\\uc6d0\", \"\\uccad\\uc6d0\", \"\\uccad\\uc6d0\", \"\\uccb4\\uc721\", \"\\uccb4\\uc721\", \"\\uccb4\\uc721\", \"\\uccb4\\uc721\\ud68c\", \"\\ucd08\\ub4f1\", \"\\ucd08\\ub4f1\", \"\\ucd08\\ub4f1\", \"\\ucd1b\\ubd88\", \"\\ucd1b\\ubd88\", \"\\ucd1b\\ubd88\", \"\\ucd2c\\uc601\", \"\\ucd2c\\uc601\", \"\\ucd2c\\uc601\", \"\\ucd94\\uc6d4\", \"\\ucd95\\uad6c\", \"\\ucd95\\uc81c\", \"\\ucd95\\uc81c\", \"\\ucd9c\\uc0b0\", \"\\ucd9c\\uc18c\", \"\\ucd9c\\uc804\", \"\\ucd9c\\uc81c\", \"\\ucde8\\uc7ac\", \"\\uce5c\\uad6c\", \"\\uce5c\\uad6c\", \"\\uce5c\\uad6c\", \"\\uceec\\ub9c1\", \"\\ucf54\\uce58\", \"\\ud06c\\ub9bc\", \"\\ud0dc\\uadf9\\uae30\", \"\\ud0dc\\ud48d\", \"\\ud1a0\\uc9c0\", \"\\ud1f4\\uadfc\", \"\\ud2b8\\ub77c\\uc6b0\\ub9c8\", \"\\ud2b9\\ub840\\ubc95\", \"\\ud2b9\\uc218\", \"\\ud2b9\\uc218\", \"\\ud2b9\\uc218\", \"\\ud2b9\\uc218\", \"\\ud2b9\\uc218\", \"\\ud2f0\\ucf13\", \"\\ud300\", \"\\ud300\", \"\\ud300\", \"\\ud30c\\uc77c\", \"\\ud310\\uc0ac\", \"\\ud310\\uc0ac\", \"\\ud310\\uc0ac\", \"\\ud31d\", \"\\ud398\\ubbf8\", \"\\ud398\\ubbf8\\ub2c8\\uc2a4\\ud2b8\", \"\\ud398\\ubbf8\\ub2c8\\uc998\", \"\\ud3b8\\uc9d1\", \"\\ud3c9\\uac00\", \"\\ud3c9\\uac00\", \"\\ud3c9\\uac00\", \"\\ud3c9\\uac00\", \"\\ud3c9\\ub4f1\", \"\\ud3c9\\ub4f1\", \"\\ud3c9\\ub4f1\", \"\\ud3c9\\ucc3d\", \"\\ud3c9\\ucc3d\", \"\\ud3c9\\ud654\", \"\\ud3c9\\ud654\", \"\\ud3d0\\uc9c0\", \"\\ud3d0\\uc9c0\", \"\\ud3d0\\uc9c0\", \"\\ud3d0\\uc9c0\", \"\\ud3ec\\uc8fc\", \"\\ud3ec\\ud138\", \"\\ud3ed\\ub825\", \"\\ud3ed\\ub825\", \"\\ud3ed\\ub825\", \"\\ud3ed\\uc5b8\", \"\\ud3ed\\uc704\", \"\\ud3ed\\ud589\", \"\\ud45c\\uae30\", \"\\ud504\\ub85c\", \"\\ud504\\ub85c\", \"\\ud504\\ub85c\", \"\\ud504\\ub85c\", \"\\ud504\\ub85c\", \"\\ud504\\ub85c\", \"\\ud50c\", \"\\ud50c\", \"\\ud53c\\uace0\\uc778\", \"\\ud53c\\ud574\", \"\\ud53c\\ud574\", \"\\ud53c\\ud574\", \"\\ud53c\\ud574\", \"\\ud53c\\ud574\", \"\\ud53c\\ud574\", \"\\ud53c\\ud574\", \"\\ud53c\\ud574\", \"\\ud53c\\ud574\\uc790\", \"\\ud53c\\ud574\\uc790\", \"\\ud53c\\ud574\\uc790\", \"\\ud544\\uc694\", \"\\ud544\\uc694\", \"\\ud544\\uc694\", \"\\ud544\\uc694\", \"\\ud544\\uc694\", \"\\ud544\\uc694\", \"\\ud544\\uc694\", \"\\ud544\\uc694\", \"\\ud558\\uc6b0\\uc2a4\", \"\\ud558\\uc6d0\", \"\\ud558\\ud0a4\", \"\\ud559\\uad50\", \"\\ud559\\uad50\", \"\\ud559\\uad50\", \"\\ud559\\uad50\", \"\\ud559\\ub144\", \"\\ud559\\ub144\", \"\\ud559\\ub825\", \"\\ud559\\ubd80\\ubaa8\", \"\\ud559\\ubd80\\ubaa8\", \"\\ud559\\uc0dd\", \"\\ud559\\uc0dd\", \"\\ud559\\uc2b5\", \"\\ud559\\uc2b5\", \"\\ud559\\uc5c5\", \"\\ud559\\uc6d0\", \"\\ud559\\uc6d0\", \"\\ud55c\\uac8c\\uc784\", \"\\ud55c\\uad6d\", \"\\ud55c\\uad6d\", \"\\ud55c\\uad6d\", \"\\ud55c\\uad6d\", \"\\ud55c\\uad6d\", \"\\ud55c\\uad6d\", \"\\ud55c\\uad6d\\uc778\", \"\\ud55c\\uad6d\\uc778\", \"\\ud55c\\uad6d\\uc778\", \"\\ud55c\\uae00\", \"\\ud55c\\ubc18\\ub3c4\", \"\\ud55c\\ubc18\\ub3c4\\uae30\", \"\\ud569\\ubc95\\ud654\", \"\\ud569\\ubc95\\ud654\", \"\\ud574\\ub2f9\", \"\\ud574\\ub2f9\", \"\\ud574\\ub2f9\", \"\\ud574\\ub2f9\", \"\\ud574\\ub2f9\", \"\\ud574\\ub2f9\", \"\\ud574\\ub2f9\", \"\\ud574\\uccb4\", \"\\ud574\\uccb4\", \"\\ud574\\uccb4\", \"\\ud589\\ub3d9\", \"\\ud589\\ub3d9\", \"\\ud589\\ub3d9\", \"\\ud589\\ub3d9\", \"\\ud589\\ub3d9\", \"\\ud589\\ub3d9\", \"\\ud589\\ub3d9\", \"\\ud589\\ub3d9\", \"\\ud589\\uc704\", \"\\ud589\\uc704\", \"\\ud589\\uc704\", \"\\ud589\\uc704\", \"\\ud589\\uc704\", \"\\ud589\\uc704\", \"\\ud589\\uc704\", \"\\ud589\\uc815\", \"\\ud589\\uc815\", \"\\ud589\\uc815\", \"\\ud589\\uc815\", \"\\ud5c8\\uc704\", \"\\ud5c8\\uc704\", \"\\ud610\\uc624\", \"\\ud611\\ud68c\", \"\\ud638\\ubd09\", \"\\ud655\\uc778\", \"\\ud655\\uc778\", \"\\ud655\\uc778\", \"\\ud655\\uc778\", \"\\ud655\\uc778\", \"\\ud655\\uc778\", \"\\ud68c\\ub2f4\", \"\\ud68c\\uc0dd\", \"\\ud734\\uac00\", \"\\ud734\\uac8c\", \"\\ud734\\ubb34\", \"\\ud734\\uc77c\", \"\\ud734\\uc9c1\", \"\\ud749\\uc545\\ubc94\", \"\\ud761\\uc5f0\", \"\\ud788\\ub529\\ud06c\"]}, \"R\": 30, \"lambda.step\": 0.01, \"plot.opts\": {\"xlab\": \"PC1\", \"ylab\": \"PC2\"}, \"topic.order\": [8, 1, 6, 7, 2, 3, 5, 4]};\n",
              "\n",
              "function LDAvis_load_lib(url, callback){\n",
              "  var s = document.createElement('script');\n",
              "  s.src = url;\n",
              "  s.async = true;\n",
              "  s.onreadystatechange = s.onload = callback;\n",
              "  s.onerror = function(){console.warn(\"failed to load library \" + url);};\n",
              "  document.getElementsByTagName(\"head\")[0].appendChild(s);\n",
              "}\n",
              "\n",
              "if(typeof(LDAvis) !== \"undefined\"){\n",
              "   // already loaded: just create the visualization\n",
              "   !function(LDAvis){\n",
              "       new LDAvis(\"#\" + \"ldavis_el1161404965135462721722261643\", ldavis_el1161404965135462721722261643_data);\n",
              "   }(LDAvis);\n",
              "}else if(typeof define === \"function\" && define.amd){\n",
              "   // require.js is available: use it to load d3/LDAvis\n",
              "   require.config({paths: {d3: \"https://d3js.org/d3.v5\"}});\n",
              "   require([\"d3\"], function(d3){\n",
              "      window.d3 = d3;\n",
              "      LDAvis_load_lib(\"https://cdn.jsdelivr.net/gh/bmabey/pyLDAvis@3.4.0/pyLDAvis/js/ldavis.v3.0.0.js\", function(){\n",
              "        new LDAvis(\"#\" + \"ldavis_el1161404965135462721722261643\", ldavis_el1161404965135462721722261643_data);\n",
              "      });\n",
              "    });\n",
              "}else{\n",
              "    // require.js not available: dynamically load d3 & LDAvis\n",
              "    LDAvis_load_lib(\"https://d3js.org/d3.v5.js\", function(){\n",
              "         LDAvis_load_lib(\"https://cdn.jsdelivr.net/gh/bmabey/pyLDAvis@3.4.0/pyLDAvis/js/ldavis.v3.0.0.js\", function(){\n",
              "                 new LDAvis(\"#\" + \"ldavis_el1161404965135462721722261643\", ldavis_el1161404965135462721722261643_data);\n",
              "            })\n",
              "         });\n",
              "}\n",
              "</script>"
            ]
          },
          "metadata": {},
          "execution_count": 25
        }
      ]
    },
    {
      "cell_type": "code",
      "source": [
        "pyLDAvis.save_html(vis, 'lda_model_topic_8.html')"
      ],
      "metadata": {
        "id": "7rbATphRQPru"
      },
      "execution_count": null,
      "outputs": []
    },
    {
      "cell_type": "code",
      "source": [
        "for i, topic_list in enumerate(ldamodel[corpus]):\n",
        "    if i==5:\n",
        "        break\n",
        "    print(i,'번째 문서의 topic 비율은',topic_list)"
      ],
      "metadata": {
        "colab": {
          "base_uri": "https://localhost:8080/"
        },
        "id": "nbqZnw2v_XBe",
        "outputId": "943f4bd4-8aa4-4e4f-9ab3-b83de75ba495"
      },
      "execution_count": null,
      "outputs": [
        {
          "output_type": "stream",
          "name": "stdout",
          "text": [
            "0 번째 문서의 topic 비율은 [(2, 0.17449932), (7, 0.813765)]\n",
            "1 번째 문서의 topic 비율은 [(0, 0.5770639), (1, 0.18939732), (2, 0.0950442), (6, 0.12922496)]\n",
            "2 번째 문서의 topic 비율은 [(3, 0.9933644)]\n",
            "3 번째 문서의 topic 비율은 [(1, 0.031288825), (3, 0.12674783), (4, 0.054692235), (5, 0.3347046), (6, 0.24658151), (7, 0.20181179)]\n",
            "4 번째 문서의 topic 비율은 [(0, 0.08908532), (1, 0.3238143), (2, 0.07610373), (3, 0.08884474), (6, 0.023304837), (7, 0.39624038)]\n"
          ]
        }
      ]
    },
    {
      "cell_type": "code",
      "source": [
        "def make_topictable_per_doc(ldamodel, corpus):\n",
        "    topic_table = pd.DataFrame()\n",
        "\n",
        "    # 몇 번째 문서인지를 의미하는 문서 번호와 해당 문서의 토픽 비중을 한 줄씩 꺼내온다.\n",
        "    for i, topic_list in enumerate(ldamodel[corpus]):\n",
        "        doc = topic_list[0] if ldamodel.per_word_topics else topic_list\n",
        "        doc = sorted(doc, key=lambda x: (x[1]), reverse=True)\n",
        "        # 각 문서에 대해서 비중이 높은 토픽순으로 토픽을 정렬한다.\n",
        "        # EX) 정렬 전 0번 문서 : (2번 토픽, 48.5%), (8번 토픽, 25%), (10번 토픽, 5%), (12번 토픽, 21.5%),\n",
        "        # Ex) 정렬 후 0번 문서 : (2번 토픽, 48.5%), (8번 토픽, 25%), (12번 토픽, 21.5%), (10번 토픽, 5%)\n",
        "        # 48 > 25 > 21 > 5 순으로 정렬이 된 것.\n",
        "\n",
        "        # 모든 문서에 대해서 각각 아래를 수행\n",
        "        for j, (topic_num, prop_topic) in enumerate(doc): #  몇 번 토픽인지와 비중을 나눠서 저장한다.\n",
        "            if j == 0:  # 정렬을 한 상태이므로 가장 앞에 있는 것이 가장 비중이 높은 토픽\n",
        "                topic_table = topic_table.append(pd.Series([int(topic_num), round(prop_topic,4), topic_list]), ignore_index=True)\n",
        "                # 가장 비중이 높은 토픽과, 가장 비중이 높은 토픽의 비중과, 전체 토픽의 비중을 저장한다.\n",
        "            else:\n",
        "                break\n",
        "    return(topic_table)"
      ],
      "metadata": {
        "id": "8EbCRASx_Z65"
      },
      "execution_count": null,
      "outputs": []
    },
    {
      "cell_type": "code",
      "source": [
        "topictable = make_topictable_per_doc(ldamodel, corpus)\n",
        "topictable = topictable.reset_index() # 문서 번호을 의미하는 열(column)로 사용하기 위해서 인덱스 열을 하나 더 만든다.\n",
        "topictable.columns = ['문서 번호', '가장 비중이 높은 토픽', '가장 높은 토픽의 비중', '각 토픽의 비중']\n",
        "topictable[:10]"
      ],
      "metadata": {
        "colab": {
          "base_uri": "https://localhost:8080/",
          "height": 363
        },
        "id": "xlVayUTY_dGm",
        "outputId": "b9661369-9fea-4aed-891d-90f25ac416b2"
      },
      "execution_count": null,
      "outputs": [
        {
          "output_type": "execute_result",
          "data": {
            "text/plain": [
              "   문서 번호  가장 비중이 높은 토픽  가장 높은 토픽의 비중  \\\n",
              "0      0           7.0        0.8138   \n",
              "1      1           0.0        0.5771   \n",
              "2      2           3.0        0.9934   \n",
              "3      3           5.0        0.3347   \n",
              "4      4           7.0        0.3962   \n",
              "5      5           1.0        0.5962   \n",
              "6      6           5.0        0.4384   \n",
              "7      7           0.0        0.7879   \n",
              "8      8           1.0        0.6394   \n",
              "9      9           5.0        0.4017   \n",
              "\n",
              "                                            각 토픽의 비중  \n",
              "0                  [(2, 0.1744891), (7, 0.81377506)]  \n",
              "1  [(0, 0.5770637), (1, 0.18939753), (2, 0.095043...  \n",
              "2                                   [(3, 0.9933644)]  \n",
              "3  [(1, 0.03128823), (3, 0.12674776), (4, 0.05469...  \n",
              "4  [(0, 0.08907673), (1, 0.3238031), (2, 0.076134...  \n",
              "5  [(0, 0.0125126), (1, 0.59615463), (2, 0.328761...  \n",
              "6  [(0, 0.13332243), (1, 0.24262826), (2, 0.05657...  \n",
              "7  [(0, 0.7878884), (4, 0.0866839), (7, 0.11464101)]  \n",
              "8  [(0, 0.05603953), (1, 0.63938946), (4, 0.17694...  \n",
              "9  [(1, 0.14674708), (3, 0.012644992), (4, 0.1164...  "
            ],
            "text/html": [
              "\n",
              "  <div id=\"df-d7dd969f-b65f-4940-95b7-c31a46ca4f1d\">\n",
              "    <div class=\"colab-df-container\">\n",
              "      <div>\n",
              "<style scoped>\n",
              "    .dataframe tbody tr th:only-of-type {\n",
              "        vertical-align: middle;\n",
              "    }\n",
              "\n",
              "    .dataframe tbody tr th {\n",
              "        vertical-align: top;\n",
              "    }\n",
              "\n",
              "    .dataframe thead th {\n",
              "        text-align: right;\n",
              "    }\n",
              "</style>\n",
              "<table border=\"1\" class=\"dataframe\">\n",
              "  <thead>\n",
              "    <tr style=\"text-align: right;\">\n",
              "      <th></th>\n",
              "      <th>문서 번호</th>\n",
              "      <th>가장 비중이 높은 토픽</th>\n",
              "      <th>가장 높은 토픽의 비중</th>\n",
              "      <th>각 토픽의 비중</th>\n",
              "    </tr>\n",
              "  </thead>\n",
              "  <tbody>\n",
              "    <tr>\n",
              "      <th>0</th>\n",
              "      <td>0</td>\n",
              "      <td>7.0</td>\n",
              "      <td>0.8138</td>\n",
              "      <td>[(2, 0.1744891), (7, 0.81377506)]</td>\n",
              "    </tr>\n",
              "    <tr>\n",
              "      <th>1</th>\n",
              "      <td>1</td>\n",
              "      <td>0.0</td>\n",
              "      <td>0.5771</td>\n",
              "      <td>[(0, 0.5770637), (1, 0.18939753), (2, 0.095043...</td>\n",
              "    </tr>\n",
              "    <tr>\n",
              "      <th>2</th>\n",
              "      <td>2</td>\n",
              "      <td>3.0</td>\n",
              "      <td>0.9934</td>\n",
              "      <td>[(3, 0.9933644)]</td>\n",
              "    </tr>\n",
              "    <tr>\n",
              "      <th>3</th>\n",
              "      <td>3</td>\n",
              "      <td>5.0</td>\n",
              "      <td>0.3347</td>\n",
              "      <td>[(1, 0.03128823), (3, 0.12674776), (4, 0.05469...</td>\n",
              "    </tr>\n",
              "    <tr>\n",
              "      <th>4</th>\n",
              "      <td>4</td>\n",
              "      <td>7.0</td>\n",
              "      <td>0.3962</td>\n",
              "      <td>[(0, 0.08907673), (1, 0.3238031), (2, 0.076134...</td>\n",
              "    </tr>\n",
              "    <tr>\n",
              "      <th>5</th>\n",
              "      <td>5</td>\n",
              "      <td>1.0</td>\n",
              "      <td>0.5962</td>\n",
              "      <td>[(0, 0.0125126), (1, 0.59615463), (2, 0.328761...</td>\n",
              "    </tr>\n",
              "    <tr>\n",
              "      <th>6</th>\n",
              "      <td>6</td>\n",
              "      <td>5.0</td>\n",
              "      <td>0.4384</td>\n",
              "      <td>[(0, 0.13332243), (1, 0.24262826), (2, 0.05657...</td>\n",
              "    </tr>\n",
              "    <tr>\n",
              "      <th>7</th>\n",
              "      <td>7</td>\n",
              "      <td>0.0</td>\n",
              "      <td>0.7879</td>\n",
              "      <td>[(0, 0.7878884), (4, 0.0866839), (7, 0.11464101)]</td>\n",
              "    </tr>\n",
              "    <tr>\n",
              "      <th>8</th>\n",
              "      <td>8</td>\n",
              "      <td>1.0</td>\n",
              "      <td>0.6394</td>\n",
              "      <td>[(0, 0.05603953), (1, 0.63938946), (4, 0.17694...</td>\n",
              "    </tr>\n",
              "    <tr>\n",
              "      <th>9</th>\n",
              "      <td>9</td>\n",
              "      <td>5.0</td>\n",
              "      <td>0.4017</td>\n",
              "      <td>[(1, 0.14674708), (3, 0.012644992), (4, 0.1164...</td>\n",
              "    </tr>\n",
              "  </tbody>\n",
              "</table>\n",
              "</div>\n",
              "      <button class=\"colab-df-convert\" onclick=\"convertToInteractive('df-d7dd969f-b65f-4940-95b7-c31a46ca4f1d')\"\n",
              "              title=\"Convert this dataframe to an interactive table.\"\n",
              "              style=\"display:none;\">\n",
              "        \n",
              "  <svg xmlns=\"http://www.w3.org/2000/svg\" height=\"24px\"viewBox=\"0 0 24 24\"\n",
              "       width=\"24px\">\n",
              "    <path d=\"M0 0h24v24H0V0z\" fill=\"none\"/>\n",
              "    <path d=\"M18.56 5.44l.94 2.06.94-2.06 2.06-.94-2.06-.94-.94-2.06-.94 2.06-2.06.94zm-11 1L8.5 8.5l.94-2.06 2.06-.94-2.06-.94L8.5 2.5l-.94 2.06-2.06.94zm10 10l.94 2.06.94-2.06 2.06-.94-2.06-.94-.94-2.06-.94 2.06-2.06.94z\"/><path d=\"M17.41 7.96l-1.37-1.37c-.4-.4-.92-.59-1.43-.59-.52 0-1.04.2-1.43.59L10.3 9.45l-7.72 7.72c-.78.78-.78 2.05 0 2.83L4 21.41c.39.39.9.59 1.41.59.51 0 1.02-.2 1.41-.59l7.78-7.78 2.81-2.81c.8-.78.8-2.07 0-2.86zM5.41 20L4 18.59l7.72-7.72 1.47 1.35L5.41 20z\"/>\n",
              "  </svg>\n",
              "      </button>\n",
              "      \n",
              "  <style>\n",
              "    .colab-df-container {\n",
              "      display:flex;\n",
              "      flex-wrap:wrap;\n",
              "      gap: 12px;\n",
              "    }\n",
              "\n",
              "    .colab-df-convert {\n",
              "      background-color: #E8F0FE;\n",
              "      border: none;\n",
              "      border-radius: 50%;\n",
              "      cursor: pointer;\n",
              "      display: none;\n",
              "      fill: #1967D2;\n",
              "      height: 32px;\n",
              "      padding: 0 0 0 0;\n",
              "      width: 32px;\n",
              "    }\n",
              "\n",
              "    .colab-df-convert:hover {\n",
              "      background-color: #E2EBFA;\n",
              "      box-shadow: 0px 1px 2px rgba(60, 64, 67, 0.3), 0px 1px 3px 1px rgba(60, 64, 67, 0.15);\n",
              "      fill: #174EA6;\n",
              "    }\n",
              "\n",
              "    [theme=dark] .colab-df-convert {\n",
              "      background-color: #3B4455;\n",
              "      fill: #D2E3FC;\n",
              "    }\n",
              "\n",
              "    [theme=dark] .colab-df-convert:hover {\n",
              "      background-color: #434B5C;\n",
              "      box-shadow: 0px 1px 3px 1px rgba(0, 0, 0, 0.15);\n",
              "      filter: drop-shadow(0px 1px 2px rgba(0, 0, 0, 0.3));\n",
              "      fill: #FFFFFF;\n",
              "    }\n",
              "  </style>\n",
              "\n",
              "      <script>\n",
              "        const buttonEl =\n",
              "          document.querySelector('#df-d7dd969f-b65f-4940-95b7-c31a46ca4f1d button.colab-df-convert');\n",
              "        buttonEl.style.display =\n",
              "          google.colab.kernel.accessAllowed ? 'block' : 'none';\n",
              "\n",
              "        async function convertToInteractive(key) {\n",
              "          const element = document.querySelector('#df-d7dd969f-b65f-4940-95b7-c31a46ca4f1d');\n",
              "          const dataTable =\n",
              "            await google.colab.kernel.invokeFunction('convertToInteractive',\n",
              "                                                     [key], {});\n",
              "          if (!dataTable) return;\n",
              "\n",
              "          const docLinkHtml = 'Like what you see? Visit the ' +\n",
              "            '<a target=\"_blank\" href=https://colab.research.google.com/notebooks/data_table.ipynb>data table notebook</a>'\n",
              "            + ' to learn more about interactive tables.';\n",
              "          element.innerHTML = '';\n",
              "          dataTable['output_type'] = 'display_data';\n",
              "          await google.colab.output.renderOutput(dataTable, element);\n",
              "          const docLink = document.createElement('div');\n",
              "          docLink.innerHTML = docLinkHtml;\n",
              "          element.appendChild(docLink);\n",
              "        }\n",
              "      </script>\n",
              "    </div>\n",
              "  </div>\n",
              "  "
            ]
          },
          "metadata": {},
          "execution_count": 29
        }
      ]
    },
    {
      "cell_type": "markdown",
      "source": [
        "# 같은 주제끼리 청원 묶기  --\n",
        "- 군집화\n",
        "- 코사인 유사도 활용([링크](https://suy379.tistory.com/100))"
      ],
      "metadata": {
        "id": "GviDToDucR8n"
      }
    },
    {
      "cell_type": "code",
      "source": [],
      "metadata": {
        "id": "oonuaW4Qd3Ib"
      },
      "execution_count": null,
      "outputs": []
    }
  ]
}
